{
 "cells": [
  {
   "cell_type": "markdown",
   "metadata": {},
   "source": [
    "# D03 - SQLite with Python\n",
    "\n",
    "## Understanding Goals\n",
    "By the end of this task, you should be able to:\n",
    "\n",
    "- Use a programming language to work with SQL databases\n",
    "- Use `sqlite3.connect()` to open or create a SQLite file\n",
    "- Use `sqlite3.Connection.execute()` to run SQL\n",
    "- Use `sqlite3.Cursor.fetchone()` and `sqlite3.Cursor.fetchall()` to retrieve database rows\n",
    "- Use `sqlite3.Connection.commit()` to save changes and `sqlite3.Connection.close()` to close SQLite files\n",
    "\n",
    "Referenced: SQLite Notes by CPDD Computer Education Unit"
   ]
  },
  {
   "cell_type": "markdown",
   "metadata": {},
   "source": [
    "## Section 1 - Python and SQLite\n",
    "\n",
    "In the previous lessons, you used DB Browser for SQLite to create SQLite databases and run SQL queries. This is because DB Browser's graphical user interface makes it easy to experiment with SQL and examine the results.\n",
    "\n",
    "However, DB Browser is not an appropriate program to use if we want to customise or restrict how the contents of a database are modified or presented. Suppose we have a SQLite database that stores information about the books in a library and we want to let users search the database. We should not use DB Browser for this purpose as malicious users can also use DB Browser to run harmful SQL (e.g., DROP TABLE). The interface of DB Browser may also be confusing to users who are not familiar with databases or SQLite. \n",
    "\n",
    "Instead, developers typically write custom programs to control how users interact with a database. The program may let the user complete a form or choose from a menu to describe what he/she wants to do. Based on the user's input, the program would then generate the appropriate SQL and run it to produce the intended result. This prevents users from modifying the database in ways that are unexpected to the developer.\n",
    "\n",
    "\n",
    "### _1.1 Loading an SQLite Database_\n",
    "\n",
    "To open or create a SQLite database, `import sqlite3` and call `sqlite3.connect()`. This function accepts a str argument that contains the path and filename of an SQLite database file and returns a connection object. If no path is included, the SQLite file is assumed to be in the same directory as the Python file. Furthermore, if the specified file does not exist, an empty file will be created with the given filename instead.\n",
    "\n",
    "After all operations with the database are complete, the `close()` method of the connection object should then be called. This ensures that the database file is closed properly but does not save any modifications that have been made to the data.\n",
    "\n",
    "For example, the following Python program tries to load an SQLite database named example.db in the same directory as the program. If such a file does not exist, an empty file named `example.db` will be created instead:\n"
   ]
  },
  {
   "cell_type": "code",
   "execution_count": 58,
   "metadata": {},
   "outputs": [],
   "source": [
    "import sqlite3\n",
    "\n",
    "connection = sqlite3.connect(\"library.db\")\n",
    "connection.close()"
   ]
  },
  {
   "cell_type": "markdown",
   "metadata": {},
   "source": [
    "### _1.2 Executing SQL in Python_\n",
    "\n",
    "After loading an SQLite file and getting a connection, we can execute SQL by calling the connection object's `execute()` method with a str containing the SQL we wish to run. If any data is modified, we can also save our changes by calling the connection object's `commit()` method. For instance, the following Python program creates a new table named `Book` in a new SQLite file named `library.db`.\n",
    "\n",
    "Upon successful execution, use DB Browser to open `library.db` and verify that the table has been created."
   ]
  },
  {
   "cell_type": "code",
   "execution_count": 59,
   "metadata": {},
   "outputs": [],
   "source": [
    "import sqlite3\n",
    "\n",
    "# init the connection\n",
    "connection = sqlite3.connect(\"library.db\")\n",
    "\n",
    "# write the query and execute it\n",
    "query = \"\"\"\n",
    "CREATE TABLE Book (\n",
    "    ID INTEGER PRIMARY KEY,\n",
    "    Title TEXT\n",
    ")\n",
    "\"\"\"\n",
    "connection.execute(query)\n",
    "\n",
    "# without commit, the table will not be created\n",
    "connection.commit()\n",
    "# remember to close the connection after you are done\n",
    "connection.close()"
   ]
  },
  {
   "cell_type": "markdown",
   "metadata": {},
   "source": [
    "However, running the above program again will result in an error as the table `Book` already exists. To prevent this, we can use the `IF NOT EXISTS` clause to check if the table exists before creating it.\n",
    "\n",
    "Alternatively, we can also use a `try-except` block to catch the exception that is raised when the table already exists."
   ]
  },
  {
   "cell_type": "code",
   "execution_count": 60,
   "metadata": {},
   "outputs": [],
   "source": [
    "import sqlite3\n",
    "\n",
    "# init the connection\n",
    "connection = sqlite3.connect(\"library.db\")\n",
    "\n",
    "# write the query and execute it\n",
    "# Method 1: IF NOT EXISTS (before table name Book)\n",
    "query = \"\"\"\n",
    "CREATE TABLE IF NOT EXISTS Book (\n",
    "    ID INTEGER PRIMARY KEY,\n",
    "    Title TEXT\n",
    ")\n",
    "\"\"\"\n",
    "connection.execute(query)\n",
    "\n",
    "# Method 2: try-except\n",
    "# try:\n",
    "#     connection.execute(query)\n",
    "# except sqlite3.OperationalError:\n",
    "#     print(\"Table already exists\")\n",
    "\n",
    "# without commit, the table will not be created\n",
    "connection.commit()\n",
    "# remember to close the connection after you are done\n",
    "connection.close()"
   ]
  },
  {
   "cell_type": "markdown",
   "metadata": {},
   "source": [
    "### _1.3 Committing Changes and Rolling Back_\n",
    "\n",
    "`commit()` saves all changes that have been made to the database since the last commit. \n",
    "\n",
    "However, if we want to undo all changes that have been made since the last commit, we can call the connection object's `rollback()` method instead."
   ]
  },
  {
   "cell_type": "code",
   "execution_count": 61,
   "metadata": {},
   "outputs": [],
   "source": [
    "import sqlite3\n",
    "\n",
    "connection = sqlite3.connect(\"library.db\")\n",
    "\n",
    "query1 = \"INSERT INTO Book(ID, Title) VALUES(1, 'Book 1 - Rollback Book')\"\n",
    "query2 = \"INSERT INTO Book(ID, Title) VALUES(2, 'Book 2 - Also Rollback Book')\"\n",
    "connection.execute(query1)\n",
    "connection.execute(query2)\n",
    "\n",
    "# rollback the above changes\n",
    "connection.rollback()\n",
    "\n",
    "query3 = \"INSERT INTO Book(ID, Title) VALUES(3, 'Committed Book')\"\n",
    "connection.execute(query3)\n",
    "\n",
    "# in the end only query3 will be committed\n",
    "connection.commit()\n",
    "\n",
    "connection.close()"
   ]
  },
  {
   "cell_type": "markdown",
   "metadata": {},
   "source": [
    "### _1.4 Enclosing User Input in SQL Safely_\n",
    "\n",
    "When generating SQL commands, we often need to include some data that is provided by the user. For instance, we may want the user to enter the ID of a book to delete from the database. This requires us to generate a DELETE command with the entered ID in its WHERE clause.\n",
    "\n",
    "We may be tempted to use str concatenation in order to generate the required SQL command. Unfortunately, this is insecure as special characters or keywords in the user's input are not escaped and malicious users can take advantage of this to inject his/her own SQL commands.\n",
    "\n",
    "Instead, we should use parameter substitution to safely include data that is provided by the user. To do this, we use the question-mark character ? as a placeholder in the SQL for any data that is provided by the user. We then provide a second argument to execute() that is a tuple of values that will replace the placeholders. This ensures that the provided values are escaped properly and cannot be misinterpreted as SQL.\n",
    "\n",
    "For example, the following program safely asks for the ID of a book and deletes the corresponding row from the database:\n"
   ]
  },
  {
   "cell_type": "code",
   "execution_count": 62,
   "metadata": {},
   "outputs": [],
   "source": [
    "# if db is locked:\n",
    "# 1. check if you have opened it using DB Browser\n",
    "# 2. you can try to run the following to unlock it\n",
    "# 3. if both methods don't work, restart your computer\n",
    "\n",
    "import sqlite3\n",
    "connection = sqlite3.connect(\"library.db\")\n",
    "connection.close()"
   ]
  },
  {
   "cell_type": "code",
   "execution_count": 63,
   "metadata": {},
   "outputs": [],
   "source": [
    "import sqlite3\n",
    "\n",
    "connection = sqlite3.connect(\"library.db\")\n",
    "\n",
    "# Insert some rows first so we have something to delete\n",
    "query1 = \"INSERT INTO Book(ID, Title) VALUES(4, 'Extra Book')\"\n",
    "connection.execute(query1)\n",
    "\n",
    "query2 = \"INSERT INTO Book(ID, Title) VALUES(5, 'Also Extra Book')\"\n",
    "connection.execute(query2)\n",
    "connection.commit()\n",
    "\n",
    "# Ask for ID and delete the corresponding row\n",
    "book_id = input(\"Enter Book ID to delete: \")\n",
    "connection.execute(\"DELETE FROM Book WHERE ID = ?\", (book_id,)) # use this method, not string conc. to prevent sql injection\n",
    "\n",
    "connection.commit()\n",
    "\n",
    "connection.close()\n"
   ]
  },
  {
   "cell_type": "markdown",
   "metadata": {},
   "source": [
    "## Section 2 - Retrieving Data from SQLite\n",
    "\n",
    "With the above code structure, we are able to execute most SQL commands in Python. Such as creating tables, inserting data, updating data, and deleting data.\n",
    "\n",
    "However, there's still one important aspect interacting with SQL database, that is to retrieve data from the database. In this section, we will learn how to retrieve data from SQLite database using Python.\n",
    "\n",
    "### _2.1 Retrieving rows of data using `fetchall()`_\n",
    "\n",
    "To retrieve data from a database, we can use the `fetchall()` method of the cursor object returned by `execute()`. This method returns a list of tuples, where each tuple represents a row of data. For instance, the following program retrieves all rows from the `Book` table and prints them out:"
   ]
  },
  {
   "cell_type": "code",
   "execution_count": 64,
   "metadata": {},
   "outputs": [],
   "source": [
    "# run this cell to reset the Book table\n",
    "\n",
    "import sqlite3\n",
    "\n",
    "connection = sqlite3.connect(\"library.db\")\n",
    "\n",
    "# clear table\n",
    "connection.execute(\"DELETE FROM Book\")\n",
    "\n",
    "# Insert a few books into the db\n",
    "for i in range(10):\n",
    "    query = \"INSERT INTO Book(ID, Title) VALUES(?, ?)\"\n",
    "    connection.execute(query, (i, f\"Book {i}\"))\n",
    "\n",
    "connection.commit()"
   ]
  },
  {
   "cell_type": "code",
   "execution_count": 66,
   "metadata": {},
   "outputs": [
    {
     "name": "stdout",
     "output_type": "stream",
     "text": [
      "(0, 'Book 0')\n",
      "(1, 'Book 1')\n",
      "(2, 'Book 2')\n",
      "(3, 'Book 3')\n",
      "(4, 'Book 4')\n",
      "(5, 'Book 5')\n",
      "(6, 'Book 6')\n",
      "(7, 'Book 7')\n",
      "(8, 'Book 8')\n",
      "(9, 'Book 9')\n"
     ]
    }
   ],
   "source": [
    "import sqlite3\n",
    "\n",
    "connection = sqlite3.connect(\"library.db\")\n",
    "\n",
    "query = \"SELECT * FROM Book\"\n",
    "\n",
    "# execute the query and get all the results\n",
    "cursor = connection.execute(query)\n",
    "rows = cursor.fetchall()\n",
    "\n",
    "# close the connection\n",
    "cursor.close()\n",
    "connection.close()\n",
    "\n",
    "# print the results\n",
    "for row in rows:\n",
    "    print(row)"
   ]
  },
  {
   "cell_type": "markdown",
   "metadata": {},
   "source": [
    "### _2.2 Retrieving a single row of data using `fetchone()`_\n",
    "\n",
    "If we only want to retrieve a single row of data, we can use the `fetchone()` method instead. This method returns a tuple that represents the first row of data that is returned by the SQL query. For instance, the following program retrieves the row with ID 1 from the `Book` table."
   ]
  },
  {
   "cell_type": "code",
   "execution_count": 67,
   "metadata": {},
   "outputs": [
    {
     "name": "stdout",
     "output_type": "stream",
     "text": [
      "(1, 'Book 1')\n"
     ]
    }
   ],
   "source": [
    "import sqlite3\n",
    "\n",
    "connection = sqlite3.connect(\"library.db\")\n",
    "\n",
    "query = \"SELECT * FROM Book WHERE ID = ?\"\n",
    "\n",
    "# execute the query and get all the results\n",
    "cursor = connection.execute(query, (1,))\n",
    "\n",
    "# fetchone() returns the first row\n",
    "# in this case, we are sure that there is only one row\n",
    "row = cursor.fetchone()\n",
    "\n",
    "# close the connection\n",
    "cursor.close()\n",
    "connection.close()\n",
    "\n",
    "# print the results\n",
    "print(row)"
   ]
  },
  {
   "cell_type": "markdown",
   "metadata": {},
   "source": [
    "We can always use `fetchall()[0]` to retrieve the first row of data from a query. However, this is inefficient as the database has to retrieve all rows of data before returning the first row. In contrast, `fetchone()` only retrieves the first row of data and is therefore more efficient.\n",
    "\n",
    "So in the situation where we only want to retrieve a single row of data, we should use `fetchone()` instead of `fetchall()[0]`."
   ]
  }
 ],
 "metadata": {
  "kernelspec": {
   "display_name": "Python 3",
   "language": "python",
   "name": "python3"
  },
  "language_info": {
   "codemirror_mode": {
    "name": "ipython",
    "version": 3
   },
   "file_extension": ".py",
   "mimetype": "text/x-python",
   "name": "python",
   "nbconvert_exporter": "python",
   "pygments_lexer": "ipython3",
   "version": "3.12.1"
  }
 },
 "nbformat": 4,
 "nbformat_minor": 2
}
