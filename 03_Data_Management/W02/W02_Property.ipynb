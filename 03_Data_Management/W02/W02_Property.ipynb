{
 "cells": [
  {
   "cell_type": "markdown",
   "metadata": {},
   "source": [
    "# W02a Online Property Resale Platform - Python and Sqlite3\n",
    "\n",
    "A company would like to implement a web application to manage the properties in the resale market online.\n",
    "\n",
    "The following information of each `User` is stored:\n",
    "- `UserID` – unique string to identify each user. User can be a seller or a buyer.\n",
    "- `Name` – name of the user\n",
    "- `Contact` – contact of the user\n",
    "- `Email` – email of the user\n",
    "\n",
    "The following information of each `Property` is stored:\n",
    "- `PropertyID` – unique string to identify the property\n",
    "- `Address` – address with street names and property name\n",
    "- `Postal` – postal code\n",
    "- `TotalArea` – total area in terms of square meter\n",
    "- `NoOfBedroom` – no. of bedrooms\n",
    "- `NoOfToilet` – no. of toilets\n",
    "- `AskingPrice` – asking price\n",
    "- `Status` – sold status, default as 'False'\n",
    "\n",
    "The following information of each `Record` is stored:  \n",
    "Note:`Records` may only have `SellerID`, `PropertyID` and `DateListed` if it is not yet sold\n",
    "- `RecordID` – unique autoincrement integer to identify a potential resale record. \n",
    "- `SellerID` – seller id\n",
    "- `PropertyID` – property id\n",
    "- `DateListed` – date which the property is being listed for sale\n",
    "- `BuyerID` – buyer id\n",
    "- `SoldPrice` – final transaction price\n",
    "- `SoldDate` – date which the property is sold\n",
    "\n",
    "\n",
    "The information is to be stored in the following tables:\n",
    "- `User`\n",
    "- `Property`\n",
    "- `Record`\n"
   ]
  },
  {
   "cell_type": "code",
   "execution_count": 1,
   "metadata": {},
   "outputs": [],
   "source": [
    "# Run to link to db and unlock db when needed\n",
    "import sqlite3\n",
    "import csv\n",
    "\n",
    "# !NOTE: if \"db.sqlite3\" not exist, it will be created\n",
    "db_file = \"property.db\"\n",
    "conn = sqlite3.connect(db_file)\n",
    "conn.close()"
   ]
  },
  {
   "cell_type": "markdown",
   "metadata": {},
   "source": [
    "### Q1\n",
    "Use DB Browser for SQLite to create the database schema for the tables `User`, `Property`, and `Record`.\n",
    "\n",
    "Save the database as `property.db`.\n",
    "\n",
    "Copy and save the SQL script used to create the tables in the cell below.\n"
   ]
  },
  {
   "cell_type": "code",
   "execution_count": 3,
   "metadata": {},
   "outputs": [],
   "source": [
    "# Q1 Answer:\n",
    "query1 = \"\"\"\n",
    "CREATE TABLE IF NOT EXISTS \"User\" (\n",
    "\t\"UserID\"\tTEXT NOT NULL,\n",
    "\t\"Name\"\tTEXT NOT NULL,\n",
    "\t\"Contact\"\tINTEGER NOT NULL,\n",
    "\t\"Email\"\tTEXT NOT NULL,\n",
    "\tPRIMARY KEY(\"UserID\")\n",
    ");\n",
    "\"\"\"\n",
    "\n",
    "query2 = \"\"\"\n",
    "CREATE TABLE IF NOT EXISTS \"Property\" (\n",
    "\t\"PropertyID\"\tTEXT NOT NULL,\n",
    "\t\"Address\"\tTEXT NOT NULL,\n",
    "\t\"Postal\"\tINTEGER NOT NULL,\n",
    "\t\"TotalArea\"\tINTEGER NOT NULL,\n",
    "\t\"NoOfBedroom\"\tINTEGER NOT NULL,\n",
    "\t\"NoOfToilet\"\tINTEGER NOT NULL,\n",
    "\t\"AskingPrice\"\tREAL NOT NULL,\n",
    "\t\"Status\"\tTEXT NOT NULL DEFAULT 'FALSE' CHECK(\"Status\" IN ('TRUE', 'FALSE')),\n",
    "\tPRIMARY KEY(\"PropertyID\")\n",
    ");\n",
    "\"\"\"\n",
    "\n",
    "query3 = \"\"\"\n",
    "CREATE TABLE IF NOT EXISTS \"Record\" (\n",
    "\t\"RecordID\"\tINTEGER NOT NULL,\n",
    "\t\"SellerID\"\tTEXT NOT NULL,\n",
    "\t\"PropertyID\"\tTEXT NOT NULL,\n",
    "\t\"DateListed\"\tTEXT NOT NULL,\n",
    "\t\"BuyerID\"\tTEXT,\n",
    "\t\"SoldPrice\"\tREAL,\n",
    "\t\"SoldDate\"\tTEXT,\n",
    "\tPRIMARY KEY(\"RecordID\" AUTOINCREMENT)\n",
    ");\n",
    "\"\"\"\n",
    "\n",
    "queries = [query1, query2, query3]\n"
   ]
  },
  {
   "cell_type": "markdown",
   "metadata": {},
   "source": [
    "#### Q2\n",
    "\n",
    "Write python code to create the database `property.db` and the tables `User`, `Property`, and `Record` in the database.\n",
    "* Take note the separator is ';' instead of commas."
   ]
  },
  {
   "cell_type": "code",
   "execution_count": null,
   "metadata": {},
   "outputs": [],
   "source": [
    "# Q2 Answer:\n",
    "conn = sqlite3.connect(db_file)\n",
    "for query in queries:\n",
    "    conn.execute(query)\n",
    "conn.commit()\n",
    "conn.close()"
   ]
  },
  {
   "cell_type": "markdown",
   "metadata": {},
   "source": [
    "#### Q3\n",
    "Read data from `users.csv`, `properties.csv` and `records.csv` in `data_files` folder, and insert the data into the respective tables."
   ]
  },
  {
   "cell_type": "code",
   "execution_count": 31,
   "metadata": {},
   "outputs": [],
   "source": [
    "# Q3 Answer:\n",
    "\n",
    "def read_csv_to_db(table, file_name):\n",
    "    with open(f'data_files/{file_name}', \"r\") as f:\n",
    "        csv_reader = csv.reader(f, delimiter=';')\n",
    "        header = next(csv_reader)\n",
    "        # print(header)\n",
    "        data = []\n",
    "        for row in csv_reader:\n",
    "            data.append(row)\n",
    "        # print(data)\n",
    "    \n",
    "    conn = sqlite3.connect(db_file)\n",
    "    ph = \",\".join([\"?\" for _ in header])\n",
    "    query = f\"\"\"\n",
    "    INSERT INTO {table}\n",
    "    {tuple(header)}\n",
    "    VALUES\n",
    "    ({ph})\n",
    "    \"\"\"\n",
    "    # print(query)\n",
    "\n",
    "    for row in data:\n",
    "        conn.execute(query, tuple(row))\n",
    "\n",
    "    conn.commit()\n",
    "    conn.close()\n",
    "\n",
    "files = {\"Property\": \"properties.csv\",\n",
    "        \"Record\": \"records.csv\",\n",
    "        \"User\": \"users.csv\"}\n",
    "\n",
    "for table in files:\n",
    "    file_name = files[table]\n",
    "    read_csv_to_db(table, file_name)"
   ]
  },
  {
   "cell_type": "markdown",
   "metadata": {},
   "source": [
    "#### Q4\n",
    "\n",
    "List out all unsold properties in the system which has 3 bedrooms and 3 toilets, sorted according to price in ascending order, with the following fields selected.\n",
    "\n",
    "`RecordID, PropertyID, Address, TotalArea, NoOfBedroom, NoOfToilet, AskingPrice`"
   ]
  },
  {
   "cell_type": "code",
   "execution_count": 36,
   "metadata": {},
   "outputs": [
    {
     "name": "stdout",
     "output_type": "stream",
     "text": [
      "[(11, 'Property006', '514 chai chee lane', 108, 3, 3, '530,000.00'), (1, 'Property007', '77 Commonwealth Drive', 106, 3, 3, '749,000.00')]\n"
     ]
    }
   ],
   "source": [
    "# Q4 Answer:\n",
    "\n",
    "conn = sqlite3.connect(db_file)\n",
    "query = \"\"\"\n",
    "SELECT Record.RecordID, Property.PropertyID, Property.Address, Property.TotalArea, \n",
    "    Property.NoOfBedroom, Property.NoOfToilet, Property.AskingPrice\n",
    "FROM Property\n",
    "INNER JOIN Record ON Property.PropertyID = Record.PropertyID\n",
    "WHERE Property.Status = 'FALSE' AND Property.NoOfBedroom = 3 AND Property.NoOfToilet = 3\n",
    "ORDER BY Property.AskingPrice ASC;\n",
    "\"\"\"\n",
    "cursor = conn.execute(query)\n",
    "print(cursor.fetchall())\n",
    "cursor.close()\n",
    "conn.close()"
   ]
  },
  {
   "cell_type": "markdown",
   "metadata": {},
   "source": [
    "#### Q5\n",
    "\n",
    "List out all the properties that are sold in the system, with the following fields selected.\n",
    "\n",
    "`RecordID, PropertyID, Address, TotalArea, NoOfBedroom, NoOfToilet, AskingPrice, SoldPrice, SoldDate`"
   ]
  },
  {
   "cell_type": "code",
   "execution_count": 39,
   "metadata": {},
   "outputs": [
    {
     "name": "stdout",
     "output_type": "stream",
     "text": [
      "[(10, 'Property002', '141 Market Street', 90, 2, 2, '919,000.00', '910,000.00', '20200510'), (2, 'Property003', '27 Wilby Road', 110, 3, 3, '703,000.00', '692,000.00', '20200605'), (5, 'Property004', '9 penang road', 100, 3, 3, '1,046,000.00', '1,035,000.00', '20200620')]\n"
     ]
    }
   ],
   "source": [
    "# Q5\n",
    "\n",
    "conn = sqlite3.connect(db_file)\n",
    "query = \"\"\"\n",
    "SELECT Record.RecordID, Property.PropertyID, Property.Address, Property.TotalArea, \n",
    "    Property.NoOfBedroom, Property.NoOfToilet, Property.AskingPrice, Record.SoldPrice, Record.SoldDate\n",
    "FROM Property\n",
    "INNER JOIN Record ON Property.PropertyID = Record.PropertyID\n",
    "WHERE Property.Status = 'TRUE'\n",
    "ORDER BY Record.SoldDate ASC;\n",
    "\"\"\"\n",
    "cursor = conn.execute(query)\n",
    "print(cursor.fetchall())\n",
    "cursor.close()\n",
    "conn.close()"
   ]
  },
  {
   "cell_type": "markdown",
   "metadata": {},
   "source": [
    "#### Q6\n",
    "\n",
    "Define a function `update_property` to update the asking price of a property with a given `property_id`, to a new price, `new_price`."
   ]
  },
  {
   "cell_type": "code",
   "execution_count": 40,
   "metadata": {},
   "outputs": [],
   "source": [
    "# Q6 Answer:\n",
    "\n",
    "def update_property(property_id, new_price):\n",
    "    conn = sqlite3.connect(db_file)\n",
    "    query = \"\"\"\n",
    "    UPDATE Property\n",
    "    SET AskingPrice = ?\n",
    "    WHERE PropertyID = ?;\n",
    "    \"\"\"\n",
    "    conn.execute(query, (new_price, property_id))\n",
    "    conn.commit()\n",
    "    conn.close()"
   ]
  }
 ],
 "metadata": {
  "kernelspec": {
   "display_name": "Python 3",
   "language": "python",
   "name": "python3"
  },
  "language_info": {
   "codemirror_mode": {
    "name": "ipython",
    "version": 3
   },
   "file_extension": ".py",
   "mimetype": "text/x-python",
   "name": "python",
   "nbconvert_exporter": "python",
   "pygments_lexer": "ipython3",
   "version": "3.12.1"
  }
 },
 "nbformat": 4,
 "nbformat_minor": 2
}
