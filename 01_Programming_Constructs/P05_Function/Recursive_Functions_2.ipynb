{
 "cells": [
  {
   "cell_type": "markdown",
   "metadata": {},
   "source": [
    "# **P05b Recursive Functions 2**"
   ]
  },
  {
   "cell_type": "markdown",
   "metadata": {},
   "source": [
    "## Question 1\n",
    "### Sum of first n odd numbers - Iterative for loop\n",
    "Using a for loop, write an iterative function `sum_odd_n` that computes the sum of the first `n` odd numbers, i.e. it returns 1 + 3 + 5 + .... + (2n - 1). You may assume that `n` is always a positive integer."
   ]
  },
  {
   "cell_type": "code",
   "execution_count": 5,
   "metadata": {},
   "outputs": [
    {
     "name": "stdout",
     "output_type": "stream",
     "text": [
      "25\n",
      "16\n",
      "1\n"
     ]
    }
   ],
   "source": [
    "def sum_odd_n(n):\n",
    "    result = 0\n",
    "    for i in range(1, n + 1):\n",
    "        result += 2 * i - 1\n",
    "    return result\n",
    "\n",
    "print(sum_odd_n(5))\n",
    "print(sum_odd_n(4))\n",
    "print(sum_odd_n(1))"
   ]
  },
  {
   "cell_type": "markdown",
   "metadata": {},
   "source": [
    "## Question 2\n",
    "### Sum of first n odd numbers - iterative while loop!!\n",
    "Using a for loop, write an iterative function `sum_odd_n` that computes the sum of the first `n` odd numbers, i.e. it returns 1 + 3 + 5 + .... + (2n - 1). You may assume that `n` is always a positive integer."
   ]
  },
  {
   "cell_type": "code",
   "execution_count": 16,
   "metadata": {},
   "outputs": [
    {
     "name": "stdout",
     "output_type": "stream",
     "text": [
      "25\n",
      "16\n",
      "1\n"
     ]
    }
   ],
   "source": [
    "def sum_odd_n(n):\n",
    "    result = 0\n",
    "    while n != 0:\n",
    "        result += 2 * n - 1\n",
    "        n -= 1\n",
    "    return result\n",
    "\n",
    "print(sum_odd_n(5))\n",
    "print(sum_odd_n(4))\n",
    "print(sum_odd_n(1))"
   ]
  },
  {
   "cell_type": "markdown",
   "metadata": {},
   "source": [
    "## Question 3\n",
    "### Sum of first n odd numbers - recursive!\n",
    "Using a for loop, write an iterative function `sum_odd_n` that computes the sum of the first `n` odd numbers, i.e. it returns 1 + 3 + 5 + .... + (2n - 1). You may assume that `n` is always a positive integer."
   ]
  },
  {
   "cell_type": "code",
   "execution_count": 18,
   "metadata": {},
   "outputs": [
    {
     "name": "stdout",
     "output_type": "stream",
     "text": [
      "25\n",
      "16\n",
      "1\n"
     ]
    }
   ],
   "source": [
    "def sum_odd_n(n):\n",
    "    if n == 0:\n",
    "        return 0\n",
    "    else:\n",
    "        return 2 * n - 1 + sum_odd_n(n-1)\n",
    "\n",
    "print(sum_odd_n(5))\n",
    "print(sum_odd_n(4))\n",
    "print(sum_odd_n(1))"
   ]
  },
  {
   "cell_type": "markdown",
   "metadata": {},
   "source": [
    "## Question 4\n",
    "### sum of first n squares -- iterative for loop!!\n",
    "Complete the following function that uses a `for` loop to compute the sum of the squares of the first n numbers."
   ]
  },
  {
   "cell_type": "code",
   "execution_count": 8,
   "metadata": {},
   "outputs": [
    {
     "name": "stdout",
     "output_type": "stream",
     "text": [
      "55\n",
      "30\n",
      "1\n"
     ]
    }
   ],
   "source": [
    "def sum_n_squares(n):\n",
    "    result = 0\n",
    "    for counter in range(n+1):\n",
    "        result += counter ** 2\n",
    "    return result\n",
    "\n",
    "print(sum_n_squares(5))\n",
    "print(sum_n_squares(4))\n",
    "print(sum_n_squares(1))"
   ]
  },
  {
   "cell_type": "markdown",
   "metadata": {},
   "source": [
    "## Question 5\n",
    "### sum of first n squares -- iterative while loop!!\n",
    "Complete the following function that uses a `while` loop to compute the sum of the squares of the first n numbers."
   ]
  },
  {
   "cell_type": "code",
   "execution_count": 10,
   "metadata": {},
   "outputs": [
    {
     "name": "stdout",
     "output_type": "stream",
     "text": [
      "55\n",
      "30\n",
      "1\n"
     ]
    }
   ],
   "source": [
    "def sum_n_squares(n):\n",
    "    counter, result = 1, 0\n",
    "    while counter <= n:\n",
    "        result += counter ** 2\n",
    "        counter += 1\n",
    "    return result\n",
    "\n",
    "print(sum_n_squares(5))\n",
    "print(sum_n_squares(4))\n",
    "print(sum_n_squares(1))\n"
   ]
  },
  {
   "cell_type": "markdown",
   "metadata": {},
   "source": [
    "## Question 6\n",
    "### sum of first n squares -- recursive!\n",
    "Complete the following recursive function `sum_n_squares(n)` such that it will compute the sum of the first n square numbers."
   ]
  },
  {
   "cell_type": "code",
   "execution_count": 13,
   "metadata": {},
   "outputs": [
    {
     "name": "stdout",
     "output_type": "stream",
     "text": [
      "55\n",
      "30\n",
      "1\n"
     ]
    }
   ],
   "source": [
    "def sum_n_squares(n):\n",
    "    if n == 0:\n",
    "        return 0\n",
    "    else:\n",
    "        return n ** 2 + sum_n_squares(n - 1)\n",
    "\n",
    "print(sum_n_squares(5))\n",
    "print(sum_n_squares(4))\n",
    "print(sum_n_squares(1))\n"
   ]
  }
 ],
 "metadata": {
  "kernelspec": {
   "display_name": "Python 3",
   "language": "python",
   "name": "python3"
  },
  "language_info": {
   "codemirror_mode": {
    "name": "ipython",
    "version": 3
   },
   "file_extension": ".py",
   "mimetype": "text/x-python",
   "name": "python",
   "nbconvert_exporter": "python",
   "pygments_lexer": "ipython3",
   "version": "3.12.1"
  }
 },
 "nbformat": 4,
 "nbformat_minor": 2
}
