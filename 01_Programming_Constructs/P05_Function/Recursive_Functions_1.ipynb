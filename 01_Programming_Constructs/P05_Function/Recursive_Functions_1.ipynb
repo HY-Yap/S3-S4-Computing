{
 "cells": [
  {
   "cell_type": "markdown",
   "metadata": {},
   "source": [
    "# **P05b Recursive Functions 1**"
   ]
  },
  {
   "cell_type": "markdown",
   "metadata": {},
   "source": [
    "## Question 1\n",
    "### Factorial\n",
    "Write a recursive function `factorial` to calculate factorial of n."
   ]
  },
  {
   "cell_type": "code",
   "execution_count": 8,
   "metadata": {},
   "outputs": [
    {
     "name": "stdout",
     "output_type": "stream",
     "text": [
      "1\n",
      "2\n",
      "120\n"
     ]
    }
   ],
   "source": [
    "def factorial(n):\n",
    "    if n == 0:\n",
    "        return 1\n",
    "    else:\n",
    "        return n * factorial(n-1)\n",
    "\n",
    "print(factorial(0))\n",
    "print(factorial(2))\n",
    "print(factorial(5))"
   ]
  },
  {
   "cell_type": "markdown",
   "metadata": {},
   "source": [
    "## Question 2\n",
    "### Sum of Positive Even Numbers\n",
    "Write a recursive function `sum_of_n_even_numbers` to calculate the sum of first n positive even numbers, where n is a positive integer."
   ]
  },
  {
   "cell_type": "code",
   "execution_count": 10,
   "metadata": {},
   "outputs": [
    {
     "name": "stdout",
     "output_type": "stream",
     "text": [
      "0\n",
      "2\n",
      "6\n",
      "12\n"
     ]
    }
   ],
   "source": [
    "def sum_of_n_even_numbers(n):\n",
    "    if n == 0:\n",
    "        return 0\n",
    "    else:\n",
    "        return n * 2 + sum_of_n_even_numbers(n-1)\n",
    "\n",
    "# OR\n",
    "\n",
    "def sum_of_n_even_numbers(n):\n",
    "    if n == 0:\n",
    "        return 0\n",
    "    else:\n",
    "        nth_even_number = n * 2\n",
    "        result = nth_even_number + sum_of_n_even_numbers(n-1)\n",
    "        return result\n",
    "\n",
    "print(sum_of_n_even_numbers(0))\n",
    "print(sum_of_n_even_numbers(1))\n",
    "print(sum_of_n_even_numbers(2))\n",
    "print(sum_of_n_even_numbers(3))"
   ]
  },
  {
   "cell_type": "markdown",
   "metadata": {},
   "source": [
    "## Question 3\n",
    "This question is a code-tracing practice. Please trace the code manually before verifying the answers using IDLE.\n",
    "\n",
    "```python\n",
    "def foo(n):\n",
    "    if n == 0:\n",
    "        return 0\n",
    "    else:\n",
    "        return 2 * n + foo(n - 1)\n",
    "```\n",
    "\n",
    "<br>\n",
    "\n",
    "What is the value of `foo(5)`?"
   ]
  },
  {
   "cell_type": "markdown",
   "metadata": {},
   "source": [
    "## Question 4\n",
    "This question is a code-tracing practice. Please trace the code manually before verifying the answers using IDLE.\n",
    "\n",
    "```python\n",
    "def bar(n):\n",
    "    if n < 3:\n",
    "        return n + 1\n",
    "    else:\n",
    "        return bar(n - 3) + bar(n - 2) + bar(n - 1) \n",
    "```\n",
    "\n",
    "<br>\n",
    "\n",
    "What is the value of `bar(4)`?"
   ]
  },
  {
   "cell_type": "markdown",
   "metadata": {},
   "source": [
    "## Question 5\n",
    "This question is a code-tracing practice. Please trace the code manually before verifying the answers using IDLE.\n",
    "\n",
    "<br>\n",
    "\n",
    "Yeti wants to climb a 40 cubit gravel knoll. Unfortunately, the gravel is loose and Yeti's footing slips occasionally.\n",
    "\n",
    "<br>\n",
    "\n",
    "```python\n",
    "def hike(current_altitude):\n",
    "    if current_altitude > 40:\n",
    "        return 0\n",
    "    else:\n",
    "        return 1 + slide(current_altitude + 11)\n",
    "\n",
    "def slide(current_altitude):\n",
    "    if current_altitude > 40:\n",
    "        return 0\n",
    "    else:\n",
    "        return hike(current_altitude - 3)\n",
    "\n",
    "n = hike(0)\n",
    "```\n",
    "\n",
    "<br>\n",
    "\n",
    "Yeti takes `n` steps to climb from the bottom of the hill to the top. What is `n` ?"
   ]
  }
 ],
 "metadata": {
  "kernelspec": {
   "display_name": "Python 3",
   "language": "python",
   "name": "python3"
  },
  "language_info": {
   "codemirror_mode": {
    "name": "ipython",
    "version": 3
   },
   "file_extension": ".py",
   "mimetype": "text/x-python",
   "name": "python",
   "nbconvert_exporter": "python",
   "pygments_lexer": "ipython3",
   "version": "3.12.1"
  }
 },
 "nbformat": 4,
 "nbformat_minor": 2
}
