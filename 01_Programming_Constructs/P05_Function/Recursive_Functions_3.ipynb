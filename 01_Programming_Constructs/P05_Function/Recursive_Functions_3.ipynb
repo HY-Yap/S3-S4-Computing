{
 "cells": [
  {
   "cell_type": "markdown",
   "metadata": {},
   "source": [
    "# P05b Recursive Functions 3"
   ]
  },
  {
   "cell_type": "markdown",
   "metadata": {},
   "source": [
    "## Question 1\n",
    "### Fibonacci Numbers\n",
    "Write a function fib which returns the nth term in the fibonacci sequence."
   ]
  },
  {
   "cell_type": "code",
   "execution_count": 13,
   "metadata": {},
   "outputs": [
    {
     "name": "stdout",
     "output_type": "stream",
     "text": [
      "[0, 1, 1, 2, 3, 5, 8, 13, 21, 34]\n"
     ]
    }
   ],
   "source": [
    "def fib(x):\n",
    "    if x == 0:\n",
    "        return 0\n",
    "    elif x == 1:\n",
    "        return 1\n",
    "    else:\n",
    "        return fib(x-1) + fib(x-2)\n",
    "\n",
    "print([fib(x) for x in range(10)])"
   ]
  },
  {
   "cell_type": "code",
   "execution_count": null,
   "metadata": {},
   "outputs": [],
   "source": [
    "fib_numbers = [0, 1]\n",
    "\n",
    "def fib(x):\n",
    "    if x < len(fib_numbers):\n",
    "        return fib_numbers[x]\n",
    "    else:\n",
    "        fib_numbers.append(fib(x-1) + fib(x-2))\n",
    "        print(fib_numbers)\n",
    "        return fib_numbers[x]\n",
    "\n",
    "print([fib(x) for x in range(10)])"
   ]
  },
  {
   "cell_type": "markdown",
   "metadata": {},
   "source": [
    "## Question 2\n",
    "### Recursive Vowel Counter\n",
    "Write a recursive Python function `count_vowels_recursive()` that takes a string as input and returns the count of vowels (both uppercase and lowercase) in the given string. \n",
    "\n",
    "Use **recursion** to traverse the string."
   ]
  },
  {
   "cell_type": "code",
   "execution_count": 36,
   "metadata": {},
   "outputs": [
    {
     "name": "stdout",
     "output_type": "stream",
     "text": [
      "2\n",
      "6\n",
      "0\n"
     ]
    }
   ],
   "source": [
    "def count_vowels_recursive(s):\n",
    "    if s == \"\":\n",
    "        return 0\n",
    "    if s[0] in \"AEIOUaeiou\":\n",
    "        return 1 + count_vowels_recursive(s[1:])\n",
    "    else:\n",
    "        return count_vowels_recursive(s[1:]) # slice off first letter only\n",
    "\n",
    "print(count_vowels_recursive(\"hello\"))\n",
    "print(count_vowels_recursive(\"Python is awesome\"))\n",
    "print(count_vowels_recursive(\"qwrtypsdfghjklzxcvbnm\"))"
   ]
  },
  {
   "cell_type": "markdown",
   "metadata": {},
   "source": [
    "## Question 3\n",
    "### Animals\n",
    "This is a coding question on the animals. Below is restraint:\n",
    "\n",
    "<br>\n",
    "\n",
    "<ul>\n",
    "    <li> The Mouse (M) cannot be found next to the Cat (C) </li>\n",
    "    <li> The Cat (C) cannot be found next to the Dog (D) </li>\n",
    "    <li> The Dog (D) cannot be found next to the Lion (L) </li>\n",
    "    <li> The Lion (L) cannot be found next to Elephant (E) </li>\n",
    "    <li> The Elephant (E) cannot be found next to the Mouse (M) </li>\n",
    "</ul>\n",
    "\n",
    "<br>\n",
    "\n",
    "Write a **<u>recursive</u>** function `is_safe(s)` that takes in a string s consists of a number of animals. E.g. 'MCDLE' would mean in this case (The <u>mouse</u> is next to the <u>cat</u> and the <u>cat</u> is next to the <u>dog</u> and the <u>dog</u> is next to the <u>lion</u> and the <u>lion</u> is next to the <u>elephant</u>). And it will return `True` if the above 5 conditions are satisfied, otherwise return `False`."
   ]
  },
  {
   "cell_type": "code",
   "execution_count": 45,
   "metadata": {},
   "outputs": [
    {
     "name": "stdout",
     "output_type": "stream",
     "text": [
      "True\n",
      "True\n",
      "True\n",
      "False\n",
      "True\n",
      "True\n",
      "True\n"
     ]
    }
   ],
   "source": [
    "def is_safe(s):\n",
    "    if len(s) == 0 or len(s) == 1:\n",
    "        return True\n",
    "    elif (s[0] == \"M\" and (s[1] == \"E\" or s[1] == \"C\")) or \\\n",
    "        (s[0] == \"C\" and (s[1] == \"M\" or s[1] == \"D\")) or \\\n",
    "        (s[0] == \"D\" and (s[1] == \"C\" or s[1] == \"L\")) or \\\n",
    "        (s[0] == \"L\" and (s[1] == \"D\" or s[1] == \"E\")) or \\\n",
    "        (s[0] == \"E\" and (s[1] == \"L\" or s[1] == \"M\")):\n",
    "            return False        \n",
    "    else:\n",
    "        return is_safe(s[1:]) # slice off first letter if everything is ok\n",
    "\n",
    "print(is_safe('M'))\n",
    "print(is_safe('MM'))\n",
    "print(is_safe('MMD'))\n",
    "print(is_safe('MMDC'))\n",
    "print(is_safe('MMDML'))\n",
    "print(is_safe('MMDMLC'))\n",
    "print(is_safe('MMDMLCE'))"
   ]
  },
  {
   "cell_type": "code",
   "execution_count": 2,
   "metadata": {},
   "outputs": [
    {
     "name": "stdout",
     "output_type": "stream",
     "text": [
      "True\n",
      "True\n",
      "True\n",
      "False\n",
      "True\n",
      "True\n",
      "True\n"
     ]
    }
   ],
   "source": [
    "def is_safe(s):\n",
    "    if len(s) <= 1:\n",
    "        return True\n",
    "    elif s[0] + s[1] in [\"MC\", \"CM\", \"CD\", \"DC\", \"DL\", \"LD\", \"LE\", \"EL\", \"EM\", \"ME\"]:\n",
    "        return False        \n",
    "    else:\n",
    "        return is_safe(s[1:]) # slice off first letter if everything is ok\n",
    "\n",
    "def is_safe(s):\n",
    "    if len(s) < 2:\n",
    "        return True\n",
    "    else:\n",
    "        return s[:2] not in \"MCDLEMELDCM\" and is_safe(s[1:])\n",
    "\n",
    "print(is_safe('M'))\n",
    "print(is_safe('MM'))\n",
    "print(is_safe('MMD'))\n",
    "print(is_safe('MMDC'))\n",
    "print(is_safe('MMDML'))\n",
    "print(is_safe('MMDMLC'))\n",
    "print(is_safe('MMDMLCE'))"
   ]
  },
  {
   "cell_type": "markdown",
   "metadata": {},
   "source": [
    "## Question 4\n",
    "### Palindrome word\n",
    "Write a **<u>recursive</u>** function `is_palindrome(s)` that takes in a string `s` representing ONE word e.g. eggs, eye, etc and returns `True` if it is a palindrome otherwise `False`. \n",
    "\n",
    "You can assume that all inputs to `is_palindrome(s)` is always a string of only one word and all lowercase.\n",
    "\n",
    "<br>\n",
    "\n",
    "Note:\n",
    "\n",
    "Palindrome is a word, phrase, or sequence that reads the same backwards as forwards, e.g.madam or nursesrun\n",
    "\n",
    "<br>\n",
    "\n",
    "You may assume that there is no spaces in between."
   ]
  },
  {
   "cell_type": "code",
   "execution_count": 10,
   "metadata": {},
   "outputs": [
    {
     "name": "stdout",
     "output_type": "stream",
     "text": [
      "True\n",
      "True\n",
      "False\n",
      "True\n",
      "True\n",
      "True\n",
      "False\n"
     ]
    }
   ],
   "source": [
    "def is_palindrome(s):\n",
    "    if len(s) < 2:\n",
    "        return True\n",
    "    elif s[0] == s[-1]:\n",
    "        return is_palindrome(s[1:-1]) # slice of first and last letter\n",
    "    else:\n",
    "        return False\n",
    "\n",
    "def is_palindrome(s):\n",
    "    if len(s) < 2:\n",
    "        return True\n",
    "    else:\n",
    "        return s[0] == s[-1] and is_palindrome(s[1:-1])\n",
    "\n",
    "def is_palindrome(s):\n",
    "    return len(s) <= 1 or s[0] == s[-1] and is_palindrome(s[1:-1])\n",
    "\n",
    "# non-recursion\n",
    "def is_palindrome(s):\n",
    "    return s == s[::-1]\n",
    "\n",
    "print(is_palindrome('a'))\n",
    "print(is_palindrome('bb'))\n",
    "print(is_palindrome('ab'))\n",
    "print(is_palindrome('aba'))\n",
    "print(is_palindrome('abba'))\n",
    "print(is_palindrome('asdfghjkjhgfdsa'))\n",
    "print(is_palindrome('asdfghjkjhgfdsaa'))\n"
   ]
  },
  {
   "cell_type": "markdown",
   "metadata": {},
   "source": [
    "## Question 5\n",
    "### Change Cap\n",
    "Write a **<u>recursive</u>** function `change_cap(s)` that takes in a alphabetical string `s` and returns a string that has all upper and lower case in `s` inverted.\n",
    "\n",
    "You must:\n",
    "\n",
    "<ul>\n",
    "    <li>refer to the ASCII table <a>http://www.asciitable.com/</a></li>\n",
    "    <li>use the functions ord(char) and chr(num)</li>\n",
    "</ul>\n",
    "\n",
    "in order to accomplish the task\n",
    "\n",
    "Help:\n",
    "\n",
    "<ul>\n",
    "    <li>ord('A') returns 65</li>\n",
    "    <li>chr(65) returns 'A'</li>\n",
    "</ul>"
   ]
  },
  {
   "cell_type": "code",
   "execution_count": 18,
   "metadata": {},
   "outputs": [
    {
     "name": "stdout",
     "output_type": "stream",
     "text": [
      "aBgCfTj\n"
     ]
    }
   ],
   "source": [
    "def change_cap(s):\n",
    "    if len(s) == 1:\n",
    "        if ord(s[0]) >= 65 and ord(s[0]) <= 90:\n",
    "            return chr(ord(s[0]) + 32)\n",
    "        elif ord(s[0]) >= 97 and ord(s[0]) <= 122:\n",
    "            return chr(ord(s[0]) - 32)\n",
    "    else:\n",
    "        if ord(s[0]) >= 65 and ord(s[0]) <= 90:\n",
    "            return chr(ord(s[0]) + 32) + change_cap(s[1:])\n",
    "        elif ord(s[0]) >= 97 and ord(s[0]) <= 122:\n",
    "            return chr(ord(s[0]) - 32) + change_cap(s[1:])\n",
    "\n",
    "def change_cap(s):\n",
    "    if s == \"\":\n",
    "        return \"\"\n",
    "    else:\n",
    "        if ord(s[0]) < 96:\n",
    "            return chr(ord(s[0]) + 32) + change_cap(s[1:])\n",
    "        else:\n",
    "            return chr(ord(s[0]) - 32) + change_cap(s[1:])\n",
    "\n",
    "print(change_cap('AbGcFtJ'))\n"
   ]
  }
 ],
 "metadata": {
  "kernelspec": {
   "display_name": "Python 3",
   "language": "python",
   "name": "python3"
  },
  "language_info": {
   "codemirror_mode": {
    "name": "ipython",
    "version": 3
   },
   "file_extension": ".py",
   "mimetype": "text/x-python",
   "name": "python",
   "nbconvert_exporter": "python",
   "pygments_lexer": "ipython3",
   "version": "3.12.1"
  }
 },
 "nbformat": 4,
 "nbformat_minor": 2
}
