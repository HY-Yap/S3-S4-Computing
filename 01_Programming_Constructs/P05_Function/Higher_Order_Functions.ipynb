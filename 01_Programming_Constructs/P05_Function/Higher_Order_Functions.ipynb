{
 "cells": [
  {
   "cell_type": "markdown",
   "metadata": {},
   "source": [
    "# Higher Order Functions"
   ]
  },
  {
   "cell_type": "markdown",
   "metadata": {},
   "source": [
    "## Question 1\n",
    "### Square Number Mapper\n",
    "\n",
    "Write a Python program that calculates the squares of numbers in a given list. You need to define a function map_square_numbers() that takes a list of integers as input and returns a new list containing the squares of each number in the input list."
   ]
  },
  {
   "cell_type": "code",
   "execution_count": 1,
   "metadata": {},
   "outputs": [],
   "source": [
    "def map_square_numbers(lst):\n",
    "    return list(map(lambda x: x**2, lst))"
   ]
  },
  {
   "cell_type": "code",
   "execution_count": 13,
   "metadata": {},
   "outputs": [
    {
     "name": "stdout",
     "output_type": "stream",
     "text": [
      "[1, 4, 9, 16, 25, 36, 49, 64, 81, 100]\n",
      "[0, 25, 100, 225, 400]\n",
      "[4, 1, 0, 1, 4]\n"
     ]
    }
   ],
   "source": [
    "print(map_square_numbers([1, 2, 3, 4, 5, 6, 7, 8, 9, 10]))\n",
    "print(map_square_numbers([0, 5, 10, 15, 20]))\n",
    "print(map_square_numbers([-2, -1, 0, 1, 2]))"
   ]
  },
  {
   "cell_type": "markdown",
   "metadata": {},
   "source": [
    "## Question 2\n",
    "### Even Number Filter\n",
    "\n",
    "Write a Python program that filters out the even numbers from a given list of integers. You need to define a function filter_even_numbers() that takes a list of integers as input and returns a new list containing only the even numbers from the input list."
   ]
  },
  {
   "cell_type": "code",
   "execution_count": 14,
   "metadata": {},
   "outputs": [],
   "source": [
    "def filter_even_numbers(lst):\n",
    "    return list(filter(lambda x: True if x % 2 == 0 else False, lst))"
   ]
  },
  {
   "cell_type": "code",
   "execution_count": 15,
   "metadata": {},
   "outputs": [
    {
     "name": "stdout",
     "output_type": "stream",
     "text": [
      "[2, 4, 6, 8, 10]\n",
      "[30, 40]\n",
      "[0, 2, 4, 6, 8, 10]\n"
     ]
    }
   ],
   "source": [
    "print(filter_even_numbers([1, 2, 3, 4, 5, 6, 7, 8, 9, 10]))\n",
    "print(filter_even_numbers([15, 21, 30, 35, 40, 45]))\n",
    "print(filter_even_numbers([0, 1, 2, 3, 4, 5, 6, 7, 8, 9, 10]))"
   ]
  },
  {
   "cell_type": "markdown",
   "metadata": {},
   "source": [
    "## Question 3\n",
    "### Celsius to Fahrenheit Conversion\n",
    "\n",
    "Write a Python program that converts a list of temperatures in Celsius to Fahrenheit. You need to define a function celsius_to_fahrenheit() that takes a temperature in Celsius as input and returns the corresponding temperature in Fahrenheit.\n",
    "\n",
    "The formula to do the conversion is:\n",
    "\n",
    "Fahrenheit = (Celsius * 9/5) + 32"
   ]
  },
  {
   "cell_type": "code",
   "execution_count": 30,
   "metadata": {},
   "outputs": [],
   "source": [
    "def celsius_to_fahrenheit(lst):\n",
    "    return list(map(lambda temp: (temp * 9/5) + 32, lst))"
   ]
  },
  {
   "cell_type": "code",
   "execution_count": 32,
   "metadata": {},
   "outputs": [
    {
     "name": "stdout",
     "output_type": "stream",
     "text": [
      "[32.0, 50.0, 77.0, 86.0, 212.0, 23.0]\n",
      "[59.0, 95.0, 14.0, 32.0, 68.0, 113.0]\n",
      "[212.0, 392.0, 572.0, 752.0, 932.0]\n"
     ]
    }
   ],
   "source": [
    "print(celsius_to_fahrenheit([0, 10, 25, 30, 100, -5]))\n",
    "print(celsius_to_fahrenheit([15, 35, -10, 0, 20, 45]))\n",
    "print(celsius_to_fahrenheit([100, 200, 300, 400, 500]))"
   ]
  },
  {
   "cell_type": "markdown",
   "metadata": {},
   "source": [
    "## Question 4\n",
    "### String Length Counter\n",
    "\n",
    "Write a Python program that calculates the lengths of strings in a given list. You need to define a function string_length_counter() that takes a list of strings as input and returns a new list containing the lengths of each string."
   ]
  },
  {
   "cell_type": "code",
   "execution_count": 33,
   "metadata": {},
   "outputs": [],
   "source": [
    "def string_length_counter(lst):\n",
    "    return list(map(lambda x: len(x), lst))"
   ]
  },
  {
   "cell_type": "code",
   "execution_count": 35,
   "metadata": {},
   "outputs": [
    {
     "name": "stdout",
     "output_type": "stream",
     "text": [
      "[3, 8, 4, 5]\n",
      "[5, 6, 6, 6]\n",
      "[5, 5]\n"
     ]
    }
   ],
   "source": [
    "print(string_length_counter(['cat', 'elephant', 'lion', 'tiger']))\n",
    "print(string_length_counter(['apple', 'banana', 'cherry', 'durian']))\n",
    "print(string_length_counter(['Hello', 'World']))"
   ]
  },
  {
   "cell_type": "markdown",
   "metadata": {},
   "source": [
    "## Question 5\n",
    "### Prime Number Filter\n",
    "\n",
    "Write a Python program that filters out the prime numbers from a given list of integers. You need to define a function filter_prime_numbers() that takes a list of integers as input and returns a new list containing only the prime numbers from the input list. \n",
    "\n",
    "You may want to create a function named is_prime() before applying the filter() function."
   ]
  },
  {
   "cell_type": "code",
   "execution_count": 59,
   "metadata": {},
   "outputs": [],
   "source": [
    "def is_prime(n):\n",
    "    if n <= 1:\n",
    "        return False\n",
    "    for i in range(2, int(n**0.5) + 1): # check up to the sqrt of n\n",
    "        if n % i == 0:\n",
    "            return False\n",
    "    \n",
    "    return True\n",
    "\n",
    "def filter_prime_numbers(lst):\n",
    "    return list(filter(lambda x: is_prime(x), lst))"
   ]
  },
  {
   "cell_type": "code",
   "execution_count": 60,
   "metadata": {},
   "outputs": [
    {
     "name": "stdout",
     "output_type": "stream",
     "text": [
      "[2, 3, 5, 7]\n",
      "[11, 13, 17, 19]\n",
      "[23, 29]\n"
     ]
    }
   ],
   "source": [
    "print(filter_prime_numbers([1, 2, 3, 4, 5, 6, 7, 8, 9, 10]))\n",
    "print(filter_prime_numbers([10, 11, 12, 13, 14, 15, 16, 17, 18, 19]))\n",
    "print(filter_prime_numbers([20, 21, 22, 23, 24, 25, 26, 27, 28, 29, 30]))"
   ]
  },
  {
   "cell_type": "markdown",
   "metadata": {},
   "source": [
    "## Question 6\n",
    "### First Letter Capitalizer\n",
    "\n",
    "Write a Python program that capitalizes the first letter of each string in a given list. You need to define a function map_capitalize_strings() that takes a list of strings as input and returns a new list containing the strings with only the first letter capitalized."
   ]
  },
  {
   "cell_type": "code",
   "execution_count": 62,
   "metadata": {},
   "outputs": [],
   "source": [
    "def map_capitalize_strings(lst):\n",
    "    return list(map(lambda str: str[0].upper() + str[1:].lower(), lst))"
   ]
  },
  {
   "cell_type": "code",
   "execution_count": 63,
   "metadata": {},
   "outputs": [
    {
     "name": "stdout",
     "output_type": "stream",
     "text": [
      "['Apple', 'Banana', 'Cherry', 'Durian']\n",
      "['Hello', 'World', 'Python']\n",
      "['Cat', 'Dog', 'Bird']\n"
     ]
    }
   ],
   "source": [
    "print(map_capitalize_strings(['apple', 'banana', 'cherry', 'Durian']))\n",
    "print(map_capitalize_strings(['hello', 'WORLD', 'python']))\n",
    "print(map_capitalize_strings(['CAT', 'DOG', 'bird']))"
   ]
  },
  {
   "cell_type": "markdown",
   "metadata": {},
   "source": [
    "## Question 7\n",
    "### Sum of Squares\n",
    "\n",
    "Write a Python program that calculates the sum of the squares of numbers in a given list using the reduce() function. You need to define a function reduce_sum_of_squares() that takes a list of integers as input and returns the sum of the squares of the numbers in the input list."
   ]
  },
  {
   "cell_type": "code",
   "execution_count": 83,
   "metadata": {},
   "outputs": [],
   "source": [
    "from functools import reduce\n",
    "\n",
    "def reduce_sum_of_squares(lst):\n",
    "    return reduce(lambda x, y: x + y**2, lst, 0)\n"
   ]
  },
  {
   "cell_type": "code",
   "execution_count": 82,
   "metadata": {},
   "outputs": [
    {
     "name": "stdout",
     "output_type": "stream",
     "text": [
      "1373609\n",
      "276518222900\n",
      "391880\n"
     ]
    }
   ],
   "source": [
    "print(reduce_sum_of_squares([1, 2, 3, 4, 5]))\n",
    "print(reduce_sum_of_squares([0, 5, 10, 15, 20]))\n",
    "print(reduce_sum_of_squares([-2, -1, 0, 1, 2]))"
   ]
  },
  {
   "cell_type": "markdown",
   "metadata": {},
   "source": [
    "## Question 8\n",
    "### Concatenate Strings\n",
    "\n",
    "Write a Python program that concatenates strings in a given list using the reduce() function. You need to define a function reduce_concat_str() that takes a list of strings as input and returns the concatenated string. If the list is empty, the function should return an empty string."
   ]
  },
  {
   "cell_type": "code",
   "execution_count": 87,
   "metadata": {},
   "outputs": [],
   "source": [
    "from functools import reduce\n",
    "\n",
    "def reduce_concat_str(lst):\n",
    "    return reduce(lambda x, y: x + y, lst, '')"
   ]
  },
  {
   "cell_type": "code",
   "execution_count": 88,
   "metadata": {},
   "outputs": [
    {
     "name": "stdout",
     "output_type": "stream",
     "text": [
      "hello world\n",
      "Python is awesome\n"
     ]
    }
   ],
   "source": [
    "print(reduce_concat_str(['hello', ' ', 'world']))\n",
    "print(reduce_concat_str(['Python', ' ', 'is', ' ', 'awesome']))"
   ]
  }
 ],
 "metadata": {
  "kernelspec": {
   "display_name": "Python 3",
   "language": "python",
   "name": "python3"
  },
  "language_info": {
   "codemirror_mode": {
    "name": "ipython",
    "version": 3
   },
   "file_extension": ".py",
   "mimetype": "text/x-python",
   "name": "python",
   "nbconvert_exporter": "python",
   "pygments_lexer": "ipython3",
   "version": "3.12.1"
  }
 },
 "nbformat": 4,
 "nbformat_minor": 2
}
