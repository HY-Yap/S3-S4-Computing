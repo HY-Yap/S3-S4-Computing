{
 "cells": [
  {
   "cell_type": "markdown",
   "metadata": {},
   "source": [
    "# Assignment - [P05b] Recursion 1"
   ]
  },
  {
   "cell_type": "markdown",
   "metadata": {},
   "source": [
    "## Question 1\n",
    "### Sum of odd factorials\n",
    "\n",
    "Write a function `sum_odd_factorials` that finds the sum of the factorials of the odd numbers that are less than or equal to n, where n>=0."
   ]
  },
  {
   "cell_type": "code",
   "execution_count": 7,
   "metadata": {},
   "outputs": [
    {
     "name": "stdout",
     "output_type": "stream",
     "text": [
      "0\n",
      "7\n",
      "127\n"
     ]
    }
   ],
   "source": [
    "def factorial(n):\n",
    "    if n == 0:\n",
    "        return 1\n",
    "    else:\n",
    "        return n * factorial(n-1)\n",
    "\n",
    "def sum_odd_factorials(n):\n",
    "    if n == 0:\n",
    "        return 0\n",
    "    if n % 2 == 1:\n",
    "        return factorial(n) + sum_odd_factorials(n-1)\n",
    "    else:\n",
    "        return sum_odd_factorials(n-1)\n",
    "\n",
    "print(sum_odd_factorials(0))\n",
    "print(sum_odd_factorials(3))\n",
    "print(sum_odd_factorials(6))\n"
   ]
  },
  {
   "cell_type": "markdown",
   "metadata": {},
   "source": [
    "## Question 2\n",
    "### Collatz Distance\n",
    "\n",
    "Consider the following function:\n",
    "\n",
    "f(n) = n / 2        if n is an even number;\n",
    "\n",
    "f(n) = 3n + 1       if n is an odd number.\n",
    "\n",
    "<br>\n",
    "\n",
    "The Collatz conjecture states that for any integer n, the sequence n, f(n), f(f(n))... will eventually reach 1.\n",
    "\n",
    "We define the Collatz distance for an integer n as the number of steps needed to reach 1.\n",
    "\n",
    "Write a function `collatz_distance(n)`."
   ]
  },
  {
   "cell_type": "code",
   "execution_count": 15,
   "metadata": {},
   "outputs": [
    {
     "name": "stdout",
     "output_type": "stream",
     "text": [
      "0\n",
      "2\n",
      "111\n"
     ]
    }
   ],
   "source": [
    "def collatz_distance(n):\n",
    "    result = 0\n",
    "    if n == 1:\n",
    "        return 0\n",
    "    elif n % 2 == 0:\n",
    "        result = n / 2\n",
    "    elif n % 2 == 1:\n",
    "        result = 3 * n + 1\n",
    "    return 1 + collatz_distance(result)\n",
    "\n",
    "def collatz_distance(n):\n",
    "    if n == 1:\n",
    "        return 0\n",
    "    elif n % 2 == 0:\n",
    "        return 1 + collatz_distance(n // 2)\n",
    "    else:\n",
    "        return 1 + collatz_distance(3 * n + 1)\n",
    "\n",
    "print(collatz_distance(1))\n",
    "print(collatz_distance(4))\n",
    "print(collatz_distance(27))\n"
   ]
  },
  {
   "cell_type": "markdown",
   "metadata": {},
   "source": [
    "## Question 3\n",
    "### Replace Digit\n",
    "\n",
    "Write a recursive function `replace_digit(n, d, r)`, which will replace every occurrence of digit `d` in the number `n` with `r`."
   ]
  },
  {
   "cell_type": "code",
   "execution_count": 17,
   "metadata": {},
   "outputs": [
    {
     "name": "stdout",
     "output_type": "stream",
     "text": [
      "103\n",
      "234\n",
      "155534\n"
     ]
    }
   ],
   "source": [
    "def replace_digit(n, d, r):\n",
    "    if n == 0:\n",
    "        return 0\n",
    "    else:\n",
    "        last_digit = n % 10\n",
    "        if last_digit == d:\n",
    "            last_digit = r\n",
    "        return replace_digit(n // 10, d, r) * 10 + last_digit\n",
    "\n",
    "print(replace_digit(123, 2, 0))\n",
    "print(replace_digit(1234, 1, 0))\n",
    "print(replace_digit(122234, 2, 5))\n"
   ]
  },
  {
   "cell_type": "markdown",
   "metadata": {},
   "source": [
    "## Question 4\n",
    "\n",
    "Below is a recursive way to find the value of e. As the value of n passed into find_e becomes larger and larger, the result returned will gets closer and closer to the actual value of e.\n",
    "\n",
    "For more information refer to the following link: <a href=\"https://www.intmath.com/exponential-logarithmic-functions/calculating-e.php\">Newton's Series Expansion for e</a>.\n",
    "\n",
    "```python\n",
    "def fact(n):\n",
    "    if n == 0:\n",
    "        return 1\n",
    "    else:\n",
    "        return n * fact(n - 1)\n",
    "    \n",
    "def find_e(n):\n",
    "    if n == 0:\n",
    "        return 1\n",
    "    else:\n",
    "        return 1/fact(n) + find_e(n - 1)\n",
    "```\n",
    "\n",
    "Write an iterative version of `fact` and `find_e`."
   ]
  },
  {
   "cell_type": "code",
   "execution_count": 25,
   "metadata": {},
   "outputs": [
    {
     "name": "stdout",
     "output_type": "stream",
     "text": [
      "1\n",
      "2.5\n",
      "2.71827876984127\n",
      "2.7182818284590455\n"
     ]
    }
   ],
   "source": [
    "def fact(n):\n",
    "    result = 1\n",
    "    for i in range(1, n+1):\n",
    "        result *= i\n",
    "    return result\n",
    "\n",
    "def find_e(n):\n",
    "    result = 1\n",
    "    for i in range(1, n+1):\n",
    "        result += 1 / fact(i)\n",
    "    return result\n",
    "\n",
    "print(find_e(0))\n",
    "print(find_e(2))\n",
    "print(find_e(8))\n",
    "print(find_e(4000))"
   ]
  }
 ],
 "metadata": {
  "kernelspec": {
   "display_name": "Python 3",
   "language": "python",
   "name": "python3"
  },
  "language_info": {
   "codemirror_mode": {
    "name": "ipython",
    "version": 3
   },
   "file_extension": ".py",
   "mimetype": "text/x-python",
   "name": "python",
   "nbconvert_exporter": "python",
   "pygments_lexer": "ipython3",
   "version": "3.12.1"
  }
 },
 "nbformat": 4,
 "nbformat_minor": 2
}
