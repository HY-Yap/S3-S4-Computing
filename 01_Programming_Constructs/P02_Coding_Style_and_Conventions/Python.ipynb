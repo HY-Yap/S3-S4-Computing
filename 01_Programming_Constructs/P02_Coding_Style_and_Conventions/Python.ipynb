{
 "cells": [
  {
   "cell_type": "markdown",
   "metadata": {},
   "source": [
    "# P02 - Python Coding Style and Conventions\n",
    "\n",
    "## Syllabus\n",
    "2.1.1\tUse indentation and white space.  \n",
    "2.1.2\tUse naming conventions (e.g. meaningful identifier names)  \n",
    "2.1.3\tWrite comments (name of programmer, date written, program description and version book-keeping/control)\n",
    "\n",
    "## Understanding Goals\n",
    "\n",
    "In this chapter, we will explore and discuss:\n",
    "- Indentation and white spaces in python code\n",
    "- Naming conventions of variables and functions\n",
    "- Writing meaningful comments"
   ]
  },
  {
   "cell_type": "markdown",
   "metadata": {},
   "source": [
    "## Section 1 - Indentation & White Spaces\n",
    "\n",
    "### _1.1 Blocks_\n",
    "\n",
    "A block is a group of statements in a program or script. Usually it consists of at least one statement and of declarations for the block, depending on the programming or scripting language. A language, which allows grouping with blocks, is called a block structured language. Generally, blocks can contain blocks as well, so we get a nested block structure. A block in a script or program functions as a mean to group statements to be treated as if they were one statement. In many cases, it also serves as a way to limit the lexical scope of variables and functions.\n",
    "\n",
    "**Python programs get structured through indentation, i.e. code blocks are defined by their indentation.**"
   ]
  },
  {
   "cell_type": "code",
   "execution_count": 1,
   "metadata": {},
   "outputs": [
    {
     "name": "stdout",
     "output_type": "stream",
     "text": [
      "x is larger than 5.\n"
     ]
    }
   ],
   "source": [
    "def my_function(x):\n",
    "    # This indentation indicates the function code block\n",
    "    if x > 5:\n",
    "        # This indentation indicates the if-statement code block\n",
    "        print(\"x is larger than 5.\")\n",
    "    else:\n",
    "        # This indentation indicates the else-statement code block\n",
    "        print(\"x is not larger than 5.\")\n",
    "\n",
    "# The following lines have been un-indented, so they no-longer belongs to the function code block\n",
    "my_function(10)"
   ]
  },
  {
   "cell_type": "markdown",
   "metadata": {},
   "source": [
    "We should indent with 4 spaces by default, although some programmers may prefer to use 2 spaces instead. Most editors support the adjustment of this setting in the preferences. \n",
    "\n",
    "For our course, we would strongly encourage everyone to stick to **4 spaces-indentation**. All materials and exercises will be following this convention."
   ]
  },
  {
   "cell_type": "markdown",
   "metadata": {},
   "source": [
    "Tables vs Spaces\n",
    "\n",
    "https://www.youtube.com/watch?time_continue=51&v=SsoOG6ZeyUI"
   ]
  },
  {
   "cell_type": "markdown",
   "metadata": {},
   "source": [
    "### _1.2 White Spaces in Expressions and Statements_\n",
    "\n",
    "Please refer to the [PEP8 Guide](https://www.python.org/dev/peps/pep-0008/#whitespace-in-expressions-and-statements).\n",
    "\n",
    "Essentially for most cases, there should be an white space before and after an operator. However, there should not be any white spaces before or after an parenthesis.\n",
    "\n",
    "Good Exmaple:\n",
    "```python\n",
    "print(x, y)\n",
    "x = y + 4 - 5\n",
    "my_variable = 10\n",
    "\n",
    "```\n",
    "\n",
    "Bad Example:\n",
    "```python\n",
    "print ( x , y )\n",
    "x           = y+4-5\n",
    "my_variable = 10\n",
    "\n",
    "```"
   ]
  },
  {
   "cell_type": "markdown",
   "metadata": {},
   "source": [
    "## Section 2 - Naming Rules and Conventions\n",
    "\n",
    "### _2.1 General Guidelines_\n",
    "\n",
    "**1. Python keywords should never be used as variable names.**\n",
    "\n",
    "When a keyword is being used for a variable or function name, the original keyword will be overwritten, which may lead to bugs in the program.\n",
    "\n",
    "**2. Python is case-sensitive.**\n",
    "\n",
    "`HCICP` and `hcicp` are treated as two different names.\n",
    "\n",
    "**3. All names used should be meaningful.**\n",
    "\n",
    "We should also avoid using `a`, `b`, `x`, `y` as names."
   ]
  },
  {
   "cell_type": "code",
   "execution_count": 1,
   "metadata": {},
   "outputs": [
    {
     "name": "stdout",
     "output_type": "stream",
     "text": [
      "Welcome to Python 3.12's help utility! If this is your first time using\n",
      "Python, you should definitely check out the tutorial at\n",
      "https://docs.python.org/3.12/tutorial/.\n",
      "\n",
      "Enter the name of any module, keyword, or topic to get help on writing\n",
      "Python programs and using Python modules.  To get a list of available\n",
      "modules, keywords, symbols, or topics, enter \"modules\", \"keywords\",\n",
      "\"symbols\", or \"topics\".\n",
      "\n",
      "Each module also comes with a one-line summary of what it does; to list\n",
      "the modules whose name or summary contain a given string such as \"spam\",\n",
      "enter \"modules spam\".\n",
      "\n",
      "To quit this help utility and return to the interpreter,\n",
      "enter \"q\" or \"quit\".\n",
      "\n",
      "\n",
      "Here is a list of the Python keywords.  Enter any keyword to get more help.\n",
      "\n",
      "False               class               from                or\n",
      "None                continue            global              pass\n",
      "True                def                 if                  raise\n",
      "and                 del                 import              return\n",
      "as                  elif                in                  try\n",
      "assert              else                is                  while\n",
      "async               except              lambda              with\n",
      "await               finally             nonlocal            yield\n",
      "break               for                 not                 \n",
      "\n",
      "Help on module keyword:\n",
      "\n",
      "NAME\n",
      "    keyword - Keywords (from \"Grammar/python.gram\")\n",
      "\n",
      "MODULE REFERENCE\n",
      "    https://docs.python.org/3.12/library/keyword.html\n",
      "\n",
      "    The following documentation is automatically generated from the Python\n",
      "    source files.  It may be incomplete, incorrect or include features that\n",
      "    are considered implementation detail and may vary between Python\n",
      "    implementations.  When in doubt, consult the module reference at the\n",
      "    location listed above.\n",
      "\n",
      "DESCRIPTION\n",
      "    This file is automatically generated; please don't muck it up!\n",
      "\n",
      "    To update the symbols in this file, 'cd' to the top directory of\n",
      "    the python source tree and run:\n",
      "\n",
      "        PYTHONPATH=Tools/peg_generator python3 -m pegen.keywordgen         Grammar/python.gram         Grammar/Tokens         Lib/keyword.py\n",
      "\n",
      "    Alternatively, you can run 'make regen-keyword'.\n",
      "\n",
      "FUNCTIONS\n",
      "    iskeyword = __contains__(...) method of builtins.frozenset instance\n",
      "        x.__contains__(y) <==> y in x.\n",
      "\n",
      "    issoftkeyword = __contains__(...) method of builtins.frozenset instance\n",
      "        x.__contains__(y) <==> y in x.\n",
      "\n",
      "DATA\n",
      "    __all__ = ['iskeyword', 'issoftkeyword', 'kwlist', 'softkwlist']\n",
      "    kwlist = ['False', 'None', 'True', 'and', 'as', 'assert', 'async', 'aw...\n",
      "    softkwlist = ['_', 'case', 'match', 'type']\n",
      "\n",
      "FILE\n",
      "    /Library/Frameworks/Python.framework/Versions/3.12/lib/python3.12/keyword.py\n",
      "\n",
      "\n",
      "\n",
      "You are now leaving help and returning to the Python interpreter.\n",
      "If you want to ask for help on a particular object directly from the\n",
      "interpreter, you can type \"help(object)\".  Executing \"help('string')\"\n",
      "has the same effect as typing a particular string at the help> prompt.\n"
     ]
    }
   ],
   "source": [
    "help()\n",
    "# Type keywords to retrieve a list of keywords in Python\n",
    "# Type quit to close the help() command."
   ]
  },
  {
   "cell_type": "markdown",
   "metadata": {},
   "source": [
    "### _2.2 Naming an Variable or Function_\n",
    "\n",
    "Variables and Functions are important elements in programming languages. Here are some general guidelines:\n",
    "\n",
    "1. There should not be any spaces in the variable/function name.\n",
    "2. The first character of a variable/function name must be a letter (or an underscore, we will discuss this in greater details in the OOP chapter).\n",
    "3. The remaining characters should be a letter, digit or underscore character.\n",
    "4. We should only use lowercase letters for variable/function names, if there are multiple words, use underscore to join the words.\n",
    "\n",
    "For example:  \n",
    "variables: `my_acct`, `score`, `home_addr`  \n",
    "functions: `calc_salary()`, `get_name()`, `display_details()`"
   ]
  },
  {
   "cell_type": "markdown",
   "metadata": {},
   "source": [
    "### _2.3 Naming a Constant_\n",
    "\n",
    "Sometimes we need to define a constant at the module level. A constant refers to a variable storing a static value which should not be altered during the execution phase of the program.\n",
    "\n",
    "We should use all capital letters with underscores to denote constants.\n",
    "\n",
    "For example:\n",
    "```python\n",
    "PI = 3.14 \n",
    "CONVERSION_RATE = 4.91\n",
    "```"
   ]
  },
  {
   "cell_type": "markdown",
   "metadata": {},
   "source": [
    "### 2.4 Naming a Class\n",
    "\n",
    "_We will learn the concept of a class in the chapter of OOP._\n",
    "\n",
    "A class name should follow the CamelCase convention. Each word should start with a capital letter, followed by lowercase letters. No underscores should be presented in between the words.\n",
    "\n",
    "For example:\n",
    "`MyClass`, `EmployeeSalary`, `DatabaseViewer`"
   ]
  },
  {
   "cell_type": "markdown",
   "metadata": {},
   "source": [
    "## Section 3 - Comments\n",
    "\n",
    "### _3.1 Building a Good Habit_\n",
    "\n",
    "Comments are important as it greatly improves the readability of our program and aid in our learning and collaboration."
   ]
  },
  {
   "cell_type": "markdown",
   "metadata": {},
   "source": [
    "### _3.2 Block Comments_\n",
    "\n",
    "Block comments should be used to explain the immediate code blocks following the comments. They should be indented to the same level as the code block.\n",
    "\n",
    "For example:"
   ]
  },
  {
   "cell_type": "code",
   "execution_count": 2,
   "metadata": {},
   "outputs": [
    {
     "name": "stdout",
     "output_type": "stream",
     "text": [
      "x is larger than 5\n"
     ]
    }
   ],
   "source": [
    "# This is a block comment.\n",
    "# I can use this to explain the overall algorithm used in the function.\n",
    "def my_function(x):\n",
    "   # Comments can also be used to take down learning points.\n",
    "   if x > 5:\n",
    "      print(\"x is larger than 5\")\n",
    "\n",
    "my_function(10)"
   ]
  },
  {
   "cell_type": "markdown",
   "metadata": {},
   "source": [
    "### _3.3 Inline Comments_\n",
    "\n",
    "Inline comments should be used at the end of a line of code. They should be separated by at least two spaces from the statements, and start with a # and a single space.\n",
    "\n",
    "For example:"
   ]
  },
  {
   "cell_type": "code",
   "execution_count": 1,
   "metadata": {},
   "outputs": [],
   "source": [
    "x = 5\n",
    "\n",
    "if 4 < x < 10:  # Equivilant statement to x > 4 and x < 10\n",
    "   pass  # pass means the code can be executed, but nothing will happen."
   ]
  },
  {
   "cell_type": "markdown",
   "metadata": {},
   "source": [
    "## References\n",
    "\n",
    "1. [PEP 8 -- Style Guide for Python Code](https://www.python.org/dev/peps/pep-0008/)\n",
    "2. [Python Tutorial: Structuring with Indentation](https://www.python-course.eu/python3_blocks.php)"
   ]
  }
 ],
 "metadata": {
  "kernelspec": {
   "display_name": "Python 3",
   "language": "python",
   "name": "python3"
  },
  "language_info": {
   "codemirror_mode": {
    "name": "ipython",
    "version": 3
   },
   "file_extension": ".py",
   "mimetype": "text/x-python",
   "name": "python",
   "nbconvert_exporter": "python",
   "pygments_lexer": "ipython3",
   "version": "3.12.1"
  }
 },
 "nbformat": 4,
 "nbformat_minor": 2
}
