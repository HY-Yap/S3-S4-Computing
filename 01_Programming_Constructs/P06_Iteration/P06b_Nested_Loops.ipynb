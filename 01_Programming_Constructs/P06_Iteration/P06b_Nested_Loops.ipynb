{
 "cells": [
  {
   "cell_type": "markdown",
   "metadata": {},
   "source": [
    "# P06 - Iteration\n",
    "\n",
    "## Syllabus\n",
    "2.2.3   Apply the fundamental programming constructs to control the flow of program execution:  \n",
    "- Sequence  \n",
    "- Selection  \n",
    "- Iteration  \n",
    "\n",
    "## Understanding Goals\n",
    "\n",
    "At the end of this chapter, you should be able to:\n",
    "- Use loops to solve iteration problems\n",
    "- Use nested loops to solve problems"
   ]
  },
  {
   "cell_type": "markdown",
   "metadata": {},
   "source": [
    "## Section 1 - Nested Loops\n",
    "\n",
    "A nested loop is a loop within a loop, an inner loop within the body of an outer loop.\n"
   ]
  },
  {
   "cell_type": "markdown",
   "metadata": {},
   "source": [
    "#### ~ Example ~\n",
    "\n",
    "Create a function `gen_pattern()`, which takes in an `int` value of n and return a `string` in the following pattern.  \n",
    "Use nested `while` loops to solve this problem.\n",
    "\n",
    "`gen_pattern(5)` will produce the following string:\n",
    "\n",
    "```python\n",
    "1\n",
    "12\n",
    "123\n",
    "1234\n",
    "12345\n",
    "```"
   ]
  },
  {
   "cell_type": "code",
   "execution_count": 32,
   "metadata": {},
   "outputs": [
    {
     "name": "stdout",
     "output_type": "stream",
     "text": [
      "1 2 '1'\n",
      "2 2 '1\\n1'\n",
      "2 3 '1\\n12'\n",
      "3 2 '1\\n12\\n1'\n",
      "3 3 '1\\n12\\n12'\n",
      "3 4 '1\\n12\\n123'\n",
      "4 2 '1\\n12\\n123\\n1'\n",
      "4 3 '1\\n12\\n123\\n12'\n",
      "4 4 '1\\n12\\n123\\n123'\n",
      "4 5 '1\\n12\\n123\\n1234'\n",
      "5 2 '1\\n12\\n123\\n1234\\n1'\n",
      "5 3 '1\\n12\\n123\\n1234\\n12'\n",
      "5 4 '1\\n12\\n123\\n1234\\n123'\n",
      "5 5 '1\\n12\\n123\\n1234\\n1234'\n",
      "5 6 '1\\n12\\n123\\n1234\\n12345'\n",
      "1\n",
      "12\n",
      "123\n",
      "1234\n",
      "12345\n",
      "\n"
     ]
    }
   ],
   "source": [
    "def gen_pattern(n):\n",
    "    i = 1\n",
    "    result = \"\"\n",
    "\n",
    "    while i <= n:\n",
    "        j = 1\n",
    "        while j <= i:\n",
    "            result += str(j)\n",
    "            j += 1\n",
    "            print(i, j, repr(result))\n",
    "        i += 1\n",
    "        result += \"\\n\"\n",
    "    return result\n",
    "\n",
    "print(gen_pattern(5))"
   ]
  },
  {
   "cell_type": "markdown",
   "metadata": {},
   "source": [
    "#### ~ Example ~\n",
    "\n",
    "Create a function `gen_pattern()`, which takes in an `int` value of n and return a `string` in the following pattern.  \n",
    "Use nested `for` loops to solve this problem.\n",
    "\n",
    "`gen_pattern(5)` will produce the following string:\n",
    "\n",
    "```python\n",
    "1\n",
    "12\n",
    "123\n",
    "1234\n",
    "12345\n",
    "```"
   ]
  },
  {
   "cell_type": "code",
   "execution_count": 33,
   "metadata": {},
   "outputs": [
    {
     "name": "stdout",
     "output_type": "stream",
     "text": [
      "1 1 '1'\n",
      "2 1 '1\\n1'\n",
      "2 2 '1\\n12'\n",
      "3 1 '1\\n12\\n1'\n",
      "3 2 '1\\n12\\n12'\n",
      "3 3 '1\\n12\\n123'\n",
      "4 1 '1\\n12\\n123\\n1'\n",
      "4 2 '1\\n12\\n123\\n12'\n",
      "4 3 '1\\n12\\n123\\n123'\n",
      "4 4 '1\\n12\\n123\\n1234'\n",
      "5 1 '1\\n12\\n123\\n1234\\n1'\n",
      "5 2 '1\\n12\\n123\\n1234\\n12'\n",
      "5 3 '1\\n12\\n123\\n1234\\n123'\n",
      "5 4 '1\\n12\\n123\\n1234\\n1234'\n",
      "5 5 '1\\n12\\n123\\n1234\\n12345'\n",
      "1\n",
      "12\n",
      "123\n",
      "1234\n",
      "12345\n",
      "\n"
     ]
    }
   ],
   "source": [
    "def gen_pattern(n):\n",
    "    result = \"\"\n",
    "    for i in range(1, n + 1):\n",
    "        for j in range(1, i + 1):\n",
    "            result += str(j)\n",
    "            print(i, j, repr(result))\n",
    "        result += \"\\n\"\n",
    "    return result\n",
    "\n",
    "print(gen_pattern(5))"
   ]
  },
  {
   "cell_type": "markdown",
   "metadata": {},
   "source": [
    "#### - Exercise -\n",
    "\n",
    "Create a function `gen_pattern()`, which takes in an `int` value of n and return a `string` in the following pattern.  \n",
    "Use nested `while` loops to solve this problem. Please **avoid** using the `*` operator for string operation.\n",
    "\n",
    "`gen_pattern(5)` will produce the following string:\n",
    "\n",
    "```python\n",
    "*\n",
    "***\n",
    "*****\n",
    "*******\n",
    "*********\n",
    "```"
   ]
  },
  {
   "cell_type": "code",
   "execution_count": 9,
   "metadata": {},
   "outputs": [
    {
     "name": "stdout",
     "output_type": "stream",
     "text": [
      "*\n",
      "***\n",
      "*****\n",
      "*******\n",
      "*********\n",
      "\n"
     ]
    }
   ],
   "source": [
    "# Insert your solution here\n",
    "def gen_pattern(n):\n",
    "    i = 1\n",
    "    result = \"*\"\n",
    "    while i < n:\n",
    "        result += \"\\n*\"\n",
    "        j = 1\n",
    "        while j <= i:\n",
    "            result += \"**\"\n",
    "            j += 1\n",
    "        i += 1\n",
    "        result += \"\"\n",
    "    return result\n",
    "\n",
    "def gen_pattern(n):\n",
    "    result = \"\"\n",
    "    i = 1\n",
    "    while i <= n:\n",
    "        j = 1\n",
    "        while j <= i * 2 - 1:\n",
    "            result += \"*\"\n",
    "            j += 1\n",
    "        result += \"\\n\"\n",
    "        i += 1\n",
    "    return result\n",
    "\n",
    "print(gen_pattern(5))"
   ]
  },
  {
   "cell_type": "markdown",
   "metadata": {},
   "source": [
    "#### - Exercise -\n",
    "\n",
    "Create a function `gen_pattern()`, which takes in an `int` value of n and return a `string` in the following pattern.  \n",
    "Use nested `for` loops to solve this problem. Please **avoid** using the `*` operator for string operation.\n",
    "\n",
    "`gen_pattern(5)` will produce the following string:\n",
    "\n",
    "```python\n",
    "*\n",
    "***\n",
    "*****\n",
    "*******\n",
    "*********\n",
    "```"
   ]
  },
  {
   "cell_type": "code",
   "execution_count": 10,
   "metadata": {},
   "outputs": [
    {
     "name": "stdout",
     "output_type": "stream",
     "text": [
      "*\n",
      "***\n",
      "*****\n",
      "*******\n",
      "*********\n",
      "\n"
     ]
    }
   ],
   "source": [
    "# Insert your solution here\n",
    "def gen_pattern(n):\n",
    "    result = \"*\"\n",
    "    for i in range(1, n):\n",
    "        result += \"\\n*\"\n",
    "        for j in range(1, i + 1):\n",
    "            result += \"**\"\n",
    "    return result\n",
    "\n",
    "def gen_pattern(n):\n",
    "    result = \"\"\n",
    "    for i in range(1, n + 1):\n",
    "        for j in range(1, i * 2):\n",
    "            result += \"*\"\n",
    "        result += \"\\n\"\n",
    "    return result\n",
    "\n",
    "def gen_pattern(n):\n",
    "    result = \"\"\n",
    "    for i in range(n):\n",
    "        for j in range(i * 2 + 1):\n",
    "            result += \"*\"\n",
    "        result += \"\\n\"\n",
    "    return result\n",
    "\n",
    "print(gen_pattern(5))"
   ]
  }
 ],
 "metadata": {
  "kernelspec": {
   "display_name": "Python 3",
   "language": "python",
   "name": "python3"
  },
  "language_info": {
   "codemirror_mode": {
    "name": "ipython",
    "version": 3
   },
   "file_extension": ".py",
   "mimetype": "text/x-python",
   "name": "python",
   "nbconvert_exporter": "python",
   "pygments_lexer": "ipython3",
   "version": "3.12.1"
  }
 },
 "nbformat": 4,
 "nbformat_minor": 2
}
