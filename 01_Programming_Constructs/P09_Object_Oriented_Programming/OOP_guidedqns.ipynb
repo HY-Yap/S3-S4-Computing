{
 "cells": [
  {
   "cell_type": "markdown",
   "metadata": {},
   "source": [
    "## Question 1\n",
    "### Class Bicycle\n",
    "\n",
    "Create a class `Bicycle` with the following private attributes:\n",
    "`model`, `color`, `price` and `stock`.\n",
    "\n",
    "The constructor `__init__()` should only take in 3 arguments, `model`, `color` and `price`, and setting the default value of `stock` to 0.\n",
    "\n",
    "Implement a method `increase_stock(n)` to increase the current `stock` by `n`.\n",
    "\n",
    "Implement a method `get_curr_stock()` to return the current `stock` of this bicycle.\n"
   ]
  },
  {
   "cell_type": "code",
   "execution_count": 5,
   "metadata": {},
   "outputs": [
    {
     "name": "stdout",
     "output_type": "stream",
     "text": [
      "0\n",
      "10\n"
     ]
    }
   ],
   "source": [
    "class Bicycle:\n",
    "    def __init__(self, model, color, price):\n",
    "        self.model = model\n",
    "        self.color = color\n",
    "        self.price = price\n",
    "        self.stock = 0 # default value for stock as 0\n",
    "    \n",
    "    def increase_stock(self, n):\n",
    "        self.stock += n\n",
    "    \n",
    "    def get_curr_stock(self):\n",
    "        print(self.stock)\n",
    "\n",
    "bike_1 = Bicycle(\"Mountain 500\", \"Red\", 500.00)\n",
    "\n",
    "bike_1.get_curr_stock()\n",
    "bike_1.increase_stock(10)\n",
    "bike_1.get_curr_stock()"
   ]
  },
  {
   "cell_type": "markdown",
   "metadata": {},
   "source": [
    "## Question 2\n",
    "### Class Bicycle\n",
    "\n",
    "Implement Accessors/Mutators for the class `Bicycle`."
   ]
  },
  {
   "cell_type": "code",
   "execution_count": null,
   "metadata": {},
   "outputs": [],
   "source": [
    "class Bicycle:\n",
    "    def __init__(self, model, color, price):\n",
    "        self._model = model\n",
    "        self._color = color\n",
    "        self._price = price\n",
    "        self._stock = 0\n",
    "    \n",
    "    def increase_stock(self, n):\n",
    "        self._stock += n\n",
    "\n",
    "    def get_curr_stock(self):\n",
    "        return self._stock\n",
    "    \n",
    "    # Implement Accessors/Mutators\n",
    "    "
   ]
  },
  {
   "cell_type": "markdown",
   "metadata": {},
   "source": [
    "## Question 5\n",
    "### Mammals\n",
    "\n",
    "In this training, we will first attempt to model Mammals and the kind of sound that they make.\n",
    "\n",
    "Create a class `Mammal`, which represents a warm blooded animal. A Mammal will have a name, and will make a distinct sound.\n",
    "\n",
    "Your `Mammal` class should have the following properties:\n",
    "1. `name`: A `str` representing the name of the Mammal\n",
    "\n",
    "In addition, it should have the following methods:\n",
    "1. `get_name()`: Returns the name of the Mammal\n",
    "2. `say()`: Returns the distinct sound that the Mammal make. For now, this method will return a string in the following format: \"What does the 'name' says\", where 'name' is the `name` of the Mammal"
   ]
  },
  {
   "cell_type": "code",
   "execution_count": 21,
   "metadata": {},
   "outputs": [
    {
     "data": {
      "text/plain": [
       "'What does the dog says'"
      ]
     },
     "execution_count": 21,
     "metadata": {},
     "output_type": "execute_result"
    }
   ],
   "source": [
    "class Mammal:\n",
    "    def __init__(self, name):\n",
    "        self._name = name\n",
    "\n",
    "    def get_name(self):\n",
    "        return self._name\n",
    "    \n",
    "    def say(self):\n",
    "        return f\"What does the {self._name} says\"\n",
    "\n",
    "a = Mammal(\"dog\")\n",
    "a.get_name()\n",
    "a.say()"
   ]
  },
  {
   "cell_type": "markdown",
   "metadata": {},
   "source": [
    "## Question 6\n",
    "### Mammalian Inheritance\n",
    "\n",
    "In order to create a Mammal, we will need to specify the name of the Mammal. This is cumbersome, and is prone to mistakes (we might accidentally create a 'Cet' instead of a 'Cat'). \n",
    "\n",
    "We can create subclasses of `Mammal`, whose constructor will call the `Mammal`'s constructor with the correct name. As such, the constructor of the subclass should take in no parameters.\n",
    "\n",
    "Create the following subclass of `Mammal`:\n",
    "\n",
    "1. `Dog`, with the name \"Dog\"\n",
    "2. `Cat`, with the name \"Cat\"\n",
    "3. `Fox`, with the name \"Fox\"\n",
    "\n",
    "Reminder: Your subclass constructor should use `super`'s constructor."
   ]
  },
  {
   "cell_type": "code",
   "execution_count": 25,
   "metadata": {},
   "outputs": [
    {
     "data": {
      "text/plain": [
       "'Dog'"
      ]
     },
     "execution_count": 25,
     "metadata": {},
     "output_type": "execute_result"
    }
   ],
   "source": [
    "# You DO NOT NEED TO DEFINE Mammal class here!\n",
    "\n",
    "class Dog(Mammal):\n",
    "    def __init__(self):\n",
    "        super().__init__(\"Dog\")\n",
    "\n",
    "# Cat definition should go here\n",
    "class Cat(Mammal):\n",
    "    def __init__(self):\n",
    "        super().__init__(\"Cat\")\n",
    "\n",
    "# Fox definition should go here\n",
    "class Fox(Mammal):\n",
    "    def __init__(self):\n",
    "        super().__init__(\"Fox\")\n",
    "\n",
    "Dog().get_name()"
   ]
  },
  {
   "cell_type": "markdown",
   "metadata": {},
   "source": [
    "## Question 7\n",
    "### Mammalian Polymorphism\n",
    "\n",
    "A benefit of deriving subclass of `Mammal` is now we can employ polymorphism to modify the behaviour of the different type of mammals. A `Dog` will make a distinct sound compared to a `Cat`, and the default implementation of `say()`, which simply returns the `str` \"What does the 'name' says\", is not useful.\n",
    "\n",
    "Modify your code to change the behaviour of the say() function of the Mammal subclass. Employ polymorphism by implementing `say()` function in your subclasses.\n",
    "\n",
    "Here is what each of the Mammals have to say:\n",
    "1. `Dog` says \"Woof\"\n",
    "2. `Cat` says \"Meow\"\n",
    "3. `Fox` says \"Ring-ding-ding-ding-dingeringeding\"\n",
    "\n",
    "NOTE: You should only include the definition of the `Dog`, `Cat` and `Fox` classes and nothing else. In particular, DO NOT include the definition of the `Mammal` class in your code. We will be defining it and your code will fail some private test cases should you redefine the Mammal class."
   ]
  },
  {
   "cell_type": "code",
   "execution_count": 28,
   "metadata": {},
   "outputs": [
    {
     "data": {
      "text/plain": [
       "'Woof'"
      ]
     },
     "execution_count": 28,
     "metadata": {},
     "output_type": "execute_result"
    }
   ],
   "source": [
    "# You DO NOT NEED TO DEFINE Mammal class here!\n",
    "\n",
    "# Dog definition should go here\n",
    "class Dog(Mammal):\n",
    "    def __init__(self):\n",
    "        super().__init__(\"Dog\")\n",
    "    \n",
    "    def say(self):\n",
    "        return \"Woof\"\n",
    "\n",
    "# Cat definition should go here\n",
    "class Cat(Mammal):\n",
    "    def __init__(self):\n",
    "        super().__init__(\"Cat\")\n",
    "    \n",
    "    def say(self):\n",
    "        return \"Meow\"\n",
    "\n",
    "# Fox definition should go here\n",
    "class Fox(Mammal):\n",
    "    def __init__(self):\n",
    "        super().__init__(\"Fox\")\n",
    "    \n",
    "    def say(self):\n",
    "        return \"Ring-ding-ding-ding-dingeringeding\"\n",
    "\n",
    "Dog().say()\n"
   ]
  }
 ],
 "metadata": {
  "kernelspec": {
   "display_name": "Python 3",
   "language": "python",
   "name": "python3"
  },
  "language_info": {
   "codemirror_mode": {
    "name": "ipython",
    "version": 3
   },
   "file_extension": ".py",
   "mimetype": "text/x-python",
   "name": "python",
   "nbconvert_exporter": "python",
   "pygments_lexer": "ipython3",
   "version": "3.12.1"
  }
 },
 "nbformat": 4,
 "nbformat_minor": 2
}
