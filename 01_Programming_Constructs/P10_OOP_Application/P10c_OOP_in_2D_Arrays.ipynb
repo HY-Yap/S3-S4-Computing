{
 "cells": [
  {
   "attachments": {},
   "cell_type": "markdown",
   "metadata": {},
   "source": [
    "# P10c - OOP in 2D Arrays\n",
    "\n",
    "## Understanding Goals\n",
    "\n",
    "At the end of this chapter, you should be able to:\n",
    "- Create 2-Dimensional Arrays\n",
    "- Print 2-Dimensional Arrays in a presentable format\n",
    "- Iterate through points and lines in an 2-Dimensional Arrays"
   ]
  },
  {
   "attachments": {},
   "cell_type": "markdown",
   "metadata": {},
   "source": [
    "## Section 1 - OOP in 2D Arrays\n",
    "\n",
    "### _1.1 Creating 2-Dimensional Arrays_\n",
    "\n",
    "We can initialise 2d array using nested for loops."
   ]
  },
  {
   "cell_type": "code",
   "execution_count": 1,
   "metadata": {},
   "outputs": [
    {
     "name": "stdout",
     "output_type": "stream",
     "text": [
      "[[None, None, None, None, None], [None, None, None, None, None], [None, None, None, None, None], [None, None, None, None, None], [None, None, None, None, None]]\n"
     ]
    }
   ],
   "source": [
    "# Method 1\n",
    "\n",
    "lst = []\n",
    "\n",
    "for _ in range(5):\n",
    "    row = []\n",
    "    for _ in range(5):\n",
    "        row.append(None)\n",
    "    lst.append(row)\n",
    "\n",
    "print(lst)"
   ]
  },
  {
   "cell_type": "code",
   "execution_count": 2,
   "metadata": {},
   "outputs": [
    {
     "name": "stdout",
     "output_type": "stream",
     "text": [
      "[[None, None, None, None, None], [None, None, None, None, None], [None, None, None, None, None], [None, None, None, None, None], [None, None, None, None, None]]\n"
     ]
    }
   ],
   "source": [
    "# Method 2 - shortcut\n",
    "\n",
    "lst = [[None for _ in range(5)] for _ in range(5)]\n",
    "\n",
    "print(lst)"
   ]
  },
  {
   "cell_type": "code",
   "execution_count": 3,
   "metadata": {},
   "outputs": [
    {
     "name": "stdout",
     "output_type": "stream",
     "text": [
      "[[1, None, None, None, None], [1, None, None, None, None], [1, None, None, None, None], [1, None, None, None, None], [1, None, None, None, None]]\n"
     ]
    }
   ],
   "source": [
    "# PLEASE NEVER DO THIS!!!\n",
    "\n",
    "lst = [[None] * 5] * 5\n",
    "\n",
    "lst[0][0] = 1\n",
    "\n",
    "print(lst)"
   ]
  },
  {
   "attachments": {},
   "cell_type": "markdown",
   "metadata": {},
   "source": [
    "### _1.2 Printing 2-Dimensional Arrays_\n",
    "\n",
    "We can print 2d array using nested for loops.\n",
    "\n",
    "#### - Exercise 1.2.1 -\n",
    "\n",
    "Initialise a 5x5 2d-list and return a `string` in the following format:\n",
    "\n",
    "```\n",
    "None None None None None\n",
    "None None None None None\n",
    "None None None None None\n",
    "None None None None None\n",
    "None None None None None\n",
    "```"
   ]
  },
  {
   "cell_type": "code",
   "execution_count": 31,
   "metadata": {},
   "outputs": [
    {
     "name": "stdout",
     "output_type": "stream",
     "text": [
      "None None None None None\n",
      "None None None None None\n",
      "None None None None None\n",
      "None None None None None\n",
      "None None None None None\n"
     ]
    }
   ],
   "source": [
    "lst = [[None for _ in range(5)] for _ in range(5)]\n",
    "\n",
    "def print_2d_01(lst):\n",
    "    # your code here\n",
    "    result = \"\"\n",
    "    for row in lst:\n",
    "        for ele in row:\n",
    "            result += str(ele) + \" \"\n",
    "        result = result[:-1] + \"\\n\"\n",
    "    return result[:-1]\n",
    "\n",
    "print(print_2d_01(lst))"
   ]
  },
  {
   "attachments": {},
   "cell_type": "markdown",
   "metadata": {},
   "source": [
    "#### - Exercise 1.2.2 -\n",
    "\n",
    "Initialise a 5x5 2d-list and return a `string` in the following format:\n",
    "\n",
    "- If the element is `None`, print a space, `\" \"`;  \n",
    "- If the element is not  `None`, print the value stored in the list, `\"h\"`.\n",
    "\n",
    "\n",
    "```\n",
    "h    \n",
    "     \n",
    "  c  \n",
    "     \n",
    "    i\n",
    "```"
   ]
  },
  {
   "cell_type": "code",
   "execution_count": 33,
   "metadata": {},
   "outputs": [
    {
     "name": "stdout",
     "output_type": "stream",
     "text": [
      "h    \n",
      "     \n",
      "  c  \n",
      "     \n",
      "    i\n"
     ]
    }
   ],
   "source": [
    "lst = [[None for _ in range(5)] for _ in range(5)]\n",
    "\n",
    "lst[0][0] = \"h\"\n",
    "lst[2][2] = \"c\"\n",
    "lst[4][4] = \"i\"\n",
    "\n",
    "def print_2d_02(lst):\n",
    "    # your code here\n",
    "    result = \"\"\n",
    "    for row in lst:\n",
    "        for ele in row:\n",
    "            if ele is None:\n",
    "                result += \" \"\n",
    "            else:\n",
    "                result += ele\n",
    "        result += \"\\n\"\n",
    "    return result[:-1]\n",
    "\n",
    "print(print_2d_02(lst))"
   ]
  },
  {
   "attachments": {},
   "cell_type": "markdown",
   "metadata": {},
   "source": [
    "#### - Exercise 1.2.3 -\n",
    "\n",
    "Initialise a 5x5 2d-list and return a `string` in the following format:\n",
    "\n",
    "- If the element is `None`, print a space, `\" \"`;\n",
    "- If the element is not  `None`, print the value stored in the list, `\"h\"`.\n",
    "\n",
    "Add a border around the 2d-list.\n",
    "\n",
    "```\n",
    "+-----+\n",
    "│h    |\n",
    "│     |\n",
    "│  c  |\n",
    "│     |\n",
    "│    i|\n",
    "+-----+\n",
    "```"
   ]
  },
  {
   "cell_type": "code",
   "execution_count": 39,
   "metadata": {},
   "outputs": [
    {
     "name": "stdout",
     "output_type": "stream",
     "text": [
      "+-----+\n",
      "|h    |\n",
      "|     |\n",
      "|  c  |\n",
      "|     |\n",
      "|    i|\n",
      "+-----+\n"
     ]
    }
   ],
   "source": [
    "lst = [[None for _ in range(5)] for _ in range(5)]\n",
    "\n",
    "lst[0][0] = \"h\"\n",
    "lst[2][2] = \"c\"\n",
    "lst[4][4] = \"i\"\n",
    "\n",
    "def print_2d_03(lst):\n",
    "    # your code here\n",
    "    result = \"+\" + \"-\"*len(lst[0]) + \"+\\n\"\n",
    "    for row in lst:\n",
    "        result += \"|\"\n",
    "        for ele in row:\n",
    "            if ele is None:\n",
    "                result += \" \"\n",
    "            else:\n",
    "                result += ele\n",
    "        result += \"|\\n\"\n",
    "    result += \"+\" + \"-\"*len(lst[0]) + \"+\"\n",
    "    return result\n",
    "\n",
    "# zhoup\n",
    "def print_2d_03(lst):\n",
    "    # your code here\n",
    "    result = \"\"\n",
    "    border = \"+\" + \"-\" * len(lst[0]) + \"+\\n\"\n",
    "    result += border\n",
    "    for row in lst:\n",
    "        result += \"|\"\n",
    "        for ele in row:\n",
    "            if ele is None:\n",
    "                result += \" \"\n",
    "            else:\n",
    "                result += ele\n",
    "        result += \"|\\n\"\n",
    "    result += border\n",
    "    return result[:-1]\n",
    "\n",
    "print(print_2d_03(lst))"
   ]
  },
  {
   "cell_type": "markdown",
   "metadata": {},
   "source": [
    "#### - Exercise 1.2.4 -\n",
    "\n",
    "Initialise a 5x5 2d-list and return a `string` in the following format:\n",
    "\n",
    "- If the element is `None`, print an underscore in the middle of 3 char-spaces, `\" _ \"`;\n",
    "- If the element is not `None`, print the value stored in the list in the middle of 3 char-spaces, `\" h \"`.\n",
    "\n",
    "Add a table grid around the elements in the 2d-list.\n",
    "\n",
    "```\n",
    "+---+---+---+---+---+\n",
    "| h | _ | _ | _ | _ |\n",
    "+---+---+---+---+---+\n",
    "| _ | _ | _ | _ | _ |\n",
    "+---+---+---+---+---+\n",
    "| _ | _ | c | _ | _ |\n",
    "+---+---+---+---+---+\n",
    "| _ | _ | _ | _ | _ |\n",
    "+---+---+---+---+---+\n",
    "| _ | _ | _ | _ | i |\n",
    "+---+---+---+---+---+\n",
    "```"
   ]
  },
  {
   "cell_type": "code",
   "execution_count": 46,
   "metadata": {},
   "outputs": [
    {
     "name": "stdout",
     "output_type": "stream",
     "text": [
      "+---+---+---+---+---+\n",
      "| h | _ | _ | _ | _ |\n",
      "+---+---+---+---+---+\n",
      "| _ | _ | _ | _ | _ |\n",
      "+---+---+---+---+---+\n",
      "| _ | _ | c | _ | _ |\n",
      "+---+---+---+---+---+\n",
      "| _ | _ | _ | _ | _ |\n",
      "+---+---+---+---+---+\n",
      "| _ | _ | _ | _ | i |\n",
      "+---+---+---+---+---+\n"
     ]
    }
   ],
   "source": [
    "lst = [[None for _ in range(5)] for _ in range(5)]\n",
    "\n",
    "lst[0][0] = \"h\"\n",
    "lst[2][2] = \"c\"\n",
    "lst[4][4] = \"i\"\n",
    "\n",
    "def print_2d_04(lst):\n",
    "    # your code here\n",
    "    border = \"+\" + \"---+\" * len(lst[0]) + \"\\n\"\n",
    "    # print(border)\n",
    "    result = border\n",
    "    for row in lst:\n",
    "        for ele in row:\n",
    "            if ele is None:\n",
    "                result += \"| _ \"\n",
    "            else:\n",
    "                result += \"| {} \".format(ele)\n",
    "        result += \"|\\n\" + border\n",
    "    return result[:-1]\n",
    "\n",
    "# zhoup\n",
    "def print_2d_04(lst):\n",
    "    # your code here\n",
    "    result = \"\"\n",
    "    border = \"+\" + \"---+\" * len(lst[0]) + \"\\n\"\n",
    "    result += border\n",
    "    for row in lst:\n",
    "        result += \"|\"\n",
    "        for ele in row:\n",
    "            if ele is None:\n",
    "                result += \" _ |\"\n",
    "            else:\n",
    "                result += f\" {ele} |\"\n",
    "        result += \"\\n\"\n",
    "        result += border\n",
    "    return result[:-1]\n",
    "    \n",
    "print(print_2d_04(lst))"
   ]
  },
  {
   "attachments": {},
   "cell_type": "markdown",
   "metadata": {},
   "source": [
    "### _1.3 Iterating elements in 2D Arrays_\n",
    "\n",
    "We can iterate through the elements in a 2D array using nested loops. The outer loop iterates through the rows and the inner loop iterates through the columns.\n",
    "\n",
    "It is important to observe the borders, and to make sure that the loops do not go out of bounds."
   ]
  },
  {
   "cell_type": "markdown",
   "metadata": {},
   "source": [
    "#### - Exercise 1.3.1 -\n",
    "\n",
    "Iterate through the elements in the diagnal, and store the values in a string separated by spaces.\n",
    "\n",
    "`diagnal_no` with value of `0` means the diagnal from the top left to the bottom right.  \n",
    "`diagnal_no` with value of `1` means the diagnal from the top right to the bottom left.\n",
    "  \n",
    "- If element is `None`, represent it as an underscore `\"_\"` in the final result, such as `\"_\"`.\n",
    "- If element is not `None`, represent it as the value stored in the list, such as `\"h\"`.\n",
    "\n",
    "`get_diag(lst, 0)` should return a `string` in the form of `\"h _ c _ i\"`."
   ]
  },
  {
   "cell_type": "code",
   "execution_count": 2,
   "metadata": {},
   "outputs": [
    {
     "name": "stdout",
     "output_type": "stream",
     "text": [
      "h _ c _ i\n",
      "_ _ c _ _\n"
     ]
    }
   ],
   "source": [
    "lst = [[None for _ in range(5)] for _ in range(5)]\n",
    "\n",
    "lst[0][0] = \"h\"\n",
    "lst[2][2] = \"c\"\n",
    "lst[4][4] = \"i\"\n",
    "\n",
    "def get_diag(lst, diag_no):\n",
    "    # your code here\n",
    "    result = \"\"\n",
    "    for i in range(len(lst)):\n",
    "        for j in range(len(lst[i])):\n",
    "            if (diag_no == 0 and i == j) or (diag_no == 1 and i + j == len(lst) - 1):\n",
    "                if lst[i][j] is None:\n",
    "                    result += \"_ \"\n",
    "                else:\n",
    "                    result += lst[i][j] + \" \"\n",
    "    return result[:-1]\n",
    "\n",
    "def get_diag(lst, diag_no):\n",
    "    if diag_no == 0:\n",
    "        start_x, start_y, shift_x, shift_y = 0, 0, 1, 1\n",
    "    else:\n",
    "        start_x, start_y, shift_x, shift_y = 0, 4, 1, -1\n",
    "    result = \"\"\n",
    "    for _ in range(len(lst)):\n",
    "        if lst[start_x][start_y] is None:\n",
    "            result += \"_ \"\n",
    "        else:\n",
    "            result += lst[start_x][start_y] + \" \"\n",
    "        start_x += shift_x\n",
    "        start_y += shift_y\n",
    "\n",
    "    return result[:-1]\n",
    "\n",
    "print(get_diag(lst, 0))\n",
    "print(get_diag(lst, 1))"
   ]
  },
  {
   "cell_type": "markdown",
   "metadata": {},
   "source": [
    "#### - Exercise 1.3.2 -\n",
    "\n",
    "Given a position (row, col), return all elements in a given direction in a string separated by spaces.\n",
    "\n",
    "- If element is `None`, represent it as an underscore `\"_\"` in the final result, such as `\"_\"`.\n",
    "- If element is not `None`, represent it as the value stored in the list, such as `\"h\"`.\n",
    "\n",
    "\n",
    "`get_items_in_dir(lst, 2, 0, \"right\")` should return a `string` in the form of `\"_ c _ _\"`."
   ]
  },
  {
   "cell_type": "code",
   "execution_count": 15,
   "metadata": {},
   "outputs": [
    {
     "name": "stdout",
     "output_type": "stream",
     "text": [
      "_ c _ _\n"
     ]
    }
   ],
   "source": [
    "lst = [[None for _ in range(5)] for _ in range(5)]\n",
    "\n",
    "lst[0][0] = \"h\"\n",
    "lst[2][2] = \"c\"\n",
    "lst[4][4] = \"i\"\n",
    "\n",
    "direction = {\n",
    "    \"up\": (-1, 0),\n",
    "    \"down\": (1, 0),\n",
    "    \"left\": (0, -1),\n",
    "    \"right\": (0, 1)\n",
    "}\n",
    "\n",
    "def get_items_in_dir(lst, row, col, dir):\n",
    "    # your code here\n",
    "    shift_x, shift_y = direction[dir]\n",
    "    x, y = row + shift_x, col + shift_y\n",
    "    result = \"\"\n",
    "    while 0 <= x < len(lst) and 0 <= y < len(lst[0]):\n",
    "        if lst[x][y] is None:\n",
    "            result += \"_ \"\n",
    "        else:\n",
    "            result += lst[x][y] + \" \"\n",
    "        x += shift_x\n",
    "        y += shift_y\n",
    "    return result[:-1]\n",
    "\n",
    "\n",
    "print(get_items_in_dir(lst, 2, 0, \"right\"))"
   ]
  },
  {
   "cell_type": "markdown",
   "metadata": {},
   "source": [
    "#### - Exercise 1.3.3 -\n",
    "\n",
    "Given a position (row, col), return the 8 elements in the 3x3 box surrounding that position (excluding the given element itself) in a string separated by spaces.\n",
    "\n",
    "- If element is `None`, represent it as an underscore `\"_\"` in the final result, such as `\"_\"`.\n",
    "- If element is not `None`, represent it as the value stored in the list, such as `\"h\"`.\n",
    "\n",
    "`get_box(lst, 1, 1)` should return a `string` in the form of `\"h _ _ _ _ _ _ c\"`."
   ]
  },
  {
   "cell_type": "code",
   "execution_count": 6,
   "metadata": {},
   "outputs": [
    {
     "name": "stdout",
     "output_type": "stream",
     "text": [
      "h _ _ _ _ _ _ c\n"
     ]
    }
   ],
   "source": [
    "lst = [[None for _ in range(5)] for _ in range(5)]\n",
    "\n",
    "lst[0][0] = \"h\"\n",
    "lst[2][2] = \"c\"\n",
    "lst[4][4] = \"i\"\n",
    "\n",
    "def get_box(lst, row, col):\n",
    "    # your code here\n",
    "    rows = len(lst)\n",
    "    cols = len(lst[0])\n",
    "    elements = []\n",
    "\n",
    "    for r in range(row-1, row+2):\n",
    "        for c in range(col-1, col+2):\n",
    "            if (r == row and c == col) or r < 0 or r >= rows or c < 0 or c >= cols:\n",
    "                continue\n",
    "            elements.append('_' if lst[r][c] is None else str(lst[r][c]))\n",
    "\n",
    "    return ' '.join(elements)\n",
    "\n",
    "print(get_box(lst, 1, 1))"
   ]
  }
 ],
 "metadata": {
  "kernelspec": {
   "display_name": "Python 3 (ipykernel)",
   "language": "python",
   "name": "python3"
  },
  "language_info": {
   "codemirror_mode": {
    "name": "ipython",
    "version": 3
   },
   "file_extension": ".py",
   "mimetype": "text/x-python",
   "name": "python",
   "nbconvert_exporter": "python",
   "pygments_lexer": "ipython3",
   "version": "3.12.1"
  }
 },
 "nbformat": 4,
 "nbformat_minor": 4
}
