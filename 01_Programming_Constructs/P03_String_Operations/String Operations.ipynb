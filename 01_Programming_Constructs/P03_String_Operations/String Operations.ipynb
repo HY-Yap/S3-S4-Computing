{
 "cells": [
  {
   "cell_type": "markdown",
   "metadata": {},
   "source": [
    "# P03a - String Operations\n",
    "\n",
    "## Syllabus\n",
    "2.2.1\tUnderstand the different data types: integer, real, char, string and Boolean; and initialise arrays (1-dimensional and 2-dimensional).  \n",
    "2.2.2\tUse common library functions for input/output, strings and mathematical operations.  \n",
    "2.2.3\tApply the fundamental programming constructs to control the flow of program execution:  \n",
    "- Sequence\n",
    "- Selection\n",
    "- Iteration\n",
    "\n",
    "## Understanding Goals\n",
    "\n",
    "At the end of this chapter, you should be able to:\n",
    "- Create new strings\n",
    "- Access individual characters using the index\n",
    "- Use the keyword `in` to check if a character or a substring is inside another string\n",
    "- Access substrings by using the string slicing operations\n",
    "- Use the string operators such as `+` and `*`\n",
    "- Understand that strings are immutable\n",
    "- Understand string related functions such as `len()`, `ord()`, `chr()`\n",
    "- Understand basic string methods such as `index()`, `find()`, `isdigit()`, `isalpha()`, `isupper()`, `islower()`, `lower()`, `upper()`, `replace()`\n",
    "- Understand the basic usage of function such as `print()`"
   ]
  },
  {
   "cell_type": "markdown",
   "metadata": {},
   "source": [
    "## Section 1 - String Basics\n",
    "\n",
    "### _1.1 Creating a String_\n",
    "\n",
    "To create a string in Python you need to use either single quotes or double quotes.\n",
    "\n",
    "#### ~ Example ~"
   ]
  },
  {
   "cell_type": "code",
   "execution_count": null,
   "metadata": {},
   "outputs": [],
   "source": [
    "# We can use double quote\n",
    "s1 = \"String built with double quotes\""
   ]
  },
  {
   "cell_type": "code",
   "execution_count": null,
   "metadata": {},
   "outputs": [],
   "source": [
    "# We can also use single quote\n",
    "s2 = 'String can also be built with single quotes'"
   ]
  },
  {
   "cell_type": "markdown",
   "metadata": {},
   "source": [
    "We can use combinations of double and single quotes, or use the escape character `\\`."
   ]
  },
  {
   "cell_type": "code",
   "execution_count": null,
   "metadata": {},
   "outputs": [],
   "source": [
    "s3 = \"I'm able to use the single quotes inside a double-quoted string!\""
   ]
  },
  {
   "cell_type": "code",
   "execution_count": 1,
   "metadata": {
    "scrolled": true
   },
   "outputs": [
    {
     "name": "stdout",
     "output_type": "stream",
     "text": [
      "I can also use the escape character to include a double quote sign like this: \".\n"
     ]
    }
   ],
   "source": [
    "print(\"I can also use the escape character to include a double quote sign like this: \\\".\")"
   ]
  },
  {
   "cell_type": "markdown",
   "metadata": {},
   "source": [
    "We can also create a long string using triple quotes."
   ]
  },
  {
   "cell_type": "code",
   "execution_count": 9,
   "metadata": {},
   "outputs": [
    {
     "name": "stdout",
     "output_type": "stream",
     "text": [
      "\n",
      "This is a long string.\n",
      "\n",
      "It can be used to store long data or some times can be used for comment purposes.\n",
      "\n",
      "'\\nThis is a long string.\\n\\nIt can be used to store long data or some times can be used for comment purposes.\\n'\n"
     ]
    }
   ],
   "source": [
    "long_str = \"\"\"\n",
    "This is a long string.\n",
    "\n",
    "It can be used to store long data or some times can be used for comment purposes.\n",
    "\"\"\"\n",
    "print(long_str)\n",
    "\n",
    "print(repr(long_str)) # prints raw form of long string"
   ]
  },
  {
   "cell_type": "code",
   "execution_count": 3,
   "metadata": {},
   "outputs": [
    {
     "name": "stdout",
     "output_type": "stream",
     "text": [
      "\n",
      "hello 'world', \"how are u\"\n",
      "\n"
     ]
    }
   ],
   "source": [
    "print(\"\"\"\n",
    "hello 'world', \\\"how are u\\\"\n",
    "\"\"\") # do take extra care when you are adding the double quotes as it might be overwritten"
   ]
  },
  {
   "cell_type": "markdown",
   "metadata": {},
   "source": [
    "There are special characters related to simple formats of strings. The most common ones used are:\n",
    "- `\"\\n\"`: new line character\n",
    "- `\"\\t\"`: tab character\n",
    "- `\"\\r\"`: carriage return"
   ]
  },
  {
   "cell_type": "code",
   "execution_count": 4,
   "metadata": {},
   "outputs": [
    {
     "name": "stdout",
     "output_type": "stream",
     "text": [
      "test tab\tand test new line\n",
      "end test\n"
     ]
    }
   ],
   "source": [
    "print(\"test tab\\tand test new line\\nend test\")"
   ]
  },
  {
   "cell_type": "code",
   "execution_count": 5,
   "metadata": {},
   "outputs": [
    {
     "name": "stdout",
     "output_type": "stream",
     "text": [
      "and test new line\n",
      "end test\n"
     ]
    }
   ],
   "source": [
    "print(\"test tab\\rand test new line\\nend test\")"
   ]
  },
  {
   "cell_type": "markdown",
   "metadata": {},
   "source": [
    "### _1.2 String Indexing_\n",
    "\n",
    "A string is a sequence, which means Python can use indexes to access parts of the sequence.  \n",
    "**Python uses 0-indexing, so please be very careful that the first element has an index of \"0\"**.\n",
    "\n",
    "<table class=\"table table-bordered\">\n",
    "    <tr>\n",
    "        <th style=\"width:10%; text-align:left\">Index</th>\n",
    "        <th style=\"width:5%; text-align:center\">0</th>\n",
    "        <th style=\"width:5%; text-align:center\">1</th>\n",
    "        <th style=\"width:5%; text-align:center\">2</th>\n",
    "        <th style=\"width:5%; text-align:center\">3</th>\n",
    "        <th style=\"width:5%; text-align:center\">4</th>\n",
    "        <th style=\"width:5%; text-align:center\">5</th>\n",
    "        <th style=\"width:5%; text-align:center\">6</th>\n",
    "        <th style=\"width:5%; text-align:center\">7</th>\n",
    "        <th style=\"width:5%; text-align:center\">8</th>\n",
    "        <th style=\"width:5%; text-align:center\">9</th>\n",
    "        <th style=\"width:5%; text-align:center\">10</th>\n",
    "        <th style=\"width:5%; text-align:center\">11</th>\n",
    "    </tr>\n",
    "    <tr>\n",
    "        <th style=\"text-align:left\">Character</th>\n",
    "        <td style=\"text-align:center\">H</td>\n",
    "        <td style=\"text-align:center\">e</td>\n",
    "        <td style=\"text-align:center\">l</td>\n",
    "        <td style=\"text-align:center\">l</td>\n",
    "        <td style=\"text-align:center\">o</td>\n",
    "        <td style=\"text-align:center\"> </td>\n",
    "        <td style=\"text-align:center\">W</td>\n",
    "        <td style=\"text-align:center\">o</td>\n",
    "        <td style=\"text-align:center\">r</td>\n",
    "        <td style=\"text-align:center\">l</td>\n",
    "        <td style=\"text-align:center\">d</td>\n",
    "        <td style=\"text-align:center\">!</td>\n",
    "    </tr>\n",
    "</table>\n",
    "\n",
    "To access an individual character inside a string, we can put its index the square brackets, such as `s[0]`.\n",
    "\n",
    "#### ~ Example ~"
   ]
  },
  {
   "cell_type": "code",
   "execution_count": 6,
   "metadata": {},
   "outputs": [
    {
     "name": "stdout",
     "output_type": "stream",
     "text": [
      "Hello World!\n",
      "H l !\n"
     ]
    }
   ],
   "source": [
    "s = \"Hello World!\"\n",
    "print(s)\n",
    "print(s[0], s[2], s[11])"
   ]
  },
  {
   "cell_type": "markdown",
   "metadata": {},
   "source": [
    "### _1.3 Using the `in` Keyword_\n",
    "\n",
    "We can check if a character or a string is inside another string by using the `in` keyword. It returns a Boolean type (True or False)\n",
    "\n",
    "#### ~ Example ~"
   ]
  },
  {
   "cell_type": "code",
   "execution_count": 7,
   "metadata": {},
   "outputs": [
    {
     "name": "stdout",
     "output_type": "stream",
     "text": [
      "True\n",
      "False\n",
      "True\n"
     ]
    }
   ],
   "source": [
    "s = \"Hello World!\"\n",
    "print('e' in s)\n",
    "print('x' in s)\n",
    "print(\"Wor\" in s)"
   ]
  },
  {
   "cell_type": "markdown",
   "metadata": {},
   "source": [
    "### _1.4 Using the `len()` function_\n",
    "\n",
    "We can use the built-in function `len()` to find out the length of a string.\n",
    "\n",
    "#### ~ Example ~"
   ]
  },
  {
   "cell_type": "code",
   "execution_count": 8,
   "metadata": {},
   "outputs": [
    {
     "name": "stdout",
     "output_type": "stream",
     "text": [
      "12\n"
     ]
    }
   ],
   "source": [
    "s = \"Hello World!\"\n",
    "print(len(s))"
   ]
  },
  {
   "cell_type": "markdown",
   "metadata": {},
   "source": [
    "## Section 2 - String Slicing Operations\n",
    "\n",
    "### _2.1 Using `[start:stop]`_\n",
    "\n",
    "We can use `[start:stop]` to perform string slicing operations:\n",
    "- `start` denotes the beginning index of the substring. The substring will **include** the character at the `start` index, or we can say it is **inclusive**.\n",
    "- `stop` denotes the ending index of the substring. The substring will **exclude** the character at the `stop` index, or we can say it is **exclusive**.\n",
    "\n",
    "#### ~ Example ~"
   ]
  },
  {
   "cell_type": "code",
   "execution_count": 10,
   "metadata": {},
   "outputs": [
    {
     "name": "stdout",
     "output_type": "stream",
     "text": [
      "Hel\n",
      "o\n"
     ]
    }
   ],
   "source": [
    "s = \"Hello World!\"\n",
    "print(s[0:3])\n",
    "print(s[4:5])"
   ]
  },
  {
   "cell_type": "markdown",
   "metadata": {},
   "source": [
    "If a value is missing, it will take the default beginning index as 0 or ending index as the length of the string.\n",
    "\n",
    "For example:"
   ]
  },
  {
   "cell_type": "code",
   "execution_count": 11,
   "metadata": {},
   "outputs": [
    {
     "name": "stdout",
     "output_type": "stream",
     "text": [
      "Hel\n",
      "orld!\n",
      "Hello World!\n"
     ]
    }
   ],
   "source": [
    "s = \"Hello World!\"\n",
    "print(s[:3])\n",
    "print(s[7:])\n",
    "print(s[:])"
   ]
  },
  {
   "cell_type": "markdown",
   "metadata": {},
   "source": [
    "### _2.2 Negative Index_\n",
    "\n",
    "Negative index can be used in python too.\n",
    "\n",
    "<table class=\"table table-bordered\">\n",
    "    <tr>\n",
    "        <th style=\"width:10%; text-align:left\">Index</th>\n",
    "        <th style=\"width:5%; text-align:center\">0</th>\n",
    "        <th style=\"width:5%; text-align:center\">1</th>\n",
    "        <th style=\"width:5%; text-align:center\">2</th>\n",
    "        <th style=\"width:5%; text-align:center\">3</th>\n",
    "        <th style=\"width:5%; text-align:center\">4</th>\n",
    "        <th style=\"width:5%; text-align:center\">5</th>\n",
    "        <th style=\"width:5%; text-align:center\">6</th>\n",
    "        <th style=\"width:5%; text-align:center\">7</th>\n",
    "        <th style=\"width:5%; text-align:center\">8</th>\n",
    "        <th style=\"width:5%; text-align:center\">9</th>\n",
    "        <th style=\"width:5%; text-align:center\">10</th>\n",
    "        <th style=\"width:5%; text-align:center\">11</th>\n",
    "    </tr>\n",
    "    <tr>\n",
    "        <th style=\"text-align:left\">-ve Index</th>\n",
    "        <td style=\"text-align:center\">-12</td>\n",
    "        <td style=\"text-align:center\">-11</td>\n",
    "        <td style=\"text-align:center\">-10</td>\n",
    "        <td style=\"text-align:center\">-9</td>\n",
    "        <td style=\"text-align:center\">-8</td>\n",
    "        <td style=\"text-align:center\">-7</td>\n",
    "        <td style=\"text-align:center\">-6</td>\n",
    "        <td style=\"text-align:center\">-5</td>\n",
    "        <td style=\"text-align:center\">-4</td>\n",
    "        <td style=\"text-align:center\">-3</td>\n",
    "        <td style=\"text-align:center\">-2</td>\n",
    "        <td style=\"text-align:center\">-1</td>\n",
    "    </tr>\n",
    "    <tr>\n",
    "        <th style=\"text-align:left\">Character</th>\n",
    "        <td style=\"text-align:center\">H</td>\n",
    "        <td style=\"text-align:center\">e</td>\n",
    "        <td style=\"text-align:center\">l</td>\n",
    "        <td style=\"text-align:center\">l</td>\n",
    "        <td style=\"text-align:center\">o</td>\n",
    "        <td style=\"text-align:center\"> </td>\n",
    "        <td style=\"text-align:center\">W</td>\n",
    "        <td style=\"text-align:center\">o</td>\n",
    "        <td style=\"text-align:center\">r</td>\n",
    "        <td style=\"text-align:center\">l</td>\n",
    "        <td style=\"text-align:center\">d</td>\n",
    "        <td style=\"text-align:center\">!</td>\n",
    "    </tr>\n",
    "</table>\n",
    "\n",
    "For example:"
   ]
  },
  {
   "cell_type": "code",
   "execution_count": 12,
   "metadata": {},
   "outputs": [
    {
     "name": "stdout",
     "output_type": "stream",
     "text": [
      "!\n",
      "H\n",
      "lo W\n"
     ]
    }
   ],
   "source": [
    "s = \"Hello World!\"\n",
    "print(s[-1])\n",
    "print(s[-12])\n",
    "print(s[-9:-5])"
   ]
  },
  {
   "cell_type": "markdown",
   "metadata": {},
   "source": [
    "### _2.3 Using `[start:stop:step]`_\n",
    "\n",
    "By using `[start:stop:step]`, we can also perform string slicing operations to grab specific elements with the `step` value (the default is 1).\n",
    "\n",
    "For example:"
   ]
  },
  {
   "cell_type": "code",
   "execution_count": 13,
   "metadata": {},
   "outputs": [
    {
     "name": "stdout",
     "output_type": "stream",
     "text": [
      "HloWrd\n"
     ]
    }
   ],
   "source": [
    "# Grab everything, but go in step sizes of 2\n",
    "s = \"Hello World!\"\n",
    "print(s[::2])"
   ]
  },
  {
   "cell_type": "markdown",
   "metadata": {},
   "source": [
    "#### - Exercise -\n",
    "\n",
    "Given `w = \"watermelons\"`.\n",
    "\n",
    "Use string slicing operations on `w`:\n",
    "\n",
    "a) assign `\"wtreos\"` to `w1`  \n",
    "b) assign `\"treo\"` to `w2`  \n",
    "c) assign `\"ee\"` to `w3`  \n",
    "d) assign `\"omt\"` to `w4`"
   ]
  },
  {
   "cell_type": "code",
   "execution_count": 32,
   "metadata": {},
   "outputs": [
    {
     "name": "stdout",
     "output_type": "stream",
     "text": [
      "wtreos treo ee omt\n"
     ]
    }
   ],
   "source": [
    "w = \"watermelons\"\n",
    "\n",
    "# your code for Exercise\n",
    "w1 = w[::2]\n",
    "w2 = w[2:10:2]\n",
    "w3 = w[3:7:3]\n",
    "w4 = w[-3:-10:-3]\n",
    "\n",
    "print(w1, w2, w3, w4)"
   ]
  },
  {
   "cell_type": "markdown",
   "metadata": {},
   "source": [
    "### _2.4 Reversing a String_"
   ]
  },
  {
   "cell_type": "code",
   "execution_count": 25,
   "metadata": {},
   "outputs": [
    {
     "name": "stdout",
     "output_type": "stream",
     "text": [
      "!dlroW olleH\n"
     ]
    }
   ],
   "source": [
    "# We can use step value of -1 to reverse a string\n",
    "s = \"Hello World!\"\n",
    "print(s[::-1])"
   ]
  },
  {
   "cell_type": "markdown",
   "metadata": {},
   "source": [
    "### _2.5 String Operators_\n",
    "\n",
    "We can combine strings together by using the `+` operator.\n",
    "\n",
    "For example:"
   ]
  },
  {
   "cell_type": "code",
   "execution_count": 31,
   "metadata": {},
   "outputs": [
    {
     "name": "stdout",
     "output_type": "stream",
     "text": [
      "This is a long string!\n"
     ]
    }
   ],
   "source": [
    "long_str = \"This\" + \" is \" + \"a long string!\"\n",
    "print(long_str)"
   ]
  },
  {
   "cell_type": "markdown",
   "metadata": {},
   "source": [
    "However, we cannot remove parts of the string using the `-` operator.\n",
    "\n",
    "For example:"
   ]
  },
  {
   "cell_type": "code",
   "execution_count": 33,
   "metadata": {},
   "outputs": [
    {
     "ename": "TypeError",
     "evalue": "unsupported operand type(s) for -: 'str' and 'str'",
     "output_type": "error",
     "traceback": [
      "\u001b[0;31m---------------------------------------------------------------------------\u001b[0m",
      "\u001b[0;31mTypeError\u001b[0m                                 Traceback (most recent call last)",
      "Cell \u001b[0;32mIn[33], line 2\u001b[0m\n\u001b[1;32m      1\u001b[0m \u001b[38;5;66;03m# run the code and see what will happen\u001b[39;00m\n\u001b[0;32m----> 2\u001b[0m str_ \u001b[38;5;241m=\u001b[39m \u001b[38;5;124;43m\"\u001b[39;49m\u001b[38;5;124;43mthis is a long string\u001b[39;49m\u001b[38;5;124;43m\"\u001b[39;49m\u001b[43m \u001b[49m\u001b[38;5;241;43m-\u001b[39;49m\u001b[43m \u001b[49m\u001b[38;5;124;43m\"\u001b[39;49m\u001b[38;5;124;43mg\u001b[39;49m\u001b[38;5;124;43m\"\u001b[39;49m\n\u001b[1;32m      3\u001b[0m \u001b[38;5;28mprint\u001b[39m(str_)\n",
      "\u001b[0;31mTypeError\u001b[0m: unsupported operand type(s) for -: 'str' and 'str'"
     ]
    }
   ],
   "source": [
    "# run the code and see what will happen\n",
    "str_ = \"this is a long string\" - \"g\"\n",
    "print(str_)"
   ]
  },
  {
   "cell_type": "markdown",
   "metadata": {},
   "source": [
    "We can use `*` operator to create repitition.\n",
    "\n",
    "For example:"
   ]
  },
  {
   "cell_type": "code",
   "execution_count": 34,
   "metadata": {},
   "outputs": [
    {
     "name": "stdout",
     "output_type": "stream",
     "text": [
      "Hello World!Hello World!Hello World!\n"
     ]
    }
   ],
   "source": [
    "s = \"Hello World!\"\n",
    "long_str = s * 3\n",
    "print(long_str)"
   ]
  },
  {
   "cell_type": "markdown",
   "metadata": {},
   "source": [
    "#### - Exercise -\n",
    "\n",
    "Given `s = \"jackfruit\"`\n",
    "\n",
    "Use string slicing operations and string operators on `s`:  \n",
    "\n",
    "a) assign `\"ackackack\"` to `s1`  \n",
    "b) assign `\"rfkcarfkcarfkcarfkca\"` to `s2`  \n",
    "c) assign `\"tiurfkca\"` to `s3`  \n",
    "d) assign `\"tiurfjack\"` to `s4`  \n",
    "e) assign `\"tufcjakri\"` to `s5`"
   ]
  },
  {
   "cell_type": "code",
   "execution_count": 44,
   "metadata": {},
   "outputs": [
    {
     "name": "stdout",
     "output_type": "stream",
     "text": [
      "ackackack rfkcarfkcarfkcarfkca tiurfkca tiurfjack tufcjakri\n"
     ]
    }
   ],
   "source": [
    "s = \"jackfruit\"\n",
    "\n",
    "# your code for Exercise\n",
    "s1 = s[1:4]*3\n",
    "s2 = s[-4:-9:-1]*4\n",
    "s3 = s[-1:-9:-1]\n",
    "s4 = s[-1:-6:-1] + s[:4]\n",
    "s5 = s[-1::-2] + s[1:9:2]\n",
    "\n",
    "print(s1, s2, s3, s4, s5)"
   ]
  },
  {
   "cell_type": "markdown",
   "metadata": {},
   "source": [
    "### _2.6 Strings are Immutable_\n",
    "\n",
    "Once a string is created, it is impossible to change its content.\n",
    "\n",
    "#### ~ Example ~"
   ]
  },
  {
   "cell_type": "code",
   "execution_count": 47,
   "metadata": {},
   "outputs": [
    {
     "ename": "TypeError",
     "evalue": "'str' object does not support item assignment",
     "output_type": "error",
     "traceback": [
      "\u001b[0;31m---------------------------------------------------------------------------\u001b[0m",
      "\u001b[0;31mTypeError\u001b[0m                                 Traceback (most recent call last)",
      "Cell \u001b[0;32mIn[47], line 3\u001b[0m\n\u001b[1;32m      1\u001b[0m s \u001b[38;5;241m=\u001b[39m \u001b[38;5;124m\"\u001b[39m\u001b[38;5;124mHello World!\u001b[39m\u001b[38;5;124m\"\u001b[39m\n\u001b[1;32m      2\u001b[0m \u001b[38;5;66;03m# Uncomment the following line to see what would happen when we try to change one character inside the string.\u001b[39;00m\n\u001b[0;32m----> 3\u001b[0m \u001b[43ms\u001b[49m\u001b[43m[\u001b[49m\u001b[38;5;241;43m0\u001b[39;49m\u001b[43m]\u001b[49m \u001b[38;5;241m=\u001b[39m \u001b[38;5;124m\"\u001b[39m\u001b[38;5;124mh\u001b[39m\u001b[38;5;124m\"\u001b[39m\n",
      "\u001b[0;31mTypeError\u001b[0m: 'str' object does not support item assignment"
     ]
    }
   ],
   "source": [
    "s = \"Hello World!\"\n",
    "# Uncomment the following line to see what would happen when we try to change one character inside the string.\n",
    "s[0] = \"h\""
   ]
  },
  {
   "cell_type": "markdown",
   "metadata": {},
   "source": [
    "However, we can use string slicing and concatenation to create new strings.  \n",
    "**Take note that since strings are immutable, `new_s` is totally a new string object and has no relationship with the original string `s`.**\n",
    "\n",
    "#### ~ Example ~"
   ]
  },
  {
   "cell_type": "code",
   "execution_count": 51,
   "metadata": {},
   "outputs": [
    {
     "name": "stdout",
     "output_type": "stream",
     "text": [
      "hello world!\n",
      "hello world!\n"
     ]
    }
   ],
   "source": [
    "# If we want to change the captital letters \"H\" and \"W\" to lowercase, we use the following approach:\n",
    "s = \"Hello World!\"\n",
    "new_s = \"h\" + s[1:6] + \"w\" + s[7:]\n",
    "print(new_s)\n",
    "\n",
    "# or just use lower()\n",
    "print(s.lower())"
   ]
  },
  {
   "cell_type": "markdown",
   "metadata": {},
   "source": [
    "## Section 3 - Basic Built-in Methods/Functions\n",
    "\n",
    "Objects in Python usually have built-in methods. These methods are functions inside the object that can perform actions or commands on the object itself.  \n",
    "**we will learn about functions/methods in more depth in later chapters**\n",
    "\n",
    "We call methods with a period and then the method name, where parameters are arguments we can pass into the method. For example:  \n",
    "`object.method(parameters)`"
   ]
  },
  {
   "cell_type": "markdown",
   "metadata": {},
   "source": [
    "### _3.1 Using the `index()` method_\n",
    "\n",
    "We can use the built-in method `index()` to find out the starting index of the first occurrence of a substring.\n",
    "\n",
    "An `ValueError` will be raised if the substring cannot be found.\n",
    "\n",
    "#### ~ Example ~"
   ]
  },
  {
   "cell_type": "code",
   "execution_count": 7,
   "metadata": {},
   "outputs": [
    {
     "name": "stdout",
     "output_type": "stream",
     "text": [
      "2\n",
      "5\n",
      "No 'x' here\n",
      "0\n"
     ]
    }
   ],
   "source": [
    "s = \"Hello World\"\n",
    "print(s.index(\"l\"))\n",
    "print(s.index(\" \"))\n",
    "# print(s.index(\"x\"))  # uncomment to see the error\n",
    "\n",
    "# to check whether if substring exists\n",
    "if \"x\" in s:\n",
    "    print(s.index(\"x\"))\n",
    "else:\n",
    "    print(\"No 'x' here\")\n",
    "\n",
    "def find():\n",
    "    substr = input(\"What would you like to find?\")\n",
    "    if substr in s:\n",
    "        print(s.index(substr))\n",
    "    else:\n",
    "        print(f\"No '{substr} here.\")\n",
    "\n",
    "find()"
   ]
  },
  {
   "cell_type": "markdown",
   "metadata": {},
   "source": [
    "### _3.2 Using the `find()` method_\n",
    "\n",
    "We can also use the built-in method `find()` to find out the starting index of the first occurrence of a substring.\n",
    "\n",
    "If a subtring is not found, the value `-1` will be returned instead of raising a `ValueError`.\n",
    "\n",
    "#### ~ Example ~"
   ]
  },
  {
   "cell_type": "code",
   "execution_count": 55,
   "metadata": {},
   "outputs": [
    {
     "name": "stdout",
     "output_type": "stream",
     "text": [
      "-1\n",
      "-1\n"
     ]
    }
   ],
   "source": [
    "s = \"Hello World\"\n",
    "print(s.find(\"haha\"))\n",
    "print(s.find(\"x\"))"
   ]
  },
  {
   "cell_type": "markdown",
   "metadata": {},
   "source": [
    "However, `index()` method can also be used in other sequence objects such as `list` or `tuple`, whereas `find()` method is only applicable for `string` objects."
   ]
  },
  {
   "cell_type": "markdown",
   "metadata": {},
   "source": [
    "### _3.3 Using the `isdigit()` and `isalpha()` methods_\n",
    "\n",
    "We can use the built-in method `isdigit()` and `isalpha()` to determine if a string value contains digits or alphabets.\n",
    "\n",
    "#### ~ Example ~"
   ]
  },
  {
   "cell_type": "code",
   "execution_count": 58,
   "metadata": {},
   "outputs": [
    {
     "name": "stdout",
     "output_type": "stream",
     "text": [
      "True\n",
      "True\n",
      "True\n",
      "True\n",
      "False\n",
      "False\n"
     ]
    }
   ],
   "source": [
    "print(\"9\".isdigit())\n",
    "print(\"z\".isalpha())\n",
    "print(\"55505\".isdigit())\n",
    "print(\"aa\".isalpha())\n",
    "print(\"a_a\".isdigit())\n",
    "print(\"*_*\".isalpha())"
   ]
  },
  {
   "cell_type": "markdown",
   "metadata": {},
   "source": [
    "### _3.4 Using the `ord()` and `chr()` functions_\n",
    "\n",
    "We can use the built-in function `ord()` and `chr()` to convert from character to its ASCII values and from ASCII values back to character.  \n",
    "**Take note that the string parameter used in `ord()` much have a length of 1; and integer parameter in `chr()` must be in range 0 to 255 inclusive.**\n",
    "\n",
    "#### ~ Example ~"
   ]
  },
  {
   "cell_type": "code",
   "execution_count": 72,
   "metadata": {},
   "outputs": [
    {
     "name": "stdout",
     "output_type": "stream",
     "text": [
      "65\n",
      "A\n"
     ]
    }
   ],
   "source": [
    "print(ord(\"A\"))\n",
    "print(chr(65))"
   ]
  },
  {
   "cell_type": "markdown",
   "metadata": {},
   "source": [
    "#### - Exercise -\n",
    "\n",
    "Given `s = \"I love hCI\"`.\n",
    "\n",
    "Create a new string `new_s` with `\"h\"` being capitalised."
   ]
  },
  {
   "cell_type": "code",
   "execution_count": 81,
   "metadata": {},
   "outputs": [
    {
     "name": "stdout",
     "output_type": "stream",
     "text": [
      "I love HCI!\n",
      "I love HCI!\n"
     ]
    }
   ],
   "source": [
    "s = \"I love hCI!\"\n",
    "\n",
    "# your code for Exercise\n",
    "print(s[:7] + \"H\" + s[8:])\n",
    "# print(s.replace(\"h\", \"H\")) # this also works"
   ]
  },
  {
   "cell_type": "markdown",
   "metadata": {},
   "source": [
    "### _3.5 Using the `islower()` and `isupper()` functions_\n",
    "\n",
    "We can use the built-in function `islower()` and `isupper()` to check if all the characters in the string are lowercase or uppercase. It returns Boolean.\n",
    "\n",
    "**Take note that the fucntions does not take in any parameters.**\n",
    "\n",
    "Some exceptions are:\n",
    "\n",
    "a) Returns `True` for whitespaces, but when the string contains only whitespaces, it returns `False`\n",
    "\n",
    "b) Returns `True` for Digits and Symbols, but when the string contains only digits and symbols, it returns `False`\n",
    "\n",
    "For Example:"
   ]
  },
  {
   "cell_type": "code",
   "execution_count": 78,
   "metadata": {
    "scrolled": false
   },
   "outputs": [
    {
     "name": "stdout",
     "output_type": "stream",
     "text": [
      "True\n",
      "False\n",
      "True\n",
      "False\n"
     ]
    }
   ],
   "source": [
    "print(\"i love computing!\".islower())\n",
    "print(\"ILoveCOMP\".islower())\n",
    "print(\"I LOVE COMPUTING!\".isupper())\n",
    "print(\"ILoveComp\".isupper())"
   ]
  },
  {
   "cell_type": "markdown",
   "metadata": {},
   "source": [
    "### _3.6 Using the `upper()` and `lower()` functions_\n",
    "We can use the built-in functions `upper()` and `lower()` to convert the given string into lowercase and returns the string.\n",
    "\n",
    "**Take note that the functions does not take in any parameters.**\n",
    "**Digits and symbols are returned as they are**\n",
    "\n",
    "For Example:"
   ]
  },
  {
   "cell_type": "code",
   "execution_count": 79,
   "metadata": {},
   "outputs": [
    {
     "name": "stdout",
     "output_type": "stream",
     "text": [
      "I CAN CHANGE THIS INTO A FULLY UPPERCASE SENTENCE!\n",
      "i can also make this into a fully lowercase sentence!\n"
     ]
    }
   ],
   "source": [
    "print(\"i can change this into a fully UPPERCASE sentence!\".upper())\n",
    "print(\"I CAN ALSO MAKE THIS INTO A FULLY lowercase SENTENCE!\".lower())"
   ]
  },
  {
   "cell_type": "markdown",
   "metadata": {},
   "source": [
    "### _3.7 Using the `replace()` function_\n",
    "We can also make use of this built-in function `replace()` to replace a phrase with another phrase.\n",
    "\n",
    "`replace(old_phrase, new_phrase, number_of_occurences)`\n",
    "\n",
    "\n",
    "**Number of occurences is optional. It specifies the number of occurance of the old value you would like to replace. By default all occurences will be replaced**\n",
    "\n",
    "For Example:"
   ]
  },
  {
   "cell_type": "code",
   "execution_count": 80,
   "metadata": {
    "scrolled": true
   },
   "outputs": [
    {
     "name": "stdout",
     "output_type": "stream",
     "text": [
      "I like Durians.\n",
      "Alvin like bananas.\n"
     ]
    }
   ],
   "source": [
    "print(\"I like Bananas.\".replace(\"Bananas\", \"Durians\"))\n",
    "print(\"I like bananas.\".replace(\"I\", \"Alvin\"))"
   ]
  },
  {
   "cell_type": "markdown",
   "metadata": {},
   "source": [
    "#### ~ Exercise ~\n",
    "Replace all occurences of he with she using `replace()`"
   ]
  },
  {
   "cell_type": "code",
   "execution_count": 10,
   "metadata": {},
   "outputs": [
    {
     "name": "stdout",
     "output_type": "stream",
     "text": [
      "She told herself that she will not do it again. She is very determined that she will not do it again.\n"
     ]
    }
   ],
   "source": [
    "txt = \"He told himself that he will not do it again. He is very determined that he will not do it again.\"\n",
    "\n",
    "# your code below\n",
    "result = txt.replace(\"he\", \"she\").replace(\"He\", \"She\").replace(\"himself\", \"herself\")\n",
    "\n",
    "print(result)\n"
   ]
  },
  {
   "cell_type": "markdown",
   "metadata": {},
   "source": [
    "### 3.8 `print()` Function\n",
    "\n",
    "The `print()` function is able to print the content inside the parentheses to the screen or output device. The function contains an argument which allows how the print out is to be presented.\n",
    "\n",
    "Notably `sep` and `end` are useful arguments to specify the seperators and endline characters.\n",
    "\n",
    "Default value is `sep = ' '` and `end = '\\n'` if left unspecified."
   ]
  },
  {
   "cell_type": "code",
   "execution_count": 99,
   "metadata": {},
   "outputs": [
    {
     "name": "stdout",
     "output_type": "stream",
     "text": [
      "Default seperator:\n",
      "1 2 3\n",
      "Seperator changed to '->'\n",
      "1->2->3\n",
      "Seperator changed to '\\n'\n",
      "1\n",
      "2\n",
      "3\n",
      "Seperator changed to '\\r'\n",
      "3\n"
     ]
    }
   ],
   "source": [
    "a = 1\n",
    "b = 2\n",
    "c = 3\n",
    "print(\"Default seperator:\")\n",
    "print(a,b,c)\n",
    "print(\"Seperator changed to '->'\")\n",
    "print(a,b,c, sep='->')\n",
    "print(\"Seperator changed to '\\\\n'\")  # \\ is an escape character, to print out \\, we need to use \\\\\n",
    "print(a,b,c, sep=\"\\n\")\n",
    "print(\"Seperator changed to '\\\\r'\")\n",
    "print(a,b,c, sep=\"\\r\")"
   ]
  },
  {
   "cell_type": "code",
   "execution_count": 102,
   "metadata": {},
   "outputs": [
    {
     "name": "stdout",
     "output_type": "stream",
     "text": [
      "Hello!Hithere!\n"
     ]
    }
   ],
   "source": [
    "print(\"Hello\", end=\"!\")\n",
    "print(\"Hi\", end=\"\")\n",
    "print(\"there!\")"
   ]
  },
  {
   "cell_type": "markdown",
   "metadata": {},
   "source": [
    "## Section 4 - References\n",
    "\n",
    "1. [Difference Between Method and Function in Python | Python Method Vs Function](https://data-flair.training/blogs/python-method-and-function/)\n",
    "2. [Difference Between find() and index()](https://stackoverflow.com/questions/22190064/difference-between-find-and-index)\n",
    "3. [Application of islower(), isupper(), upper() and lower()](https://www.geeksforgeeks.org/isupper-islower-lower-upper-python-applications/#:~:text=In%20Python%2C%20islower()%20is,otherwise%2C%20returns%20%E2%80%9CFalse%E2%80%9D.)\n",
    "4. [String replacement](https://www.w3schools.com/python/ref_string_replace.asp)"
   ]
  }
 ],
 "metadata": {
  "kernelspec": {
   "display_name": "Python 3",
   "language": "python",
   "name": "python3"
  },
  "language_info": {
   "codemirror_mode": {
    "name": "ipython",
    "version": 3
   },
   "file_extension": ".py",
   "mimetype": "text/x-python",
   "name": "python",
   "nbconvert_exporter": "python",
   "pygments_lexer": "ipython3",
   "version": "3.12.1"
  }
 },
 "nbformat": 4,
 "nbformat_minor": 1
}
