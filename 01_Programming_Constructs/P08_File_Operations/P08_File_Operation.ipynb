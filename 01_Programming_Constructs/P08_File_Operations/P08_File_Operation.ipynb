{
 "cells": [
  {
   "cell_type": "markdown",
   "metadata": {},
   "source": [
    "# P08 - File Operation\n",
    "\n",
    "## Syllabus\n",
    "2.3.4\tStore data in and retrieve data from serial and sequential text files.\n",
    "\n",
    "## Understanding Goals\n",
    "\n",
    "At the end of this chapter, you should be able to:\n",
    "- Read data from a text file and process the data meaningfully\n",
    "- Write data into a text file\n"
   ]
  },
  {
   "cell_type": "markdown",
   "metadata": {},
   "source": [
    "## Section 1 - Introduction to File Operations\n",
    "\n",
    "As we have learnt many useful algorithms and data types so far, sometimes it is important for us to store our processed data into a file or retrieve them for our usage. In this chapter, we are going to discuss and learn how to manipulate simple text files.\n",
    "\n",
    "### _1.1 Access modes_\n",
    "\n",
    "There are a few access modes available, whenever we are opening a new file, we would need to indicate our purpose by choosing the appropriate access mode. The default option is \"r\".\n",
    "\n",
    "<table class=\"table table-bordered\" style=\"width:90%\">\n",
    "    <!-- Header Row -->\n",
    "    <tr>\n",
    "        <th style=\"width:10%; text-align:left\">Mode</th>\n",
    "        <th style=\"width:90%; text-align:left\">Description</th>\n",
    "    </tr>\n",
    "    <tr>\n",
    "        <td style=\"text-align:left\">r</td>\n",
    "        <td style=\"text-align:left\">Opens a file for reading only. The file pointer is placed at the beginning of the file. This is the default mode.</td>\n",
    "    </tr>\n",
    "    <tr>\n",
    "        <td style=\"text-align:left\">rb</td>\n",
    "        <td style=\"text-align:left\">Opens a file for reading only in binary format. The file pointer is placed at the beginning of the file.</td>\n",
    "    </tr>\n",
    "    <tr>\n",
    "        <td style=\"text-align:left\">r+</td>\n",
    "        <td style=\"text-align:left\">Opens a file for both reading and writing. The file pointer placed at the beginning of the file.</td>\n",
    "    </tr>\n",
    "    <tr>\n",
    "        <td style=\"text-align:left\">w</td>\n",
    "        <td style=\"text-align:left\">Opens a file for writing only. Overwrites the file if the file exists. If the file does not exist, creates a new file for writing.</td>\n",
    "    </tr>\n",
    "    <tr>\n",
    "        <td style=\"text-align:left\">a</td>\n",
    "        <td style=\"text-align:left\">Opens a file for appending. The file pointer is at the end of the file if the file exists. That is, the file is in the append mode. If the file does not exist, it creates a new file for writing.</td>\n",
    "    </tr>\n",
    "</table>"
   ]
  },
  {
   "cell_type": "markdown",
   "metadata": {},
   "source": [
    "### _1.2 Opening a file_\n",
    "\n",
    "There are 2 ways to open a file in python. Let's take a look at the differences.\n",
    "\n",
    "\\* For the following example, you do not need to worry about the `read()` function, we will discuss this in 1.3.\n",
    "\n",
    "#### ~ Example ~"
   ]
  },
  {
   "cell_type": "code",
   "execution_count": 3,
   "metadata": {
    "metadata": {}
   },
   "outputs": [
    {
     "name": "stdout",
     "output_type": "stream",
     "text": [
      "Hello World!\n"
     ]
    }
   ],
   "source": [
    "# 1st method\n",
    "\n",
    "# file_obj = open(\"file_name\" [, access mode])\n",
    "f = open(\"data_files/file_hello_world.txt\", \"r\")\n",
    "\n",
    "# processing statements\n",
    "print(f.read())\n",
    "\n",
    "# method 1 must be accompanied with a file_obj.close() function call to properly close the file.\n",
    "f.close()\n",
    "\n",
    "# print(f.read())"
   ]
  },
  {
   "cell_type": "code",
   "execution_count": 4,
   "metadata": {
    "metadata": {}
   },
   "outputs": [
    {
     "name": "stdout",
     "output_type": "stream",
     "text": [
      "Hello World!\n"
     ]
    }
   ],
   "source": [
    "# 2nd method\n",
    "\n",
    "# with open(\"file_name\" [, access mode]) as file_obj:\n",
    "with open(\"data_files/file_hello_world.txt\", \"r\") as f:\n",
    "    # processing statements\n",
    "    print(f.read())\n",
    "\n",
    "# method 2 does not require the .close() function call, as the `with` statement already take this into consideration\n",
    "    \n",
    "# print(f.read())"
   ]
  },
  {
   "cell_type": "markdown",
   "metadata": {},
   "source": [
    "**With the above observations, we NORMALLY would recommend us in using the `with open()` method as we do not need to worry about closing the file.**\n",
    "\n",
    "**HOWEVER...**\n",
    "goofy ah alevel requirement to manually close file"
   ]
  },
  {
   "cell_type": "markdown",
   "metadata": {},
   "source": [
    "## Section 2 - File Reading Operations\n",
    "\n",
    "\n",
    "### _2.1 Reading contents from a file_\n",
    "\n",
    "Let's take a closer look at how to read contents from a file.\n",
    "\n",
    "We can do so by using the `read()` and the `readline()` functions.\n",
    "\n",
    "#### ~ Example ~"
   ]
  },
  {
   "cell_type": "code",
   "execution_count": 2,
   "metadata": {
    "metadata": {}
   },
   "outputs": [
    {
     "name": "stdout",
     "output_type": "stream",
     "text": [
      "12\n",
      "32\n",
      "134\n",
      "123\n",
      "21\n",
      "12\n",
      "5\n",
      "6\n",
      "21\n",
      "['12', '32', '134', '123', '21', '12', '5', '6', '21']\n",
      "'12\\n32\\n134\\n123\\n21\\n12\\n5\\n6\\n21'\n"
     ]
    }
   ],
   "source": [
    "# `read()` with `split()` function\n",
    "\n",
    "with open(\"data_files/file_01.txt\", \"r\") as f:\n",
    "    # processing statements\n",
    "    content = f.read()\n",
    "    \n",
    "print(content)\n",
    "data = content.split(\"\\n\")\n",
    "print(data)\n",
    "\n",
    "# effectively content is a str containing '\\n' as new line characters\n",
    "# like this '12\\n32\\n134\\n123\\n21\\n12\\n5\\n6\\n21'\n",
    "# uncomment the following line to check. u may search online about `repr` function on your own\n",
    "print(repr(content))"
   ]
  },
  {
   "cell_type": "code",
   "execution_count": 5,
   "metadata": {
    "metadata": {}
   },
   "outputs": [
    {
     "name": "stdout",
     "output_type": "stream",
     "text": [
      "['12\\n', '32\\n', '134\\n', '123\\n', '21\\n', '12\\n', '5\\n', '6\\n', '21']\n"
     ]
    }
   ],
   "source": [
    "# `readline()` with `while` loop\n",
    "\n",
    "with open(\"data_files/file_01.txt\", \"r\") as f:\n",
    "    # processing statements\n",
    "    line = f.readline()\n",
    "    data = []\n",
    "    while line: # while `line` is not empty, we will continue reading\n",
    "        data.append(line)\n",
    "        line = f.readline()\n",
    "        \n",
    "print(data)\n",
    "\n",
    "# `line` now is an empty string, as we reached to the end of the file\n",
    "# uncomment the following line to check\n",
    "# print(repr(line))"
   ]
  },
  {
   "cell_type": "code",
   "execution_count": 15,
   "metadata": {
    "metadata": {}
   },
   "outputs": [
    {
     "name": "stdout",
     "output_type": "stream",
     "text": [
      "['12\\n', '32\\n', '134\\n', '123\\n', '21\\n', '12\\n', '5\\n', '6\\n', '21']\n"
     ]
    }
   ],
   "source": [
    "# `readline()` with `for` loop\n",
    "\n",
    "with open(\"data_files/file_01.txt\", \"r\") as f:\n",
    "    # processing statements\n",
    "    data = []\n",
    "    \n",
    "    for line in f:\n",
    "        data.append(line)\n",
    "        \n",
    "print(data)"
   ]
  },
  {
   "cell_type": "markdown",
   "metadata": {},
   "source": [
    "So which way is better? `read()` or `readline()`?\n",
    "\n",
    "We acknowledge that `read()` will directly give us a single string, and we can just use a simple `split()` function to cast it to a list containing `str` values. However, when the file size become very large, for example, twice as large as a machine memory, then reading the file content directly using `read()` may not be effecient.\n",
    "\n",
    "**Hence, we would recommend us to use the `readline()` with loop way of implementation.**"
   ]
  },
  {
   "cell_type": "markdown",
   "metadata": {},
   "source": [
    "### _2.2 Process contents read from file_\n",
    "\n",
    "Once we read contents from the file into a list of strings, we would now need to process the contents meaningfully.\n",
    "\n",
    "#### ~ Example ~"
   ]
  },
  {
   "cell_type": "code",
   "execution_count": 14,
   "metadata": {
    "metadata": {}
   },
   "outputs": [
    {
     "name": "stdout",
     "output_type": "stream",
     "text": [
      "raw data:  ['12\\n', '32\\n', '134\\n', '123\\n', '21\\n', '12\\n', '5\\n', '6\\n', '21']\n",
      "processed list of strings:  ['12', '32', '134', '123', '21', '12', '5', '6', '21']\n"
     ]
    }
   ],
   "source": [
    "# file_01\n",
    "\n",
    "# read file content into a list of strings\n",
    "with open(\"data_files/file_01.txt\", \"r\") as f:\n",
    "    # processing statements\n",
    "    raw_data = []\n",
    "    \n",
    "    for line in f:\n",
    "        raw_data.append(line)\n",
    "\n",
    "print(\"raw data: \", raw_data)\n",
    "\n",
    "# remove `\\n` in strings\n",
    "processed_strings = []\n",
    "for raw_s in raw_data:\n",
    "    if raw_s[-1] == \"\\n\":\n",
    "        processed_strings.append(raw_s[:-1])\n",
    "    else:\n",
    "        processed_strings.append(raw_s)\n",
    "        \n",
    "print(\"processed list of strings: \", processed_strings)"
   ]
  },
  {
   "cell_type": "code",
   "execution_count": 7,
   "metadata": {
    "metadata": {}
   },
   "outputs": [
    {
     "name": "stdout",
     "output_type": "stream",
     "text": [
      "raw data:  ['\\n', '12\\n', '32\\n', '\\n', '134\\n', '123\\n', '21\\n', '12\\n', '5\\n', '6\\n', '21\\n', '\\n', '\\n', '\\n']\n",
      "processed list of strings:  ['12', '32', '134', '123', '21', '12', '5', '6', '21']\n"
     ]
    }
   ],
   "source": [
    "# file_02\n",
    "\n",
    "# read file content into a list of strings\n",
    "with open(\"data_files/file_02.txt\", \"r\") as f:\n",
    "    # processing statements\n",
    "    raw_data = []\n",
    "    \n",
    "    for line in f:\n",
    "        raw_data.append(line)\n",
    "\n",
    "print(\"raw data: \", raw_data)\n",
    "        \n",
    "# remove `\\n` in strings, and remove empty lines\n",
    "processed_strings = []\n",
    "for raw_s in raw_data:\n",
    "    if raw_s != \"\\n\":\n",
    "        if raw_s[-1] == \"\\n\":\n",
    "            processed_strings.append(raw_s[:-1])\n",
    "        else:\n",
    "            processed_strings.append(raw_s)\n",
    "        \n",
    "print(\"processed list of strings: \", processed_strings)"
   ]
  },
  {
   "cell_type": "code",
   "execution_count": 9,
   "metadata": {
    "metadata": {},
    "scrolled": false
   },
   "outputs": [
    {
     "name": "stdout",
     "output_type": "stream",
     "text": [
      "raw data:  ['Name, Class, Score\\n', 'Xiao Ming, 20J13, 89\\n', 'Xiao Hong, 20J13, 76\\n', 'Xiao Qiang, 20J12, 56\\n', '\\n']\n",
      "processed list of strings:  ['Name, Class, Score', 'Xiao Ming, 20J13, 89', 'Xiao Hong, 20J13, 76', 'Xiao Qiang, 20J12, 56']\n",
      "heads:  ['Name', 'Class', 'Score']\n",
      "processed data:  [['Xiao Ming', '20J13', '89'], ['Xiao Hong', '20J13', '76'], ['Xiao Qiang', '20J12', '56']]\n"
     ]
    }
   ],
   "source": [
    "# file_03\n",
    "\n",
    "# read file content into a list of strings\n",
    "with open(\"data_files/file_03.csv\", \"r\") as f:\n",
    "    # processing statements\n",
    "    raw_data = []\n",
    "    \n",
    "    for line in f:\n",
    "        raw_data.append(line)\n",
    "\n",
    "print(\"raw data: \", raw_data)\n",
    "\n",
    "# remove `\\n` in strings, and remove empty lines\n",
    "processed_strings = []\n",
    "for raw_s in raw_data:\n",
    "    if raw_s != \"\\n\":\n",
    "        if raw_s[-1] == \"\\n\":\n",
    "            processed_strings.append(raw_s[:-1])\n",
    "        else:\n",
    "            processed_strings.append(raw_s)\n",
    "            \n",
    "print(\"processed list of strings: \", processed_strings)\n",
    "\n",
    "# convert strings to sublists\n",
    "header_string = processed_strings.pop(0)\n",
    "headers = header_string.split(\", \")\n",
    "\n",
    "processed_data = []\n",
    "for s in processed_strings:\n",
    "    processed_data.append(s.split(\", \"))\n",
    "        \n",
    "print(\"heads: \", headers)\n",
    "print(\"processed data: \", processed_data)"
   ]
  },
  {
   "cell_type": "markdown",
   "metadata": {},
   "source": [
    "#### - Small Challenge -\n",
    "\n",
    "If you have noticed, now the \"file_03.csv\" has a standard format of a space `\" \"` after every comma `\",\"`. \n",
    "\n",
    "However, in daily lives, this may not always be the case. Take a look at \"file_03s.csv\", how can we process the file into the above format then?\n",
    "\n",
    "#### Hint\n",
    "\n",
    "You may consider to use the `strip()` function. If we have a string `s` which contains `\"  haha \"`, calling `s.strip()` will remove the leading and trailing spaces and return `\"haha\"` directly."
   ]
  },
  {
   "cell_type": "code",
   "execution_count": 5,
   "metadata": {},
   "outputs": [
    {
     "name": "stdout",
     "output_type": "stream",
     "text": [
      "[['Name', 'Class', 'Score'], ['Xiao Ming', '20J13', '89'], ['Xiao Hong', '20J13', '76'], ['Xiao Qiang', '20J12', '56']]\n"
     ]
    }
   ],
   "source": [
    "# Your answers here\n",
    "\n",
    "file_path = \"data_files/file_03.csv\"\n",
    "with open(file_path, \"r\") as f:\n",
    "    raw_data = []\n",
    "    for row in f:\n",
    "        raw_data.append(row)\n",
    "\n",
    "# print(raw_data)\n",
    "\n",
    "processed_data = []\n",
    "for row in raw_data:\n",
    "    if row == \"\\n\": # skip empty rows\n",
    "        continue\n",
    "    temp_row = row.split(\",\")\n",
    "    processed_row = []\n",
    "    for ele in temp_row:\n",
    "        processed_row.append(ele.strip())\n",
    "    processed_data.append(processed_row)\n",
    "print(processed_data)"
   ]
  },
  {
   "cell_type": "markdown",
   "metadata": {},
   "source": [
    "## Section 3 - File Writing Operations\n",
    "\n",
    "\n",
    "### _3.1 Write contents to files_\n",
    "\n",
    "We can create new files with access mode set to `\"w\"` even if the file doesn't exist. We can then use the `write()` function to write strings into files.\n",
    "\n",
    "#### ~ Example ~"
   ]
  },
  {
   "cell_type": "code",
   "execution_count": 10,
   "metadata": {},
   "outputs": [],
   "source": [
    "# Write contents into a new file\n",
    "with open(\"data_files/file_04.txt\", \"w\") as f:\n",
    "    f.write(\"Hello World!\\n\")\n",
    "    f.write(\"My name is Xiao Ming, nice to meet you!\")\n",
    "    \n",
    "# Open \"file_04.txt\" to check its content"
   ]
  },
  {
   "cell_type": "code",
   "execution_count": 11,
   "metadata": {},
   "outputs": [],
   "source": [
    "# Opening an existing file with access mode \"w\" will overwrite all existing contents\n",
    "with open(\"data_files/file_04.txt\", \"w\") as f:\n",
    "    f.write(\"Name, Class, Score\\n\")\n",
    "    \n",
    "# Open \"file_04.txt\" to check its content"
   ]
  },
  {
   "cell_type": "markdown",
   "metadata": {},
   "source": [
    "### _3.2 Append contents to files_\n",
    "\n",
    "We can append contents to a file by using the access mode `\"a\"`.\n",
    "\n",
    "#### ~ Example ~"
   ]
  },
  {
   "cell_type": "code",
   "execution_count": 12,
   "metadata": {},
   "outputs": [],
   "source": [
    "# Writing header line\n",
    "with open(\"data_files/file_04.txt\", \"w\") as f:\n",
    "    f.write(\"Name, Class, Score\\n\")\n",
    "\n",
    "# Opening an existing file with access mode \"w\" will overwrite all existing contents\n",
    "\n",
    "results = [['Xiao Ming', '20J13', '89'], ['Xiao Hong', '20J13', '76'], ['Xiao Qiang', '20J12', '56']]\n",
    "\n",
    "with open(\"data_files/file_04.txt\", \"a\") as f:\n",
    "    for personal_result in results:\n",
    "        for s in personal_result:\n",
    "            f.write(s + \", \")\n",
    "        f.write(\"\\n\")\n",
    "    \n",
    "# Open \"file_04.txt\" to check its content"
   ]
  },
  {
   "cell_type": "markdown",
   "metadata": {},
   "source": [
    "#### - Small Challenge -\n",
    "\n",
    "If you have noticed, now the \"file_04.txt\" has a \",\" at the end of each line of the personal result.\n",
    "How can we change the above code to avoid this problem?"
   ]
  },
  {
   "cell_type": "code",
   "execution_count": 15,
   "metadata": {},
   "outputs": [],
   "source": [
    "# Your answers here\n",
    "\n",
    "# Writing header line\n",
    "with open(\"data_files/file_04.txt\", \"w\") as f:\n",
    "    f.write(\"Name, Class, Score\\n\")\n",
    "\n",
    "# Opening an existing file with access mode \"w\" will overwrite all existing contents\n",
    "\n",
    "results = [['Xiao Ming', '20J13', '89'], [\n",
    "    'Xiao Hong', '20J13', '76'], ['Xiao Qiang', '20J12', '56']]\n",
    "\n",
    "with open(\"data_files/file_04.txt\", \"a\") as f:\n",
    "    for personal_result in results:\n",
    "        f.write(\", \".join(personal_result))\n",
    "        f.write(\"\\n\")\n",
    "\n",
    "# Open \"file_04.txt\" to check its content"
   ]
  },
  {
   "cell_type": "markdown",
   "metadata": {},
   "source": [
    "## Section 4 - Other File Operations Tips\n",
    "\n",
    "### _4.1 `csv` library_\n",
    "\n",
    "The `csv` library is a very useful library to process **well-formatted** csv files.\n",
    "\n",
    "#### ~ Example ~"
   ]
  },
  {
   "cell_type": "code",
   "execution_count": 16,
   "metadata": {},
   "outputs": [
    {
     "name": "stdout",
     "output_type": "stream",
     "text": [
      "heads:  ['Name', 'Class', 'Score']\n",
      "processed data:  [['Xiao Ming', '20J13', '89'], ['Xiao Hong', '20J13', '76'], ['Xiao Qiang', '20J12', '56']]\n"
     ]
    }
   ],
   "source": [
    "import csv\n",
    "\n",
    "filename = \"data_files/file_05.csv\"\n",
    "\n",
    "# initializing the titles(fields) and rows list \n",
    "headers = [] \n",
    "processed_data = [] \n",
    "\n",
    "# reading csv file \n",
    "with open(filename, 'r') as csvfile: \n",
    "    # creating a csv reader object \n",
    "    csvreader = csv.reader(csvfile) \n",
    "\n",
    "    # extracting field names through first row \n",
    "    headers = next(csvreader) \n",
    "\n",
    "    # extracting each data row one by one \n",
    "    for row in csvreader: \n",
    "        processed_data.append(row)\n",
    "        \n",
    "print(\"heads: \", headers)\n",
    "print(\"processed data: \", processed_data)"
   ]
  },
  {
   "cell_type": "markdown",
   "metadata": {},
   "source": [
    "### _4.2 `try-except` block_\n",
    "\n",
    "Sometimes, we may be unsure if the file exist in the directory, and it would be good for us to create a `try-except` block to handle the potential errors. This will prevent the programme from terminating due to the `IOError`.\n",
    "\n",
    "#### ~ Example ~"
   ]
  },
  {
   "cell_type": "code",
   "execution_count": 17,
   "metadata": {},
   "outputs": [
    {
     "name": "stdout",
     "output_type": "stream",
     "text": [
      "File not found or path is incorrect\n"
     ]
    }
   ],
   "source": [
    "try:\n",
    "    with open(\"somefile.txt\") as f:\n",
    "        print(f.read())\n",
    "except IOError:\n",
    "    print(\"File not found or path is incorrect\")"
   ]
  },
  {
   "cell_type": "markdown",
   "metadata": {},
   "source": [
    "### _4.3 `os.path` library_\n",
    "\n",
    "When building large applications, we may create multiple python files in a complex folder structure. If a file operation is called not under correct folder level, sometimes we may face an `IOError` even if the file exists. \n",
    "\n",
    "**Hence, the following method is recommended as a good practice by using the absolute path of a data file.**\n",
    "\n",
    "#### ~ Example ~"
   ]
  },
  {
   "cell_type": "code",
   "execution_count": 21,
   "metadata": {},
   "outputs": [
    {
     "name": "stdout",
     "output_type": "stream",
     "text": [
      "Some data.\n"
     ]
    }
   ],
   "source": [
    "import os\n",
    "\n",
    "#! [jupyter notebook specific] Use \"\" inside the `dirname()`\n",
    "basedir = os.path.abspath(os.path.dirname(\"\"))\n",
    "\n",
    "#! for normal implementation, we should use the following line instead!\n",
    "# basedir = os.path.abspath(os.path.dirname(__file__))\n",
    "\n",
    "\n",
    "# os.path.join to combine the directory with the file name to form the abs path of the data file\n",
    "data_file_name = os.path.join(basedir, \"static/raw_data/my_data.txt\")\n",
    "\n",
    "def read_data_file(file_name):\n",
    "    try:\n",
    "        with open(file_name) as f:\n",
    "            return f.read()\n",
    "    except IOError:\n",
    "        print(\"File not found or path is incorrect.\")\n",
    "        \n",
    "print(read_data_file(data_file_name))"
   ]
  }
 ],
 "metadata": {
  "kernelspec": {
   "display_name": "Python 3",
   "language": "python",
   "name": "python3"
  },
  "language_info": {
   "codemirror_mode": {
    "name": "ipython",
    "version": 3
   },
   "file_extension": ".py",
   "mimetype": "text/x-python",
   "name": "python",
   "nbconvert_exporter": "python",
   "pygments_lexer": "ipython3",
   "version": "3.12.1"
  }
 },
 "nbformat": 4,
 "nbformat_minor": 4
}
