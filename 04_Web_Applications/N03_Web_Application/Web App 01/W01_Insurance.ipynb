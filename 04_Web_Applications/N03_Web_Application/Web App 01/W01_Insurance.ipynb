{
 "cells": [
  {
   "cell_type": "markdown",
   "metadata": {},
   "source": [
    "# W01a Insruance Company - Python and Sqlite3\n",
    "\n",
    "An insurance company would like to implement a web application to manage their policy sold by their agents to the customers.\n",
    "\n",
    "The following information of each `Agent` is stored:\n",
    "- `AgentID` – unique string to identify each agent in the company.\n",
    "- `Name` – name of agent\n",
    "- `Gender` – gender of agent, to be stored as a single character, using either `\"M\"` or `\"F\"`\n",
    "- `Appointment` – appointment of agent\n",
    "- `TeamNo` – team number of the agent\n",
    "- `BaseSalary` – the base monthly salary of the agents.\n",
    "\n",
    "The following information of each `Customer` is stored:\n",
    "- `CustomerID` – unique string to identify the customer\n",
    "- `Name` – name of customer\n",
    "- `Gender` – gender of customer, to be stored as a single character, using either `\"M\"` or `\"F\"`\n",
    "- `DoB` – date of birth of customer\n",
    "- `Address` – address of customer\n",
    "- `HealthCondi` – existing health condition of customer\n",
    "\n",
    "The following information of each `Policy` is stored:\n",
    "- `PolicyID` – policy id to uniquely identify a policy\n",
    "- `YearlyPremium` – yearly premium the customer is required to pay\n",
    "- `TotalYears` – total years the customer is required to pay for the premium\n",
    "- `ProtectedSum` – the protected amount if the insurance condition is met\n",
    "- `CommissionRate` – commission rate of this policy, which indicates a percentage amount to be credited to the agent who sold the policy\n",
    "\n",
    "The following information of each `PolicyRecord` is stored:\n",
    "- `PolicyRecordNo` – unique autoincrement integer to identify the policy\n",
    "- `AgentID` – agent number who sold the policy\n",
    "- `CustomerID` – customer ID who bought and is covered by this policy\n",
    "- `PolicyID` – policy id to identify which policy the customer bought\n",
    "- `StartDate` – date which the policy will start\n",
    "\n",
    "The information is to be stored in four tables:\n",
    "- Agent\n",
    "- Customer\n",
    "- Policy\n",
    "- PolicyRecord\n"
   ]
  },
  {
   "cell_type": "code",
   "execution_count": 2,
   "metadata": {},
   "outputs": [],
   "source": [
    "# Run to link to db and unlock db when needed\n",
    "import sqlite3\n",
    "import csv\n",
    "\n",
    "# !NOTE: if \"insurance.db\" not exist, it will be created\n",
    "db_file = \"insurance.db\"\n",
    "conn = sqlite3.connect(db_file)\n",
    "conn.close()"
   ]
  },
  {
   "cell_type": "markdown",
   "metadata": {},
   "source": [
    "### Q1a\n",
    "Use DB Browser for SQLite to create the database schema for the tables `Agent`, `Customer`, `Policy`, and `PolicyRecord`.\n",
    "\n",
    "Save the database as `insurance.db`.\n",
    "\n",
    "Copy and save the SQL script used to create the tables in the cell below.\n"
   ]
  },
  {
   "cell_type": "code",
   "execution_count": 3,
   "metadata": {},
   "outputs": [
    {
     "data": {
      "text/plain": [
       "'\\nCREATE TABLE \"PolicyRecord\" (\\n\\t\"PolicyRecordNo\"\\tINTEGER,\\n\\t\"AgentID\"\\tTEXT NOT NULL,\\n\\t\"CustomerID\"\\tTEXT NOT NULL,\\n\\t\"PolicyID\"\\tTEXT NOT NULL,\\n\\t\"StartDate\"\\tTEXT NOT NULL,\\n\\tPRIMARY KEY(\"PolicyRecordNo\" AUTOINCREMENT),\\n\\tFOREIGN KEY(\"AgentID\") REFERENCES \"Agent\"(\"AgentID\"),\\n\\tFOREIGN KEY(\"CustomerID\") REFERENCES \"Customer\"(\"CustomerID\"),\\n\\tFOREIGN KEY(\"PolicyID\") REFERENCES \"Policy\"(\"PolicyID\")\\n);\\n'"
      ]
     },
     "execution_count": 3,
     "metadata": {},
     "output_type": "execute_result"
    }
   ],
   "source": [
    "# Q1a Answer:\n",
    "\n",
    "\"\"\"\n",
    "CREATE TABLE \"Agent\" (\n",
    "\t\"AgentID\"\tTEXT,\n",
    "\t\"Name\"\tTEXT NOT NULL,\n",
    "\t\"Gender\"\tTEXT NOT NULL CHECK(Gender='M' OR Gender='F'),\n",
    "\t\"Appointment\"\tTEXT NOT NULL,\n",
    "\t\"TeamNo\"\tINTEGER NOT NULL,\n",
    "\t\"BaseSalary\"\tREAL NOT NULL,\n",
    "\tPRIMARY KEY(\"AgentID\")\n",
    ");\n",
    "\"\"\"\n",
    "\n",
    "\"\"\"\n",
    "CREATE TABLE \"Customer\" (\n",
    "\t\"CustomerID\"\tTEXT,\n",
    "\t\"Name\"\tTEXT NOT NULL,\n",
    "\t\"Gender\"\tTEXT NOT NULL CHECK(\"Gender\" = 'M' OR \"Gender\" = 'F'),\n",
    "\t\"DoB\"\tTEXT NOT NULL,\n",
    "\t\"Address\"\tTEXT NOT NULL,\n",
    "\t\"HealthCondi\"\tTEXT,\n",
    "\tPRIMARY KEY(\"CustomerID\")\n",
    ");\n",
    "\"\"\"\n",
    "\n",
    "\"\"\"\n",
    "CREATE TABLE \"Policy\" (\n",
    "\t\"PolicyID\"\tTEXT,\n",
    "\t\"YearlyPremium\"\tREAL NOT NULL,\n",
    "\t\"TotalYears\"\tINTEGER NOT NULL,\n",
    "\t\"ProtectedSum\"\tREAL NOT NULL,\n",
    "\t\"CommissionRate\"\tREAL NOT NULL,\n",
    "\tPRIMARY KEY(\"PolicyID\")\n",
    ");\n",
    "\"\"\"\n",
    "\n",
    "\"\"\"\n",
    "CREATE TABLE \"PolicyRecord\" (\n",
    "\t\"PolicyRecordNo\"\tINTEGER,\n",
    "\t\"AgentID\"\tTEXT NOT NULL,\n",
    "\t\"CustomerID\"\tTEXT NOT NULL,\n",
    "\t\"PolicyID\"\tTEXT NOT NULL,\n",
    "\t\"StartDate\"\tTEXT NOT NULL,\n",
    "\tPRIMARY KEY(\"PolicyRecordNo\" AUTOINCREMENT),\n",
    "\tFOREIGN KEY(\"AgentID\") REFERENCES \"Agent\"(\"AgentID\"),\n",
    "\tFOREIGN KEY(\"CustomerID\") REFERENCES \"Customer\"(\"CustomerID\"),\n",
    "\tFOREIGN KEY(\"PolicyID\") REFERENCES \"Policy\"(\"PolicyID\")\n",
    ");\n",
    "\"\"\""
   ]
  },
  {
   "cell_type": "markdown",
   "metadata": {},
   "source": [
    "#### Q1b\n",
    "\n",
    "Write python code to create the database `insurance.db` and the tables `Agent`, `Customer`, `Policy`, and `PolicyRecord` in the database."
   ]
  },
  {
   "cell_type": "code",
   "execution_count": 4,
   "metadata": {},
   "outputs": [],
   "source": [
    "# Q1b Answer:\n",
    "\n",
    "db_file = \"insurance.db\"\n",
    "conn = sqlite3.connect(db_file)\n",
    "\n",
    "query1 = \"\"\"\n",
    "CREATE TABLE IF NOT EXISTS \"Agent\" (\n",
    "\t\"AgentID\"\tTEXT,\n",
    "\t\"Name\"\tTEXT NOT NULL,\n",
    "\t\"Gender\"\tTEXT NOT NULL CHECK(Gender='M' OR Gender='F'),\n",
    "\t\"Appointment\"\tTEXT NOT NULL,\n",
    "\t\"TeamNo\"\tINTEGER NOT NULL,\n",
    "\t\"BaseSalary\"\tREAL NOT NULL,\n",
    "\tPRIMARY KEY(\"AgentID\")\n",
    ");\n",
    "\"\"\"\n",
    "\n",
    "query2 = \"\"\"\n",
    "CREATE TABLE IF NOT EXISTS \"Customer\" (\n",
    "\t\"CustomerID\"\tTEXT,\n",
    "\t\"Name\"\tTEXT NOT NULL,\n",
    "\t\"Gender\"\tTEXT NOT NULL CHECK(\"Gender\" = 'M' OR \"Gender\" = 'F'),\n",
    "\t\"DoB\"\tTEXT NOT NULL,\n",
    "\t\"Address\"\tTEXT NOT NULL,\n",
    "\t\"HealthCondi\"\tTEXT,\n",
    "\tPRIMARY KEY(\"CustomerID\")\n",
    ");\n",
    "\"\"\"\n",
    "\n",
    "query3 = \"\"\"\n",
    "CREATE TABLE IF NOT EXISTS \"Policy\" (\n",
    "\t\"PolicyID\"\tTEXT,\n",
    "\t\"YearlyPremium\"\tREAL NOT NULL,\n",
    "\t\"TotalYears\"\tINTEGER NOT NULL,\n",
    "\t\"ProtectedSum\"\tREAL NOT NULL,\n",
    "\t\"CommissionRate\"\tREAL NOT NULL,\n",
    "\tPRIMARY KEY(\"PolicyID\")\n",
    ");\n",
    "\"\"\"\n",
    "\n",
    "query4 = \"\"\"\n",
    "CREATE TABLE IF NOT EXISTS \"PolicyRecord\" (\n",
    "\t\"PolicyRecordNo\"\tINTEGER,\n",
    "\t\"AgentID\"\tTEXT NOT NULL,\n",
    "\t\"CustomerID\"\tTEXT NOT NULL,\n",
    "\t\"PolicyID\"\tTEXT NOT NULL,\n",
    "\t\"StartDate\"\tTEXT NOT NULL,\n",
    "\tPRIMARY KEY(\"PolicyRecordNo\" AUTOINCREMENT),\n",
    "\tFOREIGN KEY(\"AgentID\") REFERENCES \"Agent\"(\"AgentID\"),\n",
    "\tFOREIGN KEY(\"CustomerID\") REFERENCES \"Customer\"(\"CustomerID\"),\n",
    "\tFOREIGN KEY(\"PolicyID\") REFERENCES \"Policy\"(\"PolicyID\")\n",
    ");\n",
    "\"\"\"\n",
    "queries = [query1, query2, query3, query4]\n",
    "\n",
    "for query in queries:\n",
    "    conn.execute(query)\n",
    "conn.commit()\n",
    "conn.close()"
   ]
  },
  {
   "cell_type": "markdown",
   "metadata": {},
   "source": [
    "#### Q2a\n",
    "\n",
    "Insert the following data into the database:\n",
    "\n",
    "<table>\n",
    "    <tr>\n",
    "        <th>AgentID</th>\n",
    "        <th>Name</th>\n",
    "        <th>Gender</th>\n",
    "        <th>Appointment</th>\n",
    "        <th>TeamNo</th>\n",
    "        <th>BaseSalary</th>\n",
    "    </tr>\n",
    "    <tr>\n",
    "        <td>\"AGEN001\"</td>\n",
    "        <td>\"Rui Schroeder\"</td>\n",
    "        <td>\"F\"</td>\n",
    "        <td>\"Executive\"</td>\n",
    "        <td>3</td>\n",
    "        <td>3430</td>\n",
    "    </tr>\n",
    "        <td>\"AGEN002\"</td>\n",
    "        <td>\"Alastair Swan\"</td>\n",
    "        <td>\"M\"</td>\n",
    "        <td>\"Financial Advisor\"</td>\n",
    "        <td>1</td>\n",
    "        <td>3600</td>\n",
    "    </tr>\n",
    "    <tr>\n",
    "        <td>\"AGEN003\"</td>\n",
    "        <td>\"Jad Holman\"</td>\n",
    "        <td>\"M\"</td>\n",
    "        <td>\"Executive\"</td>\n",
    "        <td>2</td>\n",
    "        <td>3600</td>\n",
    "    </tr>\n",
    "    <tr>\n",
    "        <td>\"AGEN004\"</td>\n",
    "        <td>\"Arandeep Lloyd\"</td>\n",
    "        <td>\"M\"</td>\n",
    "        <td>\"Executive\"</td>\n",
    "        <td>2</td>\n",
    "        <td>3100</td>\n",
    "    </tr>\n",
    "</table>"
   ]
  },
  {
   "cell_type": "code",
   "execution_count": 4,
   "metadata": {},
   "outputs": [],
   "source": [
    "agent1 = ('AGEN001', 'Rui Schroeder', 'F', 'Executive', 3, 3430)\n",
    "agent2 = ('AGEN002', 'Alastair Swan', 'M', 'Financial Advisor', 1, 3600)\n",
    "agent3 = ('AGEN003', 'Jad Holman', 'M', 'Executive', 2, 3600)\n",
    "agent4 = ('AGEN004', 'Arandeep Lloyd', 'M', 'Executive', 2, 3100)\n",
    "\n",
    "agents = [agent1, agent2, agent3, agent4]\n",
    "\n",
    "# Q2a Answer:\n",
    "\n",
    "query = \"\"\"\n",
    "INSERT INTO Agent\n",
    "(AgentID, Name, Gender, Appointment, TeamNo, BaseSalary)\n",
    "VALUES\n",
    "(?,?,?,?,?,?)\n",
    "\"\"\"\n",
    "\n",
    "db_file = \"insurance.db\"\n",
    "conn = sqlite3.connect(db_file)\n",
    "for agent in agents:\n",
    "    conn.execute(query, agent)\n",
    "conn.commit()\n",
    "conn.close()"
   ]
  },
  {
   "cell_type": "markdown",
   "metadata": {},
   "source": [
    "#### Q2b\n",
    "There's a pay increment of 5% for all \"Executive\" agents. \n",
    "Define a function `update_base_salary` to update the `BaseSalary` of all \"Executive\" agents in the `Agent` table."
   ]
  },
  {
   "cell_type": "code",
   "execution_count": 5,
   "metadata": {},
   "outputs": [],
   "source": [
    "# Q2b Answer:\n",
    "\n",
    "def update_base_salary(increment, appt):\n",
    "    query = \"\"\"\n",
    "    UPDATE Agent\n",
    "    SET BaseSalary = BaseSalary * ?\n",
    "    WHERE Appointment = ?\n",
    "    \"\"\"\n",
    "    conn = sqlite3.connect(db_file)\n",
    "    conn.execute(query, (increment, appt))\n",
    "    conn.commit()\n",
    "    conn.close()\n",
    "\n",
    "update_base_salary(1.05, \"Executive\")"
   ]
  },
  {
   "cell_type": "markdown",
   "metadata": {},
   "source": [
    "#### Q2c\n",
    "Define a function `get_agent_details()` that takes in the `Appointment` of the agent as an argument and returns the `AgentID`, `Name`, and `BaseSalary` of all agents with the given `Appointment`."
   ]
  },
  {
   "cell_type": "code",
   "execution_count": 6,
   "metadata": {},
   "outputs": [
    {
     "name": "stdout",
     "output_type": "stream",
     "text": [
      "[('AGEN001', 'Rui Schroeder', 3601.5), ('AGEN003', 'Jad Holman', 3780.0), ('AGEN004', 'Arandeep Lloyd', 3255.0)]\n"
     ]
    }
   ],
   "source": [
    "# Q2c Answer:\n",
    "\n",
    "def get_agent_details(appt):\n",
    "    query = \"\"\"\n",
    "    SELECT AgentID, Name, BaseSalary\n",
    "    FROM Agent\n",
    "    WHERE Appointment = ?\n",
    "    \"\"\"\n",
    "    conn = sqlite3.connect(db_file)\n",
    "    cursor = conn.execute(query, (appt,))\n",
    "    data = cursor.fetchall()\n",
    "    cursor.close()\n",
    "    conn.close()\n",
    "\n",
    "    return data\n",
    "\n",
    "data = get_agent_details(\"Executive\")\n",
    "print(data)"
   ]
  },
  {
   "cell_type": "markdown",
   "metadata": {},
   "source": [
    "#### Q2d\n",
    "Define a function, `delete_agent(team_no)` to delete all agents from a given team number."
   ]
  },
  {
   "cell_type": "code",
   "execution_count": 7,
   "metadata": {},
   "outputs": [],
   "source": [
    "# Q2d Answer:\n",
    "\n",
    "def delete_agent(team_no):\n",
    "    query = \"\"\"\n",
    "    DELETE FROM Agent\n",
    "    WHERE TeamNo = ?\n",
    "    \"\"\"\n",
    "    conn = sqlite3.connect(db_file)\n",
    "    conn.execute(query, (team_no,))\n",
    "    conn.commit()\n",
    "    conn.close()\n",
    "\n",
    "delete_agent(1)"
   ]
  },
  {
   "cell_type": "markdown",
   "metadata": {},
   "source": [
    "#### Q2e\n",
    "\n",
    "Delete all agents from the `Agent` table to reset the table."
   ]
  },
  {
   "cell_type": "code",
   "execution_count": 8,
   "metadata": {},
   "outputs": [],
   "source": [
    "# Q2e Answer:\n",
    "\n",
    "def delete_all_agents():\n",
    "    query = \"\"\"\n",
    "    DELETE FROM Agent\n",
    "    \"\"\"\n",
    "    conn = sqlite3.connect(db_file)\n",
    "    conn.execute(query)\n",
    "    conn.commit()\n",
    "    conn.close()\n",
    "\n",
    "delete_all_agents()"
   ]
  },
  {
   "cell_type": "markdown",
   "metadata": {},
   "source": [
    "#### Q3a\n",
    "Read data from `agents.csv` in `data_files` folder, and insert the data into the `Agent` table."
   ]
  },
  {
   "cell_type": "code",
   "execution_count": 9,
   "metadata": {},
   "outputs": [],
   "source": [
    "# Q3a Answer:\n",
    "\n",
    "import csv\n",
    "\n",
    "with open(\"data_files/agents.csv\", \"r\") as f:\n",
    "    csvreader = csv.reader(f)\n",
    "    header = next(csvreader)  # get header\n",
    "\n",
    "    rows = []\n",
    "    for row in csvreader:\n",
    "        rows.append(row)\n",
    "        \n",
    "query = f\"\"\"\n",
    "INSERT INTO Agent\n",
    "{tuple(header)}\n",
    "VALUES\n",
    "(?,?,?,?,?,?)\n",
    "\"\"\"\n",
    "\n",
    "conn = sqlite3.connect(db_file)\n",
    "for row in rows:\n",
    "    conn.execute(query, tuple(row))\n",
    "conn.commit()\n",
    "conn.close()\n"
   ]
  },
  {
   "cell_type": "markdown",
   "metadata": {},
   "source": [
    "#### Q3b\n",
    "\n",
    "Write a function `read_csv_to_db(table, file_name)` that reads data from a CSV file and inserts the data into the specified table in the database.\n",
    "\n",
    "Use it to read all other csv files in the `data_files` folder and insert the data into the respective tables in the database."
   ]
  },
  {
   "cell_type": "code",
   "execution_count": 10,
   "metadata": {},
   "outputs": [],
   "source": [
    "# Q3b Answer:\n",
    "import csv\n",
    "\n",
    "csv_files = {\n",
    "    \"Customer\": \"customers.csv\",\n",
    "    \"Policy\": \"policies.csv\",\n",
    "    \"PolicyRecord\": \"policy_records.csv\"\n",
    "}\n",
    "\n",
    "def read_csv_to_db(table, file_name):\n",
    "    with open(\"data_files/\" + file_name, \"r\") as f:\n",
    "        csvreader = csv.reader(f)\n",
    "        header = next(csvreader)\n",
    "\n",
    "        data = []\n",
    "        for row in csvreader:\n",
    "            data.append(row)\n",
    "\n",
    "    # print(header)\n",
    "    # print(data)\n",
    "    qmarks = \",\".join([\"?\" for _ in range(len(header))])\n",
    "    # print(qmarks)\n",
    "    query = \"\"\"\n",
    "    INSERT INTO {}\n",
    "    {}\n",
    "    VALUES\n",
    "    ({})\n",
    "    \"\"\".format(table, tuple(header), qmarks)\n",
    "    # print(query)\n",
    "\n",
    "    conn = sqlite3.connect(db_file)\n",
    "    for row in data:\n",
    "        conn.execute(query, tuple(row))\n",
    "    conn.commit()\n",
    "    conn.close()\n",
    "    \n",
    "\n",
    "for table in csv_files:\n",
    "    read_csv_to_db(table, csv_files[table])\n",
    "    "
   ]
  },
  {
   "cell_type": "markdown",
   "metadata": {},
   "source": [
    "#### Q4a\n",
    "\n",
    "Write a function `get_customer_details()` that returns all column detials of customers who has health conditions, sorted by `Gender` in ascending order, followed by `DoB` in descending order."
   ]
  },
  {
   "cell_type": "code",
   "execution_count": 11,
   "metadata": {},
   "outputs": [
    {
     "name": "stdout",
     "output_type": "stream",
     "text": [
      "('CUST015', 'Kaja Holding', 'F', '19910507', '80 Anson Road #28-03 Fuji Xerox Towers, 079907, Singapore', 'high blood pressure')\n",
      "('CUST003', 'Evie-Grace Gale', 'F', '19802708', '9 penang road #B1-07 Park Mall, 238459, Singapore', 'asthma')\n",
      "('CUST010', 'Harriett Robin', 'F', '19790404', 'Suntec Tower Three 8 Temasek Boulevard #23-03 038988, Singapore', 'diabetes')\n",
      "('CUST006', 'Aiza Crossley', 'F', '19761612', 'Sin Cheong Building 47 Jalan Pemimpin #01-01 577200, Singapore', 'diabetes')\n",
      "('CUST004', 'Terence Knight', 'M', '19792502', '1 Woodlands Industrial Park E1 #03-02, 757724, Singapore', 'asthma')\n",
      "('CUST008', 'Sanjay Reeves', 'M', '19680702', '750C Chai Chee Road #02-01 TECHNOPARK @CHAICHEE, 469003, Singapore', 'high blood pressure')\n"
     ]
    }
   ],
   "source": [
    "# Answer Q4a:\n",
    "\n",
    "def get_customer_details():\n",
    "    query = \"\"\"\n",
    "    SELECT * FROM Customer\n",
    "    WHERE HealthCondi != \"\"\n",
    "    ORDER BY Gender ASC, DoB DESC\n",
    "    \"\"\"\n",
    "    conn = sqlite3.connect(db_file)\n",
    "    cursor = conn.execute(query)\n",
    "    data = cursor.fetchall()\n",
    "    cursor.close()\n",
    "    conn.close()\n",
    "\n",
    "    for row in data:\n",
    "        print(row)\n",
    "\n",
    "get_customer_details()"
   ]
  },
  {
   "cell_type": "markdown",
   "metadata": {},
   "source": [
    "#### Q4b\n",
    "\n",
    "The company would like to access the performance of one particular agent, `\"Pippa Booth\"`, for the year `2020`. Using the name and year, create a sql query which is able to return all policy records sold by this agent in the year, including the details of the following fields and sorted by the starting date of the policy record in ascending order.\n",
    "\n",
    "Columns to be displayed:\n",
    "`PolicyRecordNo, StartDate, AgentID, Name, PolicyID`\n",
    "\n",
    "Write a python function `get_agent_pr(agent_name, year)` that returns the result of the query."
   ]
  },
  {
   "cell_type": "code",
   "execution_count": 12,
   "metadata": {},
   "outputs": [
    {
     "name": "stdout",
     "output_type": "stream",
     "text": [
      "[(78, '20200124', 'AGEN018', 'Pippa Booth', 'POL009'), (80, '20200125', 'AGEN018', 'Pippa Booth', 'POL004'), (85, '20200203', 'AGEN018', 'Pippa Booth', 'POL003'), (92, '20200215', 'AGEN018', 'Pippa Booth', 'POL010'), (107, '20200324', 'AGEN018', 'Pippa Booth', 'POL010')]\n"
     ]
    }
   ],
   "source": [
    "# Q4b Answer:\n",
    "\n",
    "def get_agent_pr(agent_name, year):\n",
    "    year_start = f\"{year}0101\"\n",
    "    year_end = f\"{year}1231\"\n",
    "    \n",
    "    query = \"\"\"\n",
    "    SELECT PolicyRecordNo, StartDate, Agent.AgentID, Name, PolicyID\n",
    "    FROM PolicyRecord\n",
    "    INNER JOIN Agent\n",
    "    ON PolicyRecord.AgentID = Agent.AgentID\n",
    "    WHERE Name = ?\n",
    "    AND StartDate >= ?\n",
    "    AND StartDate <= ?\n",
    "    ORDER BY StartDate ASC\n",
    "    \"\"\"\n",
    "    conn = sqlite3.connect(db_file)\n",
    "    cursor = conn.execute(query, (agent_name, year_start, year_end))\n",
    "    data = cursor.fetchall()\n",
    "    cursor.close()\n",
    "    conn.close()\n",
    "\n",
    "    print(data)\n",
    "\n",
    "get_agent_pr(\"Pippa Booth\", 2020)"
   ]
  },
  {
   "cell_type": "markdown",
   "metadata": {},
   "source": [
    "#### Q4c\n",
    "\n",
    "Define a function `get_policy_by_cust(cust_id)` that returns the policy details of all the policies bought by a given customer, sort by starting date in ascending order.\n",
    "\n",
    "Columns to be displayed:  \n",
    "`PolicyRecordNo, PolicyID, StartDate`"
   ]
  },
  {
   "cell_type": "code",
   "execution_count": 13,
   "metadata": {},
   "outputs": [
    {
     "name": "stdout",
     "output_type": "stream",
     "text": [
      "[(15, 'POL002', '20191006'), (58, 'POL001', '20191205'), (64, 'POL006', '20191224'), (81, 'POL008', '20200127'), (104, 'POL003', '20200317'), (113, 'POL010', '20200415')]\n"
     ]
    }
   ],
   "source": [
    "# Q4c Answer:\n",
    "\n",
    "def get_policy_by_cust(cust_id):\n",
    "    query = \"\"\"\n",
    "    SELECT PolicyRecordNo, PolicyID, StartDate\n",
    "    FROM PolicyRecord\n",
    "    WHERE CustomerID = ?\n",
    "    ORDER BY StartDate\n",
    "    \"\"\"\n",
    "    conn = sqlite3.connect(db_file)\n",
    "    cursor = conn.execute(query, (cust_id,))\n",
    "    data = cursor.fetchall()\n",
    "    cursor.close()\n",
    "    conn.close()\n",
    "\n",
    "    print(data)\n",
    "\n",
    "get_policy_by_cust(\"CUST001\")"
   ]
  },
  {
   "cell_type": "markdown",
   "metadata": {},
   "source": [
    "#### Q4d\n",
    "Define a function `get_policy_details(pr_no)` that returns the details of the policy with the given `PolicyRecordNo`.\n",
    "\n",
    "Columns to be displayed:\n",
    "\n",
    "`PolicyID, YearlyPremium, TotalYears, ProtectedSum, StartDate`"
   ]
  },
  {
   "cell_type": "code",
   "execution_count": 14,
   "metadata": {},
   "outputs": [
    {
     "name": "stdout",
     "output_type": "stream",
     "text": [
      "[('POL004', 3000.0, 30, 900000.0, '20190901')]\n"
     ]
    }
   ],
   "source": [
    "# Q4d Answer:\n",
    "\n",
    "def get_policy_details(pr_no):\n",
    "    query = \"\"\"\n",
    "    SELECT Policy.PolicyID, YearlyPremium, TotalYears, ProtectedSum, StartDate\n",
    "    FROM PolicyRecord\n",
    "    INNER JOIN Policy\n",
    "    ON Policy.PolicyID = PolicyRecord.PolicyID\n",
    "    WHERE PolicyRecordNo = ?\n",
    "    \"\"\"\n",
    "    conn = sqlite3.connect(db_file)\n",
    "    cursor = conn.execute(query, (pr_no,))\n",
    "    data = cursor.fetchall()  # data = cursor.fetchone()\n",
    "    cursor.close()\n",
    "    conn.close()\n",
    "\n",
    "    print(data)\n",
    "\n",
    "get_policy_details(1)"
   ]
  },
  {
   "cell_type": "code",
   "execution_count": null,
   "metadata": {},
   "outputs": [],
   "source": []
  }
 ],
 "metadata": {
  "kernelspec": {
   "display_name": "Python 3",
   "language": "python",
   "name": "python3"
  },
  "language_info": {
   "codemirror_mode": {
    "name": "ipython",
    "version": 3
   },
   "file_extension": ".py",
   "mimetype": "text/x-python",
   "name": "python",
   "nbconvert_exporter": "python",
   "pygments_lexer": "ipython3",
   "version": "3.12.1"
  }
 },
 "nbformat": 4,
 "nbformat_minor": 4
}
