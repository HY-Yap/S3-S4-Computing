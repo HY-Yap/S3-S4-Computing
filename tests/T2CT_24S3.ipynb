{
 "cells": [
  {
   "cell_type": "markdown",
   "metadata": {},
   "source": [
    "# YEAR 2024 - Sec 3 Term 2 Class Test\n",
    "\n",
    "**<font color='red'>\n",
    "</font>**"
   ]
  },
  {
   "cell_type": "markdown",
   "metadata": {},
   "source": [
    "# READ THESE INSTRUCTIONS FIRST\n",
    "\n",
    "Answer **all** questions and **save** your work constantly.\n",
    "\n",
    "All tasks must be done in the computer laboratory. You are not allowed to bring in or bring out any piece of work, materials, paper or electronic media or in any other form.\n",
    "\n",
    "The number of marks is given in brackets [ ] at the end of each question or part question.\n",
    "\n",
    "You are reminded of the need for clear presentation in your answers. Please provide comments where appropriate and ensure the use of descriptive variable and function names.\n",
    "\n",
    "If any cell is accidentally deleted in the jupyter notebook, you may refer to the html file to recover the content.\n",
    "\n",
    "You are allowed to add new cells to the notebook, but please make sure to write meaningful comments to explain the purpose.\n",
    "\n",
    "At the end of the examination, **SAVE** all the changes in the notebook, and save all your source files in the thumb drive and do **NOT** delete your source files.\n",
    "\n",
    "You are strongly encouraged to manage your time well.\n",
    "\n",
    "<div style=\"text-align:right; font-weight:bold\">Total Marks: [18]</div>"
   ]
  },
  {
   "cell_type": "code",
   "execution_count": 1,
   "metadata": {},
   "outputs": [
    {
     "name": "stdout",
     "output_type": "stream",
     "text": [
      "All the best for this paper!\n"
     ]
    }
   ],
   "source": [
    "# Test Run Code Cell:\n",
    "print(\"All the best for this paper!\")"
   ]
  },
  {
   "cell_type": "markdown",
   "metadata": {},
   "source": [
    "# Task 1\n",
    "A website requires the users to input username and password to register. Implement a function to `check_pwd()` which takes in a string `pwd`, and check if it fulfill the following criteria:\n",
    "\n",
    "1. Minimum length of the password: 9\n",
    "2. Maximum length of the password: 20\n",
    "3. At least 1 letter between [a-z]\n",
    "4. At least 1 letter between [A-Z]\n",
    "5. At least 1 number between [0-9]\n",
    "6. At least 1 special character from [#$%]\n",
    "7. No white spaces found in the password\n",
    "\n",
    "The function should return:\n",
    "- `True`, if it fulfills all criteria stated above.\n",
    "- `False`, if any of the above criteria is not met.\n",
    "\n",
    "You will be assessed, but not limited to, based on the standard output of the following function calls:  \n",
    "- `test_task_1()`\n",
    "\n",
    "<div style=\"text-align:right; font-weight:bold\">[5]</div>"
   ]
  },
  {
   "cell_type": "code",
   "execution_count": 2,
   "metadata": {},
   "outputs": [],
   "source": [
    "# Your code for Task 1.1 here\n",
    "def check_pwd(pwd):\n",
    "    if len(pwd) < 9 or len(pwd) > 20: # less than 9 or greater than 20\n",
    "        return False\n",
    "    \n",
    "    # runs through characters and counts each type\n",
    "    lowercase_count = 0\n",
    "    uppercase_count = 0\n",
    "    number_count = 0\n",
    "    spec_count = 0\n",
    "    for char in pwd:\n",
    "        if char in \"abcdefghijklmnopqrstuvwxyz\":\n",
    "            lowercase_count += 1\n",
    "        elif char in \"ABCDEFGHIJKLMNOPQRSTUVQXYZ\":\n",
    "            uppercase_count += 1\n",
    "        elif char in \"1234567890\":\n",
    "            number_count += 1\n",
    "        elif char in \"!@#$%^&*()_+`~\":\n",
    "            spec_count += 1\n",
    "        elif char == \" \":\n",
    "            return False\n",
    "    \n",
    "    if lowercase_count < 1 or uppercase_count < 1 or number_count < 1 or spec_count < 1:\n",
    "        return False\n",
    "    \n",
    "    return True\n"
   ]
  },
  {
   "cell_type": "code",
   "execution_count": 3,
   "metadata": {},
   "outputs": [
    {
     "name": "stdout",
     "output_type": "stream",
     "text": [
      "True\n",
      "False\n",
      "False\n",
      "False\n",
      "False\n",
      "False\n",
      "False\n",
      "False\n"
     ]
    }
   ],
   "source": [
    "# test cases\n",
    "def test_task_1():\n",
    "    print(check_pwd(\"aBc123#$%\"))  # True\n",
    "    print(check_pwd(\"aBc123\"))  # False\n",
    "    print(check_pwd(\"aBc123#$%aBc123#$%haa\"))  # False\n",
    "    print(check_pwd(\"abc123#$%\"))  # False\n",
    "    print(check_pwd(\"ABC123#$%\"))  # False\n",
    "    print(check_pwd(\"ABCabc#$%\"))  # False\n",
    "    print(check_pwd(\"aBc123haha\"))  # False\n",
    "    print(check_pwd(\"aBc123#$% \"))  # False\n",
    "test_task_1()\n",
    "\n"
   ]
  },
  {
   "cell_type": "markdown",
   "metadata": {},
   "source": [
    "# Task 2\n",
    "\n",
    "You are tasked to implement a weighted modulus system for validating customer identification numbers used in a telecommunications company.\n",
    "\n",
    "The customer_id consist of 8 digits. The first 7 digits represent the customer id itself, while the last digit is the check digit. In the following example, we will use `\"54538720\"` as the `account_no` to be checked. The check digit is calculated based on the following algorithm:\n",
    "\n",
    "1. Multiply the first seven digits of the account number by its corresponding weight (by position), and sum up the products. The weight table is given below.\n",
    "<table class=\"table table-bordered\">\n",
    "    <tr>\n",
    "        <th style=\"width:10%; text-align:left\">Digit</th>\n",
    "        <th style=\"width:5%; text-align:center\">5</th>\n",
    "        <th style=\"width:5%; text-align:center\">4</th>\n",
    "        <th style=\"width:5%; text-align:center\">5</th>\n",
    "        <th style=\"width:5%; text-align:center\">3</th>\n",
    "        <th style=\"width:5%; text-align:center\">8</th>\n",
    "        <th style=\"width:5%; text-align:center\">7</th>\n",
    "        <th style=\"width:5%; text-align:center\">2</th>\n",
    "    </tr>\n",
    "    <tr>\n",
    "        <th style=\"text-align:left\">Weight</th>\n",
    "        <td style=\"text-align:center\">4</td>\n",
    "        <td style=\"text-align:center\">3</td>\n",
    "        <td style=\"text-align:center\">2</td>\n",
    "        <td style=\"text-align:center\">3</td>\n",
    "        <td style=\"text-align:center\">4</td>\n",
    "        <td style=\"text-align:center\">5</td>\n",
    "        <td style=\"text-align:center\">6</td>\n",
    "    </tr>\n",
    "</table>\n",
    "\n",
    "weighted sum = `5 * 4 + 4 * 3 + 5 * 2 + 3 * 3 + 8 * 4 + 7 * 5 + 2 * 6 = 130`\n",
    "\n",
    "2. Calculate the remainder of the sum when divided by `10`.\n",
    "\n",
    "remainder = `130 % 10 = 0`\n",
    "\n",
    "3. If the remainder is `0`, the check digit is `0`.  \n",
    "Otherwise, the check digit is **10 minus the remainder**.\n",
    "\n",
    "- Implement a function called `check_account()` that takes a 8-digit account number as a string and returns `True` if the number is valid; and `False` otherwise.\n",
    "- You may assume all input values are valid strings of 8-digits.\n",
    "\n",
    "You will be assessed, but not limited to, based on the standard output of the following function calls.  \n",
    "- `test_task_2()`\n",
    "\n",
    "<div style=\"text-align:right; font-weight:bold\">Marks: [5]</div>"
   ]
  },
  {
   "cell_type": "code",
   "execution_count": 4,
   "metadata": {},
   "outputs": [],
   "source": [
    "# Your code for Task 2 here\n",
    "def check_account(id):\n",
    "    weight = \"4323456\"\n",
    "    sum = 0\n",
    "    for i in range(7): # runs through every char from 0-6\n",
    "        # print(id[i], weight[i])\n",
    "        sum += int(id[i]) * int(weight[i]) # add product to sum\n",
    "        # print(\"sum\", sum)\n",
    "    \n",
    "    remainder = sum % 10\n",
    "    # print(sum, remainder)\n",
    "    if remainder == 0:\n",
    "        check_digit = 0\n",
    "    else:\n",
    "        check_digit = 10 - remainder\n",
    "    \n",
    "    if int(id[7]) == check_digit:\n",
    "        return True\n",
    "    else:\n",
    "        return False\n",
    "\n"
   ]
  },
  {
   "cell_type": "code",
   "execution_count": 5,
   "metadata": {},
   "outputs": [
    {
     "name": "stdout",
     "output_type": "stream",
     "text": [
      "True\n",
      "False\n",
      "True\n",
      "False\n",
      "True\n",
      "False\n"
     ]
    }
   ],
   "source": [
    "def test_task_2():\n",
    "    print(check_account(\"54538720\"))  # True\n",
    "    print(check_account(\"54538722\"))  # False\n",
    "\n",
    "    print(check_account(\"43245677\"))  # True\n",
    "    print(check_account(\"43245673\"))  # False\n",
    "\n",
    "    print(check_account(\"12345670\"))  # True\n",
    "    print(check_account(\"12345679\"))  # False\n",
    "    \n",
    "\n",
    "test_task_2()"
   ]
  },
  {
   "cell_type": "markdown",
   "metadata": {},
   "source": [
    "# Task 3 [Recursion]\n",
    "\n",
    "Implement a **recursive** function `for_HC()`.\n",
    "\n",
    "The function will take in a string `s` with lower case characters, and convert any lower case `'h'` and `'c'` to upper case `'H'` and `'C'`.\n",
    "\n",
    "For example:  \n",
    "`for_HC(\"hwa chong hwa chong fight fight fight!\")` should return `\"Hwa CHong Hwa CHong figHt figHt figHt!\"`\n",
    "\n",
    "- You are **not** allowed to use `replace()` or equivalent functions.\n",
    "\n",
    "You will be assessed, but not limited to, based on the standard output of the following function calls:  \n",
    "- `test_task_3()`\n",
    "\n",
    "<div style=\"text-align:right; font-weight:bold\">Marks: [4]</div>"
   ]
  },
  {
   "cell_type": "code",
   "execution_count": 6,
   "metadata": {},
   "outputs": [],
   "source": [
    "# Your code for Task 3 here\n",
    "def for_HC(s):\n",
    "    if s == \"\":\n",
    "        return \"\"\n",
    "    elif s[0] in \"hc\":\n",
    "        return s[0].upper() + for_HC(s[1:])\n",
    "    else:\n",
    "        return s[0] + for_HC(s[1:])\n"
   ]
  },
  {
   "cell_type": "code",
   "execution_count": 7,
   "metadata": {},
   "outputs": [
    {
     "name": "stdout",
     "output_type": "stream",
     "text": [
      "Hwa CHong Hwa CHong figHt figHt figHt!\n",
      "HC is tHe best!\n",
      "i love Computer sCienCe!\n"
     ]
    }
   ],
   "source": [
    "def test_task_3():\n",
    "    print(for_HC(\"hwa chong hwa chong fight fight fight!\"))  # Hwa CHong Hwa CHong figHt figHt figHt!\n",
    "    print(for_HC(\"hc is the best!\"))  # HC is tHe best!\n",
    "    print(for_HC(\"i love computer science!\"))  # i love Computer sCienCe!\n",
    "\n",
    "test_task_3()"
   ]
  },
  {
   "cell_type": "markdown",
   "metadata": {},
   "source": [
    "# Task 4.1\n",
    "Implement a function `multi_sum(n, m)` which takes in a value of `n` and `m`, where `n` is a **single-digit number** and calculate the result of `n + nn + nnn + ...` until `nn..n` (which repeats `n` for `m` times).\n",
    "\n",
    "For example,\n",
    "`multi_sum(4, 3)` should return `492`:  \n",
    "4 + 44 + 444 = 492\n",
    "\n",
    "- You should use **only** loops and simple maths operators.\n",
    "- You are **not** allowed to use `str()`, `len()` or any `String`, `Math`, or other system defined functions.\n",
    "\n",
    "You will be assessed, but not limited to, based on the standard output of the following function calls:  \n",
    "- `test_task_4_1()`\n",
    "\n",
    "<div style=\"text-align:right; font-weight:bold\">Marks: [3]</div>"
   ]
  },
  {
   "cell_type": "code",
   "execution_count": 8,
   "metadata": {},
   "outputs": [],
   "source": [
    "# Your code for Task 4.1 here\n",
    "def multi_sum(n, m):\n",
    "    i = 0 # number of digits\n",
    "    result = 0\n",
    "    while m != 0: # repeats for number of digits\n",
    "        to_add = 0\n",
    "        for j in range(i+1): # gets the value to add to sum\n",
    "            to_add += n * (10 ** j)\n",
    "        result += to_add\n",
    "        i += 1\n",
    "        m -= 1\n",
    "    return result\n"
   ]
  },
  {
   "cell_type": "code",
   "execution_count": 9,
   "metadata": {},
   "outputs": [
    {
     "name": "stdout",
     "output_type": "stream",
     "text": [
      "492\n",
      "36\n",
      "615\n",
      "24690\n",
      "123456789\n",
      "4\n"
     ]
    }
   ],
   "source": [
    "def test_task_4_1():\n",
    "    print(multi_sum(4, 3))  # 492\n",
    "    print(multi_sum(3, 2))  # 36\n",
    "    print(multi_sum(5, 3))  # 615\n",
    "    print(multi_sum(2, 5))  # 24690\n",
    "    print(multi_sum(1, 9))  # 123456789\n",
    "    print(multi_sum(4, 1))  # 4\n",
    "\n",
    "test_task_4_1()"
   ]
  },
  {
   "cell_type": "markdown",
   "metadata": {},
   "source": [
    "# Task 4.2 [Challenge by Choice]\n",
    "Implement a function `multi_sum2(n, m)` which takes in a value of `n` and `m`, where `n` is **any positive integer** and calculate the result of `n + nn + nnn + ...` until `nn..n` (which repeats `n` for `m` times).\n",
    "\n",
    "For example,\n",
    "`multi_sum2(456, 3)` should return `456913368`:  \n",
    "456 + 456456 + 456456456 = 456913368\n",
    "\n",
    "- You should use **only** loops and simple maths operators.\n",
    "- You are **not** allowed to use `str()`, `len()` or any `String`, `Math`, or other system defined functions.\n",
    "\n",
    "You will be assessed, but not limited to, based on the standard output of the following function calls:  \n",
    "- `test_task_4_2()`\n",
    "\n",
    "<div style=\"text-align:right; font-weight:bold\">Marks: [1]</div>"
   ]
  },
  {
   "cell_type": "code",
   "execution_count": 10,
   "metadata": {},
   "outputs": [],
   "source": [
    "# Your code for Task 4.2 here\n",
    "def multi_sum2(n, m):\n",
    "    temp_n = n\n",
    "    # number of digits in n\n",
    "    n_digits = 0\n",
    "    while temp_n != 0:\n",
    "        n_digits += 1\n",
    "        temp_n //= 10\n",
    "    # print(\"n_digits=\", n_digits)\n",
    "\n",
    "    i = 0 # number of digits\n",
    "    result = 0\n",
    "    while m != 0: # repeats for number of digits\n",
    "        to_add = 0\n",
    "        for j in range(i+1): # gets the value to add to sum\n",
    "            to_add += n * (10 ** j*(n_digits**2))\n",
    "        result += to_add\n",
    "        i += 1\n",
    "        m -= 1\n",
    "    return result\n"
   ]
  },
  {
   "cell_type": "code",
   "execution_count": 11,
   "metadata": {},
   "outputs": [
    {
     "name": "stdout",
     "output_type": "stream",
     "text": [
      "504792\n",
      "10961622\n",
      "13284\n",
      "7101\n",
      "5627887424622\n"
     ]
    }
   ],
   "source": [
    "def test_task_4_2():\n",
    "    print(multi_sum2(456, 3))  # 456913368\n",
    "    print(multi_sum2(987, 4))  # 988976964948\n",
    "    print(multi_sum2(123, 2))  # 123246\n",
    "    print(multi_sum2(789, 1))  # 789\n",
    "    print(multi_sum2(564878794, 3))  # 564878795129757589694636382\n",
    "\n",
    "test_task_4_2()"
   ]
  }
 ],
 "metadata": {
  "kernelspec": {
   "display_name": "Python 3 (ipykernel)",
   "language": "python",
   "name": "python3"
  },
  "language_info": {
   "codemirror_mode": {
    "name": "ipython",
    "version": 3
   },
   "file_extension": ".py",
   "mimetype": "text/x-python",
   "name": "python",
   "nbconvert_exporter": "python",
   "pygments_lexer": "ipython3",
   "version": "3.11.4"
  }
 },
 "nbformat": 4,
 "nbformat_minor": 4
}
