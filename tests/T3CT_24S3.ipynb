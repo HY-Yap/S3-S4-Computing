{
 "cells": [
  {
   "cell_type": "markdown",
   "metadata": {},
   "source": [
    "# YEAR 2024 - Sec 3 Term 3 Class Test\n",
    "\n",
    "**<font color='red'>\n",
    "</font>**"
   ]
  },
  {
   "cell_type": "markdown",
   "metadata": {},
   "source": [
    "# READ THESE INSTRUCTIONS FIRST\n",
    "\n",
    "Answer **all** questions and **save** your work constantly.\n",
    "\n",
    "All tasks must be done in the computer laboratory. You are not allowed to bring in or bring out any piece of work, materials, paper or electronic media or in any other form.\n",
    "\n",
    "The number of marks is given in brackets [ ] at the end of each question or part question.\n",
    "\n",
    "You are reminded of the need for clear presentation in your answers. Please provide comments where appropriate and ensure the use of descriptive variable and function names.\n",
    "\n",
    "If any cell is accidentally deleted in the jupyter notebook, you may refer to the html file to recover the content.\n",
    "\n",
    "You are allowed to add new cells to the notebook, but please make sure to write meaningful comments to explain the purpose.\n",
    "\n",
    "At the end of the examination, **SAVE** all the changes in the notebook, and save all your source files in the thumb drive and do **NOT** delete your source files.\n",
    "\n",
    "You are strongly encouraged to manage your time well.\n",
    "\n",
    "<div style=\"text-align:right; font-weight:bold\">Total Marks: [18]</div>"
   ]
  },
  {
   "cell_type": "code",
   "execution_count": 1,
   "metadata": {},
   "outputs": [
    {
     "name": "stdout",
     "output_type": "stream",
     "text": [
      "All the best for this paper!\n"
     ]
    }
   ],
   "source": [
    "# Test Run Code Cell:\n",
    "print(\"All the best for this paper!\")"
   ]
  },
  {
   "cell_type": "markdown",
   "metadata": {},
   "source": [
    "# Task 1\n",
    "Implement the **optimized bubble sort** algorithm, which accepts a `list` as input and returns a `string`. This `string` should include the initial values of the `list`, followed by the updated list after each **outer** iteration, with each iteration separated by a newline character (`\"\\n\"`).\n",
    "\n",
    "The list should be sorted in **descending** order.\n",
    "\n",
    "You will be assessed, but not limited to, based on the standard output of the following function calls:  \n",
    "- `test_task_1()`\n",
    "\n",
    "<div style=\"text-align:right; font-weight:bold\">[5]</div>"
   ]
  },
  {
   "cell_type": "code",
   "execution_count": 2,
   "metadata": {},
   "outputs": [
    {
     "data": {
      "text/plain": [
       "'[3, 1, 2, 4]\\n[3, 2, 4, 1]\\n[3, 4, 2, 1]\\n[4, 3, 2, 1]\\n'"
      ]
     },
     "execution_count": 2,
     "metadata": {},
     "output_type": "execute_result"
    }
   ],
   "source": [
    "# Your code for Task 1.1 here\n",
    "input_lst_01 = [3, 2, 1]\n",
    "input_lst_02 = [3, 1, 2, 4]\n",
    "\n",
    "def opt_bs(lst):\n",
    "    result = f\"{str(lst)}\\n\"\n",
    "    for i in range(len(lst)-1):\n",
    "        swapped = False\n",
    "        for j in range(len(lst)-i-1):\n",
    "            if lst[j] < lst[j+1]:\n",
    "                lst[j], lst[j+1] = lst[j+1], lst[j]\n",
    "                swapped = True\n",
    "        result = result + f\"{str(lst)}\\n\"\n",
    "        if not swapped:\n",
    "            break\n",
    "    return result\n",
    "\n",
    "opt_bs(input_lst_02)\n"
   ]
  },
  {
   "cell_type": "code",
   "execution_count": 3,
   "metadata": {},
   "outputs": [
    {
     "name": "stdout",
     "output_type": "stream",
     "text": [
      "'[3, 2, 1]\\n[3, 2, 1]\\n'\n",
      "'[3, 2, 1]\\n[3, 2, 1]\\n'\n",
      "True\n",
      "'[4, 3, 2, 1]\\n[4, 3, 2, 1]\\n'\n",
      "'[3, 1, 2, 4]\\n[3, 2, 4, 1]\\n[3, 4, 2, 1]\\n[4, 3, 2, 1]\\n[4, 3, 2, 1]\\n'\n",
      "False\n"
     ]
    }
   ],
   "source": [
    "# Test for Task 1:\n",
    "expected_01 = \"\"\"\n",
    "[3, 2, 1]\n",
    "[3, 2, 1]\n",
    "\"\"\"[1:]\n",
    "\n",
    "expected_02 = \"\"\"\n",
    "[3, 1, 2, 4]\n",
    "[3, 2, 4, 1]\n",
    "[3, 4, 2, 1]\n",
    "[4, 3, 2, 1]\n",
    "[4, 3, 2, 1]\n",
    "\"\"\"[1:]\n",
    "\n",
    "def test_task_01():\n",
    "    # remove repr() if you want to see the printed output\n",
    "    result_01 = opt_bs(input_lst_01)\n",
    "    print(repr(result_01))\n",
    "    print(repr(expected_01))\n",
    "    print(result_01 == expected_01)\n",
    "\n",
    "    result_02 = opt_bs(input_lst_02)\n",
    "    print(repr(result_02))\n",
    "    print(repr(expected_02))\n",
    "    print(result_02 == expected_02)\n",
    "\n",
    "test_task_01()"
   ]
  },
  {
   "cell_type": "markdown",
   "metadata": {},
   "source": [
    "# Task 2\n",
    "\n",
    "You are given two text files: `stock.txt`, which contains the initial stock count for each product, and `sales_rec.txt`, which contains a record of sales transactions. Each line in `sales_rec.txt` represents either a date or a product sold. \n",
    "\n",
    "Your task is to write a Python program that performs the following tasks:\n",
    "\n",
    "- Read the contents of `stock.txt` and `sales_rec.txt` files.\n",
    "- Update the stock count for each product based on the sales record.\n",
    "- Using the **last date** found in the sales record, write the updated stock count to a new file named `updated_stock.txt`.\n",
    "\n",
    "Sample output for `updated_stock.txt` (You may refer to `updated_stock_sample.txt` for reference):\n",
    "\n",
    "``` code\n",
    "Last updated on: 2024-01-03\n",
    "apple, 46\n",
    "banana, 26\n",
    "orange, 18\n",
    "grape, 39\n",
    "```\n",
    "\n",
    "You may assume all data are valid.\n",
    "\n",
    "You will be assessed, but not limited to, based on the file `updated_stock.txt` generated by your program.\n",
    "\n",
    "<div style=\"text-align:right; font-weight:bold\">Marks: [8]</div>"
   ]
  },
  {
   "cell_type": "code",
   "execution_count": 4,
   "metadata": {},
   "outputs": [],
   "source": [
    "# Your code for Task 2 here\n",
    "stock_file = \"data_files/stock.txt\"\n",
    "sales_file = \"data_files/sales_rec.txt\"\n",
    "sample_file = \"data_files/updated_stock_sample.txt\"\n",
    "output_file = \"updated_stock.txt\"\n",
    "\n",
    "def update_stock():\n",
    "    with open(\"data_files/stock.txt\", \"r\") as f:\n",
    "        stock_dict = {}\n",
    "        line = f.readline()\n",
    "        while line:\n",
    "            stock_list = line.strip().split(\", \")\n",
    "            # print(stock_list)\n",
    "            stock_dict[stock_list[0]] = int(stock_list[1])\n",
    "            line = f.readline()\n",
    "        # print(stock_dict)\n",
    "    \n",
    "    with open(\"data_files/sales_rec.txt\", \"r\") as f:\n",
    "        last_updated = \"\"\n",
    "        line = f.readline()\n",
    "        while line:\n",
    "            item = line.strip()\n",
    "            if item not in stock_dict.keys():\n",
    "                last_updated = item\n",
    "                # print(last_updated)\n",
    "            else:\n",
    "                stock_dict[item] -= 1\n",
    "            line = f.readline()\n",
    "        # print(stock_dict)\n",
    "    \n",
    "    with open(\"updated_stock.txt\", \"w\") as f:\n",
    "        f.write(f'Last updated on: {last_updated}\\n')\n",
    "        for key in stock_dict:\n",
    "            f.write(f'{key}, {stock_dict[key]}\\n')\n",
    "\n",
    "update_stock()"
   ]
  },
  {
   "cell_type": "code",
   "execution_count": 5,
   "metadata": {},
   "outputs": [
    {
     "name": "stdout",
     "output_type": "stream",
     "text": [
      "True\n"
     ]
    }
   ],
   "source": [
    "# Test for Task 2:\n",
    "def compare_files(file1, file2):\n",
    "    with open(file1, \"r\") as f:\n",
    "        f1 = f.read()\n",
    "    with open(file2, \"r\") as f:\n",
    "        f2 = f.read()\n",
    "    return f1 == f2\n",
    "\n",
    "def test_task_02():\n",
    "    update_stock()\n",
    "    print(compare_files(output_file, sample_file))\n",
    "\n",
    "test_task_02()"
   ]
  },
  {
   "cell_type": "markdown",
   "metadata": {},
   "source": [
    "# Task 3.1\n",
    "\n",
    "`data` is a `list` of `tuple`s containing `string` and `int` values.\n",
    "\n",
    "```python\n",
    "data = [\n",
    "    ('Alice', 25, 'Engineer', 50000, 'NY', 100),\n",
    "    ('Bob', 30, 'Doctor', 120000, 'CA', 200),\n",
    "    ('Charlie', 28, 'Teacher', 40000, 'TX', 150),\n",
    "    ('Diana', 35, 'Engineer', 70000, 'NY', 300),\n",
    "    ('Eve', 32, 'Doctor', 130000, 'CA', 400),\n",
    "    ('Frank', 29, 'Teacher', 45000, 'TX', 250),\n",
    "    ('Grace', 27, 'Engineer', 60000, 'NY', 350),\n",
    "    ('Hannah', 33, 'Doctor', 140000, 'CA', 450),\n",
    "    ('Ivan', 31, 'Teacher', 50000, 'TX', 300),\n",
    "    ('John', 26, 'Engineer', 55000, 'NY', 400)\n",
    "]\n",
    "```\n",
    "\n",
    "Write a function `filter_rows_by_value(data, col_index, value)` that filters rows based on the value in a specific column.\n",
    "\n",
    "Example usage: \n",
    "`filter_rows_by_value(data, 2, 'Engineer')` should filter the rows where column index `2` has the value 'Engineer'.\n",
    "\n",
    "You will be assessed, but not limited to, based on the standard output of the following function calls:  \n",
    "- `test_task_03_01()`\n",
    "\n",
    "<div style=\"text-align:right; font-weight:bold\">Marks: [2]</div>"
   ]
  },
  {
   "cell_type": "code",
   "execution_count": 6,
   "metadata": {},
   "outputs": [],
   "source": [
    "# Your code for Task 3.1 here\n",
    "data = [\n",
    "    ('Alice', 25, 'Engineer', 50000, 'NY', 100),\n",
    "    ('Bob', 30, 'Doctor', 120000, 'CA', 200),\n",
    "    ('Charlie', 28, 'Teacher', 40000, 'TX', 150),\n",
    "    ('Diana', 35, 'Engineer', 70000, 'NY', 300),\n",
    "    ('Eve', 32, 'Doctor', 130000, 'CA', 400),\n",
    "    ('Frank', 29, 'Teacher', 45000, 'TX', 250),\n",
    "    ('Grace', 27, 'Engineer', 60000, 'NY', 350),\n",
    "    ('Hannah', 33, 'Engineer', 140000, 'CA', 450),\n",
    "    ('Ivan', 30, 'Teacher', 50000, 'TX', 300),\n",
    "    ('John', 26, 'Engineer', 55000, 'NY', 400)\n",
    "]\n",
    "\n",
    "def filter_rows_by_value(data, col, value):\n",
    "    filtered_lst = []\n",
    "    for item in data:\n",
    "        if item[col] == value:\n",
    "            filtered_lst.append(item)\n",
    "    # print(filtered_lst)\n",
    "    return filtered_lst\n"
   ]
  },
  {
   "cell_type": "code",
   "execution_count": 7,
   "metadata": {},
   "outputs": [
    {
     "name": "stdout",
     "output_type": "stream",
     "text": [
      "[('Bob', 30, 'Doctor', 120000, 'CA', 200), ('Eve', 32, 'Doctor', 130000, 'CA', 400)]\n",
      "True\n",
      "[('Charlie', 28, 'Teacher', 40000, 'TX', 150), ('Frank', 29, 'Teacher', 45000, 'TX', 250), ('Ivan', 30, 'Teacher', 50000, 'TX', 300)]\n",
      "True\n",
      "[('Bob', 30, 'Doctor', 120000, 'CA', 200), ('Ivan', 30, 'Teacher', 50000, 'TX', 300)]\n",
      "True\n"
     ]
    }
   ],
   "source": [
    "# Test for Task 3.1\n",
    "def test_task_03_01():\n",
    "    result_01 = filter_rows_by_value(data, 2, \"Doctor\")\n",
    "    expected_02 = [('Bob', 30, 'Doctor', 120000, 'CA', 200), ('Eve', 32, 'Doctor', 130000, 'CA', 400)]\n",
    "    print(result_01)\n",
    "    print(result_01 == expected_02)\n",
    "\n",
    "    result_02 = filter_rows_by_value(data, 4, \"TX\")\n",
    "    expected_02 = [('Charlie', 28, 'Teacher', 40000, 'TX', 150), ('Frank', 29, 'Teacher', 45000, 'TX', 250), ('Ivan', 30, 'Teacher', 50000, 'TX', 300)]\n",
    "    print(result_02)\n",
    "    print(result_02 == expected_02)\n",
    "\n",
    "    result_03 = filter_rows_by_value(data, 1, 30)\n",
    "    expected_03 = [('Bob', 30, 'Doctor', 120000, 'CA', 200), ('Ivan', 30, 'Teacher', 50000, 'TX', 300)]\n",
    "    print(result_03)\n",
    "    print(result_03 == expected_03)\n",
    "\n",
    "test_task_03_01()"
   ]
  },
  {
   "cell_type": "markdown",
   "metadata": {},
   "source": [
    "# Task 3.2\n",
    "\n",
    "`data` is a `list` of `tuple` containing `string` and `int` values.\n",
    "\n",
    "Write a function `sum_integer_columns(data)` that sums the integer columns, and store the result in a dictionary where the key is the column index and the value is the sum of the column.\n",
    "\n",
    "Example usage:\n",
    "`sum_integer_columns(data)` should return `{1: 296, 3: 760000, 5: 2900}`.\n",
    "\n",
    "You may assume the data type for each column is consistent.\n",
    "\n",
    "You will be assessed, but not limited to, based on the standard output of the following function calls:  \n",
    "- `test_task_03_02()`\n",
    "\n",
    "<div style=\"text-align:right; font-weight:bold\">Marks: [3]</div>"
   ]
  },
  {
   "cell_type": "code",
   "execution_count": 8,
   "metadata": {},
   "outputs": [],
   "source": [
    "# Your code for Task 3.2 here\n",
    "\n",
    "def sum_integer_columns(data):\n",
    "    result = {}\n",
    "    for tup in data:\n",
    "        for item in tup:\n",
    "            if type(item) == int:\n",
    "                # print(item)\n",
    "                if tup.index(item) in result:\n",
    "                    result[tup.index(item)] += item\n",
    "                else:\n",
    "                    result[tup.index(item)] = item\n",
    "    return result\n"
   ]
  },
  {
   "cell_type": "code",
   "execution_count": 9,
   "metadata": {},
   "outputs": [
    {
     "name": "stdout",
     "output_type": "stream",
     "text": [
      "{1: 296, 3: 760000, 5: 2900}\n",
      "True\n"
     ]
    }
   ],
   "source": [
    "# Test for Task 3.2\n",
    "data = [\n",
    "    ('Alice', 25, 'Engineer', 50000, 'NY', 100),\n",
    "    ('Bob', 30, 'Doctor', 120000, 'CA', 200),\n",
    "    ('Charlie', 28, 'Teacher', 40000, 'TX', 150),\n",
    "    ('Diana', 35, 'Engineer', 70000, 'NY', 300),\n",
    "    ('Eve', 32, 'Doctor', 130000, 'CA', 400),\n",
    "    ('Frank', 29, 'Teacher', 45000, 'TX', 250),\n",
    "    ('Grace', 27, 'Engineer', 60000, 'NY', 350),\n",
    "    ('Hannah', 33, 'Doctor', 140000, 'CA', 450),\n",
    "    ('Ivan', 31, 'Teacher', 50000, 'TX', 300),\n",
    "    ('John', 26, 'Engineer', 55000, 'NY', 400)\n",
    "]\n",
    "\n",
    "def test_task_03_02():\n",
    "    result = sum_integer_columns(data)\n",
    "    expected = {1: 296, 3: 760000, 5: 2900}\n",
    "    print(result)\n",
    "    print(result == expected)\n",
    "\n",
    "test_task_03_02()"
   ]
  }
 ],
 "metadata": {
  "kernelspec": {
   "display_name": "Python 3 (ipykernel)",
   "language": "python",
   "name": "python3"
  },
  "language_info": {
   "codemirror_mode": {
    "name": "ipython",
    "version": 3
   },
   "file_extension": ".py",
   "mimetype": "text/x-python",
   "name": "python",
   "nbconvert_exporter": "python",
   "pygments_lexer": "ipython3",
   "version": "3.12.4"
  }
 },
 "nbformat": 4,
 "nbformat_minor": 4
}
