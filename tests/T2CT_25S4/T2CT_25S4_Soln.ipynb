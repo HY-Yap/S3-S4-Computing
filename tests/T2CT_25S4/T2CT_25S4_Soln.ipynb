{
 "cells": [
  {
   "cell_type": "markdown",
   "metadata": {},
   "source": [
    "# YEAR 2025 - Sec 4 Term 2 Class Test\n",
    "\n",
    "**<font color='red'>\n",
    "</font>**"
   ]
  },
  {
   "cell_type": "markdown",
   "metadata": {},
   "source": [
    "# READ THESE INSTRUCTIONS FIRST\n",
    "\n",
    "Answer **all** questions and **save** your work constantly.\n",
    "\n",
    "All tasks must be done in the computer laboratory. You are not allowed to bring in or bring out any piece of work, materials, paper or electronic media or in any other form.\n",
    "\n",
    "The number of marks is given in brackets [ ] at the end of each question or part question.\n",
    "\n",
    "You are reminded of the need for clear presentation in your answers. Please provide comments where appropriate and ensure the use of descriptive variable and function names.\n",
    "\n",
    "If any cell is accidentally deleted in the jupyter notebook, you may refer to the html file to recover the content.\n",
    "\n",
    "You are allowed to add new cells to the notebook, but please make sure to write meaningful comments to explain the purpose.\n",
    "\n",
    "At the end of the examination, **SAVE** all the changes in the notebook, and save all your source files in the thumb drive and do **NOT** delete your source files.\n",
    "\n",
    "You are strongly encouraged to manage your time well.\n",
    "\n",
    "<div style=\"text-align:right; font-weight:bold\">Total Marks: [20]</div>"
   ]
  },
  {
   "cell_type": "code",
   "execution_count": 3,
   "metadata": {},
   "outputs": [
    {
     "name": "stdout",
     "output_type": "stream",
     "text": [
      "All the best for this paper!\n"
     ]
    }
   ],
   "source": [
    "# Test Run Code Cell:\n",
    "print(\"All the best for this paper!\")"
   ]
  },
  {
   "cell_type": "code",
   "execution_count": 5,
   "metadata": {},
   "outputs": [],
   "source": [
    "# Run to link to db and attempt to unlock db when needed.\n",
    "# if db is still locked, delete the db file and run Task 1.1 to Task 1.3 to reset the db.\n",
    "import sqlite3\n",
    "import csv\n",
    "\n",
    "# !NOTE: if db file does not exist, it will be created\n",
    "db_file = \"reno_contract.db\"\n",
    "conn = sqlite3.connect(db_file)\n",
    "conn.close()"
   ]
  },
  {
   "cell_type": "markdown",
   "metadata": {},
   "source": [
    "### Task 1\n",
    "\n",
    "RenoContract is a company providing a platform for contactors to find workers for home renovation. The company engages you to design a relational database solution.\n",
    "\n",
    "The following information of each `User` is stored:\n",
    "- `UserID` – auto increment integer value\n",
    "- `Name` – name of user\n",
    "- `Gender` – gender of user, to be stored as a single character, using either `'M'` or `'F'`, default the value to `'M'`\n",
    "- `Contact` – contact number of user\n",
    "- `AcctType` – account type of user, can be either `'Contractor'` or `'Worker'`\n",
    "\n",
    "The following information of each `Job` is stored:\n",
    "- `JobID` – auto increment integer value to keep track of the ID of a Job\n",
    "- `JobName` – name of the job\n",
    "- `Description` – description of the job scope\n",
    "\n",
    "The following information of each `WorkerJob` is stored:\n",
    "- `WJID` – auto increment integer value to keep track of the ID of a Worker Job\n",
    "- `WorkerID` – user ID of worker\n",
    "- `JobID` – ID of job\n",
    "- `SkillLevel` – Skill level of this worker for this job, can be `'A'`, `'B'` or `'C'`\n",
    "- `HourlyRate` – hourly rate of this worker for this job\n",
    "\n",
    "The following information of each `ContractRecord` is stored:\n",
    "- `CRID` – auto increment integer value to keep track of the ID of a Contract Record\n",
    "- `ContractorID` – user ID of contractor\n",
    "- `WJID` – ID of worker job\n",
    "- `Location` – address of the contract location\n",
    "- `Date` – date of the contract\n",
    "- `StartingTime` – starting time of the contract\n",
    "- `EndingTime` – ending time of the contract  \n",
    "*Note: you may assume `Date` and `Time` are all in valid well-formated text string and there's no need to include check constraints.*"
   ]
  },
  {
   "cell_type": "markdown",
   "metadata": {},
   "source": [
    "#### Task 1.1\n",
    "Create tables `User`, `Job`, `WorkerJob`, and `ContractRecord` in a SQLite database named `reno_contract.db`.\n",
    "\n",
    "- The table `User` must use `UserID` as its primary key.\n",
    "- The table `Job` must use `JobID` as its primary key.\n",
    "- The table `WorkerJob` must use `WJID` as its primary key, while:\n",
    "  - `JobID` must refer to `JobID` in `Job` as foreign keys.\n",
    "  - `WorkerID` must refer to `UserID` in `User` as foreign keys.\n",
    "- The table `ContractRecord` should use `CRID` as its primary key, while:\n",
    "  - `ContractorID` must refer to `UserID` in `User`\n",
    "  - `WJID` must refer to `WJID` in `WorkerJob` as foreign keys.\n",
    "\n",
    "Please select appropriate **data types**, and include **not null**, **default** and **check** constraints where applicable based on the table specifications.\n",
    "\n",
    "Record the SQL commands in the cell below.\n",
    "\n",
    "<div style=\"text-align:right; font-weight:bold\">[6]</div>"
   ]
  },
  {
   "cell_type": "code",
   "execution_count": 6,
   "metadata": {},
   "outputs": [],
   "source": [
    "# Task 1.1\n",
    "# consider to use \"CREATE TABLE IF NOT EXISTS Tablename\",\n",
    "# to avoid error if table already exists\n",
    "\n",
    "query1 = \"\"\"\n",
    "CREATE TABLE IF NOT EXISTS \"User\" (\n",
    "\t\"UserID\"\tINTEGER,\n",
    "\t\"Name\"\tTEXT NOT NULL,\n",
    "\t\"Contact\"\tTEXT NOT NULL,\n",
    "\t\"Gender\"\tTEXT NOT NULL DEFAULT 'M' CHECK(\"Gender\" IN ('M', 'F')),\n",
    "\t\"AcctType\"\tTEXT NOT NULL CHECK(\"AcctType\" IN ('Contractor', 'Worker')),\n",
    "\tPRIMARY KEY(\"UserID\" AUTOINCREMENT)\n",
    ");\n",
    "\"\"\"\n",
    "query2 = \"\"\"\n",
    "CREATE TABLE IF NOT EXISTS \"Job\" (\n",
    "\t\"JobID\"\tINTEGER,\n",
    "\t\"JobName\"\tTEXT NOT NULL,\n",
    "\t\"Description\"\tTEXT NOT NULL,\n",
    "\tPRIMARY KEY(\"JobID\" AUTOINCREMENT)\n",
    ");\n",
    "\"\"\"\n",
    "query3 = \"\"\"\n",
    "CREATE TABLE IF NOT EXISTS \"WorkerJob\" (\n",
    "\t\"WJID\"\tINTEGER,\n",
    "\t\"WorkerID\"\tINTEGER NOT NULL,\n",
    "\t\"JobID\"\tINTEGER NOT NULL,\n",
    "\t\"SkillLevel\"\tTEXT NOT NULL CHECK(\"SkillLevel\" IN ('A', 'B', 'C')),\n",
    "\t\"HourlyRate\"\tREAL NOT NULL,\n",
    "\tFOREIGN KEY(\"WorkerID\") REFERENCES \"User\"(\"UserID\"),\n",
    "\tFOREIGN KEY(\"JobID\") REFERENCES \"Job\"(\"JobID\"),\n",
    "\tPRIMARY KEY(\"WJID\" AUTOINCREMENT)\n",
    ");\n",
    "\"\"\"\n",
    "query4 = \"\"\"\n",
    "CREATE TABLE IF NOT EXISTS \"ContractRecord\" (\n",
    "\t\"CRID\"\tINTEGER,\n",
    "\t\"ContractorID\"\tINTEGER NOT NULL,\n",
    "\t\"WJID\"\tINTEGER NOT NULL,\n",
    "\t\"Location\"\tTEXT NOT NULL,\n",
    "    \"Date\"\tTEXT NOT NULL,\n",
    "\t\"StartingTime\"\tTEXT NOT NULL,\n",
    "\t\"EndingTime\"\tTEXT NOT NULL,\n",
    "\tFOREIGN KEY(\"ContractorID\") REFERENCES \"User\"(\"UserID\"),\n",
    "\tFOREIGN KEY(\"WJID\") REFERENCES \"WorkerJob\"(\"WJID\"),\n",
    "\tPRIMARY KEY(\"CRID\" AUTOINCREMENT)\n",
    ");\n",
    "\"\"\"\n",
    "\n",
    "queries = [query1, query2, query3, query4]"
   ]
  },
  {
   "cell_type": "markdown",
   "metadata": {},
   "source": [
    "#### Task 1.2\n",
    "\n",
    "Write Python code to create the database `reno_contract.db` and the tables `User`, `Job`, `WorkerJob`, and `ContractRecord` in the database.\n",
    "\n",
    "<div style=\"text-align:right; font-weight:bold\">[2]</div>"
   ]
  },
  {
   "cell_type": "code",
   "execution_count": 7,
   "metadata": {},
   "outputs": [],
   "source": [
    "# Task 1.2\n",
    "\n",
    "conn = sqlite3.connect(db_file)\n",
    "for query in queries:\n",
    "    conn.execute(query)\n",
    "conn.commit()\n",
    "conn.close()"
   ]
  },
  {
   "cell_type": "markdown",
   "metadata": {},
   "source": [
    "#### Task 1.3\n",
    "\n",
    "The files `users.csv`, `jobs.csv`, `workerjobs.csv` and `records.csv` in the `data_files` folder contain information about users, jobs, worker skills, and contract records. The first row of each file contains the header of the respective columns. Each row in the files is a comma-separated list of values.\n",
    "\n",
    "Write a Python program to insert all information from the files into the database, `reno_contract.db`.\n",
    "\n",
    "<div style=\"text-align:right; font-weight:bold\">[7]</div>"
   ]
  },
  {
   "cell_type": "code",
   "execution_count": 8,
   "metadata": {},
   "outputs": [],
   "source": [
    "table_files = {\n",
    "    \"User\": \"users.csv\",\n",
    "    \"Job\": \"jobs.csv\",\n",
    "    \"WorkerJob\": \"workerjobs.csv\",\n",
    "    \"ContractRecord\": \"records.csv\",\n",
    "}\n",
    "\n",
    "# Task 1.3\n",
    "def read_csv_to_db(table):\n",
    "    file_name = table_files[table]\n",
    "    conn = sqlite3.connect(db_file)\n",
    "    with open(f\"data_files/{file_name}\", 'r') as f:\n",
    "        csvreader = csv.reader(f)\n",
    "        header = next(csvreader)\n",
    "        placeholders = \",\".join([\"?\" for _ in header])\n",
    "\n",
    "        for row in csvreader:\n",
    "            query = f\"\"\"\n",
    "            INSERT INTO {table}\n",
    "            {tuple(header)}\n",
    "            VALUES\n",
    "            ({placeholders})\n",
    "            \"\"\"\n",
    "            try:\n",
    "                conn.execute(query, tuple(row))\n",
    "            except sqlite3.Error as e:\n",
    "                if 'UNIQUE constraint failed' in str(e):\n",
    "                    # print(f\"Row already inserted. Skipping row: {row}\")\n",
    "                    continue\n",
    "                else:\n",
    "                    print(f\"Error inserting row: {row}\")\n",
    "                    print(e)\n",
    "            \n",
    "    conn.commit()\n",
    "    conn.close()\n",
    "\n",
    "for table in table_files:\n",
    "    read_csv_to_db(table)"
   ]
  },
  {
   "cell_type": "markdown",
   "metadata": {},
   "source": [
    "#### Task 1.4\n",
    "\n",
    "Implement a function, `search_worker_cr(name)`, to search and display all contract records of a worker. Using the worker's `Name`, such as `'Goh Yi Xi'`, query and display a list of data with the following fields, sorted in ascending order by date:\n",
    "\n",
    "| Name        | Contact | Date       | StartingTime | EndingTime | JobName   | HourlyRate |\n",
    "|-------------|---------|------------|--------------|------------|-----------|------------|\n",
    "| ...         | ...     | ...        | ...          | ...        | ...       | ...        |\n",
    "\n",
    "Sample Output for `test_task_1_4()`:\n",
    "\n",
    "```python\n",
    "|Name        |   Contact|      Date|   StartingTime|EndingTime|   JobName|HourlyRate|\n",
    "-------------------------------------------------------------------------------------\n",
    "|Goh Yi Xi   |  99634088|  20210807|           0900|      1800|  Painting|$    32.00|\n",
    "|Goh Yi Xi   |  99634088|  20210813|           1000|      1800|   Ceiling|$    24.00|\n",
    "...\n",
    "```\n",
    "*Note: the function `display_data()` is provided to display the data in a table format. You are not required to implement the function by yourself.*\n",
    "\n",
    "<div style=\"text-align:right; font-weight:bold\">[5]</div>"
   ]
  },
  {
   "cell_type": "code",
   "execution_count": 9,
   "metadata": {},
   "outputs": [],
   "source": [
    "# Task 1.4\n",
    "\n",
    "def search_worker_cr(name):\n",
    "    query = \"\"\"\n",
    "    SELECT Name, Contact, Date, StartingTime, EndingTime, JobName, HourlyRate\n",
    "    FROM ContractRecord\n",
    "    INNER JOIN WorkerJob ON WorkerJob.WJID = ContractRecord.WJID\n",
    "    INNER JOIN Job ON Job.JobID = WorkerJob.JobID\n",
    "    INNER JOIN User ON User.UserID = WorkerJob.WorkerID\n",
    "    WHERE Name = ?\n",
    "    ORDER BY Date ASC\n",
    "    \"\"\"\n",
    "    conn = sqlite3.connect(db_file)\n",
    "    cursor = conn.cursor()\n",
    "    cursor.execute(query, (name,))\n",
    "    results = cursor.fetchall()\n",
    "    conn.close()\n",
    "    return results\n"
   ]
  },
  {
   "cell_type": "code",
   "execution_count": 10,
   "metadata": {},
   "outputs": [
    {
     "name": "stdout",
     "output_type": "stream",
     "text": [
      "|Name        |   Contact|      Date|   StartingTime|EndingTime|   JobName|HourlyRate|\n",
      "-------------------------------------------------------------------------------------\n",
      "|Goh Yi Xi   |  99634088|  20210807|           0900|      1800|  Painting|$    32.00|\n",
      "|Goh Yi Xi   |  99634088|  20210813|           1000|      1800|   Ceiling|$    24.00|\n",
      "|Goh Yi Xi   |  99634088|  20210815|           0900|      1600|  Painting|$    32.00|\n"
     ]
    }
   ],
   "source": [
    "# Task 1.4 Test\n",
    "def display_data(data):\n",
    "    # | Name        | Contact | Date       | StartingTime | EndingTime | JobName   | HourlyRate |\n",
    "    header = f\"|{'Name':<12}|{'Contact':>10}|{'Date':>10}|{'StartingTime':>15}|{'EndingTime':>10}|{'JobName':>10}|{'HourlyRate':>10}|\"\n",
    "    print(header)\n",
    "    print(\"-\" * len(header))\n",
    "    if data is not None:\n",
    "        for row in data:\n",
    "            print(f\"|{row[0]:<12}|{row[1]:>10}|{row[2]:>10}|{row[3]:>15}|{row[4]:>10}|{row[5]:>10}|${row[6]:>9.2f}|\")\n",
    "\n",
    "def test_task_1_4():\n",
    "    data = search_worker_cr(\"Goh Yi Xi\")\n",
    "    display_data(data)\n",
    "\n",
    "test_task_1_4()"
   ]
  }
 ],
 "metadata": {
  "kernelspec": {
   "display_name": "Python 3",
   "language": "python",
   "name": "python3"
  },
  "language_info": {
   "codemirror_mode": {
    "name": "ipython",
    "version": 3
   },
   "file_extension": ".py",
   "mimetype": "text/x-python",
   "name": "python",
   "nbconvert_exporter": "python",
   "pygments_lexer": "ipython3",
   "version": "3.12.4"
  }
 },
 "nbformat": 4,
 "nbformat_minor": 4
}
