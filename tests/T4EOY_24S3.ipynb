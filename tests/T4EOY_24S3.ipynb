{
 "cells": [
  {
   "cell_type": "markdown",
   "metadata": {},
   "source": [
    "# YEAR 2024 - Sec 3 End of Year Examination\n",
    "\n",
    "**<font color='red'>\n",
    "</font>**"
   ]
  },
  {
   "cell_type": "markdown",
   "metadata": {},
   "source": [
    "# READ THESE INSTRUCTIONS FIRST\n",
    "\n",
    "Answer **all** questions and **save** your work constantly.\n",
    "\n",
    "All tasks must be done in the computer laboratory. You are not allowed to bring in or bring out any piece of work, materials, paper or electronic media or in any other form.\n",
    "\n",
    "The number of marks is given in brackets [ ] at the end of each question or part question.\n",
    "\n",
    "You are reminded of the need for clear presentation in your answers. Please provide comments where appropriate and ensure the use of descriptive variable and function names.\n",
    "\n",
    "If any cell is accidentally deleted in the jupyter notebook, you may refer to the html file to recover the content.\n",
    "\n",
    "You are allowed to add new cells to the notebook, but please make sure to write meaningful comments to explain the purpose.\n",
    "\n",
    "At the end of the examination, **SAVE** all the changes in the notebook, and save all your source files in the thumb drive and do **NOT** delete your source files.\n",
    "\n",
    "You are strongly encouraged to manage your time well.\n",
    "\n",
    "<div style=\"text-align:right; font-weight:bold\">Total Marks: [40]</div>"
   ]
  },
  {
   "cell_type": "code",
   "execution_count": 2,
   "metadata": {},
   "outputs": [
    {
     "name": "stdout",
     "output_type": "stream",
     "text": [
      "All the best for this paper!\n"
     ]
    }
   ],
   "source": [
    "# Test Run Code Cell:\n",
    "print(\"All the best for this paper!\")"
   ]
  },
  {
   "cell_type": "markdown",
   "metadata": {},
   "source": [
    "# Task 1.1\n",
    "\n",
    "Implement a function `comp_stu(stu1, stu2)` that takes in two `tuples` containing student information and returns a `boolean` value.\n",
    "\n",
    "Each `tuple` represents student information in the form of `(name, level, score)`. The function should first compare the `level` of the students. If the levels are equal, the function should then compare the `score` of the students.\n",
    "\n",
    "- `stu1` is considered **less** than `stu2` if `stu1` has a **smaller** `level` value.\n",
    "- If the `level` is the same, then `stu1` is considered **less** than `stu2` if `stu1` has a **smaller** `score` value.\n",
    "\n",
    "The function should return `True` if `stu1` is **less** than `stu2`, and `False` otherwise.\n",
    "\n",
    "You may assume that there are no commas in the student names, and no students have the same level and score.\n",
    "\n",
    "You will be assessed, but not limited to, based on the standard output of the following function calls:\n",
    "- `test_1_1()`\n",
    "\n",
    "\n",
    "<div style=\"text-align:right; font-weight:bold\">[2]</div>"
   ]
  },
  {
   "cell_type": "code",
   "execution_count": 3,
   "metadata": {},
   "outputs": [],
   "source": [
    "# Your code for Task 1.1\n",
    "\n",
    "def comp_stu(stu1, stu2):\n",
    "    tup1, tup2 = (stu1[1], stu1[2]), (stu2[1], stu2[2])\n",
    "    if tup1 < tup2:\n",
    "        return True\n",
    "    else:\n",
    "        return False"
   ]
  },
  {
   "cell_type": "code",
   "execution_count": 4,
   "metadata": {},
   "outputs": [
    {
     "name": "stdout",
     "output_type": "stream",
     "text": [
      "False\n",
      "True\n",
      "True\n"
     ]
    }
   ],
   "source": [
    "# Test code for Task 1.1\n",
    "def test_1_1():\n",
    "    stu1 = (\"Xiao Ming\", 3, 90)\n",
    "    stu2 = (\"Xiao Hong\", 3, 60)\n",
    "    stu3 = (\"Xiao Hua\", 4, 80)\n",
    "\n",
    "    print(comp_stu(stu1, stu2))  # False\n",
    "    print(comp_stu(stu2, stu3))  # True\n",
    "    print(comp_stu(stu1, stu3))  # True\n",
    "\n",
    "test_1_1()"
   ]
  },
  {
   "cell_type": "markdown",
   "metadata": {},
   "source": [
    "# Task 1.2\n",
    "\n",
    "Implement a **quicksort** function `qs_stu(stu_list)` that sorts a list of student information in ascending order based on the `level` and `score` of the students.\n",
    "\n",
    "You will be assessed, but not limited to, based on the standard output of the following function calls:\n",
    "- `test_1_2()`\n",
    "\n",
    "<div style=\"text-align:right; font-weight:bold\">[4]</div>"
   ]
  },
  {
   "cell_type": "code",
   "execution_count": 5,
   "metadata": {},
   "outputs": [],
   "source": [
    "# Your code for Task 1.2\n",
    "\n",
    "def qs_stu(stu_list):\n",
    "    if len(stu_list) <= 1:\n",
    "        return stu_list\n",
    "    else:\n",
    "        pivot = stu_list[0]\n",
    "        left, right = [], []\n",
    "\n",
    "        for item in stu_list[1:]:\n",
    "            if comp_stu(item, pivot):\n",
    "                left.append(item)\n",
    "            else:\n",
    "                right.append(item)\n",
    "        \n",
    "        sorted_left = qs_stu(left)\n",
    "        sorted_right = qs_stu(right)\n",
    "\n",
    "        return sorted_left + [pivot] + sorted_right\n"
   ]
  },
  {
   "cell_type": "code",
   "execution_count": 6,
   "metadata": {},
   "outputs": [
    {
     "name": "stdout",
     "output_type": "stream",
     "text": [
      "[('Xiao Hong', 3, 80), ('Xiao Ming', 3, 90), ('Xiao Hua', 4, 85)]\n",
      "[('Xiao Hong', 3, 80), ('Xiao Fang', 3, 85), ('Xiao Ming', 3, 90), ('Xiao Fang', 4, 80), ('Xiao Hua', 4, 85), ('Xiao Fang', 4, 88)]\n"
     ]
    }
   ],
   "source": [
    "# Test code for Task 1.2\n",
    "def test_1_2():\n",
    "    stu_list1 = [(\"Xiao Ming\", 3, 90), (\"Xiao Hong\", 3, 80), (\"Xiao Hua\", 4, 85)]\n",
    "    stu_list2 = [(\"Xiao Ming\", 3, 90), (\"Xiao Hong\", 3, 80), (\"Xiao Hua\", 4, 85), \n",
    "                (\"Xiao Fang\", 4, 88), (\"Xiao Fang\", 3, 85), (\"Xiao Fang\", 4, 80)]\n",
    "\n",
    "    print(qs_stu(stu_list1))  # [('Xiao Hong', 3, 80), ('Xiao Hua', 4, 85), ('Xiao Ming', 3, 90)]\n",
    "    print(qs_stu(stu_list2))  # [('Xiao Hong', 3, 80), ('Xiao Fang', 3, 85), ('Xiao Ming', 3, 90), ('Xiao Fang', 4, 80), ('Xiao Hua', 4, 85), ('Xiao Fang', 4, 88)]\n",
    "\n",
    "test_1_2()"
   ]
  },
  {
   "cell_type": "markdown",
   "metadata": {},
   "source": [
    "# Task 1.3\n",
    "All data files are stored in the `data_files` folder.\n",
    "\n",
    "Read the student information from the file `students.txt` and store it in a `list` of `tuples`. Each `tuple` should contain the student information in the form of `(name, level, score)`.\n",
    "\n",
    "Use the `qs_stu()` function to sort the `list` of student information.\n",
    "\n",
    "Then, store the sorted list in a new file called `students_sorted.txt`. Each line in the file should contain the student information in the form of `name,level,score`, where `name`, `level`, and `score` are separated by commas. There should be no spaces in front of or behind the commas.\n",
    "\n",
    "You can check the content of the file `expected_output.txt` to verify the correctness of your output.\n",
    "\n",
    "You will be assessed, but not limited to, based on the standard output of the following function calls:\n",
    "- `test_1_3()`\n",
    "\n",
    "<div style=\"text-align:right; font-weight:bold\">[4]</div>"
   ]
  },
  {
   "cell_type": "code",
   "execution_count": 7,
   "metadata": {},
   "outputs": [],
   "source": [
    "# Your code for Task 1.3\n",
    "\n",
    "with open(\"data_files/students.txt\", \"r\") as f1:\n",
    "    stu_lst = []\n",
    "    line = f1.readline()\n",
    "    while line:\n",
    "        stu_lst.append(tuple(line.strip().split(\",\")))\n",
    "        line = f1.readline()\n",
    "\n",
    "with open(\"data_files/students_sorted.txt\", \"w\") as f2:\n",
    "    sorted_stu = qs_stu(stu_lst)\n",
    "    for stu in sorted_stu:\n",
    "        f2.write(f'{stu[0]},{stu[1]},{stu[2]}\\n')\n"
   ]
  },
  {
   "cell_type": "code",
   "execution_count": 8,
   "metadata": {},
   "outputs": [
    {
     "name": "stdout",
     "output_type": "stream",
     "text": [
      "False\n"
     ]
    }
   ],
   "source": [
    "# Test code for Task 1.3\n",
    "def test_1_3():\n",
    "    with open(\"data_files/students_sorted.txt\", \"r\") as f:\n",
    "        sorted_data = f.read()\n",
    "    with open(\"data_files/expected_output.txt\", \"r\") as f:\n",
    "        sorted_solution = f.read()\n",
    "    print(sorted_data == sorted_solution)  # True\n",
    "\n",
    "test_1_3()"
   ]
  },
  {
   "cell_type": "markdown",
   "metadata": {},
   "source": [
    "# Task 2.1 - `CityObject` Class\n",
    "\n",
    "Implement `CityObject` class according to the UML class diagram and the attributes / methods specifications.\n",
    "\n",
    "<div style=\"text-align:right; font-weight:bold\">[4]</div>"
   ]
  },
  {
   "cell_type": "code",
   "execution_count": 9,
   "metadata": {},
   "outputs": [],
   "source": [
    "# Your code for Task 2.1 here\n",
    "class CityObject:\n",
    "    def __init__(self, name: str, abbr: str, size: int) -> None:\n",
    "        self._name = name\n",
    "        self._abbr = abbr\n",
    "        self._size = size\n",
    "    \n",
    "    def get_name(self) -> str:\n",
    "        return self._name\n",
    "    \n",
    "    def get_size(self) -> str:\n",
    "        return self._size\n",
    "    \n",
    "    def __str__(self) -> str:\n",
    "        return self._abbr\n"
   ]
  },
  {
   "cell_type": "markdown",
   "metadata": {},
   "source": [
    "# Task 2.2 - Test for `CityObject` Class\n",
    "\n",
    "Create an instance from the `CityObject` class and test out all the methods you have defined.\n",
    "\n",
    "`name: \"Test Object\", abbr: \"t\", size: 2`\n",
    "\n",
    "<div style=\"text-align:right; font-weight:bold\">[2]</div>"
   ]
  },
  {
   "cell_type": "code",
   "execution_count": 10,
   "metadata": {},
   "outputs": [
    {
     "name": "stdout",
     "output_type": "stream",
     "text": [
      "Test Object\n",
      "2\n",
      "t\n"
     ]
    }
   ],
   "source": [
    "# Your code for Task 2.2 here\n",
    "\n",
    "test_obj = CityObject(\"Test Object\", \"t\", 2)\n",
    "\n",
    "print(test_obj.get_name())\n",
    "print(test_obj.get_size())\n",
    "print(test_obj)\n"
   ]
  },
  {
   "cell_type": "markdown",
   "metadata": {},
   "source": [
    "# Task 2.3 – `Building` Class\n",
    "\n",
    "Implement `Building` class according to the UML class diagram and the attributes / methods specifications.\n",
    "\n",
    "<div style=\"text-align:right; font-weight:bold\">Marks: [3]</div>"
   ]
  },
  {
   "cell_type": "code",
   "execution_count": 11,
   "metadata": {},
   "outputs": [
    {
     "name": "stdout",
     "output_type": "stream",
     "text": [
      "Test Building\n",
      "1\n",
      "b\n",
      "{'coffee': (-5, 1), 'cake': (-10, 2)}\n"
     ]
    }
   ],
   "source": [
    "# Your code for Task 2.3 here\n",
    "\n",
    "class Building(CityObject):\n",
    "    def __init__(self, name: str, abbr: str, size: int) -> None:\n",
    "        super().__init__(name, abbr, size)\n",
    "        self._services = {}\n",
    "    \n",
    "    def add_service(self, service: str, cost: int, energy: int) -> None:\n",
    "        self._services[f\"{service}\"] = (cost, energy)\n",
    "\n",
    "    def get_services(self) -> dict:\n",
    "        return self._services\n",
    "\n",
    "test_building = Building(\"Test Building\", \"b\", 1)\n",
    "print(test_building.get_name())\n",
    "print(test_building.get_size())\n",
    "print(test_building)\n",
    "test_building.add_service(\"coffee\", -5, 1)\n",
    "test_building.add_service(\"cake\", -10, 2)\n",
    "print(test_building.get_services())"
   ]
  },
  {
   "cell_type": "markdown",
   "metadata": {},
   "source": [
    "# Task 2.4 – `Character` Class\n",
    "\n",
    "Implement `Character` class according to the UML class diagram and the attributes / methods specifications.\n",
    "\n",
    "<div style=\"text-align:right; font-weight:bold\">Marks: [8]</div>"
   ]
  },
  {
   "cell_type": "code",
   "execution_count": 12,
   "metadata": {},
   "outputs": [
    {
     "name": "stdout",
     "output_type": "stream",
     "text": [
      "Services available in Test Building:\n",
      "coffee: (-5, 1)\n",
      "cake: (-10, 2)\n",
      "\n",
      "Service selected: coffee\n",
      "\n",
      "Update successful.\n",
      "New values for money, energy: (95, 101)\n"
     ]
    }
   ],
   "source": [
    "# Your code for Task 2.4 here\n",
    "\n",
    "class Character(CityObject):\n",
    "    def __init__(self, name: str, abbr: str, money: int, energy: int) -> None:\n",
    "        super().__init__(name, abbr, size=1)\n",
    "        self._money = money\n",
    "        self._energy = energy\n",
    "    \n",
    "    def update_me(self, dm: int, de: int) -> bool:\n",
    "        if ((self._money + dm) < 0) or ((self._energy + de) < 0):\n",
    "            print(f\"Not enough money or energy.\\nCurrent money, energy: ({self._money}, {self._energy})\")\n",
    "            return False\n",
    "        else:\n",
    "            self._money += dm\n",
    "            self._energy += de\n",
    "            print(f\"Update successful.\\nNew values for money, energy: ({self._money}, {self._energy})\")\n",
    "            return True\n",
    "\n",
    "    def interact(self, building: Building) -> None:\n",
    "        print(f\"Services available in {building.get_name()}:\")\n",
    "        for key in building.get_services():\n",
    "            print(f\"{key}: {building.get_services()[key]}\")\n",
    "        usr_choice = input(\"Your choice: \")\n",
    "        print(f\"\\nService selected: {usr_choice}\\n\")\n",
    "        service = building.get_services()[usr_choice]\n",
    "        self.update_me(service[0], service[1])\n",
    "\n",
    "test_chr = Character(\"Han Yang\", \"H\", 100, 100)\n",
    "test_chr.interact(test_building)\n"
   ]
  },
  {
   "cell_type": "markdown",
   "metadata": {},
   "source": [
    "# Task 3.1 – `CityGrid` Class\n",
    "\n",
    "Implement `CityGrid` class according to the UML class diagram and the attributes / methods specifications.\n",
    "\n",
    "You can use `test_2_1()` to test your implementation. You are encouraged to remove or add test cases to check the correctness of your implementation.\n",
    "\n",
    "**Note**: When using VSCode, sometimes the output of the test cases may not be displayed when asking for user input. You can try re-run the test a few times or run the test in Jupyter Notebook.\n",
    "\n",
    "<div style=\"text-align:right; font-weight:bold\">Marks: [13]</div>"
   ]
  },
  {
   "cell_type": "code",
   "execution_count": 20,
   "metadata": {},
   "outputs": [
    {
     "name": "stdout",
     "output_type": "stream",
     "text": [
      "+-----+\n",
      "|h    |\n",
      "|     |\n",
      "|     |\n",
      "|     |\n",
      "|     |\n",
      "+-----+\n"
     ]
    }
   ],
   "source": [
    "# Test for Task 3.1\n",
    "\n",
    "class CityGrid:\n",
    "    def __init__(self, size: int, mc: Character) -> None:\n",
    "        self._size = size\n",
    "        self._mc = mc\n",
    "        self._mc_coords = (0, 0)\n",
    "        self._grid = [[None for _ in range(self._size)] for _ in range(self._size)]\n",
    "    \n",
    "    def reset(self) -> None:\n",
    "        self._grid = [[None for _ in range(self._size)] for _ in range(self._size)]\n",
    "\n",
    "    def get_mc(self) -> Character:\n",
    "        return self._mc\n",
    "    \n",
    "    def add_obj(self, obj: CityObject, x, y) -> None:\n",
    "        obj_size = obj.get_size()\n",
    "        if ((x + obj_size) > self._size) or ((y + obj_size) > self._size):\n",
    "            print(\"Object does not fit in the grid\")\n",
    "        else:\n",
    "            covered_coor = [] # find list of covered coordinates\n",
    "            for row in range(obj_size):\n",
    "                for col in range(obj_size):\n",
    "                    covered_coor.append((x+row, y+col))\n",
    "            for coor in covered_coor:\n",
    "                # check if coordinate is already covered\n",
    "                if isinstance(self._grid[coor[0]][coor[1]], CityObject):\n",
    "                    print(\"Object overlaps with another object.\")\n",
    "                    return False\n",
    "            # all coordinates empty -> occupy the spaces\n",
    "            for coor in covered_coor:\n",
    "                self._grid[coor[0]][coor[1]] = obj\n",
    "            return True\n",
    "\n",
    "    def get_obj(self, x, y) -> CityObject:\n",
    "        return self._grid[x][y]\n",
    "\n",
    "    def display(self) -> None:\n",
    "        result = \"\"\n",
    "        border = \"+\" + \"-\"*self._size + \"+\"\n",
    "        result = border + \"\\n\"\n",
    "        for x in range(self._size):\n",
    "            result += \"|\"\n",
    "            for y in range(self._size):\n",
    "                if self._grid[x][y] is None:\n",
    "                    if self._mc_coords[0] == x and self._mc_coords[1] == y:\n",
    "                        # character is present\n",
    "                        result += str(self._mc).lower()\n",
    "                    else:\n",
    "                        # empty slot\n",
    "                        result += \" \"\n",
    "                elif self._mc_coords[0] == x and self._mc_coords[1] == y:\n",
    "                    # character is present with the building\n",
    "                    result += str(self._mc).upper()\n",
    "                else:\n",
    "                    # CityObject present, character not present\n",
    "                    result += str(self._grid[x][y])\n",
    "            result += \"|\\n\"\n",
    "        result += border\n",
    "        print(result)\n",
    "\n",
    "    def move_mc(self, x, y) -> None:\n",
    "        if (0 <= x < self._size) and (0 <= y < self._size):\n",
    "            # in range\n",
    "            print(f\"{self._mc.get_name()} moved to ({x}, {y})\")\n",
    "            if isinstance(self.get_obj(x, y), CityObject):\n",
    "                self._mc.interact(self.get_obj(x, y))\n",
    "        else:\n",
    "            # out of range\n",
    "            print(\"Unable to move the character, the new location is out of bounds.\")\n",
    "\n",
    "test_city = CityGrid(5, test_chr)\n",
    "# print(test_city._grid)\n",
    "test_city.display()\n",
    "# print(test_city._mc_coords)\n"
   ]
  },
  {
   "cell_type": "code",
   "execution_count": 23,
   "metadata": {},
   "outputs": [
    {
     "name": "stdout",
     "output_type": "stream",
     "text": [
      "Start:\n",
      "+----------+\n",
      "|cbb       |\n",
      "| bb       |\n",
      "|     rr   |\n",
      "|     rr   |\n",
      "|          |\n",
      "|   hh     |\n",
      "|   hh ppp |\n",
      "|      ppp |\n",
      "|      ppp |\n",
      "|          |\n",
      "+----------+\n",
      "Xiao Ming moved to (1, 1)\n",
      "Services available in Bank:\n",
      "deposit: (10, 0)\n",
      "withdraw: (-10, 0)\n"
     ]
    }
   ],
   "source": [
    "def test_3_1():\n",
    "    c = Character(\"Xiao Ming\", \"c\", 100, 3)\n",
    "    b1 = Building(\"Bank\", \"b\", 2)\n",
    "    b1.add_service(\"deposit\", 10, 0)\n",
    "    b1.add_service(\"withdraw\", -10, 0)\n",
    "\n",
    "    b2 = Building(\"Restaurant\", \"r\", 2)\n",
    "    b2.add_service(\"coffee\", -5, 1)\n",
    "    b2.add_service(\"cake\", -10, 2)\n",
    "    b2.add_service(\"work\", 10, -2)\n",
    "\n",
    "    b3 = Building(\"Park\", \"p\", 3)\n",
    "    b3.add_service(\"rest\", 0, 1)\n",
    "    b3.add_service(\"clean\", 5, -1)\n",
    "    b3.add_service(\"cycle\", -5, -2)\n",
    "    b3.add_service(\"jog\", 0, -1)\n",
    "\n",
    "    b4 = Building(\"Home\", \"h\", 2)\n",
    "    b4.add_service(\"rest\", 0, 1)\n",
    "    b4.add_service(\"work\", 10, -2)\n",
    "    b4.add_service(\"tv\", 0, 1)\n",
    "    b4.add_service(\"sleep\", 0, 3)\n",
    "\n",
    "    cg = CityGrid(10, c)\n",
    "    buildings = [b1, b2, b3, b4]\n",
    "    b_coords = [(0, 1), (2, 5), (6, 6), (5, 3)]\n",
    "    for i in range(len(buildings)):\n",
    "        b = buildings[i]\n",
    "        x, y = b_coords[i]\n",
    "        cg.add_obj(b, x, y)\n",
    "\n",
    "    print(\"Start:\")\n",
    "    cg.display()\n",
    "    moves = [(1, 1), (2, 2), (2, 5), (8, 8), (5, 3)]\n",
    "    for move in moves:\n",
    "        cg.move_mc(*move)\n",
    "\n",
    "test_3_1()"
   ]
  }
 ],
 "metadata": {
  "kernelspec": {
   "display_name": "Python 3 (ipykernel)",
   "language": "python",
   "name": "python3"
  },
  "language_info": {
   "codemirror_mode": {
    "name": "ipython",
    "version": 3
   },
   "file_extension": ".py",
   "mimetype": "text/x-python",
   "name": "python",
   "nbconvert_exporter": "python",
   "pygments_lexer": "ipython3",
   "version": "3.11.4"
  }
 },
 "nbformat": 4,
 "nbformat_minor": 4
}
