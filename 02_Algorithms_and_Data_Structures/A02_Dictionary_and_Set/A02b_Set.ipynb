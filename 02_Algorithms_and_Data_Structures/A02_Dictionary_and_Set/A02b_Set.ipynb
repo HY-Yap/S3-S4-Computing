{
 "cells": [
  {
   "cell_type": "markdown",
   "metadata": {},
   "source": [
    "# S02b - Set\n",
    "\n",
    "## Understanding Goals\n",
    "At the end of this chapter, you should be able to:\n",
    "- Understand the properties of a python set.\n",
    "\n",
    "You should know how to:\n",
    "- Create a set in python.\n",
    "- Access items in a set.\n",
    "- Implement common set operations."
   ]
  },
  {
   "cell_type": "markdown",
   "metadata": {},
   "source": []
  },
  {
   "cell_type": "markdown",
   "metadata": {},
   "source": [
    "## Section 1 - Properties of Python Set\n",
    "\n",
    "A Set is an unordered collection of items. Every element is unique (no duplicates) and must be immutable (which cannot be changed). However, the set itself is mutable. We can add or remove items from it.\n",
    "\n",
    "List of common immutable types:   \n",
    "`int, float, bool, string, tuple`\n",
    "\n",
    "List of common mutable types:  \n",
    "`list, dict, set`"
   ]
  },
  {
   "cell_type": "markdown",
   "metadata": {},
   "source": [
    "## Section 2 - Set Syntax\n",
    "\n",
    "### _2.1 Define a set_\n",
    "\n",
    "Keys of a dictionary must be hashable. Anything that is not mutable (mutable means, likely to change) can be hashed.\n",
    "\n",
    "List of common immutable types:   \n",
    "`int, float, bool, string, tuple`\n",
    "\n",
    "List of common mutable types:  \n",
    "`list, dict, set`"
   ]
  },
  {
   "cell_type": "markdown",
   "metadata": {},
   "source": [
    "The following codes demonstrate a typical declaration of a `set` object. Experiment the key/value pairs with other data types."
   ]
  },
  {
   "cell_type": "code",
   "execution_count": 5,
   "metadata": {},
   "outputs": [
    {
     "name": "stdout",
     "output_type": "stream",
     "text": [
      "{1, 2, 3, 4, 5}\n"
     ]
    }
   ],
   "source": [
    "my_set = {1, 2, 3, 4, 5}\n",
    "\n",
    "print(my_set)"
   ]
  },
  {
   "cell_type": "markdown",
   "metadata": {},
   "source": [
    "### _2.2 Access Set Elements_\n",
    "\n",
    "We cannot access items in a set by referring to an index, since sets are unordered the items has no index. But we can check if a specified value is present in a set, by using the `in` keyword."
   ]
  },
  {
   "cell_type": "code",
   "execution_count": 3,
   "metadata": {},
   "outputs": [
    {
     "name": "stdout",
     "output_type": "stream",
     "text": [
      "True\n",
      "False\n"
     ]
    }
   ],
   "source": [
    "print(1 in my_set)  # True\n",
    "print(6 in my_set)  # False"
   ]
  },
  {
   "cell_type": "markdown",
   "metadata": {},
   "source": [
    "### _2.3 Loop through a set_\n",
    "\n",
    "Use `for` loop to run through each item in a set."
   ]
  },
  {
   "cell_type": "code",
   "execution_count": 4,
   "metadata": {},
   "outputs": [
    {
     "name": "stdout",
     "output_type": "stream",
     "text": [
      "1\n",
      "2\n",
      "3\n",
      "4\n",
      "5\n"
     ]
    }
   ],
   "source": [
    "for item in my_set:\n",
    "    print(item)"
   ]
  },
  {
   "cell_type": "markdown",
   "metadata": {},
   "source": [
    "### _2.4 Insert/Update*/Delete Set Elements_\n",
    "\n",
    "Experiment with the following codes to see how to insert/update/delete items in a set."
   ]
  },
  {
   "cell_type": "code",
   "execution_count": 5,
   "metadata": {
    "scrolled": true
   },
   "outputs": [],
   "source": [
    "# insert a new item\n",
    "my_set.add(6)"
   ]
  },
  {
   "cell_type": "code",
   "execution_count": 6,
   "metadata": {},
   "outputs": [
    {
     "name": "stdout",
     "output_type": "stream",
     "text": [
      "{1, 2, 3, 4, 5, 6, 7, 8, 9}\n"
     ]
    }
   ],
   "source": [
    "# update* a set with a list of new items\n",
    "my_set.update([7, 8, 9])\n",
    "\n",
    "print(my_set)"
   ]
  },
  {
   "cell_type": "code",
   "execution_count": 8,
   "metadata": {},
   "outputs": [
    {
     "name": "stdout",
     "output_type": "stream",
     "text": [
      "{2, 3, 4, 5}\n"
     ]
    }
   ],
   "source": [
    "# remove an item from a set using remove()\n",
    "my_set = {1, 2, 3, 4, 5}\n",
    "\n",
    "my_set.remove(1)\n",
    "print(my_set)\n",
    "\n",
    "# uncomment the following line to see the error\n",
    "# my_set.remove(1)"
   ]
  },
  {
   "cell_type": "code",
   "execution_count": 14,
   "metadata": {},
   "outputs": [
    {
     "name": "stdout",
     "output_type": "stream",
     "text": [
      "{3, 4, 5}\n"
     ]
    }
   ],
   "source": [
    "# remove an item from a set using discard()\n",
    "my_set.discard(2)\n",
    "print(my_set)\n",
    "\n",
    "# uncomment the following line to see that discard() does not raise an error\n",
    "my_set.discard(2)"
   ]
  },
  {
   "attachments": {
    "image-2.png": {
     "image/png": "[encoded data removed]"
    }
   },
   "cell_type": "markdown",
   "metadata": {},
   "source": [
    "### _2.5 Set Operations_\n",
    "\n",
    "Set has a bunch of useful methods to perform mathematical set operations like `union()`, `intersection()`, `difference()`, `symmetric_difference()` etc.\n",
    "\n",
    "We can do this with operators or methods.\n",
    "\n",
    "![image-2.png](attachment:image-2.png)"
   ]
  },
  {
   "cell_type": "code",
   "execution_count": 15,
   "metadata": {},
   "outputs": [
    {
     "name": "stdout",
     "output_type": "stream",
     "text": [
      "{1, 2, 3, 4, 5, 6, 7, 8, 9, 10}\n",
      "{1, 2, 3, 4, 5, 6, 7, 8, 9, 10}\n"
     ]
    }
   ],
   "source": [
    "# union of two sets\n",
    "odds = {1, 3, 5, 7, 9}\n",
    "evens = {2, 4, 6, 8, 10}\n",
    "prime = {2, 3, 5, 7}\n",
    "\n",
    "# using the | operator\n",
    "result = odds | evens\n",
    "print(result)\n",
    "\n",
    "# using the union method\n",
    "result = odds.union(evens)\n",
    "print(result)"
   ]
  },
  {
   "cell_type": "code",
   "execution_count": 16,
   "metadata": {},
   "outputs": [
    {
     "name": "stdout",
     "output_type": "stream",
     "text": [
      "{3, 5, 7}\n",
      "{3, 5, 7}\n"
     ]
    }
   ],
   "source": [
    "# intersection of two sets\n",
    "odds = {1, 3, 5, 7, 9}\n",
    "evens = {2, 4, 6, 8, 10}\n",
    "prime = {2, 3, 5, 7}\n",
    "\n",
    "# using the & operator\n",
    "result = odds & prime\n",
    "print(result)\n",
    "\n",
    "# using the intersection method\n",
    "result = odds.intersection(prime)\n",
    "print(result)"
   ]
  },
  {
   "cell_type": "code",
   "execution_count": 27,
   "metadata": {},
   "outputs": [
    {
     "name": "stdout",
     "output_type": "stream",
     "text": [
      "{1, 9}\n",
      "{2}\n",
      "{1, 9}\n"
     ]
    }
   ],
   "source": [
    "# difference of two sets\n",
    "# difference of A and B is a set of elements that are only in A but not in B\n",
    "odds = {1, 3, 5, 7, 9}\n",
    "evens = {2, 4, 6, 8, 10}\n",
    "prime = {2, 3, 5, 7}\n",
    "\n",
    "# using the - operator\n",
    "result = odds - prime\n",
    "print(result)\n",
    "\n",
    "result = prime - odds\n",
    "print(result)\n",
    "\n",
    "# using the difference method\n",
    "result = odds.difference(prime)\n",
    "print(result)"
   ]
  },
  {
   "cell_type": "code",
   "execution_count": 28,
   "metadata": {},
   "outputs": [
    {
     "name": "stdout",
     "output_type": "stream",
     "text": [
      "{1, 2, 9}\n",
      "{1, 2, 9}\n"
     ]
    }
   ],
   "source": [
    "# symmetric difference of two sets\n",
    "# symmetric difference of two sets is the set of elements which are in either of the sets and not in their intersection\n",
    "odds = {1, 3, 5, 7, 9}\n",
    "evens = {2, 4, 6, 8, 10}\n",
    "prime = {2, 3, 5, 7}\n",
    "\n",
    "# using the ^ operator\n",
    "result = odds ^ prime\n",
    "print(result)\n",
    "\n",
    "# using the symmetric_difference method\n",
    "result = odds.symmetric_difference(prime)\n",
    "print(result)"
   ]
  },
  {
   "cell_type": "code",
   "execution_count": 29,
   "metadata": {},
   "outputs": [
    {
     "name": "stdout",
     "output_type": "stream",
     "text": [
      "True\n"
     ]
    }
   ],
   "source": [
    "# compare two sets using `==` operator to check if two sets are equal\n",
    "odds1 = {1, 3, 5, 7, 9}\n",
    "odds2 = {9, 7, 5, 3, 1}\n",
    "\n",
    "print(odds1 == odds2)  # True"
   ]
  },
  {
   "cell_type": "markdown",
   "metadata": {},
   "source": [
    "### _2.6 Other Built-in Functions and Methods_\n",
    "\n",
    "- the `len()` function will return the total number of elements in the set.\n",
    "- the method `issubset()` returns `True` if all items in the set exists in the specified set, otherwise it retuns `False`."
   ]
  },
  {
   "cell_type": "markdown",
   "metadata": {},
   "source": [
    "Experiment with the following codes to understand more about the built-in methods.\n",
    "\n",
    "A more comprehensive list can be found [here](https://www.tutorialspoint.com/python/python_dictionary.htm)."
   ]
  },
  {
   "cell_type": "code",
   "execution_count": 30,
   "metadata": {},
   "outputs": [
    {
     "name": "stdout",
     "output_type": "stream",
     "text": [
      "3\n"
     ]
    }
   ],
   "source": [
    "# length of a set\n",
    "print(len(my_set))"
   ]
  },
  {
   "cell_type": "code",
   "execution_count": 31,
   "metadata": {
    "scrolled": true
   },
   "outputs": [
    {
     "name": "stdout",
     "output_type": "stream",
     "text": [
      "False\n",
      "True\n"
     ]
    }
   ],
   "source": [
    "# .issubset() method\n",
    "set_a = {1, 2, 3, 4, 5}\n",
    "set_b = {1, 2, 3}\n",
    "\n",
    "print(set_a.issubset(set_b))  # False\n",
    "print(set_b.issubset(set_a))  # True"
   ]
  },
  {
   "cell_type": "code",
   "execution_count": 32,
   "metadata": {},
   "outputs": [
    {
     "name": "stdout",
     "output_type": "stream",
     "text": [
      "True\n",
      "False\n"
     ]
    }
   ],
   "source": [
    "# .issuperset() method\n",
    "set_a = {1, 2, 3, 4, 5}\n",
    "set_b = {1, 2, 3}\n",
    "\n",
    "print(set_a.issuperset(set_b))  # True\n",
    "print(set_b.issuperset(set_a))  # False"
   ]
  },
  {
   "cell_type": "code",
   "execution_count": 33,
   "metadata": {},
   "outputs": [
    {
     "name": "stdout",
     "output_type": "stream",
     "text": [
      "True\n"
     ]
    }
   ],
   "source": [
    "# .isdisjoint() method\n",
    "# two sets are said to be disjoint if they have no common elements\n",
    "set_a = {1, 2, 3, 4, 5}\n",
    "set_b = {6, 7, 8}\n",
    "\n",
    "print(set_a.isdisjoint(set_b))  # True"
   ]
  },
  {
   "cell_type": "code",
   "execution_count": 2,
   "metadata": {},
   "outputs": [
    {
     "name": "stdout",
     "output_type": "stream",
     "text": [
      "set()\n"
     ]
    }
   ],
   "source": [
    "# .clear() method\n",
    "# removes all the elements from the set\n",
    "set_a = {1, 2, 3, 4, 5}\n",
    "\n",
    "set_a.clear()\n",
    "print(set_a)"
   ]
  },
  {
   "cell_type": "markdown",
   "metadata": {},
   "source": [
    "#### - Exercise -\n",
    "\n",
    "Write a Python program that takes a 2D list students_data and find a set of unique subjects that the students are taking.\n",
    "\n",
    "Sample input:\n",
    "```python\n",
    "students_data = [\n",
    "    [\"John\", \"Math\", \"English\", \"Science\"],\n",
    "    [\"Jane\", \"Chinese\", \"Math\", \"History\"],\n",
    "    [\"Alex\", \"English\", \"Chinese\", \"Math\"],\n",
    "    [\"Eva\", \"Science\", \"Chinese\", \"History\"],\n",
    "    [\"Michael\", \"Math\", \"Science\", \"History\"],\n",
    "    [\"Sophia\", \"English\", \"Science\", \"Math\"],\n",
    "]\n",
    "```\n",
    "\n",
    "Expected output:\n",
    "\n",
    "`{'Chinese', 'History', 'Math', 'Science', 'English'}`"
   ]
  },
  {
   "cell_type": "code",
   "execution_count": 6,
   "metadata": {},
   "outputs": [
    {
     "name": "stdout",
     "output_type": "stream",
     "text": [
      "{'Science', 'Math', 'Chinese', 'English', 'History'}\n",
      "{'Science', 'Math', 'Chinese', 'English', 'History'}\n"
     ]
    }
   ],
   "source": [
    "students_data = [\n",
    "    [\"John\", \"Math\", \"English\", \"Science\"],\n",
    "    [\"Jane\", \"Chinese\", \"Math\", \"History\"],\n",
    "    [\"Alex\", \"English\", \"Chinese\", \"Math\"],\n",
    "    [\"Eva\", \"Science\", \"Chinese\", \"History\"],\n",
    "    [\"Michael\", \"Math\", \"Science\", \"History\"],\n",
    "    [\"Sophia\", \"English\", \"Science\", \"Math\"],\n",
    "]\n",
    "\n",
    "# your code here\n",
    "subject_set = set()\n",
    "for student in students_data:\n",
    "    for subject in student[1:]:\n",
    "        subject_set.add(subject)\n",
    "print(subject_set)\n",
    "\n",
    "subject_set = set()\n",
    "for student in students_data:\n",
    "    subject_set.update(student[1:])\n",
    "print(subject_set)"
   ]
  },
  {
   "cell_type": "markdown",
   "metadata": {},
   "source": [
    "## Section 3 - References\n",
    "\n",
    "1. [Sequences: Strings, Tuples and Lists - Building Skills in Python](http://buildingskills.itmaybeahack.com/book/python-2.6/html/p02/p02c01_sequences.html)  \n",
    "2. [Sequence (Python) - Art of Problem Solving](https://artofproblemsolving.com/wiki/index.php/Sequence_(Python))\n",
    "3. [Mutable in Python - Stack Overflow](https://stackoverflow.com/questions/14535730/what-do-you-mean-by-hashable-in-python)\n",
    "4. [Python Dictionary - Tutorial Point](https://www.tutorialspoint.com/python/python_dictionary.htm)"
   ]
  }
 ],
 "metadata": {
  "kernelspec": {
   "display_name": "Python 3 (ipykernel)",
   "language": "python",
   "name": "python3"
  },
  "language_info": {
   "codemirror_mode": {
    "name": "ipython",
    "version": 3
   },
   "file_extension": ".py",
   "mimetype": "text/x-python",
   "name": "python",
   "nbconvert_exporter": "python",
   "pygments_lexer": "ipython3",
   "version": "3.12.1"
  }
 },
 "nbformat": 4,
 "nbformat_minor": 4
}
