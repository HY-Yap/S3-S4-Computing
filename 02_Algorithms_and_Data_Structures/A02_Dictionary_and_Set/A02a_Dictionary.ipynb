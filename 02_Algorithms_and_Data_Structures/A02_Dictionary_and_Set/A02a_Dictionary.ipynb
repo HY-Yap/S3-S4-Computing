{
 "cells": [
  {
   "cell_type": "markdown",
   "metadata": {},
   "source": [
    "# S02a - Dictionary\n",
    "\n",
    "## Understanding Goals\n",
    "At the end of this chapter, you should be able to:\n",
    "- Understand the properties of a python dictionary\n",
    "\n",
    "You should know how to:\n",
    "- Create a dictionary with key/value pairs.\n",
    "- Retrieve the value using the associated key.\n",
    "- Loop through the keys in a dictionary.\n",
    "- Check if a key exists in a dictionary.\n",
    "- Insert/Update/Remove a Key/Value pair\n",
    "- Use other built-in functions of python dictionary."
   ]
  },
  {
   "cell_type": "markdown",
   "metadata": {},
   "source": [
    "## Section 1 - Properties of Python Dictionary\n",
    "\n",
    "A sequence is a **collection** of objects which are kept in a specific order. We can identify the individual objects in a sequence by their position or index. Positions are numbered from zero in Python.\n",
    "\n",
    "`Lists`, `Tuples` and `Strings` are examples of sequences which we are very familiar with.\n",
    "\n",
    "A dictionary is also a **collection**, and it is ordered and mutable . In Python, dictionaries are written with curly brackets `{ }`, and they store mappings from keys to values.\n",
    "\n",
    "A dictionary maps a set of objects (keys) to another set of objects (values). A Python dictionary is a mapping of **unique** keys to values.\n",
    "\n",
    "Dictionaries are **mutable**, which means they can be changed. The values that the keys point to can be any Python value/objects. \n",
    "\n",
    "As of Python version 3.7, dictionaries are **ordered**. In Python 3.6 and earlier, dictionaries are **unordered**."
   ]
  },
  {
   "cell_type": "markdown",
   "metadata": {},
   "source": [
    "## Section 2 - Dictionary Syntax\n",
    "\n",
    "### _2.1 Define a dictionary_\n",
    "\n",
    "Keys of a dictionary must be hashable. Anything that is not mutable (mutable means, likely to change) can be hashed.\n",
    "\n",
    "List of common immutable types:   \n",
    "`int, float, bool, string, tuple`\n",
    "\n",
    "List of common mutable types:  \n",
    "`list, dict, set`"
   ]
  },
  {
   "cell_type": "markdown",
   "metadata": {},
   "source": [
    "The following codes demonstrate a typical declaration of a dictionary object. Experiment the key/value pairs with other data types."
   ]
  },
  {
   "cell_type": "code",
   "execution_count": 1,
   "metadata": {},
   "outputs": [
    {
     "name": "stdout",
     "output_type": "stream",
     "text": [
      "{'name': 'Xiao Ming', 'class': '3A3', 'year': 2023}\n"
     ]
    }
   ],
   "source": [
    "my_dict = {\n",
    "    \"name\": \"Xiao Ming\",\n",
    "    \"class\": \"3A3\",\n",
    "    \"year\": 2023,\n",
    "}\n",
    "print(my_dict)"
   ]
  },
  {
   "cell_type": "markdown",
   "metadata": {},
   "source": [
    "### _2.2 Access Dictionary Elements_\n",
    "\n",
    "`Values` of a dictionary can be accessed by putting the `key` inside the square brackets `[]`; or by calling the function `get()`.  \n",
    "Experiment the key/value pairs with other data types."
   ]
  },
  {
   "cell_type": "code",
   "execution_count": 4,
   "metadata": {},
   "outputs": [
    {
     "name": "stdout",
     "output_type": "stream",
     "text": [
      "Xiao Ming\n",
      "Xiao Ming\n",
      "None\n"
     ]
    }
   ],
   "source": [
    "print(my_dict[\"name\"])\n",
    "print(my_dict.get(\"name\"))\n",
    "\n",
    "# What is the difference between accessing using [] and .get()?\n",
    "print(my_dict.get(\"index_num\"))\n",
    "# print(my_dict[\"index_num\"])\n",
    "\n",
    "# .get() does not return an Error if key is not found, whereas [] gives an Error"
   ]
  },
  {
   "cell_type": "markdown",
   "metadata": {},
   "source": [
    "### _2.3 Loop through keys_\n",
    "\n",
    "Use `for` loop to run through all keys in the dictionary."
   ]
  },
  {
   "cell_type": "code",
   "execution_count": 5,
   "metadata": {},
   "outputs": [
    {
     "name": "stdout",
     "output_type": "stream",
     "text": [
      "name : Xiao Ming\n",
      "***\n",
      "class : 3A3\n",
      "***\n",
      "year : 2023\n",
      "***\n"
     ]
    }
   ],
   "source": [
    "for key in my_dict:\n",
    "    print(key + \" : \" + str(my_dict[key]))\n",
    "    print(\"***\")"
   ]
  },
  {
   "cell_type": "markdown",
   "metadata": {},
   "source": [
    "### _2.4 Check if a key exists in a dictionary_\n",
    "\n",
    "Use the `in` keyword to check if a key exists in a dictionary.  \n",
    "This is extremely useful when you are unsure if a key/value pair exists in a dictionary. If `my_dict[\"None Existent Key\"]` is called, an exception will be raised and program may terminate."
   ]
  },
  {
   "cell_type": "code",
   "execution_count": 7,
   "metadata": {},
   "outputs": [
    {
     "name": "stdout",
     "output_type": "stream",
     "text": [
      "\"name\" is a valid key in this dictionary\n"
     ]
    }
   ],
   "source": [
    "if \"name\" in my_dict:\n",
    "    print('\"name\" is a valid key in this dictionary')\n",
    "else:\n",
    "    print('\"name is not a valid key in this dictionary\"')"
   ]
  },
  {
   "cell_type": "markdown",
   "metadata": {},
   "source": [
    "### _2.5 Insert/Update/Remove a Key/Value pair_\n",
    "\n",
    "Experiment with the following codes to see how to insert/update/delete a key/value pair."
   ]
  },
  {
   "cell_type": "code",
   "execution_count": 8,
   "metadata": {
    "scrolled": true
   },
   "outputs": [
    {
     "name": "stdout",
     "output_type": "stream",
     "text": [
      "{'name': 'Xiao Ming', 'class': '3A3', 'year': 2023, 'hobby': 'Computer Games'}\n"
     ]
    }
   ],
   "source": [
    "# insert a new key-value pair\n",
    "my_dict[\"hobby\"] = \"Computer Games\"\n",
    "print(my_dict)"
   ]
  },
  {
   "cell_type": "code",
   "execution_count": 9,
   "metadata": {},
   "outputs": [
    {
     "name": "stdout",
     "output_type": "stream",
     "text": [
      "{'name': 'Xiao Ming', 'class': '3A3', 'year': 2023, 'hobby': 'Computer Games, Badminton and Videography'}\n"
     ]
    }
   ],
   "source": [
    "# update value of a key\n",
    "my_dict[\"hobby\"] = \"Computer Games, Badminton and Videography\"\n",
    "print(my_dict)"
   ]
  },
  {
   "cell_type": "code",
   "execution_count": 10,
   "metadata": {},
   "outputs": [
    {
     "name": "stdout",
     "output_type": "stream",
     "text": [
      "{'name': 'Xiao Ming', 'class': '3A3', 'hobby': 'Computer Games, Badminton and Videography'}\n"
     ]
    }
   ],
   "source": [
    "# remove a key-value pair\n",
    "my_dict.pop(\"year\")\n",
    "print(my_dict)"
   ]
  },
  {
   "cell_type": "markdown",
   "metadata": {},
   "source": [
    "### _2.6 Other Built-in Functions and Methods_\n",
    "\n",
    "- the `len()` function will return the total number of elements in the dictionary.\n",
    "\n",
    "- The method `keys()` returns a list of all the available keys in the dictionary.\n",
    "- The method `values()` returns a list of all the values available in a given dictionary.\n",
    "- The method `items()` returns a list of all the key/value pairs in a given dictionary.\n",
    "- The method `clear()` will clear the entire dictionary."
   ]
  },
  {
   "cell_type": "markdown",
   "metadata": {},
   "source": [
    "Experiment with the following codes to understand more about the built-in methods.\n",
    "\n",
    "A more comprehensive list can be found [here](https://www.tutorialspoint.com/python/python_dictionary.htm)."
   ]
  },
  {
   "cell_type": "code",
   "execution_count": 11,
   "metadata": {},
   "outputs": [
    {
     "name": "stdout",
     "output_type": "stream",
     "text": [
      "3\n"
     ]
    }
   ],
   "source": [
    "# length of dictionary\n",
    "print(len(my_dict))"
   ]
  },
  {
   "cell_type": "code",
   "execution_count": 13,
   "metadata": {
    "scrolled": true
   },
   "outputs": [
    {
     "name": "stdout",
     "output_type": "stream",
     "text": [
      "dict_keys(['name', 'class', 'hobby'])\n",
      "name : Xiao Ming\n",
      "class : 3A3\n",
      "hobby : Computer Games, Badminton and Videography\n"
     ]
    }
   ],
   "source": [
    "# .keys() returns a list of all the keys in the dictionary\n",
    "print(my_dict.keys())\n",
    "for key in my_dict.keys():\n",
    "    print(key, \":\", my_dict[key])"
   ]
  },
  {
   "cell_type": "code",
   "execution_count": 14,
   "metadata": {},
   "outputs": [
    {
     "name": "stdout",
     "output_type": "stream",
     "text": [
      "dict_values(['Xiao Ming', '3A3', 'Computer Games, Badminton and Videography'])\n",
      "Xiao Ming\n",
      "3A3\n",
      "Computer Games, Badminton and Videography\n"
     ]
    }
   ],
   "source": [
    "# .values() returns a list of all the values in the dictionary\n",
    "print(my_dict.values())\n",
    "for value in my_dict.values():\n",
    "    print(value)"
   ]
  },
  {
   "cell_type": "code",
   "execution_count": 15,
   "metadata": {},
   "outputs": [
    {
     "name": "stdout",
     "output_type": "stream",
     "text": [
      "dict_items([('name', 'Xiao Ming'), ('class', '3A3'), ('hobby', 'Computer Games, Badminton and Videography')])\n",
      "('name', 'Xiao Ming')\n",
      "('class', '3A3')\n",
      "('hobby', 'Computer Games, Badminton and Videography')\n"
     ]
    }
   ],
   "source": [
    "# .items() returns a list of tuples of all the key-value pairs in the dictionary\n",
    "print(my_dict.items())\n",
    "for pair in my_dict.items():\n",
    "    print(pair)"
   ]
  },
  {
   "cell_type": "code",
   "execution_count": 16,
   "metadata": {},
   "outputs": [
    {
     "name": "stdout",
     "output_type": "stream",
     "text": [
      "{}\n"
     ]
    }
   ],
   "source": [
    "# .clear() removes all the key-value pairs in the dictionary\n",
    "my_dict.clear()\n",
    "print(my_dict)"
   ]
  },
  {
   "cell_type": "markdown",
   "metadata": {},
   "source": [
    "#### - Exercise -\n",
    "\n",
    "Write a Python program that takes a 2D list students_data and counts the number of students taking each subject. Create a dictionary where the keys are subjects, and the values are the count of students taking that subject.\n",
    "\n",
    "Sample input:\n",
    "```python\n",
    "students_data = [\n",
    "    [\"John\", \"Math\", \"English\", \"Science\"],\n",
    "    [\"Jane\", \"Chinese\", \"Math\", \"History\"],\n",
    "    [\"Alex\", \"English\", \"Chinese\", \"Math\"],\n",
    "    [\"Eva\", \"Science\", \"Chinese\", \"History\"],\n",
    "    [\"Michael\", \"Math\", \"Science\", \"History\"],\n",
    "    [\"Sophia\", \"English\", \"Science\", \"Math\"],\n",
    "]\n",
    "```\n",
    "\n",
    "Expected output:\n",
    "\n",
    "`{'Math': 4, 'English': 3, 'Science': 4, 'Chinese': 3, 'History': 3}`"
   ]
  },
  {
   "cell_type": "code",
   "execution_count": 1,
   "metadata": {},
   "outputs": [
    {
     "name": "stdout",
     "output_type": "stream",
     "text": [
      "{'Math': 5, 'English': 3, 'Science': 4, 'Chinese': 3, 'History': 3}\n"
     ]
    }
   ],
   "source": [
    "students_data = [\n",
    "    [\"John\", \"Math\", \"English\", \"Science\"],\n",
    "    [\"Jane\", \"Chinese\", \"Math\", \"History\"],\n",
    "    [\"Alex\", \"English\", \"Chinese\", \"Math\"],\n",
    "    [\"Eva\", \"Science\", \"Chinese\", \"History\"],\n",
    "    [\"Michael\", \"Math\", \"Science\", \"History\"],\n",
    "    [\"Sophia\", \"English\", \"Science\", \"Math\"],\n",
    "]\n",
    "\n",
    "# your code here\n",
    "dict_subjects = {}\n",
    "for item in students_data:\n",
    "    i = 1\n",
    "    for subj in item[1:]:\n",
    "        if subj in dict_subjects:\n",
    "            dict_subjects[subj] += 1 # increment value\n",
    "        else:\n",
    "            dict_subjects[subj] = 1 # add new key\n",
    "\n",
    "print(dict_subjects)"
   ]
  },
  {
   "cell_type": "markdown",
   "metadata": {},
   "source": [
    "## Section 3 - References\n",
    "\n",
    "1. [Sequences: Strings, Tuples and Lists - Building Skills in Python](http://buildingskills.itmaybeahack.com/book/python-2.6/html/p02/p02c01_sequences.html)  \n",
    "2. [Sequence (Python) - Art of Problem Solving](https://artofproblemsolving.com/wiki/index.php/Sequence_(Python))\n",
    "3. [Mutable in Python - Stack Overflow](https://stackoverflow.com/questions/14535730/what-do-you-mean-by-hashable-in-python)\n",
    "4. [Python Dictionary - Tutorial Point](https://www.tutorialspoint.com/python/python_dictionary.htm)"
   ]
  }
 ],
 "metadata": {
  "kernelspec": {
   "display_name": "Python 3",
   "language": "python",
   "name": "python3"
  },
  "language_info": {
   "codemirror_mode": {
    "name": "ipython",
    "version": 3
   },
   "file_extension": ".py",
   "mimetype": "text/x-python",
   "name": "python",
   "nbconvert_exporter": "python",
   "pygments_lexer": "ipython3",
   "version": "3.12.1"
  }
 },
 "nbformat": 4,
 "nbformat_minor": 2
}
