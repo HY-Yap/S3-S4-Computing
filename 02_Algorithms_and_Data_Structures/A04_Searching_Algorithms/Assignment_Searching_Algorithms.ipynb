{
 "cells": [
  {
   "cell_type": "markdown",
   "metadata": {},
   "source": [
    "# Assignment - [A04] Searching Algorithms"
   ]
  },
  {
   "cell_type": "markdown",
   "metadata": {},
   "source": [
    "## Question 1\n",
    "### Unordered Linear Search\n",
    "\n",
    "Implement **Unordered Linear Search** sort algorithm.\n",
    "\n",
    "Return the index of the item if found, otherwise return -1.\n",
    "\n"
   ]
  },
  {
   "cell_type": "code",
   "execution_count": 1,
   "metadata": {},
   "outputs": [],
   "source": [
    "lst = [3, 2, 5, 7, 4, 8, 9, 1]\n",
    "\n",
    "# your code here\n",
    "def unordered_ls(lst, item):\n",
    "    for i in range(len(lst)):\n",
    "        if item == lst[i]:\n",
    "            return i\n",
    "    return -1\n"
   ]
  },
  {
   "cell_type": "code",
   "execution_count": 2,
   "metadata": {},
   "outputs": [
    {
     "name": "stdout",
     "output_type": "stream",
     "text": [
      "2\n",
      "-1\n"
     ]
    }
   ],
   "source": [
    "print(unordered_ls(lst, 5))\n",
    "print(unordered_ls(lst, 6))"
   ]
  },
  {
   "cell_type": "markdown",
   "metadata": {},
   "source": [
    "## Question 2\n",
    "### Ordered Linear Search\n",
    "\n",
    "Implement **Ordered Linear Search** sort algorithm.\n",
    "\n",
    "Return the index of the item if found, otherwise return -1."
   ]
  },
  {
   "cell_type": "code",
   "execution_count": 7,
   "metadata": {},
   "outputs": [],
   "source": [
    "lst = [1, 2, 3, 4, 5, 6, 7, 8, 9]\n",
    "\n",
    "# your code here\n",
    "def ordered_ls(lst, item):\n",
    "    for i in range(len(lst)):\n",
    "        if item == lst[i]:\n",
    "            return i\n",
    "        elif item < lst[i]:\n",
    "            break\n",
    "    return -1\n"
   ]
  },
  {
   "cell_type": "code",
   "execution_count": 8,
   "metadata": {},
   "outputs": [
    {
     "name": "stdout",
     "output_type": "stream",
     "text": [
      "4\n",
      "5\n"
     ]
    }
   ],
   "source": [
    "print(ordered_ls(lst, 5))\n",
    "print(ordered_ls(lst, 6))"
   ]
  },
  {
   "cell_type": "markdown",
   "metadata": {},
   "source": [
    "## Question 3\n",
    "### Binary Search (Iteration)\n",
    "\n",
    "Implement **Binary Search** sort algorithm.\n",
    "\n",
    "Return the index of the item if found, otherwise return -1."
   ]
  },
  {
   "cell_type": "code",
   "execution_count": 9,
   "metadata": {},
   "outputs": [],
   "source": [
    "lst = [\"a\", \"b\", \"c\", \"d\", \"e\", \"f\", \"g\", \"h\"]\n",
    "\n",
    "# your code here\n",
    "def binary_search(lst, item):\n",
    "    low = 0\n",
    "    high = len(lst) - 1\n",
    "    while low <= high:\n",
    "        mid = (low + high) // 2\n",
    "        if lst[mid] == item:\n",
    "            return mid\n",
    "        elif item < lst[mid]:\n",
    "            high = mid - 1\n",
    "        else:\n",
    "            low = mid + 1\n",
    "    return -1\n"
   ]
  },
  {
   "cell_type": "code",
   "execution_count": 10,
   "metadata": {},
   "outputs": [
    {
     "name": "stdout",
     "output_type": "stream",
     "text": [
      "0\n",
      "4\n"
     ]
    }
   ],
   "source": [
    "print(binary_search(lst, \"a\"))\n",
    "print(binary_search(lst, \"e\"))"
   ]
  },
  {
   "cell_type": "markdown",
   "metadata": {},
   "source": [
    "## Question 4\n",
    "### Binary Search (Recursion)\n",
    "\n",
    "Implement **Binary Search** sort algorithm.\n",
    "\n",
    "Return the index of the item if found, otherwise return -1."
   ]
  },
  {
   "cell_type": "code",
   "execution_count": 15,
   "metadata": {},
   "outputs": [],
   "source": [
    "lst = [\"a\", \"b\", \"c\", \"d\", \"e\", \"f\", \"g\", \"h\"]\n",
    "\n",
    "# your code here\n",
    "def rec_bin_search(lst, item):\n",
    "    # helper function is needed, as we need to pass the original list into the recursive function\n",
    "    # so that the returned index is with respect to the original list\n",
    "    def helper(lst, item, low, high):\n",
    "        # calc mid\n",
    "        mid = (low + high) // 2\n",
    "\n",
    "        # terminating condition \n",
    "        if low > high:\n",
    "            return -1\n",
    "\n",
    "        # equals: item found\n",
    "        if item == lst[mid]:\n",
    "            return mid\n",
    "\n",
    "        # item larger than mid\n",
    "        elif lst[mid] > item:\n",
    "            return helper(lst, item, low, mid-1)\n",
    "\n",
    "        # item smaller than mid\n",
    "        else:\n",
    "            return helper(lst, item, mid + 1, high)\n",
    "        \n",
    "    return helper(lst, item, 0, len(lst)-1)\n"
   ]
  },
  {
   "cell_type": "code",
   "execution_count": 16,
   "metadata": {},
   "outputs": [
    {
     "name": "stdout",
     "output_type": "stream",
     "text": [
      "4\n",
      "0\n"
     ]
    }
   ],
   "source": [
    "print(rec_bin_search(lst, \"e\"))\n",
    "print(rec_bin_search(lst, \"a\"))"
   ]
  }
 ],
 "metadata": {
  "kernelspec": {
   "display_name": "Python 3",
   "language": "python",
   "name": "python3"
  },
  "language_info": {
   "codemirror_mode": {
    "name": "ipython",
    "version": 3
   },
   "file_extension": ".py",
   "mimetype": "text/x-python",
   "name": "python",
   "nbconvert_exporter": "python",
   "pygments_lexer": "ipython3",
   "version": "3.12.1"
  }
 },
 "nbformat": 4,
 "nbformat_minor": 2
}
