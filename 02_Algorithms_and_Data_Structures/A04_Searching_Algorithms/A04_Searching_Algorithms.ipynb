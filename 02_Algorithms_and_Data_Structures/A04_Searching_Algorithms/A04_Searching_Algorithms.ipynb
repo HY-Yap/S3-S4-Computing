{
 "cells": [
  {
   "cell_type": "markdown",
   "metadata": {},
   "source": [
    "# A04 - Searching Algorithms\n",
    "\n",
    "## Syllabus\n",
    "1.2.3 Implement search algorithms.\n",
    "- Linear search\n",
    "- Binary search\n",
    "1.2.4 Use examples to explain search algorithms.\n",
    "2.3.2 Implement search programs.\n",
    "- Linear search\n",
    "- Binary search\n",
    "\n",
    "## Understanding Goals\n",
    "In this chapter, we will explore and discuss:\n",
    "- What is a searching algorithm?\n",
    "- What is a linear search?\n",
    "- What is a binary search?\n",
    "\n",
    "At the end of this chapter, you should be able to:\n",
    "- Implement a linear search algorithm.\n",
    "- Implement a binary search algorithm."
   ]
  },
  {
   "cell_type": "markdown",
   "metadata": {},
   "source": [
    "## Section 1 - Searching Algorithms\n",
    "\n",
    "### _1.1 What is a searching algorithm?_\n",
    "\n",
    "A searching algorithm is an algorithm that is used to find a specific item in a collection of items. Searching algorithms are used in many applications, such as:\n",
    "- Searching for a specific word in a document.\n",
    "- Searching for a specific key word in a web page.\n",
    "- Searching for a specific item in a list of items.\n",
    "\n",
    "### _1.2 What is a linear search?_\n",
    "\n",
    "A linear search is a searching algorithm that searches for a specific item in a collection of items by checking each item in the collection until the item is found or until the end of the collection is reached.\n",
    "\n",
    "There are 2 types of linear search:\n",
    "- Unordered linear search\n",
    "- Ordered linear search\n",
    "\n",
    "#### ~ Example: Unordered linear search ~\n",
    "\n",
    "An unordered linear search is a linear search that searches for a specific item in an **unordered** collection of items by checking each item in the collection until the item is found or until the end of the collection is reached."
   ]
  },
  {
   "cell_type": "code",
   "execution_count": 6,
   "metadata": {},
   "outputs": [
    {
     "name": "stdout",
     "output_type": "stream",
     "text": [
      "2\n",
      "-1\n"
     ]
    }
   ],
   "source": [
    "# return the index of the item if found, otherwise return -1\n",
    "def unordered_ls(lst, item):\n",
    "    for i in range(len(lst)):\n",
    "        if item == lst[i]:\n",
    "            return i\n",
    "    return -1\n",
    "\n",
    "lst = [3, 2, 5, 7, 4, 8, 9, 1]\n",
    "print(unordered_ls(lst, 5))\n",
    "print(unordered_ls(lst, 6))"
   ]
  },
  {
   "cell_type": "markdown",
   "metadata": {},
   "source": [
    "#### ~ Example: Ordered linear search ~\n",
    "\n",
    "An ordered linear search is a linear search that searches for a specific item in an **ordered** collection of items by checking each item in the collection until the item is found or until the end of the collection is reached.\n",
    "\n",
    "The algorithm can terminate early if the item being searched for is less than the current item being checked."
   ]
  },
  {
   "cell_type": "code",
   "execution_count": null,
   "metadata": {},
   "outputs": [],
   "source": [
    "# return the index of the item if found, otherwise return -1\n",
    "def ordered_ls(lst, item):\n",
    "    pass\n",
    "\n",
    "lst = [1, 2, 3, 4, 5, 6, 7, 8, 9]\n",
    "print(ordered_ls(lst, 5))\n",
    "print(ordered_ls(lst, 6))"
   ]
  },
  {
   "cell_type": "markdown",
   "metadata": {},
   "source": [
    "## Section 2 - Binary Search\n",
    "\n",
    "### _2.1 What is a binary search?_\n",
    "\n",
    "A binary search is a searching algorithm that searches for a specific item in an **ordered** collection of items by checking the middle item in the collection. \n",
    "- If the middle item is the item that is being searched for, then the search is complete. \n",
    "- Otherwise, if the middle item is greater than the item that is being searched for, then the search is repeated on the left half of the collection.\n",
    "- If the middle item is less than the item that is being searched for, then the search is repeated on the right half of the collection.\n",
    "- This process is repeated until the item that is being searched for is found or until the end of the collection is reached.\n",
    "\n",
    "Psuedocode for a binary search:\n",
    "```python\n",
    "def binary_search(lst, item):\n",
    "    # Set the low index to 0\n",
    "    low = 0\n",
    "    # Set the high index to the length of the list minus 1\n",
    "    high = len(lst) - 1\n",
    "    # While the low index is less than or equal to the high index\n",
    "    while low <= high:\n",
    "        # Set the middle index to the average of the low and high indices\n",
    "        mid = (low + high) // 2\n",
    "        # If the middle item is the item that is being searched for\n",
    "        if lst[mid] == item:\n",
    "            # Item is found, return the current middle index\n",
    "            return mid\n",
    "        # Otherwise, if the item that is being searched for is less than the middle item\n",
    "        elif item < lst[mid]:\n",
    "            # Set the high index to the middle index minus 1\n",
    "            high = mid - 1\n",
    "        # if the item that is being searched for is greater than the middle item\n",
    "        else:\n",
    "            # Set the low index to the middle index plus 1\n",
    "            low = mid + 1\n",
    "\n",
    "    return -1  # Return -1 if the item is not found\n",
    "```"
   ]
  },
  {
   "cell_type": "code",
   "execution_count": null,
   "metadata": {},
   "outputs": [],
   "source": [
    "# return the index of the item if found, otherwise return -1\n",
    "# Iterative Binary Search\n",
    "def binary_search(lst, item):\n",
    "    pass\n",
    "\n",
    "lst = [0, 1, 2, 3, 4, 5, 6, 7, 8, 9, 10, 11, 12, 13, 14 ,15, 16]\n",
    "print(binary_search(lst, 13))  # 13\n",
    "\n",
    "lst = [\"a\", \"b\", \"c\", \"d\", \"e\", \"f\", \"g\", \"h\"]\n",
    "print(binary_search(lst, \"e\"))  # 4"
   ]
  },
  {
   "cell_type": "code",
   "execution_count": null,
   "metadata": {},
   "outputs": [],
   "source": [
    "# Recursive Binary Search\n",
    "def rec_bin_search(lst, item):\n",
    "    # helper function is needed, as we need to pass the original list into the recursive function\n",
    "    # so that the returned index is with respect to the original list\n",
    "    def helper(lst, item, low, high):\n",
    "        pass\n",
    "\n",
    "    return helper(lst, item, 0, len(lst)-1)\n",
    "\n",
    "lst =[0,1,2,3,4,5,6,7,8,9,10,11,12,13,14,15,16]\n",
    "print(rec_bin_search(lst, 13)) #13"
   ]
  }
 ],
 "metadata": {
  "kernelspec": {
   "display_name": "Python 3",
   "language": "python",
   "name": "python3"
  },
  "language_info": {
   "codemirror_mode": {
    "name": "ipython",
    "version": 3
   },
   "file_extension": ".py",
   "mimetype": "text/x-python",
   "name": "python",
   "nbconvert_exporter": "python",
   "pygments_lexer": "ipython3",
   "version": "3.12.1"
  }
 },
 "nbformat": 4,
 "nbformat_minor": 2
}
