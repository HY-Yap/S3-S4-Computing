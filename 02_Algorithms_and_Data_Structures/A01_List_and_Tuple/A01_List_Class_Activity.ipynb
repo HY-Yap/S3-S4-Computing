{
 "cells": [
  {
   "cell_type": "markdown",
   "metadata": {},
   "source": [
    "# A01 List - Class Activity"
   ]
  },
  {
   "cell_type": "markdown",
   "metadata": {},
   "source": [
    "## Question 1\n",
    "### Format List - Iteration\n",
    "\n",
    "Design an **iterative** function `format_list` to format a list of strings to lower case."
   ]
  },
  {
   "cell_type": "code",
   "execution_count": 77,
   "metadata": {},
   "outputs": [
    {
     "name": "stdout",
     "output_type": "stream",
     "text": [
      "['haha', 'hehhe', 'sheiuhwuioehinsdeasguigeu']\n"
     ]
    }
   ],
   "source": [
    "# method 1 - modify list\n",
    "def format_list(lst):\n",
    "    for item in lst:\n",
    "        lst[lst.index(item)] = item.lower()\n",
    "    return lst\n",
    "\n",
    "def format_list(lst):\n",
    "    for i in range(len(lst)):\n",
    "        lst[i] = lst[i].lower()\n",
    "    return lst\n",
    "\n",
    "# method 2 - keep original list, create a new result list\n",
    "def format_list(lst):\n",
    "    result = []\n",
    "    for ele in lst:\n",
    "        result.append(ele.lower())\n",
    "    return result\n",
    "\n",
    "print(format_list([\"HaHa\", \"HEHhe\", \"SHEIUHWUIOEHINsdeasguigeu\"]))"
   ]
  },
  {
   "cell_type": "markdown",
   "metadata": {},
   "source": [
    "## Question 2\n",
    "### Format List - Recursion\n",
    "\n",
    "Design an **recursive** function `format_list` to format a list of strings to lower case."
   ]
  },
  {
   "cell_type": "code",
   "execution_count": 75,
   "metadata": {},
   "outputs": [
    {
     "name": "stdout",
     "output_type": "stream",
     "text": [
      "['haha', 'hehhe', 'sheiuhwuioehinsdeasguigeu']\n"
     ]
    }
   ],
   "source": [
    "def format_list(lst):\n",
    "    if len(lst) == 0:\n",
    "        return []\n",
    "    else:\n",
    "        return [lst[0].lower()] + format_list(lst[1:])\n",
    "\n",
    "print(format_list([\"HaHa\", \"HEHhe\", \"SHEIUHWUIOEHINsdeasguigeu\"]))"
   ]
  },
  {
   "cell_type": "markdown",
   "metadata": {},
   "source": [
    "## Question 3\n",
    "### Class Activity\n",
    "\n",
    "Retrieve a list of names of student who have passed their test (>=50 marks)."
   ]
  },
  {
   "cell_type": "code",
   "execution_count": 3,
   "metadata": {},
   "outputs": [
    {
     "name": "stdout",
     "output_type": "stream",
     "text": [
      "['John', 'Tim', 'Sam']\n"
     ]
    }
   ],
   "source": [
    "class_test = [['John', 51], ['Mary', 49], ['Tim', 80], ['Sam', 70]]\n",
    "\n",
    "def get_pass_list(class_test):\n",
    "    result = []\n",
    "    for i in range(len(class_test)):\n",
    "        if class_test[i][1] >= 50:\n",
    "            result.append(class_test[i][0])\n",
    "    return result\n",
    "\n",
    "print(get_pass_list(class_test))"
   ]
  },
  {
   "cell_type": "markdown",
   "metadata": {},
   "source": [
    "## Question 4\n",
    "### Class activity\n",
    "\n",
    "A matrix can be represented in Python by a list of lists (nested lists). <br>\n",
    "For example, m = [[ 1, 2, 3], [4, 5, 6], [7, 8, 9]] represents the following 3×3 matrix:\n",
    "\n",
    "<br>\n",
    "\n",
    "1 2 3 <br>\n",
    "4 5 6 <br>\n",
    "7 8 9 <br>\n",
    "\n",
    "<br>\n",
    "\n",
    "Write a function `col_sum(m)` which takes in a matrix `m` and returns a list, where the i-th element is the sum of the elements in the i-th column of the matrix. <br>\n",
    "You can assume that the matrix will not be empty, and has exactly m×n elements, where `m` and `n` are positive integers."
   ]
  },
  {
   "cell_type": "code",
   "execution_count": 15,
   "metadata": {},
   "outputs": [
    {
     "name": "stdout",
     "output_type": "stream",
     "text": [
      "[16, 20]\n",
      "[5, 5, 5]\n",
      "[9]\n"
     ]
    }
   ],
   "source": [
    "def col_sum(m):\n",
    "    sum = 0\n",
    "    result = []\n",
    "    for i in range(len(m[0])): # runs through columns\n",
    "        for j in range(len(m)): # runs through rows\n",
    "            try:\n",
    "                sum += m[j][i]\n",
    "            except:\n",
    "                pass\n",
    "        result.append(sum)\n",
    "        sum = 0\n",
    "    return result\n",
    "\n",
    "print(col_sum([[1, 2], [3, 4], [5, 6], [7, 8]]))\n",
    "print(col_sum([[2, 2, 2], [3, 3, 3]]))\n",
    "print(col_sum([[2,], [3,], [4,]]))"
   ]
  },
  {
   "cell_type": "markdown",
   "metadata": {},
   "source": [
    "## Question 5\n",
    "### Class activity\n",
    "\n",
    "Write a function `row_sum(m)` which takes in a matrix `m` and returns a list, where the i-th element is the sum of the elements in the i-th row of the matrix."
   ]
  },
  {
   "cell_type": "code",
   "execution_count": 17,
   "metadata": {},
   "outputs": [
    {
     "name": "stdout",
     "output_type": "stream",
     "text": [
      "[10, 274]\n",
      "[7, 135, 6]\n"
     ]
    }
   ],
   "source": [
    "def row_sum(m):\n",
    "    sum = 0\n",
    "    result = []\n",
    "    for i in range(len(m)): # runs through rows\n",
    "        for j in range(len(m[i])):\n",
    "            sum += m[i][j]\n",
    "        result.append(sum)\n",
    "        sum = 0\n",
    "    return result\n",
    "\n",
    "print(row_sum([[1, 2, 3, 4], [67, 68, 69, 70]]))\n",
    "print(row_sum([[3, 4], [67, 68], [0, 6]]))"
   ]
  },
  {
   "cell_type": "markdown",
   "metadata": {},
   "source": [
    "## Question 6\n",
    "### Class activity\n",
    "\n",
    "Write a function `transpose(m)` which takes in a matrix `m` and transposes it. Basically, this converts a m×n matrix into a n×m matrix"
   ]
  },
  {
   "cell_type": "code",
   "execution_count": 66,
   "metadata": {},
   "outputs": [
    {
     "name": "stdout",
     "output_type": "stream",
     "text": [
      "[[2, 3, 4]]\n",
      "[[2, 3, 4], [3, 4, 5]]\n"
     ]
    }
   ],
   "source": [
    "def transpose(m):\n",
    "    result = []\n",
    "    for i in range(len(max(m, key=len))): # runs through columns (finds longest column to correspond to number of rows)\n",
    "        result.append([]) # add new item for every column\n",
    "        for j in range(len(m)): # runs through rows in that column\n",
    "            try:\n",
    "                result[i].append(m[j][i]) # tries if the item exists\n",
    "            except:\n",
    "                pass\n",
    "    return result\n",
    "\n",
    "print(transpose([[2,], [3,], [4,]]))  # Output: [[2, 3, 4]]\n",
    "print(transpose([[2, 3], [3, 4], [4, 5]]))  # Output: [[2, 3, 4], [3, 4, 5]]"
   ]
  }
 ],
 "metadata": {
  "kernelspec": {
   "display_name": "Python 3",
   "language": "python",
   "name": "python3"
  },
  "language_info": {
   "codemirror_mode": {
    "name": "ipython",
    "version": 3
   },
   "file_extension": ".py",
   "mimetype": "text/x-python",
   "name": "python",
   "nbconvert_exporter": "python",
   "pygments_lexer": "ipython3",
   "version": "3.12.1"
  }
 },
 "nbformat": 4,
 "nbformat_minor": 2
}
