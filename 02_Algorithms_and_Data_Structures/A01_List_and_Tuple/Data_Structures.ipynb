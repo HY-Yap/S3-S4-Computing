{
 "cells": [
  {
   "cell_type": "markdown",
   "metadata": {},
   "source": [
    "# Assignment - [A01_02] Data Structures"
   ]
  },
  {
   "cell_type": "markdown",
   "metadata": {},
   "source": [
    "## Question 1\n",
    "John is required to implement a function `at_least_n` which takes in a list of integers and an integer `n`, and returns the <u>original</u> list with all the integers smaller than `n` removed.\n",
    "\n",
    "<br>\n",
    "\n",
    "For example: <br>\n",
    "->> lst = list(range(10)) <br>\n",
    "->> lst2 = at_least_n(lst, 5) <br>\n",
    "->> lst2 <br>\n",
    "[5, 6, 7, 8, 9] <br>\n",
    "->> lst is lst2 <br>\n",
    "True\n",
    "\n",
    "<br>\n",
    "\n",
    "He implemented two functions as below: \n",
    "```python\n",
    "def at_least_n(lst, n): \n",
    "    for i in range(len(lst)): \n",
    "        if lst[i] < n: \n",
    "            lst.remove(lst[i]) \n",
    "    return lst \n",
    "```\n",
    "\n",
    "```python\n",
    "def at_least_n(lst, n): \n",
    "    for i in lst: \n",
    "        if i < n: \n",
    "            lst.remove(i) \n",
    "    return lst \n",
    "```\n",
    "\n",
    "<br>\n",
    "\n",
    "Are this implementations correct? What is the moral of the story?\n",
    "\n",
    "**Your next Task:** Implement the correct version of the function `at_least_n` ."
   ]
  },
  {
   "cell_type": "code",
   "execution_count": 1,
   "metadata": {
    "metadata": {}
   },
   "outputs": [
    {
     "name": "stdout",
     "output_type": "stream",
     "text": [
      "[8, 9, 10]\n"
     ]
    }
   ],
   "source": [
    "\"\"\"\n",
    "Are this implementations correct?\n",
    "# Type your answer here\n",
    "\n",
    "What is the moral of the story?\n",
    "# Type your answer here\n",
    "\"\"\"\n",
    "lst_a = [3, 4, 6, 8, 9, 10]\n",
    "# Do not modify the code above\n",
    "def at_least_n(lst, n):\n",
    "    i = 0\n",
    "    while i < len(lst):\n",
    "        if lst[i] < n:\n",
    "            lst.remove(lst[i]) # lst.pop(i)\n",
    "            i -= 1\n",
    "        i += 1\n",
    "    return lst\n",
    "\n",
    "print(at_least_n(lst_a, 7))"
   ]
  },
  {
   "cell_type": "markdown",
   "metadata": {},
   "source": [
    "## Question 2\n",
    "The task is to solve an equilibrium problem. The equilibrium index of a sequence is an index such that the sum of elements at lower indexes is equal to the sum of elements at higher indexes.\n",
    "\n",
    "For example, in a sequence A:\n",
    "\n",
    "```python\n",
    "A = [-7, 1, 5, 2, -4, 3, 0]\n",
    "```\n",
    "\n",
    "3 is an equilibrium index, because:\n",
    "\n",
    "```python\n",
    "A[0]+A[1]+A[2]=A[4]+A[5]+A[6]\n",
    "```\n",
    "\n",
    "6 is also an equilibrium index, because:\n",
    "\n",
    "```python\n",
    "A[0]+A[1]+A[2]+A[3]+A[4]+A[5]=0\n",
    "```\n",
    "\n",
    "Write a function `find_equi()` which returns a list containing all equilibrium index or return -1 if no equilibrium index exists."
   ]
  },
  {
   "cell_type": "code",
   "execution_count": 3,
   "metadata": {},
   "outputs": [
    {
     "name": "stdout",
     "output_type": "stream",
     "text": [
      "[3, 6]\n"
     ]
    }
   ],
   "source": [
    "def find_equi(lst):\n",
    "    idx = []\n",
    "    for i in range(len(lst)):\n",
    "        first_sum, second_sum = 0, 0\n",
    "        for j in range(i):\n",
    "            first_sum += lst[j]\n",
    "        for j in range(i+1, len(lst)):\n",
    "            second_sum += lst[j]\n",
    "        if first_sum == second_sum:\n",
    "            idx.append(i)\n",
    "    return idx if len(idx) != 0 else -1\n",
    "\n",
    "def find_equi(lst):\n",
    "    total = sum(lst)\n",
    "    result = []\n",
    "    prev, post = 0, sum(lst)\n",
    "    for i in range(len(lst)):\n",
    "        post -= lst[i]\n",
    "        if prev == post:\n",
    "            result.append(i)\n",
    "        prev += lst[i]\n",
    "    return result\n",
    "\n",
    "print(find_equi([-7, 1, 5, 2, -4, 3, 0]))"
   ]
  },
  {
   "cell_type": "markdown",
   "metadata": {},
   "source": [
    "## Question 3\n",
    "Write a function called `odd_even_sums()` that takes in a tuple of numbers as its only argument and returns a tuple of two elements: the first is the sum of all odd-ranked numbers in the input tuple, whereas the second element is the sum of all even-ranked elements in the input."
   ]
  },
  {
   "cell_type": "code",
   "execution_count": 26,
   "metadata": {},
   "outputs": [
    {
     "name": "stdout",
     "output_type": "stream",
     "text": [
      "(8, 7)\n"
     ]
    }
   ],
   "source": [
    "def odd_even_sums(tup):\n",
    "    odd_sum, even_sum = 0, 0\n",
    "    for i in range(0, len(tup), 2): # odd numbers\n",
    "        odd_sum += tup[i]\n",
    "    for i in range(1, len(tup), 2): # even numbers\n",
    "        even_sum += tup[i]\n",
    "    return odd_sum, even_sum\n",
    "\n",
    "print(odd_even_sums((1, 3, 2, 4, 5)))"
   ]
  },
  {
   "cell_type": "markdown",
   "metadata": {},
   "source": [
    "## Question 4\n",
    "Write a recursive function called odd_even_sums() that takes in a tuple of numbers as its only argument and returns a tuple of two elements: the first is the sum of all odd-ranked numbers in the input tuple, whereas the second element is the sum of all even-ranked elements in the input."
   ]
  },
  {
   "cell_type": "code",
   "execution_count": 6,
   "metadata": {},
   "outputs": [
    {
     "name": "stdout",
     "output_type": "stream",
     "text": [
      "(8, 7)\n"
     ]
    }
   ],
   "source": [
    "def odd_even_sums(val, index=0, odd=0, even=0):\n",
    "    if index >= len(val):\n",
    "        return (odd, even)\n",
    "    if index % 2 == 0:\n",
    "        odd += val[index]\n",
    "    else:\n",
    "        even += val[index]\n",
    "    return odd_even_sums(val, index+1, odd, even)\n",
    "\n",
    "# def odd_even_sums(val):\n",
    "#     # see zhoup ans\n",
    "\n",
    "print(odd_even_sums((1, 3, 2, 4, 5)))"
   ]
  },
  {
   "cell_type": "markdown",
   "metadata": {},
   "source": [
    "## Question 5\n",
    "Write a Python program that takes a 2D list `students_data` and counts the number of students taking each subject. Create a dictionary where the keys are subjects, and the values are the count of students taking that subject.\n",
    "\n",
    "Sample input:\n",
    "```python\n",
    "students_data = [\n",
    "    [\"John\", \"Math\", \"English\", \"Science\"],\n",
    "    [\"Jane\", \"Chinese\", \"Math\", \"History\"],\n",
    "    [\"Alex\", \"English\", \"Chinese\", \"Math\"],\n",
    "    [\"Eva\", \"Science\", \"Chinese\", \"History\"],\n",
    "    [\"Michael\", \"Math\", \"Science\", \"History\"],\n",
    "    [\"Sophia\", \"English\", \"Science\", \"Math\"],\n",
    "]\n",
    "```\n",
    "\n",
    "Expected output:\n",
    "```\n",
    "{'Math': 4, 'English': 3, 'Science': 4, 'Chinese': 3, 'History': 3}\n",
    "```"
   ]
  },
  {
   "cell_type": "code",
   "execution_count": 7,
   "metadata": {},
   "outputs": [
    {
     "name": "stdout",
     "output_type": "stream",
     "text": [
      "{'Math': 5, 'English': 3, 'Science': 4, 'Chinese': 3, 'History': 3}\n"
     ]
    }
   ],
   "source": [
    "students_data = [\n",
    "    [\"John\", \"Math\", \"English\", \"Science\"],\n",
    "    [\"Jane\", \"Chinese\", \"Math\", \"History\"],\n",
    "    [\"Alex\", \"English\", \"Chinese\", \"Math\"],\n",
    "    [\"Eva\", \"Science\", \"Chinese\", \"History\"],\n",
    "    [\"Michael\", \"Math\", \"Science\", \"History\"],\n",
    "    [\"Sophia\", \"English\", \"Science\", \"Math\"],\n",
    "]\n",
    "\n",
    "\n",
    "def count_subjects(students_data):\n",
    "    result = {\n",
    "        'Math': 0,\n",
    "        'English': 0,\n",
    "        'Science': 0,\n",
    "        'Chinese': 0,\n",
    "        'History': 0\n",
    "    }\n",
    "    for item in students_data:\n",
    "        if \"Math\" in item:\n",
    "            result[\"Math\"] += 1\n",
    "        if \"English\" in item:\n",
    "            result[\"English\"] += 1\n",
    "        if \"Science\" in item:\n",
    "            result[\"Science\"] += 1\n",
    "        if \"Chinese\" in item:\n",
    "            result[\"Chinese\"] += 1\n",
    "        if \"History\" in item:\n",
    "            result[\"History\"] += 1\n",
    "    return result\n",
    "\n",
    "print(count_subjects(students_data))"
   ]
  },
  {
   "cell_type": "markdown",
   "metadata": {},
   "source": [
    "## Question 6\n",
    "Write a Python program that takes a 2D list students_data and find a set of unique subjects that the students are taking.\n",
    "\n",
    "Sample input:\n",
    "```python\n",
    "students_data = [\n",
    "    [\"John\", \"Math\", \"English\", \"Science\"],\n",
    "    [\"Jane\", \"Chinese\", \"Math\", \"History\"],\n",
    "    [\"Alex\", \"English\", \"Chinese\", \"Math\"],\n",
    "    [\"Eva\", \"Science\", \"Chinese\", \"History\"],\n",
    "    [\"Michael\", \"Math\", \"Science\", \"History\"],\n",
    "    [\"Sophia\", \"English\", \"Science\", \"Math\"],\n",
    "]\n",
    "```\n",
    "\n",
    "Expected output:\n",
    "```\n",
    "{'Science', 'Chinese', 'Math', 'History', 'English'}\n",
    "```"
   ]
  },
  {
   "cell_type": "code",
   "execution_count": 24,
   "metadata": {},
   "outputs": [
    {
     "name": "stdout",
     "output_type": "stream",
     "text": [
      "{'Chinese', 'History', 'English', 'Science', 'Math'}\n"
     ]
    }
   ],
   "source": [
    "def get_all_courses(students_data):\n",
    "    # your code here\n",
    "    result = set()\n",
    "    for item in students_data:\n",
    "        result.update(item[1:])\n",
    "    return result\n",
    "\n",
    "print(get_all_courses(students_data))"
   ]
  },
  {
   "cell_type": "markdown",
   "metadata": {},
   "source": [
    "## Question 7\n",
    "### Right angle triangles\n",
    "\n",
    "In this question, a triangle in a Cartesian coordinate system is represented by a list of coordinate values as shown below:\n",
    "\n",
    "For example, `tri_a = [[0, 0], [3, 0], [3, 4]] `\n",
    "This means that the 3 vertices of the triangle tri_a are (0, 0), (3, 0) and (3, 4)\n",
    "\n",
    "<br>\n",
    "\n",
    "Write a function called `only_right_tri` that takes a list of triangle coordinates as its only argument and returns a list of triangle coordinates that are right-angle triangle. \n",
    "\n",
    "<br>\n",
    "\n",
    "For example `tri_lst` has 3 triangles as coded below:\n",
    "\n",
    "`tri_lst_a = [[[0, 0], [3, 0], [3, 4]], [[0, 0], [6, 0], [7, 1]], [[1, 1], [2, 1], [2, 2]]]`\n",
    "\n",
    "<br>\n",
    "\n",
    "Take note that there are 3 triangles in the list `tri_list`. However, only the second triangle which is represented by [[0, 0], [6, 0], [7, 1]] is not a right triangle. Therefore,\n",
    "\n",
    "<br>\n",
    "\n",
    "`only_right_tri(tri_lst_a)` returns `[[[0, 0], [3, 0], [3, 4]],  [[1, 1], [2, 1], [2, 2]]]`"
   ]
  },
  {
   "cell_type": "code",
   "execution_count": 29,
   "metadata": {},
   "outputs": [
    {
     "name": "stdout",
     "output_type": "stream",
     "text": [
      "[[[0, 0], [3, 0], [3, 4]], [[1, 1], [2, 1], [2, 2]]]\n"
     ]
    }
   ],
   "source": [
    "tri_lst_a = [[[0, 0], [3, 0], [3, 4]], [[0, 0], [6, 0], [7, 1]], [[1, 1], [2, 1], [2, 2]]]\n",
    "#do not modify the codes above\n",
    "def get_sq(point1, point2):\n",
    "    return (point2[0] - point1[0]) ** 2 + (point2[1] - point1[1]) ** 2\n",
    "\n",
    "def only_right_tri(tri_lst):\n",
    "    right_tris = []\n",
    "    for tri in tri_lst:\n",
    "        a, b, c = tri\n",
    "        absq = get_sq(a, b)\n",
    "        bcsq = get_sq(b, c)\n",
    "        casq = get_sq(c, a)\n",
    "\n",
    "        if absq + bcsq == casq or bcsq + casq == absq or casq + absq == bcsq:\n",
    "            right_tris.append(tri)\n",
    "    return right_tris\n",
    "\n",
    "print(only_right_tri(tri_lst_a))"
   ]
  }
 ],
 "metadata": {
  "kernelspec": {
   "display_name": "Python 3",
   "language": "python",
   "name": "python3"
  },
  "language_info": {
   "codemirror_mode": {
    "name": "ipython",
    "version": 3
   },
   "file_extension": ".py",
   "mimetype": "text/x-python",
   "name": "python",
   "nbconvert_exporter": "python",
   "pygments_lexer": "ipython3",
   "version": "3.12.1"
  }
 },
 "nbformat": 4,
 "nbformat_minor": 2
}
