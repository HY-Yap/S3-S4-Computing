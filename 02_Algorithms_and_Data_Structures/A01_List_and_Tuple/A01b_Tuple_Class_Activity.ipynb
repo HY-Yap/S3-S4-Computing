{
 "cells": [
  {
   "cell_type": "markdown",
   "metadata": {},
   "source": [
    "# A01 Tuple - Class Activity"
   ]
  },
  {
   "cell_type": "code",
   "execution_count": 6,
   "metadata": {},
   "outputs": [],
   "source": [
    "score_tup_1A = (('Peter', 10), ('Mary', 7), ('John', 8), ('Tim', 0), ('Jill', 8))\n",
    "score_tup_1B = (('Jack', 7), ('Toby', 7), ('Amy', 4), ('Bobby', 4), ('Catherine', 8))\n",
    "score_tup_1C = (('Sam', 8), ('Tom', 7), ('yvonne', 9))\n",
    "#Do not edit the codes above"
   ]
  },
  {
   "cell_type": "markdown",
   "metadata": {},
   "source": [
    "## Question 1\n",
    "### Average Score\n",
    "\n",
    "The scores of a class is recorded in a tuple in the following format: <br>\n",
    "`score_tup = ((‘Peter’, 10), (‘Mary’, 7) , (‘John’, 8) , (‘Tim’, 7) , (‘Jill’, 8))`\n",
    "\n",
    "<br>\n",
    "\n",
    "score_tup is a tuple that contains a number of tuples that record student's name and marks in a tuple. <br>\n",
    "`(<name>, <score>)`\n",
    "\n",
    "<br>\n",
    "\n",
    "Define a function `ave_score(tup)` that takes a nested tuple like `score_tuple`, and returns the average score of all the students in the tuple. <br>\n",
    "You should round off your answer to 1 decimal place by using the `round()` function."
   ]
  },
  {
   "cell_type": "code",
   "execution_count": 7,
   "metadata": {},
   "outputs": [
    {
     "name": "stdout",
     "output_type": "stream",
     "text": [
      "6.6\n",
      "6.0\n",
      "8.0\n"
     ]
    }
   ],
   "source": [
    "def ave_score(tup):\n",
    "    sum_ = 0\n",
    "    for item in tup:\n",
    "        sum_ += item[1]\n",
    "    return round(sum_ / max(1, len(tup)), 1)\n",
    "\n",
    "print(ave_score(score_tup_1A))\n",
    "print(ave_score(score_tup_1B))\n",
    "print(ave_score(score_tup_1C))\n"
   ]
  },
  {
   "cell_type": "markdown",
   "metadata": {},
   "source": [
    "## Question 2\n",
    "### Lowest Score\n",
    "\n",
    "Using the same tup structure as 7A, \n",
    "\n",
    "<br>\n",
    "\n",
    "\n",
    "`score_tup= ((‘Peter’, 10), (‘Mary’, 7) , (‘John’, 8) , (‘Tim’, 7) , (‘Jill’, 8))`\n",
    "\n",
    "<br>\n",
    "\n",
    "Define a function `lowest_score(tup)` that takes a nested tuple like score_tuple, and returns a tuple with all the names of the students that have the lowest score in the tuple."
   ]
  },
  {
   "cell_type": "code",
   "execution_count": 10,
   "metadata": {},
   "outputs": [
    {
     "name": "stdout",
     "output_type": "stream",
     "text": [
      "('Tim',)\n",
      "('Amy', 'Bobby')\n",
      "('Tom',)\n"
     ]
    }
   ],
   "source": [
    "def lowest_score(tup):\n",
    "    lowest_score = 100\n",
    "    result = ()\n",
    "\n",
    "    for item in tup:\n",
    "        if item[1] < lowest_score:\n",
    "            lowest_score = item[1]\n",
    "            result = (item[0],)\n",
    "        elif item[1] == lowest_score:\n",
    "            result += (item[0],)\n",
    "    \n",
    "    return result\n",
    "\n",
    "print(lowest_score(score_tup_1A))\n",
    "print(lowest_score(score_tup_1B))\n",
    "print(lowest_score(score_tup_1C))"
   ]
  },
  {
   "cell_type": "markdown",
   "metadata": {},
   "source": [
    "## Question 3\n",
    "### Subject Not Done!\n",
    "\n",
    "Given:\n",
    "```python\n",
    "EL_records = (('Eugene Chan', ('CP', 'Submitted'), ('MA', 'Not done')),\n",
    "            ('Wang Dian',   ('CP', 'Not done'), ('MA', 'Submitted')),\n",
    "            ('Yelun',('CP', 'Submitted'), ('MA', 'Not done')),\n",
    "            ('Li Gan',('EC', 'Not done'), ('CP', 'Not done')),\n",
    "            ('Chinn Fang',('EN', 'Not done'), ('MA', 'Submitted')))\n",
    "```\n",
    "\n",
    "<br>\n",
    "\n",
    "Define a function `subj_not_done(tup, subj)` that takes a tuple `tup` like `EL_records`, and a string `subj` indicating a subject like `‘EN’`. Then it returns a tuple contains the names of students who have not Submitted ‘EN’ e-learning assignment.\n",
    "\n",
    "<br>\n",
    "\n",
    "E.g. `subj_not_done(EL_records, ‘EN’)` returns `('Chinn Fang',)`"
   ]
  },
  {
   "cell_type": "code",
   "execution_count": 15,
   "metadata": {},
   "outputs": [
    {
     "name": "stdout",
     "output_type": "stream",
     "text": [
      "('Eugene Chan', 'Yelun')\n",
      "('Li Gan',)\n"
     ]
    }
   ],
   "source": [
    "EL_records = (('Eugene Chan', ('CP', 'Submitted'), ('MA', 'Not done')),\n",
    "            ('Wang Dian',   ('CP', 'Not done'), ('MA', 'Submitted')),\n",
    "            ('Yelun',('CP', 'Submitted'), ('MA', 'Not done')),\n",
    "            ('Li Gan',('EC', 'Not done'), ('CP', 'Not done')),\n",
    "            ('Chinn Fang',('EN', 'Not done'), ('MA', 'Submitted')))\n",
    "# Do not edit the code above\n",
    "def subj_not_done(tup, subj):\n",
    "    result = ()\n",
    "    for student in tup:\n",
    "        for subject in student:\n",
    "            if subject[0] == subj and subject[1] == 'Not done':\n",
    "                result += (student[0],)\n",
    "    return result\n",
    "\n",
    "print(subj_not_done (EL_records, 'MA'))\n",
    "print(subj_not_done(EL_records, 'EC'))\n"
   ]
  },
  {
   "cell_type": "markdown",
   "metadata": {},
   "source": [
    "## Question 4\n",
    "Tuple is an immutable data type. It means that once created, the value inside a tuple cannot be changed. For example, if you have `t = (1, 2, 3)`, `t[2] = 10` will give you an IndexError. If you want to change a particular value inside a tuple, you have to construct a new one.\n",
    "\n",
    "<br>\n",
    "\n",
    "Now implement a function `change_value_at_index` that takes in three parameters: a tuple, an index, and a new value, and changes the value at the index to the new value. The function should return the modified tuple. If index is out of range, return the original tuple.\n",
    "\n",
    "<br>\n",
    "\n",
    "Hint: Remember that tuple values can be accessed through negative indices! The valid range of indices for a tuple of length `n` is `[-n, n)`.\n",
    "\n"
   ]
  },
  {
   "cell_type": "code",
   "execution_count": 4,
   "metadata": {},
   "outputs": [
    {
     "name": "stdout",
     "output_type": "stream",
     "text": [
      "(1, -1, 3)\n",
      "(1, 2, 3)\n",
      "('huh', 2, 3)\n"
     ]
    }
   ],
   "source": [
    "def change_value_at_index(tpl, index, value):\n",
    "    if -len(tpl) <= index < len(tpl):\n",
    "        return tpl[:index] + (value,) + tpl[index+1:]\n",
    "    else:\n",
    "        return tpl\n",
    "\n",
    "print(change_value_at_index((1, 2, 3), 1, -1))\n",
    "print(change_value_at_index((1, 2, 3), 10, -1))\n",
    "print(change_value_at_index((1, 2, 3), -3, 'huh'))"
   ]
  }
 ],
 "metadata": {
  "kernelspec": {
   "display_name": "Python 3",
   "language": "python",
   "name": "python3"
  },
  "language_info": {
   "codemirror_mode": {
    "name": "ipython",
    "version": 3
   },
   "file_extension": ".py",
   "mimetype": "text/x-python",
   "name": "python",
   "nbconvert_exporter": "python",
   "pygments_lexer": "ipython3",
   "version": "3.12.1"
  }
 },
 "nbformat": 4,
 "nbformat_minor": 2
}
