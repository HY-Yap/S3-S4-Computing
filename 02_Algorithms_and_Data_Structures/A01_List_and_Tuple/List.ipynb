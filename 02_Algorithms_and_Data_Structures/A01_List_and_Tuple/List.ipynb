{
 "cells": [
  {
   "cell_type": "markdown",
   "metadata": {},
   "source": [
    "# Assignment - [A01a] List"
   ]
  },
  {
   "cell_type": "markdown",
   "metadata": {},
   "source": [
    "## Question 1\n",
    "`\\n` represents an \"newline\". When printing `\"haha\\nhoho\"`, the result will be shown as:\n",
    "\n",
    "haha\n",
    "<br>\n",
    "hoho\n",
    "\n",
    "<br>\n",
    "\n",
    "Implement a function `str_to_lst()` which convert a string separated by `\"\\n\" `to a list of strings without any empty lines."
   ]
  },
  {
   "cell_type": "code",
   "execution_count": 1,
   "metadata": {},
   "outputs": [
    {
     "name": "stdout",
     "output_type": "stream",
     "text": [
      "['haha', 'xixi', 'lalala']\n"
     ]
    }
   ],
   "source": [
    "s = \"haha\\n\\nxixi\\n\\n\\nlalala\\n\\n\"\n",
    "\n",
    "def str_to_lst(s):\n",
    "    return list(filter(None, s.split(\"\\n\")))\n",
    "\n",
    "def str_to_lst(s):\n",
    "    return s.split()\n",
    "\n",
    "print(str_to_lst(s))"
   ]
  },
  {
   "cell_type": "markdown",
   "metadata": {},
   "source": [
    "## Question 2\n",
    "Implement a `function find_highest()` which takes in a list and return a list of names of all the people who scored the highest mark."
   ]
  },
  {
   "cell_type": "code",
   "execution_count": 3,
   "metadata": {},
   "outputs": [
    {
     "name": "stdout",
     "output_type": "stream",
     "text": [
      "['Alice']\n",
      "['Khadgar', 'Medivh']\n",
      "['Malfurion Stormrage', 'Khadgar', 'Medivh']\n"
     ]
    }
   ],
   "source": [
    "class_a = [['Bob', 89],['Alice', 91],['Xiao Ming', 90]]\n",
    "class_b = [['Jaina', 89],['Khadgar', 91],['Medivh', 91]]\n",
    "class_c = [['Garrosh', 49],['Magni Bronzebeard', 60],['Malfurion Stormrage', 91], ['Jaina', 89],['Khadgar', 91],['Medivh', 91], ['Rexxar', 75],['Uther', 88],['Liadrin', 70]]\n",
    "# Please do not change the values above.\n",
    "\n",
    "def find_highest(class_):\n",
    "    highest_mark = 0\n",
    "    result = []\n",
    "\n",
    "    # find highest mark\n",
    "    for i in range(len(class_)):\n",
    "        if class_[i][1] > highest_mark:\n",
    "            highest_mark = class_[i][1]\n",
    "    \n",
    "    # find number of people with highest mark\n",
    "    for i in range(len(class_)):\n",
    "        if class_[i][1] == highest_mark:\n",
    "            result.append(class_[i][0])\n",
    "    \n",
    "    return result\n",
    "\n",
    "def find_highest(scores):\n",
    "    result = []\n",
    "    scores.sort(key=lambda x: x[1], reverse=True)\n",
    "    highest = scores[0][1]\n",
    "    for score in scores:\n",
    "        if score[1] == highest:\n",
    "            result.append(score[0])\n",
    "    return result\n",
    "\n",
    "print(find_highest(class_a))\n",
    "print(find_highest(class_b))\n",
    "print(find_highest(class_c))"
   ]
  },
  {
   "cell_type": "markdown",
   "metadata": {},
   "source": [
    "## Question 3\n",
    "Implement a function `find_repetition()` which takes in a list and returns a list containing numbers which are repeated at least once in the list."
   ]
  },
  {
   "cell_type": "code",
   "execution_count": 9,
   "metadata": {},
   "outputs": [
    {
     "name": "stdout",
     "output_type": "stream",
     "text": [
      "[1, 4]\n"
     ]
    }
   ],
   "source": [
    "def find_repetition(lst):\n",
    "    result = []\n",
    "    for i in range(len(lst)): # repeat for each item\n",
    "        if lst.count(lst[i]) > 1 and lst[i] not in result:\n",
    "            result.append(lst[i])\n",
    "    return \n",
    "\n",
    "def find_repetition(lst):\n",
    "    return list(set([ele for ele in lst if lst.count(ele) >= 2]))\n",
    "\n",
    "print(find_repetition([1,1,2,3,4,4]))\n"
   ]
  },
  {
   "cell_type": "markdown",
   "metadata": {},
   "source": [
    "## Question 4\n",
    "\n",
    "Phone numbers are 11 digits long in China. Some websites uses `\"-\"` to divide this long phone numbers into shorter parts for easier reading purposes. However, the positiion of the `\"-\"` is not standardised.\n",
    "\n",
    "For example: `\"133-3113-9321\"`, `\"1542-3879-123\"`\n",
    "\n",
    "`phone_numbers` stores a list of different phone numbers.\n",
    "\n",
    "Write a function `get_largest_number()` to return the largest numerical phone number in `phone_numbers`."
   ]
  },
  {
   "cell_type": "code",
   "execution_count": 5,
   "metadata": {},
   "outputs": [
    {
     "name": "stdout",
     "output_type": "stream",
     "text": [
      "154-2939-2378\n"
     ]
    }
   ],
   "source": [
    "phone_numbers = [\"133-3133-9873\", \"154-2939-2378\", \"1542-3879-123\", \"134-2321-4657\", \"1325-523-5656\"]\n",
    "\n",
    "def get_largest_number(lst):\n",
    "    # filter off the \"-\"\n",
    "    numbers = []\n",
    "    for i in range(len(lst)):\n",
    "        numbers.append(\"\")\n",
    "        for char in lst[i]:\n",
    "            if char != \"-\":\n",
    "                numbers[i] = numbers[i] + char\n",
    "    return lst[numbers.index(max(numbers))]\n",
    "\n",
    "def get_largest_number(phone_numbers):\n",
    "    result = 0\n",
    "    for i in range(len(phone_numbers) - 1):\n",
    "        b = phone_numbers[i].replace(\"-\", \"\")\n",
    "        if int(b) > result:\n",
    "            result = int(b)\n",
    "            pos = i\n",
    "    return phone_numbers[pos]\n",
    "\n",
    "print(get_largest_number(phone_numbers))"
   ]
  },
  {
   "cell_type": "markdown",
   "metadata": {},
   "source": [
    "## Question 5\n",
    "### Generate email address\n",
    "\n",
    "The rvhs.edu.sg account is created every year for all RV students. The account name uses the full name of each student, insert underscore sign `\"_\"` in between each word and add the `@students.edu.sg` at the back.\n",
    "\n",
    "Create a function `gen_email_list` taking in a long string `new_student_names` into a list of strings and convert it into the email format based on the following criteria:\n",
    "\n",
    "1. All letters should be in lower case\n",
    "\n",
    "2. No space `\" \"` or comma `\",\"` should be present"
   ]
  },
  {
   "cell_type": "code",
   "execution_count": 16,
   "metadata": {},
   "outputs": [
    {
     "name": "stdout",
     "output_type": "stream",
     "text": [
      "['xiao_ming@students.edu.sg', 'xiao_hong@students.edu.sg', 'xiao_qiang@students.edu.sg']\n",
      "['larissa_ang@students.edu.sg', 'eleanore_chan@students.edu.sg', 'desiree_loy@students.edu.sg', 'marion_chan_lai_hah@students.edu.sg', 'chloe_yang_hwee_lan@students.edu.sg', 'gladys_low@students.edu.sg', 'vicky_chia_yi_heng@students.edu.sg', 'fiona_low_siew_chin@students.edu.sg', 'natasha_hoon_shi_shi@students.edu.sg', 'ma_aw@students.edu.sg', 'sam_ee@students.edu.sg', 'holden_yip@students.edu.sg', 'si_jiahao_geoffrey@students.edu.sg', 'loy_yuan_wilton@students.edu.sg', 'matt_wee@students.edu.sg', 'kurtis_aw@students.edu.sg', 'nigel_lau@students.edu.sg', 'sonny_hong@students.edu.sg', 'robb_zhang@students.edu.sg', 'seetoh_zihao_tom@students.edu.sg']\n"
     ]
    }
   ],
   "source": [
    "name_list_1 = \"Xiao Ming; Xiao Hong; Xiao Qiang\"\n",
    "name_list_2 = \"\"\"\n",
    "Larissa Ang; Eleanore Chan; Desiree Loy; Marion Chan Lai Hah; Chloe, Yang Hwee Lan;\n",
    "Gladys Low; Vicky Chia Yi Heng; Fiona, Low Siew Chin; Natasha Hoon Shi Shi; Ma Aw;\n",
    "Sam Ee; Holden Yip; Si Jiahao Geoffrey; Loy Yuan Wilton; Matt Wee;\n",
    "Kurtis Aw; Nigel Lau; Sonny Hong; Robb Zhang; Seetoh Zihao Tom\n",
    "\"\"\"\n",
    "\n",
    "def gen_email_list(new_student_names):\n",
    "    email_lst = new_student_names.split(\";\") # slice of \";\"\n",
    "    for i in range(len(email_lst)):\n",
    "        email_lst[i] = email_lst[i].lower().strip() + \"@students.edu.sg\" # format email\n",
    "        if \" \" in email_lst[i]:\n",
    "            email_lst[i] = email_lst[i].replace(\",\", \"\").replace(\" \", \"_\")\n",
    "    return email_lst\n",
    "\n",
    "def gen_email_list(new_student_names):\n",
    "    names = new_student_names.replace(\",\", \" \").split(\";\")\n",
    "    email_lst = []\n",
    "    for name in names:\n",
    "        name_part = name.strip().lower().split()\n",
    "        email = \"_\".join(name_part) + \"@students.edu.sg\"\n",
    "        email_lst.append(email)\n",
    "    return email_lst\n",
    "\n",
    "print(gen_email_list(name_list_1))\n",
    "print(gen_email_list(name_list_2))"
   ]
  }
 ],
 "metadata": {
  "kernelspec": {
   "display_name": "Python 3",
   "language": "python",
   "name": "python3"
  },
  "language_info": {
   "codemirror_mode": {
    "name": "ipython",
    "version": 3
   },
   "file_extension": ".py",
   "mimetype": "text/x-python",
   "name": "python",
   "nbconvert_exporter": "python",
   "pygments_lexer": "ipython3",
   "version": "3.12.1"
  }
 },
 "nbformat": 4,
 "nbformat_minor": 2
}
