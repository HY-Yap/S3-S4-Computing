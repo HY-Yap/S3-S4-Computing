{
 "cells": [
  {
   "cell_type": "markdown",
   "metadata": {},
   "source": [
    "# YEAR 2023 End of Year Examination\n",
    "# Section A - Python\n",
    "\n",
    "**<font color='red'>\n",
    "</font>**"
   ]
  },
  {
   "cell_type": "markdown",
   "metadata": {},
   "source": [
    "# Exam Instructions\n",
    "\n",
    "Answer all questions.\n",
    "\n",
    "All tasks must be done in the computer laboratory. You are not allowed to bring in or take out any pieces of work, materials, paper or electronic media or in any other form.\n",
    "\n",
    "All tasks are numbered.\n",
    "\n",
    "The number of marks is given in brackets \\[ \\]  at the end of the task, the total mark of this section is **30**.\n",
    "\n",
    "If any cell is accidentally deleted in the jupyter notebook, you may refer to the html file to recover the content.\n",
    "\n",
    "You are allowed to add new cells to the notebook, but please make sure to write meaningful comments to explain the purpose.\n",
    "\n",
    "At the end of the examination, **SAVE** all the changes in the notebook, and save all your source files in the thumb drive and do NOT delete your source files."
   ]
  },
  {
   "cell_type": "code",
   "execution_count": null,
   "metadata": {},
   "outputs": [],
   "source": [
    "# Test Run Code Cell:\n",
    "print(\"All the best for this paper!\")"
   ]
  },
  {
   "cell_type": "markdown",
   "metadata": {},
   "source": [
    "# Task 1.1\n",
    "\n",
    "Implement `Unit` class according to the UML class diagram and the attributes / methods specifications.\n",
    "\n",
    "<div style=\"text-align:right; font-weight:bold\">Marks: [5]</div>"
   ]
  },
  {
   "cell_type": "code",
   "execution_count": null,
   "metadata": {},
   "outputs": [],
   "source": [
    "# Your code for Task 1.1 here\n",
    "\n"
   ]
  },
  {
   "cell_type": "markdown",
   "metadata": {},
   "source": [
    "# Task 1.2\n",
    "\n",
    "Implement `Plant` and `Animal` sub-classes according to the UML class diagram and the attributes / methods specifications.\n",
    "\n",
    "<div style=\"text-align:right; font-weight:bold\">Marks: [10]</div>"
   ]
  },
  {
   "cell_type": "code",
   "execution_count": null,
   "metadata": {},
   "outputs": [],
   "source": [
    "# Your code for Task 1.2 here\n",
    "\n"
   ]
  },
  {
   "cell_type": "markdown",
   "metadata": {},
   "source": [
    "# Task 1.3\n",
    "\n",
    "Create `Plant` and `Animal` objects based on the following input and generate test cases to test your class implementation.\n",
    "\n",
    "You may assume that all `Plants` would use lower case letters for their `abbr` values;  \n",
    "and all `Animals` would use upper case letters for their `abbr` values.\n",
    "\n",
    "Create the following `Plant` objects `(name, abbr, days_to_mature)`:\n",
    "```\n",
    "\"Grass\", \"g\", 2\n",
    "\"Corn\", \"c\", 3\n",
    "\"Wheat\", \"w\", 4\n",
    "```\n",
    "\n",
    "Create the following `Animal` objects `(name, abbr)`:\n",
    "```\n",
    "\"Sheep\", \"S\"\n",
    "```\n",
    "\n",
    "Add the following `Plant` into its diet_list:\n",
    "```\n",
    "Grass, Corn\n",
    "```\n",
    "\n",
    "Use `print()` statement to print out all the Plant and Animal objects.\n",
    "\n",
    "For each of the `Plant` object, check if it can be eaten by the `Animal` object based on its `diet_list`.\n",
    "\n",
    "\n",
    "<div style=\"text-align:right; font-weight:bold\">Marks: [4]</div>"
   ]
  },
  {
   "cell_type": "code",
   "execution_count": null,
   "metadata": {},
   "outputs": [],
   "source": [
    "# Your code for Task 1.3 here\n",
    "\n"
   ]
  },
  {
   "cell_type": "markdown",
   "metadata": {},
   "source": [
    "# Task 1.4\n",
    "\n",
    "Implement `Farm` class according to the UML class diagram and the attributes / methods specifications.\n",
    "\n",
    "<div style=\"text-align:right; font-weight:bold\">Marks: [7]</div>"
   ]
  },
  {
   "cell_type": "code",
   "execution_count": null,
   "metadata": {},
   "outputs": [],
   "source": [
    "# Your code for Task 1.4 here\n",
    "\n"
   ]
  },
  {
   "cell_type": "markdown",
   "metadata": {},
   "source": [
    "# Task 1.5\n",
    "\n",
    "Implement the additional methods for `Farm` class according to the specifications.\n",
    "\n",
    "<div style=\"text-align:right; font-weight:bold\">Marks: [4]</div>"
   ]
  },
  {
   "cell_type": "code",
   "execution_count": null,
   "metadata": {},
   "outputs": [],
   "source": [
    "# copy your code form Task 1.4 to this cell before continuing to Task 1.5\n",
    "# Your code for Task 1.5 here\n",
    "\n"
   ]
  }
 ],
 "metadata": {
  "kernelspec": {
   "display_name": "Python 3 (ipykernel)",
   "language": "python",
   "name": "python3"
  },
  "language_info": {
   "codemirror_mode": {
    "name": "ipython",
    "version": 3
   },
   "file_extension": ".py",
   "mimetype": "text/x-python",
   "name": "python",
   "nbconvert_exporter": "python",
   "pygments_lexer": "ipython3",
   "version": "3.9.6"
  }
 },
 "nbformat": 4,
 "nbformat_minor": 4
}
