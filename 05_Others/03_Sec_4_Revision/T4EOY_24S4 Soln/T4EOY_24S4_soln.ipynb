{
 "cells": [
  {
   "cell_type": "markdown",
   "metadata": {},
   "source": [
    "# YEAR 2024 - Sec 4 End of Year Examination\n",
    "\n",
    "**<font color='red'>\n",
    "</font>**"
   ]
  },
  {
   "cell_type": "markdown",
   "metadata": {},
   "source": [
    "# READ THESE INSTRUCTIONS FIRST\n",
    "\n",
    "Answer **all** questions and **save** your work constantly.\n",
    "\n",
    "All tasks must be done in the computer laboratory. You are not allowed to bring in or bring out any piece of work, materials, paper or electronic media or in any other form.\n",
    "\n",
    "The number of marks is given in brackets [ ] at the end of each question or part question.\n",
    "\n",
    "You are reminded of the need for clear presentation in your answers. Please provide comments where appropriate and ensure the use of descriptive variable and function names.\n",
    "\n",
    "If any cell is accidentally deleted in the jupyter notebook, you may refer to the html file to recover the content.\n",
    "\n",
    "You are allowed to add new cells to the notebook, but please make sure to write meaningful comments to explain the purpose.\n",
    "\n",
    "At the end of the examination, **SAVE** all the changes in the notebook, and save all your source files in the thumb drive and do **NOT** delete your source files.\n",
    "\n",
    "You are strongly encouraged to manage your time well.\n",
    "\n",
    "<div style=\"text-align:right; font-weight:bold\">Total Marks: [45]</div>"
   ]
  },
  {
   "cell_type": "code",
   "execution_count": null,
   "metadata": {},
   "outputs": [],
   "source": [
    "# Test Run Code Cell:\n",
    "print(\"All the best for this paper!\")"
   ]
  },
  {
   "cell_type": "markdown",
   "metadata": {},
   "source": [
    "# Task 1.1 – `MyDate` Class\n",
    "\n",
    "Implement `MyDate` class according to the UML class diagram and the attributes / methods specifications.\n",
    "\n",
    "You will be assessed, but not limited to, based on the standard output of the following function calls:\n",
    "- `test_1_1()`\n",
    "\n",
    "<div style=\"text-align:right; font-weight:bold\">[6]</div>"
   ]
  },
  {
   "cell_type": "code",
   "execution_count": null,
   "metadata": {},
   "outputs": [],
   "source": [
    "# Your code for Task 1.1\n",
    "class MyDate:\n",
    "    def __init__(self, date_str):\n",
    "        year, month, day = date_str.split(\"-\")\n",
    "        self._year = int(year)\n",
    "        self._month = int(month)\n",
    "        self._day = int(day)\n",
    "\n",
    "    def get_year(self):\n",
    "        return self._year\n",
    "    \n",
    "    def get_month(self):\n",
    "        return self._month\n",
    "    \n",
    "    def get_day(self):\n",
    "        return self._day\n",
    "\n",
    "    def __eq__(self, other):\n",
    "        return self._year == other.get_year() and self._month == other.get_month() and self._day == other.get_day()\n",
    "    \n",
    "    def __lt__(self, other):\n",
    "        if self._year == other._year:\n",
    "            if self._month == other._month:\n",
    "                return self._day < other._day\n",
    "            return self._month < other._month\n",
    "        return self._year < other._year\n",
    "\n",
    "    def __str__(self):\n",
    "        return f\"{self._year}-{self._month}-{self._day}\""
   ]
  },
  {
   "cell_type": "code",
   "execution_count": null,
   "metadata": {},
   "outputs": [],
   "source": [
    "# Test code for Task 1.1\n",
    "def test_1_1():\n",
    "    date1 = MyDate(\"2021-01-01\")\n",
    "    date2 = MyDate(\"2021-01-02\")\n",
    "    date3 = MyDate(\"2021-02-01\")\n",
    "    date4 = MyDate(\"2021-02-01\")\n",
    "\n",
    "    print(date3 == date2) # False\n",
    "    print(date3 == date4) # True\n",
    "    \n",
    "    print(date1 < date2) # True\n",
    "    print(date1 < date3) # True\n",
    "    print(date2 > date3) # False\n",
    "    print(date3 > date2) # True\n",
    "    \n",
    "\n",
    "\n",
    "test_1_1()"
   ]
  },
  {
   "cell_type": "markdown",
   "metadata": {},
   "source": [
    "# Task 1.2 - Binary Search for a Date list\n",
    "\n",
    "Implement a function `bin_search_dates(date_list, date)` that uses the binary search algorithm to search for a `date` in a **sorted** `list` of `MyDate` objects.\n",
    "\n",
    "The function should return the **index** of the `date` in the `list` if it is found, otherwise it should return `-1`.\n",
    "\n",
    "You will be assessed, but not limited to, based on the standard output of the following function calls:\n",
    "- `test_1_2()`\n",
    "\n",
    "<div style=\"text-align:right; font-weight:bold\">[3]</div>"
   ]
  },
  {
   "cell_type": "code",
   "execution_count": null,
   "metadata": {},
   "outputs": [],
   "source": [
    "def bin_search_dates(date_list, date):\n",
    "    low = 0\n",
    "    high = len(date_list) - 1\n",
    "    while low <= high:\n",
    "        mid = (low + high) // 2\n",
    "        if date_list[mid] == date:\n",
    "            return mid\n",
    "        elif date_list[mid] < date:\n",
    "            low = mid + 1\n",
    "        else:\n",
    "            high = mid - 1\n",
    "    return -1"
   ]
  },
  {
   "cell_type": "code",
   "execution_count": null,
   "metadata": {},
   "outputs": [],
   "source": [
    "def test_1_2():\n",
    "    date1 = MyDate(\"2021-01-01\")\n",
    "    date2 = MyDate(\"2021-01-02\")\n",
    "    date3 = MyDate(\"2021-02-01\")\n",
    "    date4 = MyDate(\"2021-02-02\")\n",
    "    date5 = MyDate(\"2021-02-03\")\n",
    "    date6 = MyDate(\"2021-02-04\")\n",
    "    date_list = [date1, date2, date3, date4, date5, date6]\n",
    "\n",
    "    print(bin_search_dates(date_list, date1)) # 0\n",
    "    print(bin_search_dates(date_list, date3)) # 2\n",
    "    print(bin_search_dates(date_list, date6)) # 5\n",
    "\n",
    "    date7 = MyDate(\"2021-01-03\")\n",
    "    print(bin_search_dates(date_list, date7)) # -1\n",
    "\n",
    "test_1_2()"
   ]
  },
  {
   "cell_type": "markdown",
   "metadata": {},
   "source": [
    "### Task 2\n",
    "The school would like to implement an online voting system, which will aid in the Students’ Council Election process and provide meaningful data analysis for the voting results.\n",
    "\n",
    "In this exercise, you may assume all data are valid and do not need to worry about data validation or implementation of restrictions such as the maximum number of candidates a student can vote for.\n",
    "\n",
    "The following information of each `Student` is stored:\n",
    "- `MatricNo` – unique string in the format of `\"S-YYYY-XXX\"` where `YYYY` is the year of entry to school and `XXX` is a 3-digit string starting from `\"001\"`.\n",
    "- `Class` – class of student\n",
    "- `IndexNo` – index number of the student in the class\n",
    "- `Gender` – gender of student, to be stored as a single character, using either `\"M\"` or `\"F\"`\n",
    "\n",
    "The following information of each `Candidate` is stored:\n",
    "- `CandidateNo` – unique autoincrement integer value to identity each candidate\n",
    "- `Name` – name of candidate\n",
    "- `Slogan` – campaign slogan of the candidate\n",
    "- `PortraitLink` – campaign portrait image url link, this is an **optional** field\n",
    "\n",
    "The following information of each `Vote` is stored:\n",
    "- `MatricNo` – matric number of the student\n",
    "- `CandidateNo` – number to identify the candidate\n",
    "\n",
    "The information is to be stored in three tables:\n",
    "- `Student`\n",
    "- `Candidate`\n",
    "- `Vote`"
   ]
  },
  {
   "cell_type": "code",
   "execution_count": null,
   "metadata": {},
   "outputs": [],
   "source": [
    "# Run to link to db and attempt to unlock db when needed.\n",
    "# if db is still locked, delete the db file and run Task 1.1 to Task 1.3 to reset the db.\n",
    "import sqlite3\n",
    "import csv\n",
    "\n",
    "# !NOTE: if db file does not exist, it will be created\n",
    "db_file = \"voting_mgm.db\"\n",
    "conn = sqlite3.connect(db_file)\n",
    "conn.close()"
   ]
  },
  {
   "cell_type": "markdown",
   "metadata": {},
   "source": [
    "#### Task 2.1\n",
    "Create the tables in an SQLite database named `voting_mgm.db`.\n",
    "\n",
    "The table `Student` must use `MatricNo` as its primary key, and the table `Candidate` must use `CandidateNo` as its primary key. The table `Vote` should use `MatricNo` and `CandidateNo` as a composite key, while `MatricNo` and `CandidateNo` must refer to `MatricNo` in `Student` and `CandidateNo` in `Candidate` as foreign keys.\n",
    "\n",
    "\n",
    "Please select appropriate **data type**, and include **not null**,  **default** and **check** conditions in the table definitions based on the table specifications too.\n",
    "\n",
    "Record the SQL commands in the cell below.\n",
    "\n",
    "<div style=\"text-align:right; font-weight:bold\">[6]</div>"
   ]
  },
  {
   "cell_type": "code",
   "execution_count": null,
   "metadata": {},
   "outputs": [],
   "source": [
    "# Task 2.1\n",
    "# consider to use \"CREATE TABLE IF NOT EXISTS Tablename\",\n",
    "# to avoid error if table already exists\n",
    "\n",
    "query1 = \"\"\"\n",
    "CREATE TABLE IF NOT EXISTS \"Student\" (\n",
    "\t\"MatricNo\"\tTEXT,\n",
    "\t\"Class\"\tTEXT NOT NULL,\n",
    "\t\"IndexNo\"\tINTEGER NOT NULL,\n",
    "\t\"Gender\"\tTEXT NOT NULL CHECK(\"Gender\" IN ('M', 'F')),\n",
    "\tPRIMARY KEY(\"MatricNo\")\n",
    ");\n",
    "\"\"\"\n",
    "query2 = \"\"\"\n",
    "CREATE TABLE IF NOT EXISTS \"Candidate\" (\n",
    "\t\"CandidateNo\"\tINTEGER PRIMARY KEY AUTOINCREMENT,\n",
    "\t\"Name\"\tTEXT NOT NULL,\n",
    "\t\"Slogan\"\tTEXT NOT NULL,\n",
    "\t\"PortraitLink\"\tTEXT\n",
    ");\n",
    "\"\"\"\n",
    "query3 = \"\"\"\n",
    "CREATE TABLE IF NOT EXISTS \"Vote\" (\n",
    "\t\"MatricNo\"\tTEXT,\n",
    "\t\"CandidateNo\"\tINTEGER,\n",
    "\tPRIMARY KEY(\"MatricNo\",\"CandidateNo\"),\n",
    "\tFOREIGN KEY(\"CandidateNo\") REFERENCES \"Candidate\"(\"CandidateNo\"),\n",
    "\tFOREIGN KEY(\"MatricNo\") REFERENCES \"Student\"(\"MatricNo\")\n",
    ");\n",
    "\"\"\"\n",
    "\n",
    "queries = [query1, query2, query3]"
   ]
  },
  {
   "cell_type": "markdown",
   "metadata": {},
   "source": [
    "#### Task 2.2\n",
    "\n",
    "Write python code to create the database `voting_mgm.db` and the tables `Student`, `Candidate` and `Vote` based on the SQL commands in Task 2.1.\n",
    "\n",
    "<div style=\"text-align:right; font-weight:bold\">[2]</div>"
   ]
  },
  {
   "cell_type": "code",
   "execution_count": null,
   "metadata": {},
   "outputs": [],
   "source": [
    "# Task 2.2\n",
    "\n",
    "conn = sqlite3.connect(db_file)\n",
    "for q in queries:\n",
    "    # print(query)\n",
    "    conn.execute(q)\n",
    "conn.commit()\n",
    "conn.close()\n"
   ]
  },
  {
   "cell_type": "markdown",
   "metadata": {},
   "source": [
    "#### Task 2.3\n",
    "\n",
    "The files `students.csv`, `candidates.csv` and `votes.csv` contains information about the students, candidates and votes of this year. The first row of each file contains the header of the respective columns. Each row in the files is a comma-separated list of values.\n",
    "\n",
    "Write a Python program to insert all information from the files into the database.\n",
    "\n",
    "<div style=\"text-align:right; font-weight:bold\">[7]</div>"
   ]
  },
  {
   "cell_type": "code",
   "execution_count": null,
   "metadata": {},
   "outputs": [],
   "source": [
    "# Task 2.3\n",
    "\n",
    "table_files = {\n",
    "    \"Student\": \"students.csv\",\n",
    "    \"Candidate\": \"candidates.csv\",\n",
    "    \"Vote\": \"votes.csv\"\n",
    "}\n",
    "\n",
    "def read_csv_to_db(table):\n",
    "    file_name = table_files[table]\n",
    "    conn = sqlite3.connect(db_file)\n",
    "    with open(f\"data_files/{file_name}\", 'r') as f:\n",
    "        csvreader = csv.reader(f)\n",
    "        header = next(csvreader)\n",
    "        placeholders = \",\".join([\"?\" for _ in header])\n",
    "\n",
    "        for row in csvreader:\n",
    "            query = f\"\"\"\n",
    "            INSERT INTO {table}\n",
    "            {tuple(header)}\n",
    "            VALUES\n",
    "            ({placeholders})\n",
    "            \"\"\"\n",
    "            try:\n",
    "                conn.execute(query, tuple(row))\n",
    "            except sqlite3.Error as e:\n",
    "                if 'UNIQUE constraint failed' in str(e):\n",
    "                    # print(f\"Row already inserted. Skipping row: {row}\")\n",
    "                    continue\n",
    "                else:\n",
    "                    print(f\"Error inserting row: {row}\")\n",
    "                    print(e)\n",
    "            \n",
    "    conn.commit()\n",
    "    conn.close()\n",
    "\n",
    "for table in table_files:\n",
    "    read_csv_to_db(table)"
   ]
  },
  {
   "cell_type": "markdown",
   "metadata": {},
   "source": [
    "#### Task 2.4\n",
    "\n",
    "The teacher in charge would like to find out the number of votes based on candidate's name, e.g. `\"Ee Pei Chi Neoma\"`, from a particular class, e.g. `\"4A3\"`.\n",
    "\n",
    "Create a Python function called `query_votes()` that accepts two parameters: the candidate's name and the class name to search within. This function should return a `list` of `tuples`, with each `tuple` containing the `Class` and `IndexNo` of each student who voted for the candidate.\n",
    "\n",
    "The `display_data()` function is provided to present the data in an easily readable format.\n",
    "\n",
    "```python\n",
    "|Class|IndexNo|\n",
    "---------------\n",
    "| 4A3 |   1   |\n",
    "| 4A3 |   7   |\n",
    "...\n",
    "...\n",
    "```\n",
    "\n",
    "<div style=\"text-align:right; font-weight:bold\">[4]</div>"
   ]
  },
  {
   "cell_type": "code",
   "execution_count": null,
   "metadata": {},
   "outputs": [],
   "source": [
    "# Task 2.4\n",
    "\n",
    "def query_votes(candidate_name, class_name):\n",
    "    query = \"\"\"\n",
    "    SELECT Class, IndexNo\n",
    "    FROM Vote\n",
    "    INNER JOIN Candidate\n",
    "    ON Vote.CandidateNo = Candidate.CandidateNo\n",
    "    INNER JOIN Student\n",
    "    ON Vote.MatricNo = Student.MatricNo\n",
    "    WHERE Candidate.Name = ?\n",
    "    AND Student.Class = ?\n",
    "    ORDER BY IndexNo ASC\n",
    "    \"\"\"\n",
    "\n",
    "    conn = sqlite3.connect(db_file)\n",
    "    cursor = conn.execute(query, (candidate_name, class_name))\n",
    "    data = cursor.fetchall()\n",
    "    cursor.close()\n",
    "    conn.close()\n",
    "    return data\n",
    "\n",
    "# print(query_votes(\"Ee Pei Chi Neoma\", \"4A3\"))"
   ]
  },
  {
   "cell_type": "code",
   "execution_count": null,
   "metadata": {},
   "outputs": [],
   "source": [
    "# Task 2.4 Test\n",
    "def display_data(data):\n",
    "    header = f\"|{'Class':^5}|{'IndexNo':^7}|\"\n",
    "    print(header)\n",
    "    print(\"-\" * len(header))\n",
    "    if data is not None:\n",
    "        for row in data:\n",
    "            print(f\"|{row[0]:^5}|{row[1]:^7}|\")\n",
    "\n",
    "def test_2_4():\n",
    "    data = query_votes(\"Ee Pei Chi Neoma\", \"4A3\")\n",
    "    display_data(data)\n",
    "\n",
    "test_2_4()"
   ]
  },
  {
   "cell_type": "markdown",
   "metadata": {},
   "source": [
    "#### Task 2.5 & 2.6\n",
    "\n",
    "You should not implement Task 2.5 & 2.6 inside this notebook. Save all your files and folders needed for this task inside a folder named `task_2_5` and `task_2_6` respectively. \n",
    "\n",
    "<div style=\"text-align:right; font-weight:bold\">Task 2.5 [11]</div>\n",
    "<div style=\"text-align:right; font-weight:bold\">Task 2.6 [6]</div>"
   ]
  }
 ],
 "metadata": {
  "kernelspec": {
   "display_name": "Python 3 (ipykernel)",
   "language": "python",
   "name": "python3"
  },
  "language_info": {
   "codemirror_mode": {
    "name": "ipython",
    "version": 3
   },
   "file_extension": ".py",
   "mimetype": "text/x-python",
   "name": "python",
   "nbconvert_exporter": "python",
   "pygments_lexer": "ipython3",
   "version": "3.12.4"
  }
 },
 "nbformat": 4,
 "nbformat_minor": 4
}
