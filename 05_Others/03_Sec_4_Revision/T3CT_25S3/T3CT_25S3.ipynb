{
 "cells": [
  {
   "cell_type": "markdown",
   "metadata": {},
   "source": [
    "# YEAR 2025 - Sec 3 Term 3 Class Test\n",
    "\n",
    "**<font color='red'>\n",
    "</font>**"
   ]
  },
  {
   "cell_type": "markdown",
   "metadata": {},
   "source": [
    "# READ THESE INSTRUCTIONS FIRST\n",
    "\n",
    "Answer **all** questions and **save** your work constantly.\n",
    "\n",
    "All tasks must be done in the computer laboratory. You are not allowed to bring in or bring out any piece of work, materials, paper or electronic media or in any other form.\n",
    "\n",
    "The number of marks is given in brackets [ ] at the end of each question or part question.\n",
    "\n",
    "You are reminded of the need for clear presentation in your answers. Please provide comments where appropriate and ensure the use of descriptive variable and function names.\n",
    "\n",
    "You are allowed to add new cells to the notebook, but please make sure to write meaningful comments to explain the purpose.\n",
    "\n",
    "At the end of the examination, **SAVE** all the changes in the notebook, and save all your source files in the thumb drive and do **NOT** delete your source files.\n",
    "\n",
    "You are strongly encouraged to manage your time well.\n",
    "\n",
    "<div style=\"text-align:right; font-weight:bold\">Total Marks: [18]</div>"
   ]
  },
  {
   "cell_type": "code",
   "execution_count": 1,
   "metadata": {},
   "outputs": [
    {
     "name": "stdout",
     "output_type": "stream",
     "text": [
      "All the best for this paper!\n"
     ]
    }
   ],
   "source": [
    "# Test Run Code Cell:\n",
    "print(\"All the best for this paper!\")"
   ]
  },
  {
   "cell_type": "markdown",
   "metadata": {},
   "source": [
    "# Task 1.1\n",
    "You are helping a food review aggregator platform to sort user reviews for restaurants. \n",
    "\n",
    "Each review is represented as a `tuple`: `(restaurant_name, rating)`, where the rating is a float rounded to 1 decimal point, ranging from `1.0` to `5.0`, inclusive.\n",
    "\n",
    "Implement a function `better_review(review1, review2)` that takes two reviews and returns `True` if `review1` is better than `review2`, and `False` otherwise.\n",
    "\n",
    "The criteria for determining if one review is better than another are as follows:\n",
    "1. **Rating**: If the ratings are different, the review with the higher rating is considered better.\n",
    "2. **Restaurant Name**: If the ratings are the same, rank the reviews by the restaurant name in alphabetical order. The review with the name that comes first alphabetically is considered better.\n",
    "\n",
    "\n",
    "<div style=\"text-align:right; font-weight:bold\">[2]</div>"
   ]
  },
  {
   "cell_type": "code",
   "execution_count": 7,
   "metadata": {},
   "outputs": [],
   "source": [
    "# Your code for Task 1.1 here\n",
    "def better_review(review1, review2):\n",
    "    return (review1[1], review2[0]) > (review2[1], review1[0])"
   ]
  },
  {
   "cell_type": "code",
   "execution_count": 8,
   "metadata": {},
   "outputs": [
    {
     "name": "stdout",
     "output_type": "stream",
     "text": [
      "Testing Task 1.1...\n",
      "True\n",
      "False\n",
      "True\n",
      "False\n",
      "End of Test for Task 1.1\n"
     ]
    }
   ],
   "source": [
    "# Test cases\n",
    "def test_task_1_1():\n",
    "    print(\"Testing Task 1.1...\")\n",
    "    \n",
    "    print(better_review((\"Pizza Place\", 4.5), (\"Burger Joint\", 4.0)))  # True\n",
    "    print(better_review((\"Burger Joint\", 4.0), (\"Pizza Place\", 4.1)))  # False\n",
    "\n",
    "    print(better_review((\"Burger Joint\", 4.0), (\"Pizza Place\", 4.0)))  # True\n",
    "    print(better_review((\"Pizza Place\", 4.0), (\"Burger Joint\", 4.0)))  # False\n",
    "\n",
    "    print(\"End of Test for Task 1.1\")\n",
    "    \n",
    "test_task_1_1()"
   ]
  },
  {
   "cell_type": "markdown",
   "metadata": {},
   "source": [
    "# Task 1.2\n",
    "Write a function `sort_reviews(reviews)` that takes a `list` of `reviews` and sorts them based on the criteria defined in **Task 1.1**. The function should return a new list of reviews sorted in descending order of rating and in alphabetical order of restaurant name for reviews with the same rating.\n",
    "\n",
    "You are required to use **quicksort** to implement the sorting algorithm. The function should **not** use any built-in sorting functions.\n",
    "\n",
    "\n",
    "\n",
    "<div style=\"text-align:right; font-weight:bold\">[4]</div>"
   ]
  },
  {
   "cell_type": "code",
   "execution_count": 17,
   "metadata": {},
   "outputs": [],
   "source": [
    "# Your code for Task 1.2 here\n",
    "def sort_reviews(reviews):\n",
    "    if len(reviews) <= 1:\n",
    "        return reviews\n",
    "    else:\n",
    "        pivot = reviews[0]\n",
    "        left, right = [], []\n",
    "\n",
    "        for itm in reviews[1:]:\n",
    "            left.append(itm) if better_review(itm, pivot) else right.append(itm)\n",
    "        \n",
    "        sorted_left = sort_reviews(left)\n",
    "        sorted_right = sort_reviews(right)\n",
    "\n",
    "        return sorted_left + [pivot] + sorted_right"
   ]
  },
  {
   "cell_type": "code",
   "execution_count": 18,
   "metadata": {},
   "outputs": [
    {
     "name": "stdout",
     "output_type": "stream",
     "text": [
      "Testing Task 1.2...\n",
      "('Pizza Place', 4.5)\n",
      "('Sushi Spot', 4.5)\n",
      "('Burger Joint', 4.0)\n",
      "('Taco Town', 4.0)\n",
      "('Pasta Palace', 3.5)\n",
      "End of Test for Task 1.2\n"
     ]
    }
   ],
   "source": [
    "# Test cases\n",
    "def test_task_1_2():\n",
    "    list_of_reviews = [\n",
    "        (\"Pizza Place\", 4.5),\n",
    "        (\"Burger Joint\", 4.0),\n",
    "        (\"Sushi Spot\", 4.5),\n",
    "        (\"Pasta Palace\", 3.5),\n",
    "        (\"Taco Town\", 4.0)\n",
    "    ]\n",
    "    sorted_reviews = sort_reviews(list_of_reviews)\n",
    "    \n",
    "    print(\"Testing Task 1.2...\")\n",
    "\n",
    "    for review in sorted_reviews:\n",
    "        print(review)\n",
    "        \n",
    "    print(\"End of Test for Task 1.2\")\n",
    "    \n",
    "test_task_1_2()\n"
   ]
  },
  {
   "cell_type": "markdown",
   "metadata": {},
   "source": [
    "# Task 1.3\n",
    "\n",
    "Implement a function `load_reviews(filename)` that reads the file and returns a list of reviews in the format `(restaurant_name, rating)`.\n",
    "\n",
    "The test cast file `reviews.txt` contains data in the following format:\n",
    "```\n",
    "[Name of Restaurant]\n",
    "[Category1], [Rating in stars (* symbol from 1 to 5)]\n",
    "[Category2], [Rating in stars (* symbol from 1 to 5)]\n",
    "[Category3], [Rating in stars (* symbol from 1 to 5)]\n",
    "```\n",
    "\n",
    "For example:\n",
    "\n",
    "```\n",
    "Pizza Place\n",
    "Cleanliness ****\n",
    "Service *****\n",
    "Food *****\n",
    "```\n",
    "\n",
    "You should extract the restaurant name and the **average** rating from the 3 categories. The average rating is calculated by counting the number of stars and converting it to a float rounded to 1 decimal point.\n",
    "\n",
    "For example, the above reviews would yield the following review:  \n",
    "```\n",
    "(\"Pizza Place\", 4.7)\n",
    "```\n",
    "because `(4 + 5 + 5) / 3 = 4.6666...`, which is rounded to 1 decimal point as `4.7`.\n",
    "\n",
    "Hint: `round(value, dp)` will round `value` to `dp` decimal places.  \n",
    "e.g. `round(3.14159, 2)` will return `3.14`.\n",
    "\n",
    "\n",
    "<div style=\"text-align:right; font-weight:bold\">[5]</div>"
   ]
  },
  {
   "cell_type": "code",
   "execution_count": 40,
   "metadata": {},
   "outputs": [],
   "source": [
    "# Your code for Task 1.3 here\n",
    "def load_reviews(filename):\n",
    "    result = []\n",
    "\n",
    "    with open(filename, 'r') as f:\n",
    "        line = f.readline()\n",
    "        while line:\n",
    "            name = line.strip()\n",
    "\n",
    "            if name != \"\":\n",
    "                rating = 0\n",
    "                for _ in range(3):\n",
    "                    line = f.readline()\n",
    "                    data = line.strip().split(\" \")\n",
    "                    # print(data)\n",
    "                    rating += len(data[1])\n",
    "                rating = round(rating/3, 1)\n",
    "\n",
    "                result.append((name, rating))\n",
    "\n",
    "            line = f.readline()\n",
    "    \n",
    "    return result\n",
    "                "
   ]
  },
  {
   "cell_type": "code",
   "execution_count": 41,
   "metadata": {},
   "outputs": [
    {
     "name": "stdout",
     "output_type": "stream",
     "text": [
      "Testing Task 1.3...\n",
      "('Pizza Place', 5.0)\n",
      "('Pasta Palace', 4.7)\n",
      "('Twisted Basil', 4.7)\n",
      "('Spice Route Kitchen', 4.3)\n",
      "('Sushi Spot', 4.3)\n",
      "('The Hungry Owl', 4.3)\n",
      "('The Marinated Peacock', 4.3)\n",
      "('Bamboo Garden Delight', 4.0)\n",
      "('Burger Joint', 4.0)\n",
      "('Taco Town', 4.0)\n",
      "('Urban Vine Eatery', 4.0)\n",
      "('Sunset Terrace', 3.3)\n",
      "('Flame & Skillet', 3.0)\n",
      "('The Rustic Table', 2.7)\n",
      "('Harvest Moon Cafe', 2.3)\n",
      "End of Test for Task 1.3\n"
     ]
    }
   ],
   "source": [
    "# Test cases\n",
    "def test_task_1_3():\n",
    "    print(\"Testing Task 1.3...\")\n",
    "    \n",
    "    reviews = load_reviews('data_files/reviews.txt')\n",
    "    \n",
    "    sorted_reviews = sort_reviews(reviews)\n",
    "    for review in sorted_reviews:\n",
    "        print(review)\n",
    "        \n",
    "    print(\"End of Test for Task 1.3\")\n",
    "    \n",
    "test_task_1_3()\n"
   ]
  },
  {
   "cell_type": "markdown",
   "metadata": {},
   "source": [
    "# Task 1.4 \n",
    "Implement a function `gen_good()` that takes a list of review files, consolidates ratings across all reviews, identifies the restaurants with an average rating of at least `4.5`, and writes the results to a file named `good.txt`.\n",
    "\n",
    "A detailed algorithm breakdown is as follows:\n",
    "\n",
    "1. **Read Reviews**: Read reviews from each file and store them in a `dictionary` where the key is the restaurant name and the value is a `list` of ratings.\n",
    "\n",
    "2. **Calculate Average Ratings**: For each restaurant, calculate the average rating by summing the ratings and dividing by the number of ratings. Store this result in a new `list` of `tuples` in the format `(restaurant_name, average_rating)`.\n",
    "\n",
    "3. **Filter Restaurants**: Filter the `list` of `tuples` to include only those restaurants with an average rating of at least `4.5`.\n",
    "\n",
    "4. **Sort Restaurants**: Sort the `list` of `tuples` by rating, then by the name of the restaurants.\n",
    "\n",
    "5. **Write to File**: Write these results to a file named `good.txt` in the format:\n",
    "\n",
    "```\n",
    "[Restaurant Name1], [Average Rating]\n",
    "[Restaurant Name2], [Average Rating]\n",
    "...\n",
    "```\n",
    "e.g.\n",
    "```\n",
    "Harvest Moon Cafe: 4.6\n",
    "Pasta Palace: 4.6\n",
    "...\n",
    "```\n",
    "\n",
    "<div style=\"text-align:right; font-weight:bold\">Marks: [7]</div>"
   ]
  },
  {
   "cell_type": "code",
   "execution_count": 70,
   "metadata": {},
   "outputs": [],
   "source": [
    "# Your code for Task 2 here\n",
    "def gen_good(lst):\n",
    "    reviews = {}\n",
    "    for file in lst:\n",
    "        result = load_reviews(file)\n",
    "        for itm in result:\n",
    "            if itm[0] not in reviews:\n",
    "                reviews[itm[0]] = [itm[1]]\n",
    "            else:\n",
    "                reviews[itm[0]].append(itm[1])\n",
    "    # print(reviews)\n",
    "    result = []\n",
    "    for restaurant in reviews:\n",
    "        total = 0\n",
    "        for rating in reviews[restaurant]:\n",
    "            total += rating\n",
    "        avg_rating = total/len(reviews[restaurant])\n",
    "        result.append((restaurant, round(avg_rating, 1)))\n",
    "    filtered_results = []\n",
    "    for review in result:\n",
    "        if review[1] >= 4.5:\n",
    "            filtered_results.append(review)\n",
    "    # print(sort_reviews(filtered_results))\n",
    "    \n",
    "    sorted_reviews = sort_reviews(filtered_results)\n",
    "    with open('good.txt', 'w') as f:\n",
    "        for tup in sorted_reviews:\n",
    "            f.write(f'{tup[0]}: {tup[1]}\\n')\n"
   ]
  },
  {
   "cell_type": "code",
   "execution_count": 71,
   "metadata": {},
   "outputs": [
    {
     "name": "stdout",
     "output_type": "stream",
     "text": [
      "Testing Task 1.4...\n",
      "End of Test for Task 1.4\n"
     ]
    }
   ],
   "source": [
    "# Test cases\n",
    "def test_task_1_4():\n",
    "    review_files = [\n",
    "        'data_files/reviews_1.txt',\n",
    "        'data_files/reviews_2.txt',\n",
    "        'data_files/reviews_3.txt',\n",
    "        'data_files/reviews_4.txt',\n",
    "        'data_files/reviews_5.txt'\n",
    "    ]\n",
    "        \n",
    "    print(\"Testing Task 1.4...\")\n",
    "\n",
    "    gen_good(review_files)\n",
    "    \n",
    "    print(\"End of Test for Task 1.4\")\n",
    "\n",
    "test_task_1_4()"
   ]
  }
 ],
 "metadata": {
  "kernelspec": {
   "display_name": "Python 3",
   "language": "python",
   "name": "python3"
  },
  "language_info": {
   "codemirror_mode": {
    "name": "ipython",
    "version": 3
   },
   "file_extension": ".py",
   "mimetype": "text/x-python",
   "name": "python",
   "nbconvert_exporter": "python",
   "pygments_lexer": "ipython3",
   "version": "3.12.1"
  }
 },
 "nbformat": 4,
 "nbformat_minor": 4
}
