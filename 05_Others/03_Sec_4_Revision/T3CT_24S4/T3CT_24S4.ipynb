{
 "cells": [
  {
   "cell_type": "markdown",
   "metadata": {},
   "source": [
    "# YEAR 2024 - Sec 4 Term 3 Class Test\n",
    "\n",
    "**<font color='red'>\n",
    "</font>**"
   ]
  },
  {
   "cell_type": "markdown",
   "metadata": {},
   "source": [
    "# READ THESE INSTRUCTIONS FIRST\n",
    "\n",
    "Answer **all** questions and **save** your work constantly.\n",
    "\n",
    "All tasks must be done in the computer laboratory. You are not allowed to bring in or bring out any piece of work, materials, paper or electronic media or in any other form.\n",
    "\n",
    "The number of marks is given in brackets [ ] at the end of each question or part question.\n",
    "\n",
    "You are reminded of the need for clear presentation in your answers. Please provide comments where appropriate and ensure the use of descriptive variable and function names.\n",
    "\n",
    "If any cell is accidentally deleted in the jupyter notebook, you may refer to the html file to recover the content.\n",
    "\n",
    "You are allowed to add new cells to the notebook, but please make sure to write meaningful comments to explain the purpose.\n",
    "\n",
    "At the end of the examination, **SAVE** all the changes in the notebook, and save all your source files in the thumb drive and do **NOT** delete your source files.\n",
    "\n",
    "You are strongly encouraged to manage your time well.\n",
    "\n",
    "<div style=\"text-align:right; font-weight:bold\">Total Marks: [20]</div>"
   ]
  },
  {
   "cell_type": "code",
   "execution_count": 1,
   "metadata": {},
   "outputs": [
    {
     "name": "stdout",
     "output_type": "stream",
     "text": [
      "All the best for this paper!\n"
     ]
    }
   ],
   "source": [
    "# Test Run Code Cell:\n",
    "print(\"All the best for this paper!\")"
   ]
  },
  {
   "cell_type": "code",
   "execution_count": 1,
   "metadata": {},
   "outputs": [],
   "source": [
    "# Run to link to db and attempt to unlock db when needed.\n",
    "# if db is still locked, delete the db file and run Task 1.1 to Task 1.3 to reset the db.\n",
    "import sqlite3\n",
    "import csv\n",
    "\n",
    "# !NOTE: if db file does not exist, it will be created\n",
    "db_file = \"clinic.db\"\n",
    "conn = sqlite3.connect(db_file)\n",
    "conn.close()"
   ]
  },
  {
   "cell_type": "markdown",
   "metadata": {},
   "source": [
    "### Task 1\n",
    "A clinic would like to implement an application supported with database to manage patient, medicine, and treatment records. In this task, you are required to implement a prototype.\n",
    "\n",
    "The following information of each `Patient` is stored:\n",
    "- `PatienID` – unique autoincrement integer to identify the patients\n",
    "- `Name` – name of patient\n",
    "- `Gender` – gender of patient, using either `\"M\"` or `\"F\"`\n",
    "- `Contact` – contact of patient\n",
    "- `Email` – email of patient\n",
    "\n",
    "The following information of each `TreatmentRecord` is stored:\n",
    "- `RecordNo` – unique autoincrement integer to identify the treatment records\n",
    "- `Date` – date of visit, in the format of `YYYYMMDD`, e.g. `20200731`\n",
    "- `Time` – time of visit, in 24h format `HHMM`, e.g. `1325`\n",
    "- `PatientID` – patient id\n",
    "- `Observations` – Observations made by doctor\n",
    "- `Fever` – if patient has fever, using either `\"Y\"` or `\"N\"`, defaulted to the value of `\"N\"`\n",
    "- `BloodPressure` – blood pressure level of patient, using either `\"High\"`, `\"Low\"` or `\"Normal\"`, defaulted to the value of `\"Normal\"`.\n",
    "\n",
    "The following information of each `MedInfo` is stored:\n",
    "- `MedID` – unique autoincrement integer to identify the patients\n",
    "- `Name` – name of medicine\n",
    "- `Instruction` – instructions of medicine\n",
    "- `UnitPrice` – unit price of medicine\n",
    "\n",
    "The following information of each `MedSaleRec` is stored:\n",
    "- `RecordNo` – record no of treatment\n",
    "- `MedID` – id of medicine\n",
    "- `Quantity` – quantity of medicine\n"
   ]
  },
  {
   "cell_type": "markdown",
   "metadata": {},
   "source": [
    "#### Task 1.1\n",
    "Create the tables `Patient`, `TreatmentRecord`, `MedInfo`, and `MedSaleRec` in a SQLite database named `clinic.db`.\n",
    "\n",
    "- The table `Patient` must use `PatienID` as its primary key.\n",
    "- The table `TreatmentRecord` must use `RecordNo` as its primary key, while `PatientID` must refer to `PatientID` in `Patient` as foreign key.\n",
    "- The table `MedInfo` must use `MedID` as its primary key. \n",
    "- The table `MedSaleRec` should use `RecordNo` and `MedID` as a composite key, while `RecordNo` and `MedID` must refer to `RecordNo` in `TreatmentRecord` and `MedID` in `MedInfo` as foreign keys.\n",
    "\n",
    "Please select appropriate **data type**, and include **not null**,  **default** and **check** conditions in the table definitions based on the table specifications.\n",
    "\n",
    "Record the SQL commands in the cell below.\n",
    "\n",
    "<div style=\"text-align:right; font-weight:bold\">[7]</div>"
   ]
  },
  {
   "cell_type": "code",
   "execution_count": 23,
   "metadata": {},
   "outputs": [],
   "source": [
    "# Task 1.1\n",
    "# consider to use \"CREATE TABLE IF NOT EXISTS Tablename\",\n",
    "# to avoid error if table already exists\n",
    "\n",
    "query1 = \"\"\"\n",
    "CREATE TABLE IF NOT EXISTS \"Patient\" (\n",
    "\t\"PatientID\"\tINTEGER NOT NULL,\n",
    "\t\"Name\"\tTEXT NOT NULL,\n",
    "\t\"Gender\"\tTEXT NOT NULL CHECK(\"Gender\" IN ('M', 'F')),\n",
    "\t\"Contact\"\tINTEGER NOT NULL,\n",
    "\t\"Email\"\tTEXT NOT NULL,\n",
    "\tPRIMARY KEY(\"PatientID\" AUTOINCREMENT)\n",
    ");\n",
    "\"\"\"\n",
    "query2 = \"\"\"\n",
    "CREATE TABLE IF NOT EXISTS \"TreatmentRecord\" (\n",
    "\t\"RecordNo\"\tINTEGER NOT NULL,\n",
    "\t\"Date\"\tTEXT NOT NULL,\n",
    "\t\"Time\"\tINTEGER NOT NULL,\n",
    "\t\"PatientID\"\tINTEGER NOT NULL,\n",
    "\t\"Observations\"\tTEXT NOT NULL,\n",
    "\t\"Fever\"\tTEXT NOT NULL DEFAULT 'N' CHECK(\"Fever\" IN ('Y', 'N')),\n",
    "\t\"BloodPressure\"\tTEXT NOT NULL DEFAULT 'Normal' CHECK(\"BloodPressure\" IN ('High', 'Low', 'Normal')),\n",
    "\tPRIMARY KEY(\"RecordNo\" AUTOINCREMENT),\n",
    "\tFOREIGN KEY(\"PatientID\") REFERENCES \"Patient\"(\"PatientID\")\n",
    ");\n",
    "\"\"\"\n",
    "query3 = \"\"\"\n",
    "CREATE TABLE IF NOT EXISTS \"MedInfo\" (\n",
    "\t\"MedID\"\tINTEGER NOT NULL,\n",
    "\t\"Name\"\tTEXT NOT NULL,\n",
    "\t\"Instruction\"\tTEXT NOT NULL,\n",
    "\t\"UnitPrice\"\tREAL NOT NULL,\n",
    "\tPRIMARY KEY(\"MedID\" AUTOINCREMENT)\n",
    ");\n",
    "\"\"\"\n",
    "query4 = \"\"\"\n",
    "CREATE TABLE \"MedSaleRec\" (\n",
    "\t\"RecordNo\"\tINTEGER NOT NULL,\n",
    "\t\"MedID\"\tINTEGER NOT NULL,\n",
    "\t\"Quantity\"\tINTEGER NOT NULL,\n",
    "\tPRIMARY KEY(\"RecordNo\",\"MedID\"),\n",
    "\tFOREIGN KEY(\"MedID\") REFERENCES \"MedInfo\"(\"MedID\"),\n",
    "\tFOREIGN KEY(\"RecordNo\") REFERENCES \"TreatmentRecord\"(\"RecordNo\")\n",
    ");\n",
    "\"\"\"\n",
    "\n",
    "queries = [query1, query2, query3, query4]"
   ]
  },
  {
   "cell_type": "markdown",
   "metadata": {},
   "source": [
    "#### Task 1.2\n",
    "\n",
    "Write python code to create the database `clinic.db` and the tables `Patient`, `TreatmentRecord`, `MedInfo`, and `MedSaleRec` in the database.\n",
    "\n",
    "<div style=\"text-align:right; font-weight:bold\">[2]</div>"
   ]
  },
  {
   "cell_type": "code",
   "execution_count": null,
   "metadata": {},
   "outputs": [],
   "source": [
    "# Task 1.2\n",
    "conn = sqlite3.connect(db_file)\n",
    "for query in queries:\n",
    "    conn.execute(query)\n",
    "conn.commit()\n",
    "conn.close()"
   ]
  },
  {
   "cell_type": "markdown",
   "metadata": {},
   "source": [
    "#### Task 1.3\n",
    "\n",
    "The files `Patient.csv`, `TreatmentRecord.csv`, `MedInfo.csv` and `MedSaleRec.csv` in the `data_files` folder, contains information about the patients, treatment records, medicine information and medicine sales record. The first row of each file contains the header of the respective columns. Each row in the files is a comma-separated list of values.\n",
    "\n",
    "Write a Python program to insert all information from the files into the database, `clinic.db`.\n",
    "\n",
    "<div style=\"text-align:right; font-weight:bold\">[7]</div>"
   ]
  },
  {
   "cell_type": "code",
   "execution_count": 31,
   "metadata": {},
   "outputs": [],
   "source": [
    "import csv\n",
    "\n",
    "table_files = {\n",
    "    \"Patient\": \"Patient.csv\",\n",
    "    \"TreatmentRecord\": \"TreatmentRecord.csv\",\n",
    "    \"MedInfo\": \"MedInfo.csv\",\n",
    "    \"MedSaleRec\": \"MedSaleRec.csv\"\n",
    "}\n",
    "\n",
    "# Task 1.3\n",
    "def read_csv_to_db(table, file):\n",
    "    with open(f\"data_files/{file}\", \"r\") as f:\n",
    "        csv_reader = csv.reader(f)\n",
    "        header = next(csv_reader)\n",
    "        data = []\n",
    "        for row in csv_reader:\n",
    "            data.append(row)\n",
    "        # print(data)\n",
    "    \n",
    "    conn = sqlite3.connect(db_file)\n",
    "    ph = \",\".join([\"?\" for _ in header])\n",
    "    query = f\"\"\"\n",
    "    INSERT INTO {table}\n",
    "    {tuple(header)}\n",
    "    VALUES\n",
    "    ({ph})\n",
    "    \"\"\"\n",
    "    # print(query)\n",
    "    for row in data:\n",
    "        # print(row)\n",
    "        conn.execute(query, tuple(row))\n",
    "    conn.commit()\n",
    "    conn.close()\n",
    "\n",
    "for table in table_files:\n",
    "    read_csv_to_db(table, table_files[table])"
   ]
  },
  {
   "cell_type": "markdown",
   "metadata": {},
   "source": [
    "#### Task 1.4\n",
    "\n",
    "The clinic would like to generate the sales history of a particular medicine, e.g. `Ibuprofen`.\n",
    "\n",
    "Write a python program `query_med()`, which takes in the name of the medicine, `med_name`, as input; and returns a `list` of `tuple`, containing the sales history of the medicine. \n",
    "\n",
    "The sales history should include the following information, and should be sorted by `Date` in ascending order:\n",
    "\n",
    "`Date, RecordNo, UnitPrice, Quantity, UnitPrice*Quantity AS Total`\n",
    "\n",
    "The `display_data()` function is provided to present the data in an easily readable format.\n",
    "\n",
    "Sample Output for `test_task_1_4()`:\n",
    "\n",
    "```python\n",
    "|Date        |  RecordNo| UnitPrice|  Quantity|     Total|\n",
    "----------------------------------------------------------\n",
    "|20200702    |         3|       1.5|        10|      15.0|\n",
    "|20200705    |         6|       1.5|        24|      36.0|\n",
    "|20200719    |        10|       1.5|        10|      15.0|\n",
    "...\n",
    "...\n",
    "```\n",
    "   \n",
    "<div style=\"text-align:right; font-weight:bold\">[4]</div>"
   ]
  },
  {
   "cell_type": "code",
   "execution_count": 6,
   "metadata": {},
   "outputs": [],
   "source": [
    "# Task 1.4\n",
    "\n",
    "def query_med(med_name):\n",
    "    conn = sqlite3.connect(db_file)\n",
    "    query = f\"\"\"\n",
    "    SELECT Date, MedSaleRec.RecordNo, UnitPrice, Quantity, UnitPrice*Quantity AS Total\n",
    "    FROM MedSaleRec\n",
    "    INNER JOIN TreatmentRecord\n",
    "    ON MedSaleRec.RecordNo = TreatmentRecord.RecordNo\n",
    "    INNER JOIN MedInfo\n",
    "    ON MedSaleRec.MedID = MedInfo.MedID\n",
    "    WHERE Name = ?\n",
    "    ORDER BY Date ASC\n",
    "    \"\"\"\n",
    "    cursor = conn.execute(query, (med_name,))\n",
    "    data = cursor.fetchall()\n",
    "    cursor.close()\n",
    "    conn.close()\n",
    "    return data\n",
    "\n",
    "# query_med(\"Ibuprofen\")"
   ]
  },
  {
   "cell_type": "code",
   "execution_count": 8,
   "metadata": {},
   "outputs": [
    {
     "name": "stdout",
     "output_type": "stream",
     "text": [
      "|Date        |  RecordNo| UnitPrice|  Quantity|     Total|\n",
      "----------------------------------------------------------\n",
      "|20200702    |         3|       1.5|        10|      15.0|\n",
      "|20200705    |         6|       1.5|        24|      36.0|\n",
      "|20200719    |        10|       1.5|        10|      15.0|\n",
      "|20200722    |        12|       1.5|        24|      36.0|\n",
      "|20200723    |        13|       1.5|        10|      15.0|\n",
      "|20200727    |        16|       1.5|        18|      27.0|\n"
     ]
    }
   ],
   "source": [
    "# Task 1.4 Test\n",
    "def display_data(data):\n",
    "    header = f\"|{'Date':<12}|{'RecordNo':>10}|{'UnitPrice':>10}|{'Quantity':>10}|{'Total':>10}|\"\n",
    "    print(header)\n",
    "    print(\"-\" * len(header))\n",
    "    if data is not None:\n",
    "        for row in data:\n",
    "            print(f\"|{row[0]:<12}|{row[1]:>10}|{row[2]:>10}|{row[3]:>10}|{row[4]:>10}|\")\n",
    "\n",
    "def test_task_1_4():\n",
    "    data = query_med(\"Ibuprofen\")\n",
    "    display_data(data)\n",
    "\n",
    "test_task_1_4()"
   ]
  }
 ],
 "metadata": {
  "kernelspec": {
   "display_name": "Python 3",
   "language": "python",
   "name": "python3"
  },
  "language_info": {
   "codemirror_mode": {
    "name": "ipython",
    "version": 3
   },
   "file_extension": ".py",
   "mimetype": "text/x-python",
   "name": "python",
   "nbconvert_exporter": "python",
   "pygments_lexer": "ipython3",
   "version": "3.12.1"
  }
 },
 "nbformat": 4,
 "nbformat_minor": 4
}
