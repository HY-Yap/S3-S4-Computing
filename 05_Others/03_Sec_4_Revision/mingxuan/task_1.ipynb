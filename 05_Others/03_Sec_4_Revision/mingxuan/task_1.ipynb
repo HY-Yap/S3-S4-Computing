{
 "cells": [
  {
   "cell_type": "markdown",
   "id": "2dbeb325",
   "metadata": {},
   "source": [
    "# ReadTrack: School Reading Challenge\n",
    "\n",
    "The database schema is in the instruction Google Docs. Run the below code to create a new db file."
   ]
  },
  {
   "cell_type": "code",
   "execution_count": 33,
   "id": "172bbd0f",
   "metadata": {},
   "outputs": [],
   "source": [
    "# Run to link to db and attempt to unlock db when needed.\n",
    "import sqlite3\n",
    "import csv\n",
    "\n",
    "# !NOTE: if db file does not exist, it will be created\n",
    "db_file = \"readtrack.db\"\n",
    "conn = sqlite3.connect(db_file)\n",
    "conn.close()"
   ]
  },
  {
   "cell_type": "markdown",
   "id": "21d0c1e5",
   "metadata": {},
   "source": [
    "The below SQLite Code will create the tables in `readtrack.db`."
   ]
  },
  {
   "cell_type": "code",
   "execution_count": 34,
   "id": "5e0b13a0",
   "metadata": {},
   "outputs": [],
   "source": [
    "query1 = '''\n",
    "CREATE TABLE IF NOT EXISTS Member (\n",
    "    MemberID      TEXT PRIMARY KEY,\n",
    "    Class         TEXT NOT NULL,\n",
    "    IndexNo       INTEGER NOT NULL CHECK (IndexNo BETWEEN 1 AND 40),\n",
    "    Gender        TEXT NOT NULL CHECK (Gender IN ('M','F')),\n",
    "    YearEnrolled  INTEGER NOT NULL CHECK (YearEnrolled BETWEEN 2019 AND 2025)\n",
    ");\n",
    "'''\n",
    "query2 = '''\n",
    "CREATE TABLE IF NOT EXISTS Book (\n",
    "    BookID   INTEGER PRIMARY KEY,\n",
    "    Title    TEXT NOT NULL UNIQUE,\n",
    "    Author   TEXT NOT NULL,\n",
    "    Genre    TEXT NOT NULL CHECK (Genre IN ('Fantasy','Sci-Fi','Mystery','Non-Fiction','Historical','Horror'))\n",
    ");\n",
    "'''\n",
    "query3 = '''\n",
    "CREATE TABLE IF NOT EXISTS ReadingLog (\n",
    "    MemberID       TEXT NOT NULL,\n",
    "    BookID         INTEGER NOT NULL,\n",
    "    DateCompleted  TEXT NOT NULL CHECK (length(DateCompleted)=10),\n",
    "    PRIMARY KEY (MemberID, BookID),\n",
    "    FOREIGN KEY (MemberID) REFERENCES Member(MemberID) ON DELETE CASCADE ON UPDATE CASCADE,\n",
    "    FOREIGN KEY (BookID)   REFERENCES Book(BookID)   ON DELETE CASCADE ON UPDATE CASCADE\n",
    ");\n",
    "'''\n",
    "queries = [query1, query2, query3]"
   ]
  },
  {
   "cell_type": "code",
   "execution_count": 35,
   "id": "f6c079ba",
   "metadata": {},
   "outputs": [],
   "source": [
    "conn = sqlite3.connect(db_file)\n",
    "for query in queries:\n",
    "    conn.execute(query)\n",
    "conn.commit()\n",
    "conn.close()"
   ]
  },
  {
   "cell_type": "markdown",
   "id": "49785a63",
   "metadata": {},
   "source": [
    "#### Task 1\n",
    "Read data from the csv files in the `data_files` folder, and insert the data into the respective tables."
   ]
  },
  {
   "cell_type": "code",
   "execution_count": 36,
   "id": "4883c23c",
   "metadata": {},
   "outputs": [],
   "source": [
    "# Task 1 Answer:\n",
    "\n",
    "files = {\n",
    "    'Book': 'books.csv',\n",
    "    'Member': 'members.csv',\n",
    "    'ReadingLog': 'reading_logs.csv'\n",
    "}\n",
    "\n",
    "for file in files:\n",
    "    with open(f'data_files/{files[file]}', 'r') as f:\n",
    "        # print(file, files[file]) # table name, file name\n",
    "        csv_reader = csv.reader(f)\n",
    "        header = next(csv_reader)\n",
    "        # print(header)\n",
    "        data = []\n",
    "        for row in csv_reader:\n",
    "            ph = \",\".join(['?' for _ in header])\n",
    "            # print(header, ph)\n",
    "            conn = sqlite3.connect('readtrack.db')\n",
    "            query2 = f\"\"\"\n",
    "            INSERT OR IGNORE INTO {file}\n",
    "            ({','.join(header)})\n",
    "            VALUES\n",
    "            ({ph})\n",
    "            \"\"\"\n",
    "            # print(','.join(header))\n",
    "            try:\n",
    "                conn.execute(query2, tuple(row))\n",
    "            except sqlite3.Error as e:\n",
    "                print(e)\n",
    "            conn.commit()\n",
    "            conn.close()"
   ]
  }
 ],
 "metadata": {
  "kernelspec": {
   "display_name": "Python 3",
   "language": "python",
   "name": "python3"
  },
  "language_info": {
   "codemirror_mode": {
    "name": "ipython",
    "version": 3
   },
   "file_extension": ".py",
   "mimetype": "text/x-python",
   "name": "python",
   "nbconvert_exporter": "python",
   "pygments_lexer": "ipython3",
   "version": "3.12.1"
  }
 },
 "nbformat": 4,
 "nbformat_minor": 5
}
