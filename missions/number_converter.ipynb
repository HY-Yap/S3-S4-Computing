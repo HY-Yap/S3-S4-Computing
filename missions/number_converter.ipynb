{
 "cells": [
  {
   "cell_type": "markdown",
   "metadata": {},
   "source": [
    "# Mission 2 - Number Converter\n",
    "All numbers other than denary number should be represented using strings."
   ]
  },
  {
   "cell_type": "markdown",
   "metadata": {},
   "source": [
    "## Question 1\n",
    "### bin_to_den - for loop\n",
    "Define function `bin_to_den` to convert a binary number (string type) to denary number (integer type).\n",
    "\n",
    "Implement using for loop."
   ]
  },
  {
   "cell_type": "code",
   "execution_count": 7,
   "metadata": {},
   "outputs": [
    {
     "name": "stdout",
     "output_type": "stream",
     "text": [
      "254\n"
     ]
    }
   ],
   "source": [
    "def bin_to_den(s):\n",
    "    result = 0\n",
    "    i = len(s) - 1\n",
    "    for char in s:\n",
    "        result += int(char) * (2 ** i)\n",
    "        i -= 1\n",
    "    return result\n",
    "\n",
    "print(bin_to_den(\"11111110\"))"
   ]
  },
  {
   "cell_type": "markdown",
   "metadata": {},
   "source": [
    "## Question 2\n",
    "### bin_to_den - while loop\n",
    "\n",
    "Define function `bin_to_den` to convert a binary number (string type) to denary number (integer type).\n",
    "\n",
    "Implement using while loop."
   ]
  },
  {
   "cell_type": "code",
   "execution_count": 15,
   "metadata": {},
   "outputs": [
    {
     "name": "stdout",
     "output_type": "stream",
     "text": [
      "5\n",
      "15\n",
      "254\n"
     ]
    }
   ],
   "source": [
    "def bin_to_den(s):\n",
    "    result = 0\n",
    "    i = len(s) - 1\n",
    "    while i >= 0:\n",
    "        result += int(s[0]) * (2 ** i)\n",
    "        s = s[1:]\n",
    "        i -= 1\n",
    "    return result\n",
    "\n",
    "print(bin_to_den(\"101\"))\n",
    "print(bin_to_den(\"1111\"))\n",
    "print(bin_to_den(\"11111110\"))"
   ]
  },
  {
   "cell_type": "markdown",
   "metadata": {},
   "source": [
    "## Question 3\n",
    "### bin_to_den - recursion\n",
    "\n",
    "Define function `bin_to_den` to convert a binary number (string type) to denary number (integer type).\n",
    "\n",
    "Implement using recursion."
   ]
  },
  {
   "cell_type": "code",
   "execution_count": 17,
   "metadata": {},
   "outputs": [
    {
     "name": "stdout",
     "output_type": "stream",
     "text": [
      "5\n",
      "15\n",
      "254\n"
     ]
    }
   ],
   "source": [
    "def bin_to_den(s):\n",
    "    if s == \"\":\n",
    "        return 0\n",
    "    else:\n",
    "        return int(s[0]) * (2 ** (len(s) - 1)) + bin_to_den(s[1:])\n",
    "\n",
    "print(bin_to_den(\"101\"))\n",
    "print(bin_to_den(\"1111\"))\n",
    "print(bin_to_den(\"11111110\"))"
   ]
  },
  {
   "cell_type": "markdown",
   "metadata": {},
   "source": [
    "## Question 4\n",
    "### den_to_bin - while loop\n",
    "\n",
    "Define function `den_to_bin` to convert a denary number (integer type) to binary number (string type).\n",
    "\n",
    "Implement using while loop."
   ]
  },
  {
   "cell_type": "code",
   "execution_count": 23,
   "metadata": {},
   "outputs": [
    {
     "name": "stdout",
     "output_type": "stream",
     "text": [
      "101\n",
      "1111\n",
      "11111110\n"
     ]
    }
   ],
   "source": [
    "def den_to_bin(int):\n",
    "    result = \"\"\n",
    "    while int > 0:\n",
    "        remainder = str(int % 2)\n",
    "        int //= 2\n",
    "        result = remainder + result\n",
    "    return result\n",
    "\n",
    "print(den_to_bin(5))\n",
    "print(den_to_bin(15))\n",
    "print(den_to_bin(254))"
   ]
  },
  {
   "cell_type": "markdown",
   "metadata": {},
   "source": [
    "## Question 5\n",
    "### den_to_bin - recursion\n",
    "\n",
    "Define function `den_to_bin` to convert a denary number (integer type) to binary number (string type).\n",
    "\n",
    "Implement using recursion."
   ]
  },
  {
   "cell_type": "code",
   "execution_count": 24,
   "metadata": {},
   "outputs": [
    {
     "name": "stdout",
     "output_type": "stream",
     "text": [
      "101\n",
      "1111\n",
      "11111110\n"
     ]
    }
   ],
   "source": [
    "def den_to_bin(int):\n",
    "    if int == 0:\n",
    "        return \"\"\n",
    "    else:\n",
    "        return den_to_bin(int // 2) + str(int % 2)\n",
    "\n",
    "print(den_to_bin(5))\n",
    "print(den_to_bin(15))\n",
    "print(den_to_bin(254))"
   ]
  },
  {
   "cell_type": "markdown",
   "metadata": {},
   "source": [
    "## Question 6\n",
    "### value_to_symbol and symbol_to_value\n",
    "\n",
    "Given \n",
    "\n",
    "`valid_digits = \"0123456789ABCDEFGHIJKLMNOPQRSTUVWXYZ\"`\n",
    "\n",
    "Define function `value_to_symbol` to convert a denary value to its corresponding symbol:\n",
    "\n",
    "For example, `7` to `\"7\"`, `15` to `\"F\"`, `26` to `\"Q\"`.\n",
    "\n",
    "Define another function `symbol_to_value` to convert a symbol to its corresponding denary value:\n",
    "\n",
    "For example, `\"7\"` to `7`, `\"F\"` to `15`, `\"Q\"` to `26`.\n"
   ]
  },
  {
   "cell_type": "code",
   "execution_count": 27,
   "metadata": {},
   "outputs": [
    {
     "name": "stdout",
     "output_type": "stream",
     "text": [
      "7\n",
      "F\n",
      "Q\n",
      "7\n",
      "15\n",
      "26\n"
     ]
    }
   ],
   "source": [
    "valid_digits = \"0123456789ABCDEFGHIJKLMNOPQRSTUVWXYZ\"\n",
    "\n",
    "def value_to_symbol(int):\n",
    "    return valid_digits[int]\n",
    "\n",
    "def symbol_to_value(s):\n",
    "    return valid_digits.index(s)\n",
    "\n",
    "print(value_to_symbol(7))\n",
    "print(value_to_symbol(15))\n",
    "print(value_to_symbol(26))\n",
    "print(symbol_to_value(\"7\"))\n",
    "print(symbol_to_value(\"F\"))\n",
    "print(symbol_to_value(\"Q\"))"
   ]
  },
  {
   "cell_type": "markdown",
   "metadata": {},
   "source": [
    "## Question 7\n",
    "### any_to_den(any_num, base)\n",
    "\n",
    "Define <u>**recursive**</u> function `any_to_den(any_num, base)`, which convert `any_num` in base `base` to its denary value."
   ]
  },
  {
   "cell_type": "code",
   "execution_count": 45,
   "metadata": {},
   "outputs": [
    {
     "name": "stdout",
     "output_type": "stream",
     "text": [
      "254\n",
      "47\n",
      "389\n"
     ]
    }
   ],
   "source": [
    "def any_to_den(any_num, base):\n",
    "    digits = \"0123456789ABCDEFGHIJKLMNOPQRSTUVWXYZ\"\n",
    "    if any_num == \"\":\n",
    "        return 0\n",
    "    else:\n",
    "        return int(digits.index(any_num[0])) * (base ** (len(any_num) - 1)) + any_to_den(any_num[1:], base)\n",
    "\n",
    "print(any_to_den(\"FE\", 16))\n",
    "print(any_to_den(\"57\", 8))\n",
    "print(any_to_den(\"FE\", 25))"
   ]
  },
  {
   "cell_type": "markdown",
   "metadata": {},
   "source": [
    "## Question 8\n",
    "### den_to_any(den_num, base)\n",
    "\n",
    "Define <u>**recursive**</u> function `den_to_any(den_num, base)`, which convert `den_num` to a number in base `base` ."
   ]
  },
  {
   "cell_type": "code",
   "execution_count": 49,
   "metadata": {},
   "outputs": [
    {
     "name": "stdout",
     "output_type": "stream",
     "text": [
      "FE\n",
      "57\n",
      "FE\n"
     ]
    }
   ],
   "source": [
    "def den_to_any(den_num, base):\n",
    "    digits = \"0123456789ABCDEFGHIJKLMNOPQRSTUVWXYZ\"\n",
    "    if den_num == 0:\n",
    "        return \"\"\n",
    "    else:\n",
    "        return den_to_any(den_num // base, base) + digits[den_num % base]\n",
    "\n",
    "print(den_to_any(254, 16))\n",
    "print(den_to_any(47, 8))\n",
    "print(den_to_any(389, 25))"
   ]
  },
  {
   "cell_type": "markdown",
   "metadata": {},
   "source": [
    "## Question 9\n",
    "### bin_to_hex\n",
    "\n",
    "Define function `bin_to_hex` which takes in a binary number and returns a hex number."
   ]
  },
  {
   "cell_type": "code",
   "execution_count": 53,
   "metadata": {},
   "outputs": [
    {
     "name": "stdout",
     "output_type": "stream",
     "text": [
      "FC\n",
      "1FC\n",
      "7C\n"
     ]
    }
   ],
   "source": [
    "def bin_to_den(bin_num):\n",
    "    if bin_num == \"\":\n",
    "        return 0\n",
    "    else:\n",
    "        return int(bin_num[0]) * (2 ** (len(bin_num) - 1)) + bin_to_den(bin_num[1:])\n",
    "\n",
    "def den_to_hex(den_num):\n",
    "    digits = \"0123456789ABCDEFGHIJKLMNOPQRSTUVWXYZ\"\n",
    "    if den_num == 0:\n",
    "        return \"\"\n",
    "    else:\n",
    "        return den_to_hex(den_num // 16) + digits[den_num % 16]\n",
    "\n",
    "def bin_to_hex(bin_num):\n",
    "    return den_to_hex(bin_to_den(bin_num))\n",
    "\n",
    "print(bin_to_hex(\"11111100\"))\n",
    "print(bin_to_hex(\"111111100\"))\n",
    "print(bin_to_hex(\"1111100\"))\n"
   ]
  },
  {
   "cell_type": "markdown",
   "metadata": {},
   "source": [
    "## Question 10\n",
    "### hex_to_bin\n",
    "\n",
    "Define function `hex_to_bin` which takes in a hex number and returns a binary number."
   ]
  },
  {
   "cell_type": "code",
   "execution_count": 56,
   "metadata": {},
   "outputs": [
    {
     "name": "stdout",
     "output_type": "stream",
     "text": [
      "11111100\n",
      "111111100\n",
      "1111100\n"
     ]
    }
   ],
   "source": [
    "def den_to_bin(den_num):\n",
    "    if den_num == 0:\n",
    "        return \"\"\n",
    "    else:\n",
    "        return den_to_bin(den_num // 2) + str(den_num % 2)\n",
    "\n",
    "def hex_to_den(hex_num):\n",
    "    digits = \"0123456789ABCDEFGHIJKLMNOPQRSTUVWXYZ\"\n",
    "    if hex_num == \"\":\n",
    "        return 0\n",
    "    else:\n",
    "        return digits.index(hex_num[0]) * (16 ** (len(hex_num) - 1)) + hex_to_den(hex_num[1:])\n",
    "\n",
    "def hex_to_bin(hex_num):\n",
    "    return den_to_bin(hex_to_den(hex_num))\n",
    "\n",
    "print(hex_to_bin(\"FC\"))\n",
    "print(hex_to_bin(\"1FC\"))\n",
    "print(hex_to_bin(\"7C\"))"
   ]
  },
  {
   "cell_type": "markdown",
   "metadata": {},
   "source": [
    "## Question 11\n",
    "### Number Converter - The Final Task!\n",
    "\n",
    "Congratulations Heroes of Code Impact! \n",
    "\n",
    "Now you have mastered the number conversion techniques, which is an essential skill for planets who have adopted different numeral systems to trade and communicate with each other. (Some aliens have only 2 fingers! While some others have up to 36 fingers!!)\n",
    "\n",
    "We would like you to leverage on your expertise to create a tool to help the all mighty Universe Council. The magical number converter should be able to convert numbers between various numeral systems.\n",
    "\n",
    "Your programme should provide the following functionalities:\n",
    "\n",
    "<ol>\n",
    "    <li>\n",
    "        A user interface/menu providing necessary options and meaningful user feedback. Data validation processes should be put in place to ensure user always key in valid menu choices or valid numbers in the respective number systems.\n",
    "    </li>\n",
    "    <br>\n",
    "    <li>\n",
    "        The program should be able to convert <b>positive</b> integers between numeral systems:\n",
    "        <ol type=\"a\">\n",
    "            <li>Convert denary number to binary number and versa.</li>\n",
    "            <li>Convert between binary, octal and hexadecimal numbers.</li>\n",
    "            <li>Convert between any numeral systems.</li>\n",
    "        </ol>\n",
    "    </li>\n",
    "</ol>\n",
    "\n",
    "The Universe Council will reward you based on the following criteria:\n",
    "1. Accuracy of the system.\n",
    "2. Data validation with meaningful feedback prompt messages.\n",
    "3. User friendly interface."
   ]
  },
  {
   "cell_type": "code",
   "execution_count": 61,
   "metadata": {},
   "outputs": [],
   "source": [
    "# Refer to number_converter.py"
   ]
  }
 ],
 "metadata": {
  "kernelspec": {
   "display_name": "Python 3",
   "language": "python",
   "name": "python3"
  },
  "language_info": {
   "codemirror_mode": {
    "name": "ipython",
    "version": 3
   },
   "file_extension": ".py",
   "mimetype": "text/x-python",
   "name": "python",
   "nbconvert_exporter": "python",
   "pygments_lexer": "ipython3",
   "version": "3.12.1"
  }
 },
 "nbformat": 4,
 "nbformat_minor": 2
}
