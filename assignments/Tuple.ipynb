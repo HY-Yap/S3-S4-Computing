{
 "cells": [
  {
   "cell_type": "markdown",
   "metadata": {},
   "source": [
    "# Assignment - [A01b] Tuple"
   ]
  },
  {
   "cell_type": "markdown",
   "metadata": {},
   "source": [
    "## Question 2\n",
    "Write expressions using index notation that will return the value 1 for the following tuples."
   ]
  },
  {
   "cell_type": "code",
   "execution_count": 5,
   "metadata": {},
   "outputs": [
    {
     "name": "stdout",
     "output_type": "stream",
     "text": [
      "1\n",
      "1\n",
      "1\n",
      "1\n",
      "1\n"
     ]
    }
   ],
   "source": [
    "a = (7, 6, 5, 4, 3, 2, 1)\n",
    "b = (7, (6, 5, 4), 3, (2, 1))\n",
    "c = ((7), (6, 5, 4), (3, 2), 1)\n",
    "d = (7, (6,), (5, (4,)), (3, (2, (1,))))\n",
    "e = (7, ((6, 5), (4,), 3, 2), ((1,),))\n",
    "\n",
    "def get_one_a(a):\n",
    "    # write your code here to get value 1 from tuple a\n",
    "    return a[-1]\n",
    "\n",
    "def get_one_b(b):\n",
    "    # write your code here to get value 1 from tuple b\n",
    "    return b[-1][1]\n",
    "\n",
    "def get_one_c(c):\n",
    "    # write your code here to get value 1 from tuple c\n",
    "    return c[-1]\n",
    "\n",
    "def get_one_d(d):\n",
    "    # write your code here to get value 1 from tuple d\n",
    "    return d[-1][1][1][0]\n",
    "\n",
    "def get_one_e(e):\n",
    "    # write your code here to get value 1 from tuple e\n",
    "    return e[-1][0][0]\n",
    "\n",
    "print(get_one_a(a))\n",
    "print(get_one_b(b))\n",
    "print(get_one_c(c))\n",
    "print(get_one_d(d))\n",
    "print(get_one_e(e))"
   ]
  },
  {
   "cell_type": "markdown",
   "metadata": {},
   "source": [
    "## Question 3\n",
    "Write a function called `even_rank` that takes in a tuple as its only argument and returns a tuple containing all the elements of even rank (i.e. every second element from the left) from the input tuple."
   ]
  },
  {
   "cell_type": "code",
   "execution_count": 12,
   "metadata": {},
   "outputs": [
    {
     "name": "stdout",
     "output_type": "stream",
     "text": [
      "('x', 'y', 'x', 'p')\n",
      "()\n",
      "(1, 3, 3, 7)\n"
     ]
    }
   ],
   "source": [
    "def even_rank(tup):\n",
    "    result = ()\n",
    "    for i in range(1, len(tup), 2):\n",
    "        result += (tup[i],)\n",
    "    return result\n",
    "\n",
    "print(even_rank(('a','x','b','y','c','x','d','p','q')))\n",
    "print(even_rank((2,)))\n",
    "print(even_rank((3, 1, 4, 3, 2, 3, 19, 7, -90)))"
   ]
  },
  {
   "cell_type": "markdown",
   "metadata": {},
   "source": [
    "## Question 4\n",
    "Write a **recursive** function called `even_rank` that takes in a tuple as its only argument and returns a tuple containing all the elements of even rank (i.e. every second element from the left) from the input tuple."
   ]
  },
  {
   "cell_type": "code",
   "execution_count": 34,
   "metadata": {},
   "outputs": [
    {
     "name": "stdout",
     "output_type": "stream",
     "text": [
      "('x', 'y', 'x', 'p')\n",
      "()\n",
      "(1, 3, 3, 7)\n"
     ]
    }
   ],
   "source": [
    "def even_rank(tup):\n",
    "    if len(tup) < 2:\n",
    "        return ()\n",
    "    else:\n",
    "        return (tup[1],) + even_rank(tup[2:])\n",
    "\n",
    "print(even_rank(('a','x','b','y','c','x','d','p','q')))\n",
    "print(even_rank((2,)))\n",
    "print(even_rank((3, 1, 4, 3, 2, 3, 19, 7, -90)))"
   ]
  },
  {
   "cell_type": "markdown",
   "metadata": {},
   "source": [
    "## Question 5\n",
    "Write a function called `odd_even_sums()` that takes in a tuple of numbers as its only argument and returns a tuple of two elements: the first is the sum of all odd-ranked numbers in the input tuple, whereas the second element is the sum of all even-ranked elements in the input."
   ]
  },
  {
   "cell_type": "code",
   "execution_count": 36,
   "metadata": {},
   "outputs": [
    {
     "name": "stdout",
     "output_type": "stream",
     "text": [
      "(8, 7)\n",
      "(1, 0)\n"
     ]
    }
   ],
   "source": [
    "def odd_even_sums(tup):\n",
    "    odd_sum = 0\n",
    "    even_sum = 0\n",
    "\n",
    "    for i in range(0, len(tup), 2):\n",
    "        odd_sum += tup[i]\n",
    "    for i in range(1, len(tup), 2):\n",
    "        even_sum += tup[i]\n",
    "\n",
    "    return (odd_sum, even_sum)\n",
    "\n",
    "print(odd_even_sums((1, 3, 2, 4, 5)))\n",
    "print(odd_even_sums((1, )))"
   ]
  },
  {
   "cell_type": "markdown",
   "metadata": {},
   "source": [
    "## Question 6\n",
    "Write a **recursive** function called `odd_even_sums()` that takes in a tuple of numbers as its only argument and returns a tuple of two elements: the first is the sum of all odd-ranked numbers in the input tuple, whereas the second element is the sum of all even-ranked elements in the input."
   ]
  },
  {
   "cell_type": "code",
   "execution_count": 64,
   "metadata": {},
   "outputs": [
    {
     "name": "stdout",
     "output_type": "stream",
     "text": [
      "(8, 7)\n"
     ]
    }
   ],
   "source": [
    "def odd_sum(tup):\n",
    "    if len(tup) == 0:\n",
    "        return 0\n",
    "    else:\n",
    "        return tup[0] + odd_sum(tup[2:])\n",
    "\n",
    "def even_sum(tup):\n",
    "    if len(tup) < 2:\n",
    "        return 0\n",
    "    else:\n",
    "        return tup[1] + even_sum(tup[2:])\n",
    "\n",
    "def odd_even_sums(tup):\n",
    "    return (odd_sum(tup), even_sum(tup))\n",
    "\n",
    "print(odd_even_sums((1, 3, 2, 4, 5)))"
   ]
  }
 ],
 "metadata": {
  "kernelspec": {
   "display_name": "Python 3",
   "language": "python",
   "name": "python3"
  },
  "language_info": {
   "codemirror_mode": {
    "name": "ipython",
    "version": 3
   },
   "file_extension": ".py",
   "mimetype": "text/x-python",
   "name": "python",
   "nbconvert_exporter": "python",
   "pygments_lexer": "ipython3",
   "version": "3.12.1"
  }
 },
 "nbformat": 4,
 "nbformat_minor": 2
}
