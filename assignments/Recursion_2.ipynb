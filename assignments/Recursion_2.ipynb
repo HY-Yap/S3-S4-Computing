{
 "cells": [
  {
   "cell_type": "markdown",
   "metadata": {},
   "source": [
    "# Assignment - [P05b] Recursion 2"
   ]
  },
  {
   "cell_type": "markdown",
   "metadata": {},
   "source": [
    "## Question 1\n",
    "### Recursive String Character Counter\n",
    "\n",
    "Write a recursive Python function `count_chars()` that takes a string and a character as input and returns the count of occurrences of that character in the given string. \n",
    "\n",
    "The function should operate recursively.\n",
    "\n"
   ]
  },
  {
   "cell_type": "code",
   "execution_count": 12,
   "metadata": {},
   "outputs": [
    {
     "name": "stdout",
     "output_type": "stream",
     "text": [
      "2\n",
      "2\n"
     ]
    }
   ],
   "source": [
    "def count_chars(s, chr):\n",
    "    if len(s) == 1:\n",
    "        if s == chr:\n",
    "            return 1\n",
    "        else:\n",
    "            return 0\n",
    "    else:\n",
    "        if s[0] == chr:\n",
    "            return 1 + count_chars(s[1:], chr)\n",
    "        else:\n",
    "            return count_chars(s[1:], chr)\n",
    "\n",
    "def count_chars(s, chr):\n",
    "    if len(s) == 0:\n",
    "        return 0\n",
    "    elif s[0] == chr:\n",
    "            return 1 + count_chars(s[1:], chr)\n",
    "    else:\n",
    "        return count_chars(s[1:], chr)\n",
    "\n",
    "print(count_chars(\"hello\", \"l\"))\n",
    "print(count_chars(\"Python is great\", \"t\"))\n"
   ]
  },
  {
   "cell_type": "markdown",
   "metadata": {},
   "source": [
    "## Question 2\n",
    "### Recursive String Matcher\n",
    "\n",
    "Write a recursive Python function `string_matcher()` that takes two strings as input and returns True if the two strings are exactly the same, character by character, and returns `False` otherwise.\n",
    "\n",
    "The function should operate recursively."
   ]
  },
  {
   "cell_type": "code",
   "execution_count": 8,
   "metadata": {},
   "outputs": [
    {
     "name": "stdout",
     "output_type": "stream",
     "text": [
      "True\n",
      "False\n",
      "False\n"
     ]
    }
   ],
   "source": [
    "def string_matcher(s1, s2):\n",
    "    if len(s1) == len(s2):\n",
    "        if len(s1) == 1:\n",
    "            if s1 == s2:\n",
    "                return True\n",
    "            else:\n",
    "                return False\n",
    "        else:\n",
    "            if s1[0] == s2[0]:\n",
    "                return string_matcher(s1[1:], s2[1:])\n",
    "            else:\n",
    "                return False\n",
    "    else:\n",
    "        return False\n",
    "\n",
    "def string_matcher(s1, s2):\n",
    "    if len(s1) == 0 and len(s2) == 0:\n",
    "        return True\n",
    "    elif len(s1) == 0 or len(s2) == 0:\n",
    "        return False\n",
    "    else:\n",
    "        return s1[0] == s2[0] and string_matcher(s1[1:], s2[1:])\n",
    "\n",
    "print(string_matcher(\"hello\", \"hello\"))\n",
    "print(string_matcher(\"Python\", \"python\"))\n",
    "print(string_matcher(\"abc\", \"ab\"))\n"
   ]
  },
  {
   "cell_type": "markdown",
   "metadata": {},
   "source": [
    "## Question 3\n",
    "### foo101\n",
    "\n",
    "Write a recursive function that takes in a string s (that is made up only of 1 and 0) and returns a string starting with all the 0s infront and 1s"
   ]
  },
  {
   "cell_type": "code",
   "execution_count": 20,
   "metadata": {},
   "outputs": [
    {
     "name": "stdout",
     "output_type": "stream",
     "text": [
      "0000111\n",
      "0001\n",
      "000\n",
      "11\n"
     ]
    }
   ],
   "source": [
    "def foo101(s):\n",
    "    if s == \"\":\n",
    "        return \"\"\n",
    "    elif s[0] == \"0\":\n",
    "        return \"0\" + foo101(s[1:])\n",
    "    else:\n",
    "        return foo101(s[1:]) + \"1\"\n",
    "\n",
    "print(foo101(\"1001100\"))\n",
    "print(foo101(foo101(\"0100\")))\n",
    "print(foo101(\"000\"))\n",
    "print(foo101(\"11\"))"
   ]
  },
  {
   "cell_type": "markdown",
   "metadata": {},
   "source": [
    "## Question 4\n",
    "### foo123\n",
    "\n",
    "Write a recursive function that takes in a string `s` (that is made up only of digits 1, 2 and 3) and returns a string starting with 1s then 2s and 3s"
   ]
  },
  {
   "cell_type": "code",
   "execution_count": 27,
   "metadata": {},
   "outputs": [
    {
     "name": "stdout",
     "output_type": "stream",
     "text": [
      "11111222233333333\n",
      "1111222\n"
     ]
    }
   ],
   "source": [
    "def countx(s, x):\n",
    "    if s == \"\":\n",
    "        return 0\n",
    "    elif s[0] == x:\n",
    "        return 1 + countx(s[1:], x)\n",
    "    else:\n",
    "        return countx(s[1:], x)\n",
    "\n",
    "def foo123(s):\n",
    "    count1s = countx(s, \"1\")\n",
    "    count2s = countx(s, \"2\")\n",
    "    count3s = countx(s, \"3\")\n",
    "    return \"1\" * count1s + \"2\" * count2s + \"3\" * count3s\n",
    "\n",
    "# # works only if you call the function once (not more than that)\n",
    "# def foo123(s, ans=[_,\"\",\"\",\"\"]):\n",
    "#     if len(s) == 0:\n",
    "#         return ans[1] + ans[2] + ans[3]\n",
    "#     ans[int(s[0])] += s[0]\n",
    "#     return foo123(s[1:], ans)\n",
    "\n",
    "print(foo123(\"13233112331231332\"))\n",
    "print(foo123(\"2221111\"))"
   ]
  },
  {
   "cell_type": "markdown",
   "metadata": {},
   "source": [
    "## Question 5\n",
    "### fooABC\n",
    "\n",
    "Write a function that takes in a string `s` (that is made up only of 3 different characters) and returns a string starting with characters with the lower Unicode first."
   ]
  },
  {
   "cell_type": "code",
   "execution_count": 32,
   "metadata": {},
   "outputs": [
    {
     "name": "stdout",
     "output_type": "stream",
     "text": [
      "hhhhhiiiiimmmm\n",
      "HHJhh\n"
     ]
    }
   ],
   "source": [
    "def fooABC(s):\n",
    "    if s == \"\":\n",
    "        return \"\"\n",
    "    else:\n",
    "        min_char = min(s)\n",
    "        count_min_chars = s.count(min_char)\n",
    "        return min_char * count_min_chars + fooABC(s.replace(min_char, \"\"))\n",
    "\n",
    "print(fooABC(\"imhimhimhihihm\"))\n",
    "print(fooABC(\"hHHhJ\"))"
   ]
  }
 ],
 "metadata": {
  "kernelspec": {
   "display_name": "Python 3",
   "language": "python",
   "name": "python3"
  },
  "language_info": {
   "codemirror_mode": {
    "name": "ipython",
    "version": 3
   },
   "file_extension": ".py",
   "mimetype": "text/x-python",
   "name": "python",
   "nbconvert_exporter": "python",
   "pygments_lexer": "ipython3",
   "version": "3.12.1"
  }
 },
 "nbformat": 4,
 "nbformat_minor": 2
}
