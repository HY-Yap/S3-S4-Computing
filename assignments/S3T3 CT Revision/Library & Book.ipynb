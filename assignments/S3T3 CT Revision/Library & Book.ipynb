{
 "cells": [
  {
   "cell_type": "markdown",
   "metadata": {},
   "source": [
    "# Assignment Revision - Library & Book"
   ]
  },
  {
   "cell_type": "markdown",
   "metadata": {},
   "source": [
    "## Question 1\n",
    "### Bubble Sort\n",
    "\n",
    "Implement function `bubble_sort()` which takes in a list `lst` and sort it using the **improved bubble sort algorithm**. \n",
    "\n",
    "Returns the `iteration_count` value which indicates the number of iterations that has taken place based on the inner loop"
   ]
  },
  {
   "cell_type": "code",
   "execution_count": 72,
   "metadata": {},
   "outputs": [
    {
     "name": "stdout",
     "output_type": "stream",
     "text": [
      "[8, 12, 16, 31, 42, 46, 54, 69, 76, 82]\n",
      "45\n",
      "[1, 3, 5, 7, 9, 11, 13, 15, 17, 19]\n",
      "9\n"
     ]
    }
   ],
   "source": [
    "def bubble_sort(lst):\n",
    "    iteration_count = 0\n",
    "    for i in range(len(lst)-1):\n",
    "        swapped = False\n",
    "        for j in range(len(lst)-i-1):\n",
    "            if lst[j] > lst[j+1]:\n",
    "                lst[j], lst[j+1] = lst[j+1], lst[j]\n",
    "                swapped = True\n",
    "            iteration_count += 1\n",
    "        if not swapped:\n",
    "            break\n",
    "    return iteration_count\n",
    "\n",
    "\n",
    "\n",
    "# test bubble_sort\n",
    "lst1 = [82, 76, 69, 54, 46, 42, 31, 16, 12, 8]\n",
    "iteration_count1 = bubble_sort(lst1)\n",
    "print(lst1)  # [8, 12, 16, 31, 42, 46, 54, 69, 76, 82]\n",
    "print(iteration_count1)  # 45\n",
    "\n",
    "lst2 = [i for i in range(1, 20, 2)]\n",
    "iteration_count2 = bubble_sort(lst2)\n",
    "print(lst2)  # [1, 3, 5, 7, 9, 11, 13, 15, 17, 19]\n",
    "print(iteration_count2)  # 9\n"
   ]
  },
  {
   "cell_type": "markdown",
   "metadata": {},
   "source": [
    "## Question 2\n",
    "### Quick Sort\n",
    "\n",
    "Implement a function `quick_sort()` which takes in a list `lst`, and returns a sorted list using the **quick sort algorithm**."
   ]
  },
  {
   "cell_type": "code",
   "execution_count": 73,
   "metadata": {},
   "outputs": [
    {
     "name": "stdout",
     "output_type": "stream",
     "text": [
      "[82, 76, 69, 54, 46, 42, 31, 16, 12, 8]\n",
      "[8, 12, 16, 31, 42, 46, 54, 69, 76, 82]\n",
      "[10, 9, 8, 7, 6, 5, 4, 3, 2, 1]\n",
      "[1, 2, 3, 4, 5, 6, 7, 8, 9, 10]\n"
     ]
    }
   ],
   "source": [
    "def quick_sort(lst):\n",
    "    if len(lst) <= 1:\n",
    "        return lst\n",
    "    else:\n",
    "        pivot = lst[0]\n",
    "        left, right = [], []\n",
    "\n",
    "        for item in lst[1:]:\n",
    "            left.append(item) if item <= pivot else right.append(item)\n",
    "\n",
    "        sorted_left = quick_sort(left)\n",
    "        sorted_right = quick_sort(right)\n",
    "\n",
    "        return sorted_left + [pivot] + sorted_right\n",
    "\n",
    "\n",
    "# Test cases\n",
    "lst1 = [82, 76, 69, 54, 46, 42, 31, 16, 12, 8]\n",
    "result1 = quick_sort(lst1)\n",
    "print(lst1)\n",
    "print(result1)  # [8, 12, 16, 31, 42, 46, 54, 69, 76, 82]\n",
    "\n",
    "lst2 = [i for i in range(10, 0, -1)]\n",
    "result2 = quick_sort(lst2)\n",
    "print(lst2)\n",
    "print(result2)  # [1, 2, 3, 4, 5, 6, 7, 8, 9, 10]\n"
   ]
  },
  {
   "cell_type": "markdown",
   "metadata": {},
   "source": [
    "## Question 3\n",
    "### Final Task\n",
    "\n",
    "1) Study the content and format of the `\"input.txt\"` file carefully. It consists of a list of books available in different libraries. (Data is randomly generated, not based on real-world collections)\n",
    "\n",
    "The number on the right of the library name indicates the total number of books available in that library. The book titles are recorded on the following line.\n",
    "\n",
    "2) Take note that the file consists of unprocessed raw data, which means there might be the same book appearing more than once in a library.\n",
    "\n",
    "3) You are to read the input from `\"input.txt\"` and process the data to remove duplicates.\n",
    "\n",
    "Instead of categorizing by libraries as in the original file, you should now categorize all data by book titles, followed by a row of libraries where this book can be found.\n",
    "\n",
    "4) Sort the clean data according to alphabetical order for book titles and for libraries where the books are available.\n",
    "\n",
    "Store the processed data into a text file named `\"results.txt\"`. You may analyze the file `\"expected_results.txt\"` to check the expected output and its format.\n",
    "\n",
    "Book titles should be sorted using bubble sort.\n",
    "\n",
    "Libraries should be sorted using quick sort.\n",
    "\n",
    "5) `check_result()` is a helper function to check if the `\"results.txt\"` produced has exactly the same content and format as the expected results.\n",
    "\n",
    "The function has already been implemented at the back end; you do not need to re-implement this function.\n",
    "\n"
   ]
  },
  {
   "cell_type": "code",
   "execution_count": 119,
   "metadata": {},
   "outputs": [
    {
     "name": "stdout",
     "output_type": "stream",
     "text": [
      "['1984', 'Animal Farm', 'Brave New World', 'Fahrenheit 451', \"Harry Potter and the Sorcerer's Stone\", 'Moby-Dick', 'One Hundred Years of Solitude', 'Pride and Prejudice', 'The Alchemist', 'The Catcher in the Rye', 'The Chronicles of Narnia', 'The Da Vinci Code', 'The Grapes of Wrath', 'The Great Gatsby', \"The Hitchhiker's Guide to the Galaxy\", 'The Hobbit', 'The Hunger Games', 'The Kite Runner', 'The Lord of the Rings', 'To Kill a Mockingbird']\n"
     ]
    }
   ],
   "source": [
    "def bubble_sort(lst):\n",
    "    iteration_count = 0\n",
    "    for i in range(len(lst)-1):\n",
    "        swapped = False\n",
    "        for j in range(len(lst)-i-1):\n",
    "            if lst[j] > lst[j+1]:\n",
    "                lst[j], lst[j+1] = lst[j+1], lst[j]\n",
    "                swapped = True\n",
    "            iteration_count += 1\n",
    "        if not swapped:\n",
    "            break\n",
    "    return iteration_count\n",
    "\n",
    "def quick_sort(lst):\n",
    "    if len(lst) <= 1:\n",
    "        return lst\n",
    "    else:\n",
    "        pivot = lst[0]\n",
    "        left, right = [], []\n",
    "\n",
    "        for item in lst[1:]:\n",
    "            left.append(item) if item <= pivot else right.append(item)\n",
    "\n",
    "        sorted_left = quick_sort(left)\n",
    "        sorted_right = quick_sort(right)\n",
    "\n",
    "        return sorted_left + [pivot] + sorted_right\n",
    "\n",
    "with open(\"input.txt\", \"r\") as f:\n",
    "    book_dict = {}\n",
    "\n",
    "    line = f.readline()\n",
    "    while line:\n",
    "        if line == \"\\n\":\n",
    "            line = f.readline()\n",
    "            continue\n",
    "\n",
    "        # read library name\n",
    "        split_str = line.split(\" \")\n",
    "        lib_name = \" \".join(split_str[:-1])\n",
    "        # print(lib_name)\n",
    "\n",
    "        # read books (next line)\n",
    "        line = f.readline()\n",
    "        books = line.split(\", \")\n",
    "        for book in books:\n",
    "            book = book.strip() # does not change books\n",
    "            if book in book_dict:\n",
    "                book_dict[book].add(lib_name) # as it is a set\n",
    "            else:\n",
    "                book_dict[book] = set([lib_name])\n",
    "        # print(book_dict)\n",
    "\n",
    "        line = f.readline()\n",
    "\n",
    "# print(book_dict)\n",
    "\n",
    "with open(\"results.txt\", \"w\") as f:\n",
    "    # bubble sort the books (list)\n",
    "    books = list(book_dict.keys())\n",
    "    bubble_sort(books)\n",
    "    print(books)\n",
    "\n",
    "    for book in books:\n",
    "        # write the book\n",
    "        f.write(\"<{}>:{}\\n\".format(book, len(book_dict[book])))\n",
    "\n",
    "        # sort and write the libraries\n",
    "        libs = quick_sort(list(book_dict[book]))\n",
    "        # print(libs)\n",
    "        f.write(\";\".join(libs) + \";\\n\")\n"
   ]
  }
 ],
 "metadata": {
  "kernelspec": {
   "display_name": "Python 3",
   "language": "python",
   "name": "python3"
  },
  "language_info": {
   "codemirror_mode": {
    "name": "ipython",
    "version": 3
   },
   "file_extension": ".py",
   "mimetype": "text/x-python",
   "name": "python",
   "nbconvert_exporter": "python",
   "pygments_lexer": "ipython3",
   "version": "3.12.1"
  }
 },
 "nbformat": 4,
 "nbformat_minor": 2
}
