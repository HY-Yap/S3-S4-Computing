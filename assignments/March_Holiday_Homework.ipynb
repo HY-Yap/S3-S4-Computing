{
 "cells": [
  {
   "cell_type": "markdown",
   "metadata": {},
   "source": [
    "# **March Holiday Homework**"
   ]
  },
  {
   "cell_type": "markdown",
   "metadata": {},
   "source": [
    "# Question 1\n",
    "## Q1 (a) - Reverse String\n",
    "\n",
    "One day, Xiao Ming was happily trying practices on the coursemology platform.\n",
    "He encountered the following question:\n",
    "\n",
    "Define a function `reverse_str(s)` which,\n",
    "\n",
    "takes in a string `s`,\n",
    "\n",
    "return a new string in the reverse order.\n",
    "\n",
    "<br>\n",
    "\n",
    "For example:\n",
    "\n",
    "`reverse_str(\"0123\")` should return the string `\"3210\"`\n",
    "\n",
    "He quickly solved it using `s[::-1]` and the python function `reversed(s)`.\n",
    "\n",
    "However, his classmate Xiao Hong told him that she solved it using an iterative method instead.\n",
    "\n",
    "<br> \n",
    "\n",
    "Could you help Xiao Ming to solve this problem using iteration too?"
   ]
  },
  {
   "cell_type": "code",
   "execution_count": 2,
   "metadata": {},
   "outputs": [
    {
     "data": {
      "text/plain": [
       "'DSADSA'"
      ]
     },
     "execution_count": 2,
     "metadata": {},
     "output_type": "execute_result"
    }
   ],
   "source": [
    "def reverse_str(s):\n",
    "    result = \"\"\n",
    "    for i in range(1, len(s)+1):\n",
    "        result += s[-i]\n",
    "    return result\n",
    "\n",
    "reverse_str(\"ASDASD\")"
   ]
  },
  {
   "cell_type": "markdown",
   "metadata": {},
   "source": [
    "# Question 2\n",
    "## Q1(b) - Swap Position\n",
    "\n",
    "The next challenge Xiao Ming faced is the following question:\n",
    "\n",
    "<br>\n",
    "\n",
    "Define a function `swap_position(s, pos_a, pos_b)`,\n",
    "\n",
    "which takes in a string s, and two indexes `pos_a` and `pos_b`,\n",
    "\n",
    "return a new string which have the character at `pos_a` and `pos_b` in string `s` swapped.\n",
    "\n",
    "<br>\n",
    "\n",
    "For example:\n",
    "\n",
    "`swap_position(\"01234567\", 3, 5)` should return the string `\"01254367\"`.\n",
    "\n",
    "<br>\n",
    "\n",
    "Special Notes:\n",
    "\n",
    "1. `pos_a` and `pos_b` are indexes starting from `0`.\n",
    "\n",
    "2. You may assume `pos_a` and `pos_b` are valid indexes between the value from `0` to the `len(s) - 1` inclusive.\n",
    "\n",
    "<br>\n",
    "\n",
    "Could you help Xiao Ming solve this problem?\n",
    "\n"
   ]
  },
  {
   "cell_type": "code",
   "execution_count": 4,
   "metadata": {},
   "outputs": [
    {
     "name": "stdout",
     "output_type": "stream",
     "text": [
      "RWEQTY\n"
     ]
    }
   ],
   "source": [
    "def swap_position(s, pos_a, pos_b):\n",
    "    a = s[pos_a]\n",
    "    b = s[pos_b]\n",
    "    s = s[:pos_a] + b + s[pos_a+1:]\n",
    "    s = s[:pos_b] + a + s[pos_b+1:]\n",
    "    return s\n",
    "\n",
    "print(swap_position(\"QWERTY\", 0, 3))"
   ]
  },
  {
   "cell_type": "markdown",
   "metadata": {},
   "source": [
    "# Question 3\n",
    "## Q1(c) - Reverse Part\n",
    "\n",
    "Xiao Hong looked at his answer and said, \"this question is so easy! I can do something more complicated!\"\n",
    "\n",
    "<br>\n",
    "\n",
    "She wrote the following conditions down for Xiao Ming:\n",
    "\n",
    "<br>\n",
    "\n",
    "Define a function `reverse_part(s, start, end)`,\n",
    "\n",
    "which takes in a string `s`, and two indexes `start` and `end`,\n",
    "\n",
    "return a new string which have the all characters in between `start` and `end` in string `s` reversed.\n",
    "\n",
    "<br>\n",
    "\n",
    "For example:\n",
    "\n",
    "`reverse_part(\"012345678\", 4, 7)` should return the string `\"012376548\"`.\n",
    "\n",
    "<br>\n",
    "\n",
    "Special Notes:\n",
    "\n",
    "1. `start` and `end` are indexes starting from `0`.\n",
    "\n",
    "2. You may assume `start` and `end` are valid indexes between the value from `0` to the `len(s) - 1`.\n",
    "\n",
    "<br>\n",
    "\n",
    "Xiao Ming told Xiao Hong, \"It's easy, let me show you the way!\"\n",
    "\n",
    "<br>\n",
    "\n",
    "Please write down a potential solution Xiao Ming produced.\n",
    " "
   ]
  },
  {
   "cell_type": "code",
   "execution_count": 5,
   "metadata": {},
   "outputs": [
    {
     "name": "stdout",
     "output_type": "stream",
     "text": [
      "QREWTY\n"
     ]
    }
   ],
   "source": [
    "def reverse_part(s, start, end):\n",
    "    return s[:start] + s[end:start-1:-1] + s[end+1:]\n",
    "\n",
    "print(reverse_part(\"QWERTY\", 1, 3))"
   ]
  },
  {
   "cell_type": "markdown",
   "metadata": {},
   "source": [
    "# Question 4\n",
    "## Q1(d) - Reverse Words\n",
    "\n",
    "After this few encouters, Xiao Ming wants to challenge Xiao Hong back.\n",
    "\n",
    "<br>\n",
    "\n",
    "He practices secretly for days and come up with the following question:\n",
    "\n",
    "<br>\n",
    "\n",
    "Define a function `reverse_words(sentence)`,\n",
    "\n",
    "which takes in a string `sentence`,\n",
    "\n",
    "return a new string which have the all the words in the reverse order,\n",
    "\n",
    "while each word remains with the original sequence of characters.\n",
    "\n",
    "<br>\n",
    "\n",
    "For example:\n",
    "\n",
    "`reverse_words(\"01 02 03\")` should return the string `\"03 02 01\"`.\n",
    "\n",
    "<br>\n",
    "\n",
    "Xiao Ming happily went to challenge Xiao Hong with the above question.\n",
    "\n",
    "<br>\n",
    "\n",
    "Could you help Xiao Hong to solve this problem?"
   ]
  },
  {
   "cell_type": "code",
   "execution_count": 49,
   "metadata": {},
   "outputs": [
    {
     "name": "stdout",
     "output_type": "stream",
     "text": [
      "01 02 03\n"
     ]
    }
   ],
   "source": [
    "def reverse_words(sentence):\n",
    "    return \" \".join(sentence.split()[::-1])\n",
    "\n",
    "def reverse_words(sentence):\n",
    "    result = \"\"\n",
    "    for word in sentence.split()[::-1]:\n",
    "        result = result + word + \" \"\n",
    "    return result[:-1]\n",
    "\n",
    "print(reverse_words(\"03 02 01\"))"
   ]
  },
  {
   "cell_type": "markdown",
   "metadata": {},
   "source": [
    "# Question 5\n",
    "## Q2 - XQLS Sequence\n",
    "\n",
    "While Xiao Ming and Xiao Hong were busy challenging each other, their classmate Xiao Qiang walked over.\n",
    "\n",
    "<br>\n",
    "\n",
    "He told Xiao Ming and Xiao Hong that recently he invented an interesting sequence,\n",
    "\n",
    "he named this new sequence proudly with his name, Xiao Qiang Look-Say Sequence (XQLS Sequence)\n",
    "\n",
    "<br>\n",
    "\n",
    "He explained to Xiao Ming and Xiao Hong that XQLS Sequence works in the following way:\n",
    "\n",
    "the sequence start with the number 1;\n",
    "\n",
    "the next number is based on observations made from the previous number;\n",
    "\n",
    "if there are consecutive numbers having the same value, they will be treated as one group.\n",
    "\n",
    "<br>\n",
    "\n",
    "For example:\n",
    "\n",
    "First number of XQLS Sequence is 1, so the observation of it is one \"one\"s observed.\n",
    "\n",
    "Thus, the second number will be 11. The observation of this new number contains two \"one\"s.\n",
    "\n",
    "So, the third number is 21. This time, there is one \"two\" and one \"one\" observed.\n",
    "\n",
    "Hence, the next number is 1211. Now, there are one \"one\", one \"two\" and two \"one\"s observed.\n",
    "\n",
    "The next number is 111221...\n",
    "\n",
    "<br>\n",
    "\n",
    "While Xiao Qiang was trying to explain, Xiao Ming cut his speech off, and shouted:\"Wait...! I know, I know. the next number is 312211!\"\n",
    "\n",
    "<br>\n",
    "\n",
    "Xiao Qiang smiled and said,\"Yes, exactly\".\n",
    "\n",
    "<br>\n",
    "\n",
    "Xiao Hong said,\"This is very interesting! Let's try to implement a function `look_and_say(n)`,\n",
    "\n",
    "which takes in a integer `n`,\n",
    "\n",
    "and return the nth term as an **integer** in the XQLS sequence!\"\n",
    "\n",
    "<br>\n",
    "\n",
    "Could you help them solve this problem?"
   ]
  },
  {
   "cell_type": "code",
   "execution_count": 6,
   "metadata": {},
   "outputs": [
    {
     "name": "stdout",
     "output_type": "stream",
     "text": [
      "111221\n"
     ]
    }
   ],
   "source": [
    "def look_and_say(n):\n",
    "    if n == 1:\n",
    "        return 1\n",
    "    else:\n",
    "        prev_result = \"1\"\n",
    "        counter = 0\n",
    "        for i in range(n-1):\n",
    "            result = \"\"\n",
    "            reference = prev_result[0]\n",
    "            while prev_result != \"\":\n",
    "                if prev_result[0] == reference:\n",
    "                    counter += 1\n",
    "                    prev_result = prev_result[-1:-len(prev_result):-1][::-1] # slice off first character\n",
    "                else:\n",
    "                    result += str(counter) + str(reference)\n",
    "                    reference = prev_result[0]\n",
    "                    counter = 0\n",
    "            result += str(counter) + str(reference) \n",
    "            prev_result = result \n",
    "            counter = 0\n",
    "        return int(result)\n",
    "\n",
    "def look_and_say(n):\n",
    "    if n == 1:\n",
    "        return 1\n",
    "    else:\n",
    "        prev_result = \"1\"\n",
    "        counter = 0\n",
    "        for i in range(n-1):\n",
    "            result = \"\"\n",
    "            reference = prev_result[0] \n",
    "            for j in range(len(prev_result)): # use indexing to compare with previous character\n",
    "                if prev_result[j] == reference: \n",
    "                    counter += 1 \n",
    "                else:\n",
    "                    result += str(counter) + str(reference)\n",
    "                    reference = prev_result[j]\n",
    "                    counter = 1\n",
    "            result += str(counter) + str(reference) \n",
    "            prev_result = result \n",
    "            counter = 0\n",
    "        return int(result)\n",
    "\n",
    "print(look_and_say(5))\n"
   ]
  }
 ],
 "metadata": {
  "kernelspec": {
   "display_name": "Python 3",
   "language": "python",
   "name": "python3"
  },
  "language_info": {
   "codemirror_mode": {
    "name": "ipython",
    "version": 3
   },
   "file_extension": ".py",
   "mimetype": "text/x-python",
   "name": "python",
   "nbconvert_exporter": "python",
   "pygments_lexer": "ipython3",
   "version": "3.12.1"
  }
 },
 "nbformat": 4,
 "nbformat_minor": 2
}
