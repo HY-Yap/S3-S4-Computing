{
 "cells": [
  {
   "cell_type": "markdown",
   "metadata": {},
   "source": [
    "# EOY Revision 02 - OOP with Sort & File"
   ]
  },
  {
   "cell_type": "markdown",
   "metadata": {},
   "source": [
    "## Question 1\n",
    "### Movie Class\n",
    "\n",
    "Create a class based on the following UML class diagram and specifications.\n",
    "\n",
    "UML Class Diagram:\n",
    "\n",
    "```txt\n",
    "+------------------------------+\n",
    "|          Movie               |\n",
    "+------------------------------+\n",
    "| - title: str                 |\n",
    "| - year: int                  |\n",
    "| - rating: float              |\n",
    "+------------------------------+\n",
    "| + __init__(title: str,       |\n",
    "|            year: int,        |\n",
    "|            rating: float)    |\n",
    "| + get_title(): str           |\n",
    "| + get_year(): int            |\n",
    "| + get_rating(): float        |\n",
    "| + __eq__(other: Movie): bool |\n",
    "| + __lt__(other: Movie): bool |\n",
    "| + __str__():str              |\n",
    "+------------------------------+\n",
    "```\n",
    "\n",
    "**Specifications:**\n",
    "\n",
    "Attributes:\n",
    "\n",
    "- `title: str` - The title of the movie.\n",
    "\n",
    "- `year: int` - The release year of the movie.\n",
    "\n",
    "- `rating: float` - The rating of the movie.\n",
    "\n",
    "Methods:\n",
    "\n",
    "+ `Movie(title: str, year: int, rating: float)` - Constructor to initialize the movie's title, year, and rating.\n",
    "\n",
    "+ `get_title(): str` - Returns the movie's title.\n",
    "\n",
    "+ `get_year(): int` - Returns the movie's release year.\n",
    "\n",
    "+ `get_rating(): float` - Returns the movie's rating.\n",
    "\n",
    "+ `__eq__(other: Movie): bool` - Compares two movies for equality based on title and year.\n",
    "\n",
    "+ `__lt__(other: Movie): bool` - Less than comparison based on year, then rating, then title.\n",
    "\n",
    "+ `__str__(): str` - Returns a string representation of the movie in \"title,year,rating\" format."
   ]
  },
  {
   "cell_type": "code",
   "execution_count": 7,
   "metadata": {},
   "outputs": [],
   "source": [
    "class Movie:\n",
    "    def __init__(self, title: str, year: int, rating: float):\n",
    "        self._title = title\n",
    "        self._year = year\n",
    "        self._rating = rating\n",
    "    \n",
    "    def get_title(self) -> str:\n",
    "        return self._title\n",
    "    \n",
    "    def get_year(self) -> int:\n",
    "        return self._year\n",
    "    \n",
    "    def get_rating(self) -> float:\n",
    "        return self._rating\n",
    "    \n",
    "    def __eq__(self, other: object) -> bool:\n",
    "        # compare title and year\n",
    "        return (self._title, self._year) == (other.get_title(), other.get_year())\n",
    "\n",
    "    def __lt__(self, other: object) -> bool:\n",
    "        # compare year, then rating, then title\n",
    "        return (self._year, self._rating, self._title) < (other.get_year(), other.get_rating(), other.get_title())\n",
    "\n",
    "    def __str__(self) -> str:\n",
    "        return f'{self._title},{self._year},{self._rating}'"
   ]
  },
  {
   "cell_type": "code",
   "execution_count": 8,
   "metadata": {},
   "outputs": [
    {
     "name": "stdout",
     "output_type": "stream",
     "text": [
      "False\n",
      "True\n",
      "True\n",
      "True\n",
      "False\n"
     ]
    }
   ],
   "source": [
    "m1 = Movie('Whispers of the Cosmos', 1994, 9.2)\n",
    "m2 = Movie('Echoes in the Rain', 1994, 9.3)\n",
    "m3 = Movie('The Midnight Wanderer', 1995, 9.1)\n",
    "m4 = Movie('Shattered Horizons', 1995, 9.0)\n",
    "m5 = Movie('Fading Embers', 1996, 8.9)\n",
    "m1_repeat = Movie('Whispers of the Cosmos', 1994, 9.2)\n",
    "\n",
    "print(m1 == m2)\n",
    "print(m1 == m1_repeat)\n",
    "print(m1 < m2)\n",
    "print(m1 < m3)\n",
    "print(m4 > m5)"
   ]
  },
  {
   "cell_type": "markdown",
   "metadata": {},
   "source": [
    "## Question 2\n",
    "### Merge Sort Movies\n",
    "\n",
    "Implement a function `merge_sort(movie_list)`, which takes in a `list` of `Movie` objects and returns a new `list` of `Movie` objects sorted in ascending order using the **merge sort** algorithm."
   ]
  },
  {
   "cell_type": "code",
   "execution_count": 9,
   "metadata": {},
   "outputs": [],
   "source": [
    "def merge(lst_a, lst_b):\n",
    "    lst_c = []\n",
    "    while len(lst_a) > 0 and len(lst_b) > 0:\n",
    "        lst_c.append(lst_a.pop(0) if lst_a[0] < lst_b[0] else lst_b.pop(0))\n",
    "    return lst_c + lst_a + lst_b\n",
    "\n",
    "def merge_sort(movie_lst):\n",
    "    if len(movie_lst) <= 1:\n",
    "        return movie_lst\n",
    "    else:\n",
    "        mid = len(movie_lst) // 2\n",
    "        left = movie_lst[:mid]\n",
    "        right = movie_lst[mid:]\n",
    "\n",
    "        sorted_left = merge_sort(left)\n",
    "        sorted_right = merge_sort(right)\n",
    "\n",
    "        return merge(sorted_left, sorted_right)"
   ]
  },
  {
   "cell_type": "code",
   "execution_count": 29,
   "metadata": {},
   "outputs": [
    {
     "name": "stdout",
     "output_type": "stream",
     "text": [
      "[<__main__.Movie object at 0x10467bb30>, <__main__.Movie object at 0x10468d910>, <__main__.Movie object at 0x10468ec90>, <__main__.Movie object at 0x10468f050>, <__main__.Movie object at 0x10468e990>]\n"
     ]
    }
   ],
   "source": [
    "m1 = Movie('Whispers of the Cosmos', 1994, 9.2)\n",
    "m2 = Movie('Echoes in the Rain', 1994, 9.3)\n",
    "m3 = Movie('The Midnight Wanderer', 1995, 9.1)\n",
    "m4 = Movie('Shattered Horizons', 1995, 9.0)\n",
    "m5 = Movie('Fading Embers', 1996, 8.9)\n",
    "\n",
    "movies = [m1, m2, m3, m4, m5]\n",
    "print(merge_sort(movies))"
   ]
  },
  {
   "cell_type": "markdown",
   "metadata": {},
   "source": [
    "## Question 3\n",
    "### File Operations\n",
    "\n",
    "Read the movie information from the file `movies.txt` and store it in a `list` of `Movie` objects.\n",
    "\n",
    "Use the `merge_sort()` function to sort the `list` of movie information.\n",
    "\n",
    "Then, store the sorted `list` in a new file called `movies_sorted.txt`. Each line in the file should contain the student information in the form of `title,year,rating`, where `title`, `year`, and `rating` are separated by commas. There should be **no** spaces in front of or behind the commas.\n",
    "\n",
    "You can check the content of the file `expected_output.txt` to verify the correctness of your output."
   ]
  },
  {
   "cell_type": "code",
   "execution_count": 35,
   "metadata": {},
   "outputs": [],
   "source": [
    "with open(\"movies.txt\", \"r\") as f:\n",
    "    movie_lst = []\n",
    "    line = f.readline()\n",
    "    while line:\n",
    "        attr = line.strip().split(\",\")\n",
    "        # print(attr)\n",
    "        movie_lst.append(Movie(attr[0], attr[1], attr[2]))\n",
    "        line = f.readline()\n",
    "    movie_lst = merge_sort(movie_lst)\n",
    "\n",
    "with open(\"movies_sorted.txt\", \"w\") as f:\n",
    "    for movie in movie_lst:\n",
    "        f.write(f'{movie.get_title()},{movie.get_year()},{movie.get_rating()}\\n')"
   ]
  }
 ],
 "metadata": {
  "kernelspec": {
   "display_name": "Python 3",
   "language": "python",
   "name": "python3"
  },
  "language_info": {
   "codemirror_mode": {
    "name": "ipython",
    "version": 3
   },
   "file_extension": ".py",
   "mimetype": "text/x-python",
   "name": "python",
   "nbconvert_exporter": "python",
   "pygments_lexer": "ipython3",
   "version": "3.12.1"
  }
 },
 "nbformat": 4,
 "nbformat_minor": 2
}
